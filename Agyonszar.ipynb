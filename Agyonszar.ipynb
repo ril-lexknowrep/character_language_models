{
 "cells": [
  {
   "cell_type": "code",
   "execution_count": 1,
   "id": "52e3fe78-3dab-4b1c-9bfd-4dd41f1f8bad",
   "metadata": {},
   "outputs": [],
   "source": [
    "from encode_characters import InputEncoder, OutputEncoder\n",
    "input_enc = InputEncoder(file=\"input_encoder.json\")\n",
    "output_enc = OutputEncoder(file=\"output_encoder.json\")"
   ]
  },
  {
   "cell_type": "code",
   "execution_count": 2,
   "id": "2798111a-0648-4da1-8614-90937209466c",
   "metadata": {},
   "outputs": [
    {
     "name": "stderr",
     "output_type": "stream",
     "text": [
      "2022-11-19 03:16:48.035040: I tensorflow/core/platform/cpu_feature_guard.cc:193] This TensorFlow binary is optimized with oneAPI Deep Neural Network Library (oneDNN) to use the following CPU instructions in performance-critical operations:  SSE4.1 SSE4.2 AVX AVX2 FMA\n",
      "To enable them in other operations, rebuild TensorFlow with the appropriate compiler flags.\n"
     ]
    }
   ],
   "source": [
    "import lstm_model"
   ]
  },
  {
   "cell_type": "code",
   "execution_count": 3,
   "id": "fb0b43a3-8696-4c74-b990-c409a22266ab",
   "metadata": {},
   "outputs": [
    {
     "name": "stderr",
     "output_type": "stream",
     "text": [
      "2022-11-19 03:16:49.852329: I tensorflow/stream_executor/cuda/cuda_gpu_executor.cc:980] successful NUMA node read from SysFS had negative value (-1), but there must be at least one NUMA node, so returning NUMA node zero\n",
      "2022-11-19 03:16:49.890853: I tensorflow/stream_executor/cuda/cuda_gpu_executor.cc:980] successful NUMA node read from SysFS had negative value (-1), but there must be at least one NUMA node, so returning NUMA node zero\n",
      "2022-11-19 03:16:49.891264: I tensorflow/stream_executor/cuda/cuda_gpu_executor.cc:980] successful NUMA node read from SysFS had negative value (-1), but there must be at least one NUMA node, so returning NUMA node zero\n",
      "2022-11-19 03:16:49.891985: I tensorflow/core/platform/cpu_feature_guard.cc:193] This TensorFlow binary is optimized with oneAPI Deep Neural Network Library (oneDNN) to use the following CPU instructions in performance-critical operations:  SSE4.1 SSE4.2 AVX AVX2 FMA\n",
      "To enable them in other operations, rebuild TensorFlow with the appropriate compiler flags.\n",
      "2022-11-19 03:16:49.892453: I tensorflow/stream_executor/cuda/cuda_gpu_executor.cc:980] successful NUMA node read from SysFS had negative value (-1), but there must be at least one NUMA node, so returning NUMA node zero\n",
      "2022-11-19 03:16:49.892823: I tensorflow/stream_executor/cuda/cuda_gpu_executor.cc:980] successful NUMA node read from SysFS had negative value (-1), but there must be at least one NUMA node, so returning NUMA node zero\n",
      "2022-11-19 03:16:49.893202: I tensorflow/stream_executor/cuda/cuda_gpu_executor.cc:980] successful NUMA node read from SysFS had negative value (-1), but there must be at least one NUMA node, so returning NUMA node zero\n",
      "2022-11-19 03:16:50.420614: I tensorflow/stream_executor/cuda/cuda_gpu_executor.cc:980] successful NUMA node read from SysFS had negative value (-1), but there must be at least one NUMA node, so returning NUMA node zero\n",
      "2022-11-19 03:16:50.420994: I tensorflow/stream_executor/cuda/cuda_gpu_executor.cc:980] successful NUMA node read from SysFS had negative value (-1), but there must be at least one NUMA node, so returning NUMA node zero\n",
      "2022-11-19 03:16:50.421333: I tensorflow/stream_executor/cuda/cuda_gpu_executor.cc:980] successful NUMA node read from SysFS had negative value (-1), but there must be at least one NUMA node, so returning NUMA node zero\n",
      "2022-11-19 03:16:50.421673: I tensorflow/core/common_runtime/gpu/gpu_device.cc:1616] Created device /job:localhost/replica:0/task:0/device:GPU:0 with 9866 MB memory:  -> device: 0, name: NVIDIA GeForce RTX 3060, pci bus id: 0000:01:00.0, compute capability: 8.6\n"
     ]
    },
    {
     "name": "stdout",
     "output_type": "stream",
     "text": [
      "Loaded model:\n",
      "Model: \"BiLSTM_Model_v0.2.0>bilstm_model_512>\"\n",
      "__________________________________________________________________________________________________\n",
      " Layer (type)                   Output Shape         Param #     Connected to                     \n",
      "==================================================================================================\n",
      " input_left (InputLayer)        [(None, 15, 80)]     0           []                               \n",
      "                                                                                                  \n",
      " input_right (InputLayer)       [(None, 15, 80)]     0           []                               \n",
      "                                                                                                  \n",
      " lstm_forward (LSTM)            (None, 512)          1214464     ['input_left[0][0]']             \n",
      "                                                                                                  \n",
      " lstm_backward (LSTM)           (None, 512)          1214464     ['input_right[0][0]']            \n",
      "                                                                                                  \n",
      " concatenate (Concatenate)      (None, 1024)         0           ['lstm_forward[0][0]',           \n",
      "                                                                  'lstm_backward[0][0]']          \n",
      "                                                                                                  \n",
      " dense (Dense)                  (None, 512)          524800      ['concatenate[0][0]']            \n",
      "                                                                                                  \n",
      " dropout (Dropout)              (None, 512)          0           ['dense[0][0]']                  \n",
      "                                                                                                  \n",
      " output (Dense)                 (None, 113)          57969       ['dropout[0][0]']                \n",
      "                                                                                                  \n",
      "==================================================================================================\n",
      "Total params: 3,011,697\n",
      "Trainable params: 3,011,697\n",
      "Non-trainable params: 0\n",
      "__________________________________________________________________________________________________\n",
      "Trained for 15279925 iterations\n"
     ]
    }
   ],
   "source": [
    "model = lstm_model.BiLSTM_Model.load(\"bilstm_model_512.h5\", input_enc, output_enc)"
   ]
  },
  {
   "cell_type": "code",
   "execution_count": 4,
   "id": "12deb613-a268-42a7-8e8a-9f3931c2a9ab",
   "metadata": {},
   "outputs": [],
   "source": [
    "peldak1 = ['Mindnyájan gyanús szemmel néztünk a koros német õrmesterre, ki porosz tiszt korában egyik tiszttársát agyonszarta, várfogsága ntáo pedig a scbleswig hol-Bteini barczban vett részt.',\n",
    "          'Mindnyájan gyanns szemmel néztünk a koros német õrmesterre, ki porosz tiszt korában egyik tiszttársát agyonszarta, várfogsága ntáo pedig a Scbleswig hol-steini barezban vett részt.',\n",
    "          'Mindnyájan gyanús szemmel néztünk a koros német õrmesterre, ki porosz tiszt korában egyik tiszttársát agyonszúrta, várfogsága után pedig a schleswig hol-steini harciban vett részt.']\n",
    "reszek1 = ['agyonszarta', 'agyonszarta', 'agyonszúrta']"
   ]
  },
  {
   "cell_type": "code",
   "execution_count": 5,
   "id": "16b51f68-2003-44c4-bcfb-6e864a2643d0",
   "metadata": {},
   "outputs": [
    {
     "name": "stderr",
     "output_type": "stream",
     "text": [
      "2022-11-19 03:16:58.689214: I tensorflow/stream_executor/cuda/cuda_dnn.cc:384] Loaded cuDNN version 8401\n",
      "2022-11-19 03:16:58.800475: I tensorflow/stream_executor/cuda/cuda_blas.cc:1614] TensorFloat-32 will be used for the matrix multiplication. This will only be logged once.\n"
     ]
    }
   ],
   "source": [
    "preds = model.predict_substrings(peldak1, reszek1)"
   ]
  },
  {
   "cell_type": "raw",
   "id": "6b9b6d42-ddd3-4c04-babf-92707c90020d",
   "metadata": {},
   "source": [
    "A preds annyi elemű lista, ahány sztring-részsztring párt vizsgáltunk, tehát ebben az esetben három:"
   ]
  },
  {
   "cell_type": "code",
   "execution_count": 6,
   "id": "a17a13fc-4b75-4f08-8af2-e1a560bfedb8",
   "metadata": {},
   "outputs": [
    {
     "data": {
      "text/plain": [
       "3"
      ]
     },
     "execution_count": 6,
     "metadata": {},
     "output_type": "execute_result"
    }
   ],
   "source": [
    "len(preds)"
   ]
  },
  {
   "cell_type": "raw",
   "id": "b106f0db-4be0-40d4-b5da-91068b30d5ae",
   "metadata": {},
   "source": [
    "Mindhárom ilyen \"predikció\" egy-egy olyan dict, aminek a szerkezete:\n",
    "        {\"p\": az adott részsztring minden egyes karakterpozíciójára annak becsült valószínűsége, hogy az egyes lehetséges karakterek abban a pozícióban megjelennek,\n",
    "         \"perpl\": ugyanaz, mint a \"p\", de az értékek nem valószínűségek, hanem a valószínűségek reciprokai, azaz becsült perplexitások,\n",
    "         \"s\": az egyes karakterpozíciók becsült entrópiája,\n",
    "         \"substr-perpl\": a részsztring becsült átlagos perplexitása, ez érdekel minket elsősorban,\n",
    "         \"acc\": a nyelvmodellnek milyen arányban sikerült megtippelnie a részsztring egyes pozícióiban előforduló karaktereket}"
   ]
  },
  {
   "cell_type": "code",
   "execution_count": 7,
   "id": "17caf68b-069b-4b38-b235-ad2b6930edc5",
   "metadata": {},
   "outputs": [
    {
     "name": "stdout",
     "output_type": "stream",
     "text": [
      "agyonszarta: 3.2869810217945177\n",
      "agyonszarta: 3.2869810217945177\n",
      "agyonszúrta: 1.09027987152175\n"
     ]
    }
   ],
   "source": [
    "for resz, pred in zip(reszek1, preds):\n",
    "    print(f\"{resz}: {pred['substr-perpl']}\")"
   ]
  },
  {
   "cell_type": "code",
   "execution_count": 19,
   "id": "db6275b8-bc0f-4cbf-98d9-df739e39c261",
   "metadata": {},
   "outputs": [
    {
     "name": "stdout",
     "output_type": "stream",
     "text": [
      "agyonszarták: 10.156272556375196\n",
      "agyonszúrták: 1.7172137160541687\n",
      "agyonszurták: 6.445394184984619\n"
     ]
    }
   ],
   "source": [
    "peldak2 = ['Bagheriában, Palermo közelében a község egyik hivatalnokát háza elõtt agyonszarták.',\n",
    "           'Bagheritába-n,, Palermo közelében a község egyik hivatalnokát háza elõtt agyonszúrták.',\n",
    "           'Bagheriában, Palermo közelében a község egyik hivatalnokát háza elõtt agyonszurták.']\n",
    "reszek2 = ['agyonszarták', 'agyonszúrták', 'agyonszurták']\n",
    "\n",
    "preds2 = model.predict_substrings(peldak2, reszek2)\n",
    "\n",
    "for resz, pred in zip(reszek2, preds2):\n",
    "    print(f\"{resz}: {pred['substr-perpl']}\")"
   ]
  },
  {
   "cell_type": "code",
   "execution_count": 9,
   "id": "354b6d33-1e71-452b-86f3-d3cac81564ba",
   "metadata": {},
   "outputs": [
    {
     "name": "stdout",
     "output_type": "stream",
     "text": [
      "agyonszurlák: 16.313659782948204\n",
      "agyonszarták: 9.859992008115372\n",
      "agyonszurták: 5.236464443891656\n"
     ]
    }
   ],
   "source": [
    "peldak3 = ['Balogh Imre munkást pedig agyonszurlák.',\n",
    "           'Balogh Imre munkást pedig agyonszarták.',\n",
    "           'Balogh Imre munkást pedig agyonszurták']\n",
    "reszek3 = ['agyonszurlák', 'agyonszarták', 'agyonszurták']\n",
    "\n",
    "preds3 = model.predict_substrings(peldak3, reszek3)\n",
    "\n",
    "for resz, pred in zip(reszek3, preds3):\n",
    "    print(f\"{resz}: {pred['substr-perpl']}\")"
   ]
  },
  {
   "cell_type": "code",
   "execution_count": 11,
   "id": "c1157ca1",
   "metadata": {},
   "outputs": [
    {
     "name": "stdout",
     "output_type": "stream",
     "text": [
      "agyonszurta: 3.235289230095523\n",
      "agyottururta: 34.49920754594653\n",
      "agyottwurta: 580.2327207724595\n"
     ]
    }
   ],
   "source": [
    "peldak4 = ['ti kiskurt«»ajs&i vájárból hazafelé menet éles szóváltás én verekedés utón biujjkával agyonszurta Huszár Ferenc földmûves',\n",
    "           'ti kiskurtmajsai vásárból hazafelé menet éles szóváltás ós verekedés útin bicskával agyottururta Huszár Ferenc földmûvest',\n",
    "           'ti kiskurtmajsai vásárból hazafelé menet éles szóváltás én verekedés útin bicskával agyottwurta Huszár Ferenc földmûvest']\n",
    "\n",
    "reszek4 = ['agyonszurta', 'agyottururta', 'agyottwurta']\n",
    "\n",
    "preds4 = model.predict_substrings(peldak4, reszek4)\n",
    "\n",
    "for resz, pred in zip(reszek4, preds4):\n",
    "    print(f\"{resz}: {pred['substr-perpl']}\")"
   ]
  },
  {
   "cell_type": "code",
   "execution_count": 12,
   "id": "0f1e4bcf",
   "metadata": {},
   "outputs": [
    {
     "name": "stdout",
     "output_type": "stream",
     "text": [
      "agyonsrurta: 40.048322698692466\n",
      "agyonsz^irta: 612.6279948893233\n",
      "agyonszurta: 3.058552867020664\n"
     ]
    }
   ],
   "source": [
    "peldak5 = ['február 7-én U kiskurtmajs&i vásárból hazafelé menet éles szóváltás és verekedés után bicskával agyonsrurta Huszár Ferenc földmûvest.',\n",
    "           'február 7.én b kiskurtmajai vásártól hazafelé menet éles szóváltás és ve-rdkedés után bicskával agyonsz^irta Huszár Ferenc földmû v&sa',\n",
    "           'hazafele menet eles szóváltás ég ve-rekedd utua boával agyonszurta Huszar Ferenc földmûvek .']\n",
    "\n",
    "reszek5 = ['agyonsrurta', 'agyonsz^irta', 'agyonszurta']\n",
    "\n",
    "preds5 = model.predict_substrings(peldak5, reszek5)\n",
    "\n",
    "for resz, pred in zip(reszek5, preds5):\n",
    "    print(f\"{resz}: {pred['substr-perpl']}\")"
   ]
  },
  {
   "cell_type": "code",
   "execution_count": 25,
   "id": "040e8e74",
   "metadata": {},
   "outputs": [
    {
     "name": "stdout",
     "output_type": "stream",
     "text": [
      "   perplexitás:\t\t  entrópia\n",
      "a: 1.7961713789016334\t1.9785012006759644\n",
      "g: 1.558189024461033\t1.3566404581069946\n",
      "y: 2.050569970934031\t1.6176563501358032\n",
      "o: 5.53369011437476\t3.1435275077819824\n",
      "n: 1.0145087333280483\t0.13291659951210022\n",
      "s: 1.165341871700964\t0.7863228917121887\n",
      "z: 1.0109506899587863\t0.09560979157686234\n",
      "a: 15168.85115738421\t1.4937201738357544\n",
      "r: 428.8055807649231\t1.8592787981033325\n",
      "t: 15.528840838372599\t2.513979911804199\n",
      "á: 15.504412282493279\t2.1541285514831543\n",
      "k: 20.263209996203038\t4.69947624206543\n"
     ]
    }
   ],
   "source": [
    "valtozat = 0\n",
    "\n",
    "print(\"   perplexitás:\\t\\t  entrópia\")\n",
    "for i, c in enumerate(reszek2[valtozat]):\n",
    "    c_pred = preds2[valtozat]['perpl'][i][c]\n",
    "    c_ent = preds2[valtozat]['s'][i]\n",
    "    print(f\"{c}: {c_pred}\\t{c_ent}\")"
   ]
  },
  {
   "cell_type": "code",
   "execution_count": 26,
   "id": "37b1d3b7",
   "metadata": {},
   "outputs": [
    {
     "name": "stdout",
     "output_type": "stream",
     "text": [
      "   perplexitás:\t\t  entrópia\n",
      "a: 1.9304363774815776\t2.1092348098754883\n",
      "g: 1.0057381547637068\t0.05594508722424507\n",
      "y: 1.0915822957351609\t0.42268630862236023\n",
      "o: 1.3346262847909611\t1.320202112197876\n",
      "n: 1.0009430591425816\t0.0119277723133564\n",
      "s: 1.0270225831259614\t0.21201761066913605\n",
      "z: 1.0000426787470569\t0.0007549336878582835\n",
      "u: 32639.563986821056\t1.4937201738357544\n",
      "r: 5.171029355084438\t1.1826707124710083\n",
      "t: 13.488185929881551\t2.284435272216797\n",
      "á: 64.89707043780697\t1.3887978792190552\n",
      "k: 11.965458092150207\t4.2457990646362305\n"
     ]
    }
   ],
   "source": [
    "valtozat = 2\n",
    "\n",
    "print(\"   perplexitás:\\t\\t  entrópia\")\n",
    "for i, c in enumerate(reszek2[valtozat]):\n",
    "    c_pred = preds2[valtozat]['perpl'][i][c]\n",
    "    c_ent = preds2[valtozat]['s'][i]\n",
    "    print(f\"{c}: {c_pred}\\t{c_ent}\")"
   ]
  },
  {
   "cell_type": "code",
   "execution_count": 27,
   "id": "08931d83",
   "metadata": {},
   "outputs": [
    {
     "name": "stdout",
     "output_type": "stream",
     "text": [
      "['agyonszúrták']: 1.7172137160541687\n"
     ]
    }
   ],
   "source": [
    "javitott = ['Bagheriában, Palermo közelében a község egyik hivatalnokát háza elõtt agyonszúrták.']\n",
    "jav_resz = ['agyonszúrták']\n",
    "\n",
    "jav_pred = model.predict_substrings(javitott, jav_resz)\n",
    "\n",
    "print(f\"{jav_resz}: {jav_pred[0]['substr-perpl']}\")"
   ]
  },
  {
   "cell_type": "code",
   "execution_count": 30,
   "id": "ebf121ed",
   "metadata": {},
   "outputs": [
    {
     "name": "stdout",
     "output_type": "stream",
     "text": [
      "a: 1.6245011552042383, 1.8409571647644043\n",
      "g: 1.0043016745229298, 0.044441040605306625\n",
      "y: 1.0357499203303293, 0.22166584432125092\n",
      "o: 1.0438154837708598, 0.3411668539047241\n",
      "n: 1.000019312277864, 0.00033308452111668885\n",
      "s: 1.0001443832931718, 0.002049944130703807\n",
      "z: 1.0, 1.950904326974978e-09\n",
      "ú: 4.7869963831921725, 1.4937201738357544\n",
      "r: 1.0018287902193819, 0.019302919507026672\n",
      "t: 3.089228330751798, 0.9599268436431885\n",
      "á: 1.915639199477051, 1.5361086130142212\n",
      "k: 13.13221276149416, 4.454115390777588\n"
     ]
    }
   ],
   "source": [
    "valtozat = 0\n",
    "\n",
    "for i, c in enumerate(jav_resz[valtozat]):\n",
    "    c_pred = jav_pred[valtozat]['perpl'][i][c]\n",
    "    c_ent = jav_pred[valtozat]['s'][i]\n",
    "    print(f\"{c}: {c_pred}, {c_ent}\")"
   ]
  },
  {
   "cell_type": "code",
   "execution_count": 11,
   "id": "a662bb09",
   "metadata": {},
   "outputs": [
    {
     "name": "stdout",
     "output_type": "stream",
     "text": [
      " régit - három : 1.3304004127373434\n",
      " régit- három : 5.738146555321422\n",
      " régit-három : 3.149435391101502\n",
      " régithárom : 15.935182108403392\n"
     ]
    }
   ],
   "source": [
    "elval1 = ['s minden kérelmet - újat és régit - három hónap alatt el kell bírálni.',\n",
    "          's minden kérelmet - újat és régit- három hónap alatt el kell bírálni.',\n",
    "          's minden kérelmet - újat és régit-három hónap alatt el kell bírálni.',\n",
    "          's minden kérelmet - újat és régithárom hónap alatt el kell bírálni.']\n",
    "resz1 = [' régit - három ', ' régit- három ', ' régit-három ', ' régithárom ']\n",
    "\n",
    "preds1 = model.predict_substrings(elval1, resz1)\n",
    "\n",
    "for resz, pred in zip(resz1, preds1):\n",
    "    print(f\"{resz}: {pred['substr-perpl']}\")"
   ]
  },
  {
   "cell_type": "code",
   "execution_count": null,
   "id": "859cff51",
   "metadata": {},
   "outputs": [],
   "source": []
  }
 ],
 "metadata": {
  "kernelspec": {
   "display_name": "Python 3 (ipykernel)",
   "language": "python",
   "name": "python3"
  },
  "language_info": {
   "codemirror_mode": {
    "name": "ipython",
    "version": 3
   },
   "file_extension": ".py",
   "mimetype": "text/x-python",
   "name": "python",
   "nbconvert_exporter": "python",
   "pygments_lexer": "ipython3",
   "version": "3.10.6"
  }
 },
 "nbformat": 4,
 "nbformat_minor": 5
}
