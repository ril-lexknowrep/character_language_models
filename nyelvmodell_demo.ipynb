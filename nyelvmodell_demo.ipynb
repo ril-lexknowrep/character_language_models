{
 "cells": [
  {
   "cell_type": "markdown",
   "id": "fd2edeb7",
   "metadata": {},
   "source": [
    "# Egyirányú n-gram-modellek"
   ]
  },
  {
   "cell_type": "markdown",
   "id": "f8a5028b",
   "metadata": {},
   "source": [
    "## Modell betöltése"
   ]
  },
  {
   "cell_type": "code",
   "execution_count": 1,
   "id": "81ed6593",
   "metadata": {},
   "outputs": [
    {
     "name": "stdout",
     "output_type": "stream",
     "text": [
      "CPU times: user 49.6 s, sys: 2.47 s, total: 52 s\n",
      "Wall time: 51.1 s\n"
     ]
    }
   ],
   "source": [
    "%%time\n",
    "\n",
    "import pickle\n",
    "\n",
    "import ngram_model\n",
    "from ngram_model import MultiNgramTrieRoot, BiMultiNgramModel\n",
    "\n",
    "with open('ngram_forward.model', 'rb') as savefile:\n",
    "    trie_forward = pickle.load(savefile)\n",
    "with open('ngram_backward.model', 'rb') as savefile:\n",
    "    trie_backward = pickle.load(savefile)"
   ]
  },
  {
   "cell_type": "markdown",
   "id": "6bcad083",
   "metadata": {},
   "source": [
    "## A trie-csúcsokban tárolt információk"
   ]
  },
  {
   "cell_type": "code",
   "execution_count": 2,
   "id": "2a2c9335",
   "metadata": {},
   "outputs": [
    {
     "name": "stdout",
     "output_type": "stream",
     "text": [
      "1877940021\n",
      "1877940021\n"
     ]
    }
   ],
   "source": [
    "print(trie_forward.total)\n",
    "print(trie_backward.total)"
   ]
  },
  {
   "cell_type": "markdown",
   "id": "638cd79e",
   "metadata": {},
   "source": [
    "Ennyi karakter volt összesen a tanítókorpuszban."
   ]
  },
  {
   "cell_type": "code",
   "execution_count": 3,
   "id": "52b79d17",
   "metadata": {
    "scrolled": false
   },
   "outputs": [
    {
     "name": "stdout",
     "output_type": "stream",
     "text": [
      "dict_keys(['\\x00', 'H', 'V', 'G', ' ', '9', '/', '0', '8', '.', 's', 'z', 'á', 'm', '1', 'f', 'e', 'b', 'r', 'u', '2', '7', '\\n', 'A', 'ű', 'n', 'ü', 'l', 'd', 'ö', 'é', ',', 'a', 'y', 'k', 'o', 't', 'v', 'i', 'í', 'g', 'ő', 'c', 'h', 'j', 'ó', '-', 'p', 'M', '\"', ':', '(', ')', 'ú', 'O', 'J', 'B', 'P', 'D', '3', 'R', 'F', 'K', 'C', 'E', 'T', 'L', '6', 'x', '5', 'I', 'N', 'S', 'Z', 'Ő', '4', 'É', 'Í', 'Á', 'U', ';', 'Ú', 'Y', 'w', 'Ü', \"'\", 'X', '=', '*', 'W', '?', 'Ö', 'Ó', '!', 'q', 'ä', '„', '”', 'Q', 'Ű', '&', '[', ']', 'ë', '\\x01', '+', '@', '–', '%', '>', '•', '|', '$', '_'])\n"
     ]
    }
   ],
   "source": [
    "print(trie_forward.children.keys())"
   ]
  },
  {
   "cell_type": "markdown",
   "id": "0ea25d16",
   "metadata": {},
   "source": [
    "A tanítás közben (lásd `MultiNgramTrieRoot.main()`) a tanítósztringre meghívtam a modell példányszintű `MultiNgramTrieRoot.replace_oov()` metódusát, ami az inputsztringben kicserélte az LSTM-modell outputkódolója szerint OVV-karakternek számító karaktereket OOV-karakterekre. Ez értelemszerűen azért pont így történt, hogy közvetlenül összevethető legyen az n-gram- és az LSTM-modell, de nyilván ettől függetlenül is lehet értelme a nagyon ritka karaktereket OOV-ként kezelni. Az `\\u0000` a paddingkarakter, az `\\u0001` az OOV-karakter.\n",
    "\n",
    "Hogy pontosan mi számít ritka karakternek, az a `encode_characters.py` `main()` függvényéből derül ki. Ott az `INPUT_COUNT_THRESHOLD` és a `FREQ_EXPONENT` értékét pedig úgy határoztam meg, hogy futtattam a teljes tanítókorpuszra a `press_corpus_scripts` repóból a `list_chars_in_files.py` szkriptet a korpuszra, sokáig nézegettem ennek az outputját, aztán húztam önkényesen egy határt, hogy mit különböztetek még meg külön karakterként és mi legyen már OOV."
   ]
  },
  {
   "cell_type": "code",
   "execution_count": 4,
   "id": "7a42f55b",
   "metadata": {},
   "outputs": [
    {
     "name": "stdout",
     "output_type": "stream",
     "text": [
      "132188621\n",
      "132188621\n",
      "6497044\n",
      "6497044\n"
     ]
    }
   ],
   "source": [
    "print(trie_forward.children['a'].total)\n",
    "print(trie_forward.prefix_count('a'))\n",
    "print(trie_forward.children['a'].children['b'].total)\n",
    "print(trie_forward.prefix_count('ba'))"
   ]
  },
  {
   "cell_type": "markdown",
   "id": "58910c6c",
   "metadata": {},
   "source": [
    "Ennyi 'a' unigram, illetve 'ba' bigram van a korpuszban, és így tároltam a számokat."
   ]
  },
  {
   "cell_type": "markdown",
   "id": "33089e2a",
   "metadata": {},
   "source": [
    "## Simított n-gram-valószínűségek, backoff"
   ]
  },
  {
   "cell_type": "code",
   "execution_count": 5,
   "id": "3400d2ce",
   "metadata": {},
   "outputs": [
    {
     "data": {
      "text/plain": [
       "{'\\x00': 2.356742658931507e-08,\n",
       " 'H': 2.2296633979106903e-10,\n",
       " 'V': 3.4195873874692456e-10,\n",
       " 'G': 5.094723100925464e-10,\n",
       " ' ': 0.003946694415040005,\n",
       " '9': 1.213029309744158e-10,\n",
       " '/': 5.531413652433361e-09,\n",
       " '0': 1.0512920684449368e-10,\n",
       " '8': 8.086862064961053e-11,\n",
       " '.': 0.0003115811380294741,\n",
       " 's': 0.00010386037934315803,\n",
       " 'z': 2.9130558070033216e-05,\n",
       " 'á': 0.0005193018967157901,\n",
       " 'm': 6.744061724394456e-07,\n",
       " '1': 2.0725472206485897e-09,\n",
       " 'f': 0.00020772075868631605,\n",
       " 'e': 0.008101109588766326,\n",
       " 'b': 0.00020772075868631605,\n",
       " 'r': 0.0006231622760589482,\n",
       " 'u': 0.0021810679662063186,\n",
       " '2': 1.1067448368903842e-09,\n",
       " '7': 9.819761078881278e-11,\n",
       " '\\n': 4.707015828211045e-08,\n",
       " 'A': 1.3828534131083401e-09,\n",
       " 'ű': 8.143123519612996e-08,\n",
       " 'n': 0.004362135932412637,\n",
       " 'ü': 6.922030453124063e-07,\n",
       " 'l': 3.2506643915923016e-07,\n",
       " 'd': 1.0713012757256691e-07,\n",
       " 'ö': 0.00020772075868631605,\n",
       " 'é': 0.0010386037934315801,\n",
       " ',': 0.0011424641727747382,\n",
       " 'a': 0.009970596416943171,\n",
       " 'y': 7.503799310077362e-08,\n",
       " 'k': 0.7914160905948642,\n",
       " 'o': 0.03146969494097688,\n",
       " 't': 0.0003115811380294741,\n",
       " 'v': 1.986583876898054e-07,\n",
       " 'i': 0.008308830347452641,\n",
       " 'í': 0.0007270226554021062,\n",
       " 'g': 0.00010386037934315803,\n",
       " 'ő': 0.0006231622760589482,\n",
       " 'c': 1.9349896969236023e-07,\n",
       " 'h': 0.0003115811380294741,\n",
       " 'j': 2.1073207275279222e-08,\n",
       " 'ó': 0.07862230716277062,\n",
       " '-': 0.0006231622760589482,\n",
       " 'p': 5.096767921761889e-07,\n",
       " 'M': 5.429750243616707e-10,\n",
       " '\"': 1.3377201915587414e-15,\n",
       " ':': 1.0864699184275174e-07,\n",
       " '(': 5.348881622967096e-10,\n",
       " ')': 0.0003115811380294741,\n",
       " 'ú': 0.05400739725844217,\n",
       " 'O': 6.284647090484018e-10,\n",
       " 'J': 1.166818669372952e-10,\n",
       " 'B': 1.006236694083011e-09,\n",
       " 'P': 6.053593888627989e-10,\n",
       " 'D': 2.84195438282917e-10,\n",
       " '3': 3.1192182250564064e-10,\n",
       " 'R': 1.7791096542914315e-10,\n",
       " 'F': 2.911270343385979e-10,\n",
       " 'K': 2.218110737817889e-10,\n",
       " 'C': 4.2975895545221594e-10,\n",
       " 'E': 2.980586303942788e-10,\n",
       " 'T': 3.4889033480260546e-10,\n",
       " 'L': 1.7560043341058286e-10,\n",
       " '6': 1.0397394083521354e-10,\n",
       " 'x': 8.895548271457158e-11,\n",
       " '5': 1.420977191414585e-10,\n",
       " 'I': 3.1654288654276123e-10,\n",
       " 'N': 2.2296633979106903e-10,\n",
       " 'S': 4.817459258698227e-10,\n",
       " 'Z': 6.469489651968841e-11,\n",
       " 'Ő': 1.2707926102081654e-11,\n",
       " '4': 2.4607165997667207e-10,\n",
       " 'É': 8.780021670529143e-11,\n",
       " 'Í': 2.0794788167042706e-11,\n",
       " 'Á': 1.236134629929761e-10,\n",
       " 'U': 2.1025841368898736e-10,\n",
       " ';': 6.025867504405264e-09,\n",
       " 'Ú': 3.465798027840451e-11,\n",
       " 'Y': 1.3863192111361806e-11,\n",
       " 'w': 1.8740725202542598e-08,\n",
       " 'Ü': 5.776330046400752e-12,\n",
       " \"'\": 2.0910314767970723e-10,\n",
       " 'X': 4.852117238976632e-11,\n",
       " '=': 1.6866883735490194e-10,\n",
       " '*': 1.1552660092801503e-12,\n",
       " 'W': 1.7791096542914315e-10,\n",
       " '?': 2.4544781633166077e-08,\n",
       " 'Ö': 8.664495069601129e-11,\n",
       " 'Ó': 3.4657980278404515e-12,\n",
       " '!': 0.00010386037934315803,\n",
       " 'q': 4.155491835380701e-09,\n",
       " 'ä': 8.086862064961053e-11,\n",
       " '„': 1.1552660092801503e-12,\n",
       " '”': 3.1076655649636043e-09,\n",
       " 'Q': 1.2707926102081654e-11,\n",
       " 'Ű': 1.1552660092801503e-12,\n",
       " '&': 1.9292942354978514e-10,\n",
       " '[': 5.299136975972256e-17,\n",
       " ']': 6.585016252896857e-10,\n",
       " 'ë': 1.1552660092801503e-12,\n",
       " '\\x01': 2.275874038281896e-10,\n",
       " '+': 4.14740497331574e-10,\n",
       " '@': 4.262931574243755e-10,\n",
       " '–': 1.236134629929761e-10,\n",
       " '%': 1.1552660092801503e-12,\n",
       " '>': 1.0743973886305398e-10,\n",
       " '•': 5.314223642688691e-11,\n",
       " '|': 0.00010386037934315803,\n",
       " '$': 4.3900108352645716e-11,\n",
       " '_': 3.188534185613215e-10}"
      ]
     },
     "execution_count": 5,
     "metadata": {},
     "output_type": "execute_result"
    }
   ],
   "source": [
    "trie_forward.estimate_alternatives('macsk')"
   ]
  },
  {
   "cell_type": "code",
   "execution_count": 6,
   "id": "a561f2a1",
   "metadata": {},
   "outputs": [
    {
     "name": "stdout",
     "output_type": "stream",
     "text": [
      "1.0000000000000007\n"
     ]
    }
   ],
   "source": [
    "print(sum(trie_forward.estimate_alternatives('macsk').values()))"
   ]
  },
  {
   "cell_type": "markdown",
   "id": "8aea082a",
   "metadata": {},
   "source": [
    "Ez egy olyan dictionaryt add vissza, aminek a kulcsai a lehetséges utolsó betűk, az értékei pedig az utolsó betűknek a modell szerinti feltételes valószínűségei. Azokra az utolsó betűkre, amik a kezdő (n-1)-gram után 0 alkalommal fordultak elő, a 0 előfordulás-szám helyett a végső bigram simított valószínűségét használja előfordulásszámként (ami mindenképp kisebb, mint 0, de a végső bigramtól függ, hogy mennyivel), tehát mindenképp ritkábbnak becsülöm, mint a ténylegesen előforduló alternatíva-n-gramok darabszámát.\n",
    "\n",
    "Például: a *macsk@* előfordulás-száma 0, így a *k@* bigram feltételes valószínűségét használom becsült előfordulásszámként.\n",
    "\n",
    "Lehetne ugye itt is a bigram helyett az (n-1)-gramhoz backoffolni, de csak az a lényeg, hogy ez egy kellően kis szám legyen, ezért nagyjából teljesen mindegy, a bigram is megteszi."
   ]
  },
  {
   "cell_type": "code",
   "execution_count": 7,
   "id": "2c9eeaa2",
   "metadata": {},
   "outputs": [
    {
     "name": "stdout",
     "output_type": "stream",
     "text": [
      "0\n",
      "2.8690037067041686e-06\n"
     ]
    }
   ],
   "source": [
    "print(trie_forward.prefix_count('macsk@'))\n",
    "print(trie_forward.bigram_freqs['k@'])"
   ]
  },
  {
   "cell_type": "markdown",
   "id": "c3476543",
   "metadata": {},
   "source": [
    "Mindenesetre a tényleges előfordulásszámokat és az így becsült előfordulásszámokat összeadom az összes alternatívára, és normalizálom az egészet 1-re."
   ]
  },
  {
   "cell_type": "code",
   "execution_count": 8,
   "id": "6fb7b1d5",
   "metadata": {},
   "outputs": [
    {
     "name": "stdout",
     "output_type": "stream",
     "text": [
      "7620\n",
      "757\n",
      "78\n",
      "6\n"
     ]
    }
   ],
   "source": [
    "print(trie_forward.prefix_count('macsk'))\n",
    "print(trie_forward.prefix_count('macsó'))\n",
    "print(trie_forward.prefix_count('macse'))\n",
    "print(trie_forward.prefix_count('macs-'))\n",
    "# ..."
   ]
  },
  {
   "cell_type": "markdown",
   "id": "201a39d3",
   "metadata": {},
   "source": [
    "Backoff az n-1-gramra akkor van, ha az **összes** alternatíva előfordulásszáma 0. Például becsüljük a *macút* 5-gram valószínűségét. *macú* nincs, ezért backoffol a 4-gram-modellre. *acú* adott esetben van."
   ]
  },
  {
   "cell_type": "code",
   "execution_count": 9,
   "id": "2cb18ace",
   "metadata": {},
   "outputs": [
    {
     "name": "stdout",
     "output_type": "stream",
     "text": [
      "0\n",
      "42\n"
     ]
    }
   ],
   "source": [
    "print(trie_forward.prefix_count('macú'))\n",
    "print(trie_forward.prefix_count('acú'))"
   ]
  },
  {
   "cell_type": "code",
   "execution_count": 10,
   "id": "456e6742",
   "metadata": {},
   "outputs": [
    {
     "data": {
      "text/plain": [
       "{'\\x00': 2.4285701398526387e-06,\n",
       " 'H': 2.11180012161099e-08,\n",
       " 'V': 1.5838500912082427e-08,\n",
       " 'G': 1.055900060805495e-08,\n",
       " ' ': 0.7772882601512991,\n",
       " '9': 3.875462538059061e-12,\n",
       " '/': 2.9037251672151113e-07,\n",
       " '0': 5.279500304027475e-09,\n",
       " '8': 2.7183997592530944e-12,\n",
       " '.': 4.0187556314257146e-05,\n",
       " 's': 0.023554189701554522,\n",
       " 'z': 0.0008910635023131492,\n",
       " 'á': 3.795960718595755e-06,\n",
       " 'm': 1.3916762801416425e-05,\n",
       " '1': 5.279500304027475e-09,\n",
       " 'f': 5.50704676713106e-05,\n",
       " 'e': 3.880432723460194e-06,\n",
       " 'b': 0.00017101885334836202,\n",
       " 'r': 0.0009585196776977083,\n",
       " 'u': 2.7981351611345616e-07,\n",
       " '2': 3.1677001824164854e-08,\n",
       " '7': 5.279500304027475e-09,\n",
       " '\\n': 4.846581279097222e-06,\n",
       " 'A': 8.44720048644396e-08,\n",
       " 'ű': 6.335400364832971e-08,\n",
       " 'n': 0.023554189701554522,\n",
       " 'ü': 5.068320291866377e-07,\n",
       " 'l': 0.004416476227829016,\n",
       " 'd': 0.00020959616206989076,\n",
       " 'ö': 1.8478251064096165e-07,\n",
       " 'é': 5.4695623149724645e-06,\n",
       " ',': 0.09421675880621809,\n",
       " 'a': 0.00015228190676936848,\n",
       " 'y': 5.279500304027475e-08,\n",
       " 'k': 0.00020785920646986574,\n",
       " 'o': 1.742235100329067e-07,\n",
       " 't': 0.023554189701554522,\n",
       " 'v': 9.956609623365416e-05,\n",
       " 'i': 2.513042144717078e-05,\n",
       " 'í': 7.919250456041213e-08,\n",
       " 'g': 0.0028499165001164635,\n",
       " 'ő': 9.503100547249454e-08,\n",
       " 'c': 0.0005313341900976291,\n",
       " 'h': 1.5088811868910525e-05,\n",
       " 'j': 0.047108379403109045,\n",
       " 'ó': 1.5838500912082427e-08,\n",
       " '-': 2.9955884725051894e-05,\n",
       " 'p': 1.5310550881679677e-05,\n",
       " 'M': 2.6397501520137375e-08,\n",
       " '\"': 6.113305594820302e-12,\n",
       " ':': 4.4347802553830795e-06,\n",
       " '(': 2.11180012161099e-08,\n",
       " ')': 8.140989468810367e-06,\n",
       " 'ú': 1.7686326018492042e-06,\n",
       " 'O': 2.33299798439054e-12,\n",
       " 'J': 5.279500304027475e-09,\n",
       " 'B': 3.1677001824164854e-08,\n",
       " 'P': 1.5838500912082427e-08,\n",
       " 'D': 1.055900060805495e-08,\n",
       " '3': 5.279500304027475e-09,\n",
       " 'R': 3.149994420217135e-12,\n",
       " 'F': 5.279500304027475e-09,\n",
       " 'K': 3.1677001824164854e-08,\n",
       " 'C': 2.11180012161099e-08,\n",
       " 'E': 1.5838500912082427e-08,\n",
       " 'T': 5.279500304027475e-09,\n",
       " 'L': 5.279500304027475e-09,\n",
       " '6': 5.279500304027475e-09,\n",
       " 'x': 5.279500304027475e-09,\n",
       " '5': 1.055900060805495e-08,\n",
       " 'I': 5.279500304027475e-09,\n",
       " 'N': 1.5838500912082427e-08,\n",
       " 'S': 2.6397501520137375e-08,\n",
       " 'Z': 1.055900060805495e-08,\n",
       " 'Ő': 5.279500304027475e-09,\n",
       " '4': 1.055900060805495e-08,\n",
       " 'É': 8.595345990303917e-13,\n",
       " 'Í': 2.295250319508022e-13,\n",
       " 'Á': 9.907026038284587e-13,\n",
       " 'U': 1.2839800597414908e-12,\n",
       " ';': 5.807450334430223e-07,\n",
       " 'Ú': 4.5011567207940714e-13,\n",
       " 'Y': 2.810144549286318e-13,\n",
       " 'w': 1.29298192337103e-12,\n",
       " 'Ü': 1.2051027056334392e-13,\n",
       " \"'\": 2.0357368805190268e-13,\n",
       " 'X': 3.3203719790567953e-13,\n",
       " '=': 9.502279533992031e-15,\n",
       " '*': 6.651876806325015e-14,\n",
       " 'W': 9.981273139613795e-13,\n",
       " '?': 2.280744131339869e-06,\n",
       " 'Ö': 3.6166294397940977e-13,\n",
       " 'Ó': 8.560485556510572e-14,\n",
       " '!': 9.397510541168906e-07,\n",
       " 'q': 1.3850837517181048e-13,\n",
       " 'ä': 5.961415311192338e-14,\n",
       " '„': 1.310471178099126e-13,\n",
       " '”': 7.127325410437092e-07,\n",
       " 'Q': 8.026614880917353e-14,\n",
       " 'Ű': 5.279500304027475e-09,\n",
       " '&': 5.988122901598529e-14,\n",
       " '[': 2.421675618515011e-13,\n",
       " ']': 1.1614900668860446e-07,\n",
       " 'ë': 1.437992893975421e-14,\n",
       " '\\x01': 3.1677001824164854e-08,\n",
       " '+': 3.1677001824164854e-08,\n",
       " '@': 5.279500304027475e-09,\n",
       " '–': 5.279500304027475e-09,\n",
       " '%': 9.56469095578334e-14,\n",
       " '>': 3.267884535595366e-14,\n",
       " '•': 5.355574707767698e-15,\n",
       " '|': 4.751550273624727e-08,\n",
       " '$': 1.6148252557174627e-14,\n",
       " '_': 2.2007054494701075e-14}"
      ]
     },
     "execution_count": 10,
     "metadata": {},
     "output_type": "execute_result"
    }
   ],
   "source": [
    "trie_forward.estimate_alternatives('acút')"
   ]
  },
  {
   "cell_type": "markdown",
   "id": "94f1ba48",
   "metadata": {},
   "source": [
    "Az egész filozófiája akkor látszik jobban, ha olyan n-gramot veszünk, ahol a ténylegesen előforduló alternatívák száma nagyon kicsi:"
   ]
  },
  {
   "cell_type": "code",
   "execution_count": 11,
   "id": "480de42e",
   "metadata": {},
   "outputs": [
    {
     "name": "stdout",
     "output_type": "stream",
     "text": [
      "1\n",
      "1\n"
     ]
    }
   ],
   "source": [
    "print(trie_forward.prefix_count('macz'))\n",
    "print(trie_forward.prefix_count('maczo'))"
   ]
  },
  {
   "cell_type": "markdown",
   "id": "e0a5efdc",
   "metadata": {},
   "source": [
    "Az béna nyelvmodell lenne, ami ilyenkor azt mondja, hogy a *maczo* valószínűsége 1, az összes többié 0 vagy valami elenyésző kicsi szám. A használt simítási eljárással (a *za*, *zb* stb. bigramok valószínűségével becsüljük 0 előfordulású 5-gramok előfordulás-számát) normalizálás után sokkal értelmesebb számokat kapunk:"
   ]
  },
  {
   "cell_type": "code",
   "execution_count": 12,
   "id": "18bac275",
   "metadata": {},
   "outputs": [
    {
     "data": {
      "text/plain": [
       "{'\\x00': 5.229501968233869e-05,\n",
       " 'H': 1.4106556369031632e-06,\n",
       " 'V': 7.983380802254165e-07,\n",
       " 'G': 8.060889353732362e-07,\n",
       " ' ': 0.09028946358958553,\n",
       " '9': 6.200684118255663e-08,\n",
       " '/': 4.40248572396152e-06,\n",
       " '0': 2.4027650958240696e-07,\n",
       " '8': 3.100342059127832e-07,\n",
       " '.': 0.0018609570684260375,\n",
       " 's': 0.00926641860914848,\n",
       " 'z': 0.007809412858461355,\n",
       " 'á': 0.041357098157142336,\n",
       " 'm': 0.0030530695935812794,\n",
       " '1': 9.223517625905299e-07,\n",
       " 'f': 0.0005735090249526141,\n",
       " 'e': 0.09277016353392092,\n",
       " 'b': 0.0033183658635808485,\n",
       " 'r': 0.0018402080291953244,\n",
       " 'u': 0.003134639593156933,\n",
       " '2': 2.7825569980672285e-06,\n",
       " '7': 1.47266247808572e-07,\n",
       " '\\n': 0.00010470630219189469,\n",
       " 'A': 2.146986875946023e-06,\n",
       " 'ű': 0.0007967104006443744,\n",
       " 'n': 0.009385122955737337,\n",
       " 'ü': 0.008808583346421926,\n",
       " 'l': 0.006233943037694956,\n",
       " 'd': 0.007611293250027939,\n",
       " 'ö': 0.011505036094652027,\n",
       " 'é': 0.022048392587693484,\n",
       " ',': 0.0038965951593184847,\n",
       " 'a': 0.03824595915679359,\n",
       " 'y': 0.00032281536605153767,\n",
       " 'k': 0.0042303857362593345,\n",
       " 'o': 0.5152775788173295,\n",
       " 't': 0.051922684102747745,\n",
       " 'v': 0.0031470409613934443,\n",
       " 'i': 0.020010716021897162,\n",
       " 'í': 0.007685112394455773,\n",
       " 'g': 0.0031123326320415083,\n",
       " 'ő': 0.011396787651657577,\n",
       " 'c': 0.0001194019235521606,\n",
       " 'h': 0.0027037385520690513,\n",
       " 'j': 0.00020679281534382636,\n",
       " 'ó': 0.011481512249278394,\n",
       " '-': 0.0006791299280519515,\n",
       " 'p': 0.0017844251246964668,\n",
       " 'M': 1.379652216311885e-06,\n",
       " '\"': 8.97496797256754e-12,\n",
       " ':': 0.00016203937772031612,\n",
       " '(': 1.4261573471988024e-06,\n",
       " ')': 0.00019892569736878948,\n",
       " 'ú': 0.0013230554720225064,\n",
       " 'O': 3.433628830484073e-06,\n",
       " 'J': 1.9377137869548948e-07,\n",
       " 'B': 3.6816561952143e-06,\n",
       " 'P': 1.4416590574944416e-06,\n",
       " 'D': 7.828363699297774e-07,\n",
       " '3': 2.557782198780461e-07,\n",
       " 'R': 5.735632809386488e-07,\n",
       " 'F': 4.4954959857353556e-07,\n",
       " 'K': 9.146009074427102e-07,\n",
       " 'C': 4.185461779822572e-07,\n",
       " 'E': 1.1316248515816585e-06,\n",
       " 'T': 1.3874030714597045e-06,\n",
       " 'L': 2.0152223384330904e-07,\n",
       " '6': 1.395153926607524e-07,\n",
       " 'x': 7.75085514781958e-08,\n",
       " '5': 4.650513088691747e-08,\n",
       " 'I': 3.2553591620842225e-07,\n",
       " 'N': 5.425598603473704e-07,\n",
       " 'S': 3.015082652501816e-06,\n",
       " 'Z': 2.170239441389482e-07,\n",
       " 'Ő': 1.0076111692165452e-07,\n",
       " '4': 1.395153926607524e-07,\n",
       " 'É': 2.94532495617144e-07,\n",
       " 'Í': 5.425598603473705e-08,\n",
       " 'Á': 6.355701221212055e-07,\n",
       " 'U': 9.92109458920906e-07,\n",
       " ';': 1.6238041534682018e-05,\n",
       " 'Ú': 1.0076111692165452e-07,\n",
       " 'Y': 2.3252565443458736e-08,\n",
       " 'w': 3.3096151481189598e-06,\n",
       " 'Ü': 4.650513088691747e-08,\n",
       " \"'\": 2.557782198780461e-07,\n",
       " 'X': 6.97576963303762e-08,\n",
       " '=': 4.96054729460453e-07,\n",
       " '*': 9.765646485072647e-14,\n",
       " 'W': 6.97576963303762e-08,\n",
       " '?': 0.00011218587740954058,\n",
       " 'Ö': 9.301026177383494e-08,\n",
       " 'Ó': 1.0076111692165452e-07,\n",
       " '!': 8.539892201867611e-05,\n",
       " 'q': 3.332867713562419e-06,\n",
       " 'ä': 5.425598603473705e-08,\n",
       " '„': 1.9239078874738024e-13,\n",
       " '”': 5.200823804186937e-06,\n",
       " 'Q': 1.1783904855894052e-13,\n",
       " 'Ű': 1.5501710295639157e-08,\n",
       " '&': 5.425598603473705e-08,\n",
       " '[': 3.5552714941217945e-13,\n",
       " ']': 1.7439424082594051e-06,\n",
       " 'ë': 2.111123019785579e-14,\n",
       " '\\x01': 6.123175566777467e-07,\n",
       " '+': 1.7439424082594051e-06,\n",
       " '@': 9.301026177383495e-07,\n",
       " '–': 1.7439424082594051e-06,\n",
       " '%': 1.4041960386929617e-13,\n",
       " '>': 3.410376265040614e-07,\n",
       " '•': 9.301026177383494e-08,\n",
       " '|': 5.968158463821075e-07,\n",
       " '$': 7.750855147819579e-09,\n",
       " '_': 4.41798743425716e-07}"
      ]
     },
     "execution_count": 12,
     "metadata": {},
     "output_type": "execute_result"
    }
   ],
   "source": [
    "trie_forward.estimate_alternatives('maczó')"
   ]
  },
  {
   "cell_type": "markdown",
   "id": "cec904f4",
   "metadata": {},
   "source": [
    "Csak összehasonlításképp így nézne ki (a *maczo* 1-ének hozzáadása a normalizálás előtt), ha nem azonnal a bigram-modellre, hanem a 4-gram-modellre lépnénk vissza:"
   ]
  },
  {
   "cell_type": "code",
   "execution_count": 13,
   "id": "84597c1b",
   "metadata": {},
   "outputs": [],
   "source": [
    "alts = trie_forward.estimate_alternatives('aczó')\n",
    "# maczo-ból 1 van\n",
    "alts['o'] = 1\n",
    "# normalizálás\n",
    "counts_sum = sum(alts.values())\n",
    "alts = {k: v / counts_sum for k, v in alts.items()}"
   ]
  },
  {
   "cell_type": "code",
   "execution_count": 14,
   "id": "6f3b6d63",
   "metadata": {},
   "outputs": [
    {
     "data": {
      "text/plain": [
       "{'\\x00': 9.150216774292263e-09,\n",
       " 'H': 2.468266567246468e-10,\n",
       " 'V': 1.3968761342109133e-10,\n",
       " 'G': 1.4104380384265534e-10,\n",
       " ' ': 0.020015446009443764,\n",
       " '9': 9.015966670920614e-05,\n",
       " '/': 7.703161594483483e-10,\n",
       " '0': 4.20419030684838e-11,\n",
       " '8': 5.424761686255975e-11,\n",
       " '.': 0.00018031933341841228,\n",
       " 's': 0.00027047900012761847,\n",
       " 'z': 1.3664364401989094e-06,\n",
       " 'á': 0.004147344668623483,\n",
       " 'm': 0.008294689337246966,\n",
       " '1': 1.6138666016611522e-10,\n",
       " 'f': 0.00018031933341841228,\n",
       " 'e': 0.00703245400331808,\n",
       " 'b': 0.00027047900012761847,\n",
       " 'r': 3.219867298877234e-07,\n",
       " 'u': 0.002434311001148566,\n",
       " '2': 4.868723613414737e-10,\n",
       " '7': 2.5767618009715876e-11,\n",
       " '\\n': 1.832077640490799e-08,\n",
       " 'A': 3.7566474677322617e-10,\n",
       " 'ű': 1.394028134325629e-07,\n",
       " 'n': 0.0005409580002552369,\n",
       " 'ü': 1.5412643036331454e-06,\n",
       " 'l': 1.090771750350126e-06,\n",
       " 'd': 1.3317708568333121e-06,\n",
       " 'ö': 2.0130707455814647e-06,\n",
       " 'é': 0.00351622700165904,\n",
       " ',': 0.002253991667730153,\n",
       " 'a': 0.012712513005998067,\n",
       " 'y': 0.15615654274034504,\n",
       " 'k': 0.14299323140080095,\n",
       " 'o': 0.5329533581822149,\n",
       " 't': 9.085068098821174e-06,\n",
       " 'v': 0.0017130336674749168,\n",
       " 'i': 0.0513008503575383,\n",
       " 'í': 9.015966670920614e-05,\n",
       " 'g': 5.445741952077569e-07,\n",
       " 'ő': 1.9941301901539018e-06,\n",
       " 'c': 9.015966670920614e-05,\n",
       " 'h': 9.015966670920614e-05,\n",
       " 'j': 3.618316044732734e-08,\n",
       " 'ó': 0.0513910100242475,\n",
       " '-': 0.00036063866683682457,\n",
       " 'p': 9.015966670920614e-05,\n",
       " 'M': 2.414018950383908e-10,\n",
       " '\"': 1.5703771217636283e-15,\n",
       " ':': 2.835251695321685e-08,\n",
       " '(': 2.495390375677748e-10,\n",
       " ')': 0.00036063866683682457,\n",
       " 'ú': 0.00036063866683682457,\n",
       " 'O': 6.007923567528491e-10,\n",
       " 'J': 3.390476053909984e-11,\n",
       " 'B': 6.441904502428969e-10,\n",
       " 'P': 2.5225141841090276e-10,\n",
       " 'D': 1.3697523257796334e-10,\n",
       " '3': 4.475428391161179e-11,\n",
       " 'R': 1.0035809119573551e-10,\n",
       " 'F': 7.865904445071163e-11,\n",
       " 'K': 1.6003046974455124e-10,\n",
       " 'C': 7.323428276445564e-11,\n",
       " 'E': 1.9800380154834305e-10,\n",
       " 'T': 2.4275808545995486e-10,\n",
       " 'L': 3.5260950960663836e-11,\n",
       " '6': 2.441142758815188e-11,\n",
       " 'x': 1.3561904215639937e-11,\n",
       " '5': 8.13714252938396e-12,\n",
       " 'I': 5.6959997705687725e-11,\n",
       " 'N': 9.493332950947953e-11,\n",
       " 'S': 5.275580739883934e-10,\n",
       " 'Z': 3.797333180379182e-11,\n",
       " 'Ő': 1.7630475480331918e-11,\n",
       " '4': 2.441142758815188e-11,\n",
       " 'É': 5.153523601943175e-11,\n",
       " 'Í': 9.493332950947955e-12,\n",
       " 'Á': 1.1120761456824747e-10,\n",
       " 'U': 1.7359237396019114e-10,\n",
       " ';': 2.841218933176566e-09,\n",
       " 'Ú': 1.7630475480331918e-11,\n",
       " 'Y': 4.06857126469198e-12,\n",
       " 'w': 5.790933100078252e-10,\n",
       " 'Ü': 8.13714252938396e-12,\n",
       " \"'\": 4.475428391161179e-11,\n",
       " 'X': 1.220571379407594e-11,\n",
       " '=': 8.679618698009557e-11,\n",
       " '*': 1.708724517598725e-17,\n",
       " 'W': 1.220571379407594e-11,\n",
       " '?': 1.9629500161717245e-08,\n",
       " 'Ö': 1.627428505876792e-11,\n",
       " 'Ó': 1.7630475480331918e-11,\n",
       " '!': 1.494250606479208e-08,\n",
       " 'q': 5.831618812725172e-10,\n",
       " 'ä': 9.493332950947955e-12,\n",
       " '„': 3.3663194566310374e-17,\n",
       " '”': 9.100037728694397e-10,\n",
       " 'Q': 2.0618652509175946e-17,\n",
       " 'Ű': 2.7123808431279865e-12,\n",
       " '&': 9.493332950947955e-12,\n",
       " '[': 6.220765392246912e-17,\n",
       " ']': 3.0514284485189853e-10,\n",
       " 'ë': 3.6938954006667e-18,\n",
       " '\\x01': 1.0713904330355549e-10,\n",
       " '+': 3.0514284485189853e-10,\n",
       " '@': 1.627428505876792e-10,\n",
       " '–': 3.0514284485189853e-10,\n",
       " '%': 2.4569640141052297e-17,\n",
       " '>': 5.967237854881571e-11,\n",
       " '•': 1.627428505876792e-11,\n",
       " '|': 1.0442666246042749e-10,\n",
       " '$': 1.3561904215639933e-12,\n",
       " '_': 9.015966670920614e-05}"
      ]
     },
     "execution_count": 14,
     "metadata": {},
     "output_type": "execute_result"
    }
   ],
   "source": [
    "alts"
   ]
  },
  {
   "cell_type": "markdown",
   "id": "857c8ce6",
   "metadata": {},
   "source": [
    "Úgy voltam vele, hogy miután ezt a rekurzív struktúrában sokkal költségesebb lenne mindig kiszámolni, másrészt annyira drasztikusan nem tér el a bigramos közelítéstől (bár az utóbbi adott esetben persze csúnyán alábecsüli a *czy* és a *czk* valószínűségét), nem éri meg belefektetni a plusz számolási munkát és az algoritmus bonyolítását.\n",
    "\n",
    "Mindenesetre visszatérve a backoffra: ha a kezdő 3-gram sem fordult elő, visszalépünk a trigram-modellre, ha pedig az sem létezne, akkor a bigram-modellre. Becsüljük a *zxűxt* 5-gram valószínűségét:"
   ]
  },
  {
   "cell_type": "code",
   "execution_count": 15,
   "id": "e8044c2f",
   "metadata": {},
   "outputs": [
    {
     "name": "stdout",
     "output_type": "stream",
     "text": [
      "0\n",
      "0\n",
      "0\n",
      "0.05202814798238691\n"
     ]
    }
   ],
   "source": [
    "print(trie_forward.prefix_count('zxűx'))\n",
    "print(trie_forward.prefix_count('xűx'))\n",
    "print(trie_forward.prefix_count('űx'))\n",
    "print(trie_forward.bigram_freqs['xt'])"
   ]
  },
  {
   "cell_type": "markdown",
   "id": "f51c71bf",
   "metadata": {},
   "source": [
    "A teljes bigram-modell (tehát az ábécében szereplő összes karakter kombinációja) már eleve simítva készen el van tárolva, hogy ennyivel gyorsabban fusson a modell. (Az elő nem forduló bigramoknál simán összeszoroztam a két unigram valószínűségét.)"
   ]
  },
  {
   "cell_type": "code",
   "execution_count": 16,
   "id": "e4afd582",
   "metadata": {},
   "outputs": [
    {
     "name": "stdout",
     "output_type": "stream",
     "text": [
      "114\n",
      "12996\n",
      "12996\n"
     ]
    }
   ],
   "source": [
    "print(len(trie_forward.children.keys()))\n",
    "print(len(trie_forward.children.keys()) ** 2)\n",
    "print(len(trie_forward.bigram_freqs.keys()))"
   ]
  },
  {
   "cell_type": "markdown",
   "id": "98e2d2cb",
   "metadata": {},
   "source": [
    "A 114 az az LSTM-beli 113 outputkarakter plusz a padding. Az LSTM soha nem jelez előre paddinget a tanítás menete miatt, hanem az csak kontextusként funkcionál, az n-gram-modellben viszont értelemszerűen megegyezik az output (utolsó karakter) és az input (a feltétel) ábécéje, így ezzel az eggyel több karakter van az ábécéjében. Kis szépséghiba, hogy a betanításkor paddingre végződő n-gramokra is tanítottam a modellt (nem csak a vele kezdődőkre), tehát ebben eltér az n-gram-modell tanítása az LSTM-modellétől, de nagyjából teljesen mindegy."
   ]
  },
  {
   "cell_type": "markdown",
   "id": "34a4260f",
   "metadata": {},
   "source": [
    "## Kényelmi metódusok"
   ]
  },
  {
   "cell_type": "markdown",
   "id": "3485cc4b",
   "metadata": {},
   "source": [
    "Az `estimate_prob()` az n-gram utolsó karakterének becsült (lényegében maximum likelihood-becslés alapján + a 0 előfordulású alternatívák simítása) feltételes valószínűségét adja vissza adott n-1 hosszú prefixum után."
   ]
  },
  {
   "cell_type": "code",
   "execution_count": 17,
   "id": "69734c23",
   "metadata": {
    "scrolled": true
   },
   "outputs": [
    {
     "data": {
      "text/plain": [
       "0.7914160905948642"
      ]
     },
     "execution_count": 17,
     "metadata": {},
     "output_type": "execute_result"
    }
   ],
   "source": [
    "trie_forward.estimate_prob('macsk')"
   ]
  },
  {
   "cell_type": "markdown",
   "id": "978a1e63",
   "metadata": {},
   "source": [
    "Ugyanaz, mint:"
   ]
  },
  {
   "cell_type": "code",
   "execution_count": 18,
   "id": "c6354047",
   "metadata": {},
   "outputs": [
    {
     "data": {
      "text/plain": [
       "0.7914160905948642"
      ]
     },
     "execution_count": 18,
     "metadata": {},
     "output_type": "execute_result"
    }
   ],
   "source": [
    "trie_forward.estimate_alternatives('macsk')['k']"
   ]
  },
  {
   "cell_type": "markdown",
   "id": "65ff0393",
   "metadata": {},
   "source": [
    "Az `estimate_alternatives()` az ábécé szerint lehetséges összes utolsó karakter feltételes valószínűségét adja vissza dictionary formájában."
   ]
  },
  {
   "cell_type": "markdown",
   "id": "3cbe2afe",
   "metadata": {},
   "source": [
    "Ha túl hosszú n-gramot adunk meg, akkor az n hosszúságú szuffixuma alapján becsül."
   ]
  },
  {
   "cell_type": "code",
   "execution_count": 19,
   "id": "33a3e739",
   "metadata": {},
   "outputs": [
    {
     "name": "stdout",
     "output_type": "stream",
     "text": [
      "macskákat is longer than the model's order, estimating for acskákat\n",
      "macskáka not seen in corpus, estimating based on acskáka\n",
      "acskákat is longer than the model's order, estimating for cskákat\n",
      "acskáka not seen in corpus, estimating based on cskáka\n",
      "cskákat is longer than the model's order, estimating for skákat\n",
      "cskáka not seen in corpus, estimating based on skáka\n",
      "skákat is longer than the model's order, estimating for kákat\n",
      "0.9978041429885643\n",
      "0.9978041429885643\n"
     ]
    }
   ],
   "source": [
    "print(trie_forward.estimate_prob('macskákat', verbose=True))\n",
    "print(trie_forward.estimate_prob('kákat'))"
   ]
  },
  {
   "cell_type": "code",
   "execution_count": 20,
   "id": "ab9ae025",
   "metadata": {},
   "outputs": [
    {
     "data": {
      "text/plain": [
       "0.9978041429885643"
      ]
     },
     "execution_count": 20,
     "metadata": {},
     "output_type": "execute_result"
    }
   ],
   "source": [
    "trie_forward.estimate_alternatives('macskákat')['t']"
   ]
  },
  {
   "cell_type": "markdown",
   "id": "108845e8",
   "metadata": {},
   "source": [
    "Ha 0 gyakoriságú a feltétel (tehát az összes alternatív 5-gram gyakorisága 0 a tanítókorpuszban), akkor backoffol, amíg nem jut el egy nem 0 gyakoriságúig vagy a bigramig:"
   ]
  },
  {
   "cell_type": "code",
   "execution_count": 21,
   "id": "5b8bf853",
   "metadata": {},
   "outputs": [
    {
     "name": "stdout",
     "output_type": "stream",
     "text": [
      "zxűx not seen in corpus, estimating based on xűx\n",
      "xűx not seen in corpus, estimating based on űx\n",
      "űx not seen in corpus, estimating based on x\n",
      "0.05202814798238691\n",
      "0.05202814798238691\n",
      "0.05202814798238689\n"
     ]
    }
   ],
   "source": [
    "print(trie_forward.estimate_prob('zxűxt', verbose=True))\n",
    "print(trie_forward.estimate_prob('xt', verbose=True))\n",
    "print(trie_forward.estimate_alternatives('zxűxt')['t'])"
   ]
  },
  {
   "cell_type": "markdown",
   "id": "11a03c5e",
   "metadata": {},
   "source": [
    "Ha n-nél rövidebb sztringet adunk meg, akkor szintén backoffol impliciten a megfelelő rendű n-gram-modellre:"
   ]
  },
  {
   "cell_type": "code",
   "execution_count": 22,
   "id": "60d31806",
   "metadata": {},
   "outputs": [
    {
     "name": "stdout",
     "output_type": "stream",
     "text": [
      "0.1979940120293708\n",
      "0.1979940120293708\n"
     ]
    }
   ],
   "source": [
    "print(trie_forward.estimate_prob('cska', verbose=True))\n",
    "print(trie_forward.estimate_alternatives('cska')['a'])"
   ]
  },
  {
   "cell_type": "code",
   "execution_count": 23,
   "id": "400f9b0d",
   "metadata": {
    "scrolled": true
   },
   "outputs": [
    {
     "name": "stdout",
     "output_type": "stream",
     "text": [
      "0.07334865741519339\n",
      "0.07334865741519339\n"
     ]
    }
   ],
   "source": [
    "print(trie_forward.estimate_prob('ska', verbose=True))\n",
    "print(trie_forward.estimate_alternatives('ska')['a'])"
   ]
  },
  {
   "cell_type": "markdown",
   "id": "0ec99eec",
   "metadata": {},
   "source": [
    "A `predict_next()` a megadott sztring **után következő** lehetséges karakterek közül csökkenő sorrendben az m legvalószínűbbet adja vissza listaként."
   ]
  },
  {
   "cell_type": "code",
   "execution_count": 24,
   "id": "dd1c2a77",
   "metadata": {
    "scrolled": true
   },
   "outputs": [
    {
     "name": "stdout",
     "output_type": "stream",
     "text": [
      "['k']\n",
      "['k', 'ó', 'ú', 'o']\n"
     ]
    }
   ],
   "source": [
    "print(trie_forward.predict_next('macs'))\n",
    "print(trie_forward.predict_next('macs', 4))"
   ]
  },
  {
   "cell_type": "markdown",
   "id": "dfa87e33",
   "metadata": {},
   "source": [
    "A `metrics on string()` végigléptet egy n hosszúságú ablakot az inputsztringen, és kiszámítja a sztringre a karakterenkénti perplexitást és a `predict_next()` által jósolt legvalószínűbb karakter pontosságát (tehát ténylegesen az-e a következő karakter vagy nem).\n",
    "\n",
    "Opcionális egy-egy paddingkaraktert is ad hozzá az elejéhez és a végéhez, ebben az esetben az első karakter valószínűségét a padding után a bigram-modell alapján számolja, aztán a 2. karakter valószínűségét a padding és az 1. után a trigram-modell alapján stb., majd a sztring végéig az összes teljes n-gramét, ami adott esetben 5-gram.\n",
    "\n",
    "Ha nincs padding, akkor csak a teljes 5-gramokat számolja, tehát az első 4 karakterre nem számít becsült valószínűséget és jósolt karaktert."
   ]
  },
  {
   "cell_type": "code",
   "execution_count": 1,
   "id": "a03f5db9",
   "metadata": {},
   "outputs": [
    {
     "name": "stdout",
     "output_type": "stream",
     "text": [
      "A „Tarthatatlan a parkolási helyzet a lakótelepeken” című cikkünkben részletesen bemutattuk, hogy a Budapest sűrűn lakott városrészeiben élő autósok számára egyre többször okoz elemi problémát a parkolóhely-keresés. A folytatásban Ujj Péter Tamás a lehetséges megoldásokat mutatja be. Összefoglalja, mi várható a jövőben, illetve jár-e egyáltalán a parkolóhely az egyre szaporodó autók számára a közterületeken, vagy lassan fel kell hagynunk az eddigi életmódunkkal.\n",
      "Néhány hete részletes cikkben foglalkoztunk az Óbudán kialakult parkolási káosszal, miután kiderült, hogy már a helyi közterület-felügyelet sem minden szabálytalan autót büntet meg, annyira elfogytak a helyek. A cikk megjelenését követően záporoztak az olvasói levelek, és ahogy várható volt, rengetegen szeretnék, ha az érintett hivatalok végre megoldást találnának a súlyosbodó problémára.\n",
      "\n",
      "Tavaly októberben adtunk hírt róla, hogy Mészáros Lőrinc korábbi felesége, Kelemen Beatrix az egykori televíziós műsorvezetővel, Joshi Bharattal alkot egy párt. Most viszont a Story alig pár hónappal később arról számolt be, hogy véget ért kettejük kapcsolata, a lap információi szerint Joshi Bharat már el is költözött abból a budai villából, ahol eddig együtt éltek.\n",
      "Kelemen Beatrix hosszú évekig élt házasságban Mészáros Lőrinccel. A pár 2020 őszén adta be a váló pert, a részletekről, így a vagyonról is hamar megegyeztek. Egy évvel később már arról lehetett hallani, hogy Kelemen Beatrix Joshi Bharattal alkot egy párt.\n",
      "Közben pedig, ki ne tudná, Mészáros Lőrinc is újra szerelmes lett és már újra is nősült. Az ország egyik leggazdagabb embere a TV2 korábbi műsorvezetőjével, Várkonyi Andreával kötötte össze az életét.\n"
     ]
    }
   ],
   "source": [
    "long_string_1 = '''A „Tarthatatlan a parkolási helyzet a lakótelepeken” című cikkünkben részletesen bemutattuk, hogy a Budapest sűrűn lakott városrészeiben élő autósok számára egyre többször okoz elemi problémát a parkolóhely-keresés. A folytatásban Ujj Péter Tamás a lehetséges megoldásokat mutatja be. Összefoglalja, mi várható a jövőben, illetve jár-e egyáltalán a parkolóhely az egyre szaporodó autók számára a közterületeken, vagy lassan fel kell hagynunk az eddigi életmódunkkal.\n",
    "Néhány hete részletes cikkben foglalkoztunk az Óbudán kialakult parkolási káosszal, miután kiderült, hogy már a helyi közterület-felügyelet sem minden szabálytalan autót büntet meg, annyira elfogytak a helyek. A cikk megjelenését követően záporoztak az olvasói levelek, és ahogy várható volt, rengetegen szeretnék, ha az érintett hivatalok végre megoldást találnának a súlyosbodó problémára.'''\n",
    "long_string_2 = '''Tavaly októberben adtunk hírt róla, hogy Mészáros Lőrinc korábbi felesége, Kelemen Beatrix az egykori televíziós műsorvezetővel, Joshi Bharattal alkot egy párt. Most viszont a Story alig pár hónappal később arról számolt be, hogy véget ért kettejük kapcsolata, a lap információi szerint Joshi Bharat már el is költözött abból a budai villából, ahol eddig együtt éltek.\n",
    "Kelemen Beatrix hosszú évekig élt házasságban Mészáros Lőrinccel. A pár 2020 őszén adta be a váló pert, a részletekről, így a vagyonról is hamar megegyeztek. Egy évvel később már arról lehetett hallani, hogy Kelemen Beatrix Joshi Bharattal alkot egy párt.\n",
    "Közben pedig, ki ne tudná, Mészáros Lőrinc is újra szerelmes lett és már újra is nősült. Az ország egyik leggazdagabb embere a TV2 korábbi műsorvezetőjével, Várkonyi Andreával kötötte össze az életét.'''\n",
    "print(long_string_1)\n",
    "print()\n",
    "print(long_string_2)"
   ]
  },
  {
   "cell_type": "code",
   "execution_count": 26,
   "id": "5037e8dd",
   "metadata": {},
   "outputs": [
    {
     "name": "stdout",
     "output_type": "stream",
     "text": [
      "858\n",
      "(0.5831381733021077, 3.744253215919672)\n",
      "(0.5820721769499418, 3.7884149831881415)\n",
      "CPU times: user 628 ms, sys: 8.22 ms, total: 636 ms\n",
      "Wall time: 634 ms\n"
     ]
    }
   ],
   "source": [
    "%%time\n",
    "print(len(long_string_1))\n",
    "print(trie_forward.metrics_on_string(long_string_1))\n",
    "print(trie_forward.metrics_on_string(long_string_1, padded=True))"
   ]
  },
  {
   "cell_type": "code",
   "execution_count": 27,
   "id": "603f8c04",
   "metadata": {},
   "outputs": [
    {
     "name": "stdout",
     "output_type": "stream",
     "text": [
      "825\n",
      "(0.5152253349573691, 4.328136190221757)\n",
      "(0.5145278450363197, 4.335518273647436)\n",
      "CPU times: user 610 ms, sys: 3.73 ms, total: 614 ms\n",
      "Wall time: 612 ms\n"
     ]
    }
   ],
   "source": [
    "%%time\n",
    "print(len(long_string_2))\n",
    "print(trie_forward.metrics_on_string(long_string_2))\n",
    "print(trie_forward.metrics_on_string(long_string_2, padded=True))"
   ]
  },
  {
   "cell_type": "markdown",
   "id": "de7564a2",
   "metadata": {},
   "source": [
    "Lehet a következő karakter előrejelzése nélkül csak a perplexitást is számítani. Ez értelemszerűen minimálisan gyorsabb, mindenesetre az OCR-javításhoz, szemétszűréshez, nyelvfelismeréshez és hasonlókhoz csak erre van szükség. Ez a függvény a paddinggel sem szórakozik, mert az általában nem sokat számít, tehát ha pl. OCR-javításra akarjuk használni, akkor a gyanús részsztringet balra legalább n-1 karakter ablakkal célszerű átadni neki."
   ]
  },
  {
   "cell_type": "code",
   "execution_count": 28,
   "id": "1a97f190",
   "metadata": {},
   "outputs": [
    {
     "name": "stdout",
     "output_type": "stream",
     "text": [
      "(0.5831381733021077, 3.744253215919672)\n",
      "(0.5152253349573691, 4.328136190221757)\n",
      "CPU times: user 628 ms, sys: 23 µs, total: 628 ms\n",
      "Wall time: 627 ms\n"
     ]
    }
   ],
   "source": [
    "%%time\n",
    "print(trie_forward.metrics_on_string(long_string_1))\n",
    "print(trie_forward.metrics_on_string(long_string_2))"
   ]
  },
  {
   "cell_type": "code",
   "execution_count": 29,
   "id": "6e6249cf",
   "metadata": {},
   "outputs": [
    {
     "name": "stdout",
     "output_type": "stream",
     "text": [
      "3.744253215919672\n",
      "4.328136190221757\n",
      "CPU times: user 600 ms, sys: 8 µs, total: 600 ms\n",
      "Wall time: 598 ms\n"
     ]
    }
   ],
   "source": [
    "%%time\n",
    "print(trie_forward.string_perplexity(long_string_1))\n",
    "print(trie_forward.string_perplexity(long_string_2))"
   ]
  },
  {
   "cell_type": "markdown",
   "id": "3d55265d",
   "metadata": {},
   "source": [
    "Ha ezt profilozzuk, jól látszik, hogy a futási idő messze legnagyobb részét a `prefix_count()` rekurzív hívásai teszik ki.\n",
    "\n",
    "Egyébként a jelenlegi már egy teljesítményre optimalizált kód. Amikor első körben megírtam, akkor még vagy ötvenszer ennyi idő alatt futott le, ami használhatatlan volt gyakorlatilag. Sokáig gondolkodtam rajta, hogy hol végez felesleges munkát, és így jutottam el a jelenlegi változathoz."
   ]
  },
  {
   "cell_type": "code",
   "execution_count": 30,
   "id": "2bfe64e8",
   "metadata": {},
   "outputs": [
    {
     "name": "stdout",
     "output_type": "stream",
     "text": [
      "         991967 function calls (650567 primitive calls) in 0.443 seconds\n",
      "\n",
      "   Ordered by: standard name\n",
      "\n",
      "   ncalls  tottime  percall  cumtime  percall filename:lineno(function)\n",
      "        1    0.000    0.000    0.443    0.443 <string>:1(<module>)\n",
      "      855    0.001    0.000    0.001    0.000 more.py:832(windowed)\n",
      "      854    0.055    0.000    0.410    0.000 ngram_model.py:181(estimate_alternatives)\n",
      "      854    0.009    0.000    0.009    0.000 ngram_model.py:219(<dictcomp>)\n",
      "      854    0.001    0.000    0.414    0.000 ngram_model.py:249(backoff_alternatives)\n",
      "        1    0.000    0.000    0.001    0.001 ngram_model.py:288(replace_oov)\n",
      "        1    0.003    0.003    0.443    0.443 ngram_model.py:303(metrics_on_string)\n",
      "    97356    0.007    0.000    0.007    0.000 ngram_model.py:347(<lambda>)\n",
      "439610/98210    0.325    0.000    0.347    0.000 ngram_model.py:98(prefix_count)\n",
      "        1    0.000    0.000    0.443    0.443 {built-in method builtins.exec}\n",
      "   443028    0.022    0.000    0.022    0.000 {built-in method builtins.len}\n",
      "        1    0.000    0.000    0.000    0.000 {built-in method builtins.min}\n",
      "      854    0.017    0.000    0.024    0.000 {built-in method builtins.sorted}\n",
      "      854    0.001    0.000    0.001    0.000 {built-in method builtins.sum}\n",
      "      854    0.000    0.000    0.000    0.000 {built-in method math.log2}\n",
      "        1    0.000    0.000    0.000    0.000 {method 'disable' of '_lsprof.Profiler' objects}\n",
      "      854    0.000    0.000    0.000    0.000 {method 'items' of 'dict' objects}\n",
      "      854    0.000    0.000    0.000    0.000 {method 'join' of 'str' objects}\n",
      "     2566    0.000    0.000    0.000    0.000 {method 'keys' of 'dict' objects}\n",
      "        1    0.000    0.000    0.000    0.000 {method 'read' of '_io.StringIO' objects}\n",
      "        1    0.000    0.000    0.000    0.000 {method 'seek' of '_io.StringIO' objects}\n",
      "      854    0.000    0.000    0.000    0.000 {method 'values' of 'dict' objects}\n",
      "      858    0.000    0.000    0.000    0.000 {method 'write' of '_io.StringIO' objects}\n",
      "\n",
      "\n"
     ]
    }
   ],
   "source": [
    "import cProfile\n",
    "cProfile.run('trie_forward.metrics_on_string(long_string_1)')"
   ]
  },
  {
   "cell_type": "markdown",
   "id": "45dd53cc",
   "metadata": {},
   "source": [
    "## Jobbról balra haladó n-gram-modell"
   ]
  },
  {
   "cell_type": "markdown",
   "id": "5dd8d16f",
   "metadata": {},
   "source": [
    "A modell megfordított sztringeken lett betanítva, ezért az n-gramokat is megfordítva kell neki odaadni inputként."
   ]
  },
  {
   "cell_type": "code",
   "execution_count": 31,
   "id": "eb11bc31",
   "metadata": {},
   "outputs": [
    {
     "data": {
      "text/plain": [
       "0.4487024414014663"
      ]
     },
     "execution_count": 31,
     "metadata": {},
     "output_type": "execute_result"
    }
   ],
   "source": [
    "trie_backward.estimate_prob('macsk'[::-1])"
   ]
  },
  {
   "cell_type": "code",
   "execution_count": 32,
   "id": "884005ea",
   "metadata": {},
   "outputs": [
    {
     "data": {
      "text/plain": [
       "0.4487024414014663"
      ]
     },
     "execution_count": 32,
     "metadata": {},
     "output_type": "execute_result"
    }
   ],
   "source": [
    "trie_backward.estimate_alternatives('macsk'[::-1])['m']"
   ]
  },
  {
   "cell_type": "code",
   "execution_count": 33,
   "id": "179cf57d",
   "metadata": {
    "scrolled": true
   },
   "outputs": [
    {
     "data": {
      "text/plain": [
       "['m', 'z', 'M', 'h', 's']"
      ]
     },
     "execution_count": 33,
     "metadata": {},
     "output_type": "execute_result"
    }
   ],
   "source": [
    "trie_backward.predict_next('acsk'[::-1], 5)"
   ]
  },
  {
   "cell_type": "markdown",
   "id": "d7e36aaf",
   "metadata": {},
   "source": [
    "Az előre és a hátra modell perplexitása majdnem azonos mindkét sztringen."
   ]
  },
  {
   "cell_type": "code",
   "execution_count": 34,
   "id": "c7b7624c",
   "metadata": {},
   "outputs": [
    {
     "name": "stdout",
     "output_type": "stream",
     "text": [
      "(0.5831381733021077, 3.744253215919672)\n",
      "(0.5737704918032787, 3.784722241197091)\n"
     ]
    }
   ],
   "source": [
    "print(trie_forward.metrics_on_string(long_string_1))\n",
    "print(trie_backward.metrics_on_string(long_string_1[::-1]))"
   ]
  },
  {
   "cell_type": "code",
   "execution_count": 35,
   "id": "85ff2948",
   "metadata": {},
   "outputs": [
    {
     "name": "stdout",
     "output_type": "stream",
     "text": [
      "(0.5152253349573691, 4.328136190221757)\n",
      "(0.5505481120584653, 4.314408348738489)\n"
     ]
    }
   ],
   "source": [
    "print(trie_forward.metrics_on_string(long_string_2))\n",
    "print(trie_backward.metrics_on_string(long_string_2[::-1]))"
   ]
  },
  {
   "cell_type": "markdown",
   "id": "a2756a34",
   "metadata": {},
   "source": [
    "Ha elfelejtjük megfordítani az inputot, az azonnal látszik, mert borzalmasan rossz számokat kapunk."
   ]
  },
  {
   "cell_type": "code",
   "execution_count": 36,
   "id": "f297a35b",
   "metadata": {
    "scrolled": false
   },
   "outputs": [
    {
     "name": "stdout",
     "output_type": "stream",
     "text": [
      "(0.0779537149817296, 720.5035030526914)\n"
     ]
    }
   ],
   "source": [
    "print(trie_backward.metrics_on_string(long_string_2))"
   ]
  },
  {
   "cell_type": "markdown",
   "id": "d07cea83",
   "metadata": {},
   "source": [
    "# Kétirányú n-gram-modell"
   ]
  },
  {
   "cell_type": "markdown",
   "id": "3b0e9007",
   "metadata": {},
   "source": [
    "Két egyirányúból példányosítjuk. Az előre és a hátra modellnek azonos ábécén kell alapulnia, más követelmény nincs, így például konkrétan nem kell azonos rendűnek sem lenniük, lehet pl. előre 5-gram-, hátra 3-gram-modell."
   ]
  },
  {
   "cell_type": "code",
   "execution_count": 37,
   "id": "c774d1e2",
   "metadata": {},
   "outputs": [],
   "source": [
    "bi_ngram_model = BiMultiNgramModel(trie_forward, trie_backward)"
   ]
  },
  {
   "cell_type": "markdown",
   "id": "9590e3cd",
   "metadata": {},
   "source": [
    "A két modell összekapcsolását a `combine_alternatives()` metódus végzi, ami az egyirányú modellbeli `estimate_alternatives()` megfelelője, és ahhoz hasonlóan működik. Külön megadunk neki egy előre és egy hátra n-gramot (az utóbbit az átadáskor meg kell fordítani), ezeket backoff stb. szempontjából külön-külön feldolgozza a megfelelő egyirányú modell, majd az ezektől kapott két valószínűségi eloszlást a kulcsok (tehát az n-gramok utolsó eleme) szerint páronként összekapcsolja a választott összekapcsoló függvénnyel, majd az eredményt normalizálja valószínűségi eloszlásra. Ha nem adunk meg összekapcsoló függvényt, az alapértelmezés szerint `sum` függvény lesz, tehát az előre és a hátra modell által az egyes karakterekre becsült valószínűségeket átlagoljuk."
   ]
  },
  {
   "cell_type": "code",
   "execution_count": 38,
   "id": "4c8a452b",
   "metadata": {},
   "outputs": [
    {
     "data": {
      "text/plain": [
       "{'\\x00': 0.00013767875595448775,\n",
       " 'H': 4.242259312272742e-09,\n",
       " 'V': 8.180856199347752e-06,\n",
       " 'G': 3.1244289203836156e-09,\n",
       " ' ': 0.045867380011428746,\n",
       " '9': 1.0408610633787692e-11,\n",
       " '/': 9.834252525464875e-06,\n",
       " '0': 8.413437666872677e-12,\n",
       " '8': 5.3124917666970005e-12,\n",
       " '.': 0.0013120381343120753,\n",
       " 's': 0.0023898830032439175,\n",
       " 'z': 0.008641838005827941,\n",
       " 'á': 7.097315442389541e-09,\n",
       " 'm': 0.00031304039378733244,\n",
       " '1': 8.157153039521859e-11,\n",
       " 'f': 0.00019679037719343346,\n",
       " 'e': 0.0011014337514695315,\n",
       " 'b': 0.0047348888910285535,\n",
       " 'r': 0.0015857417472511215,\n",
       " 'u': 6.884246211834925e-05,\n",
       " '2': 6.960333362839322e-11,\n",
       " '7': 5.5179886958907124e-11,\n",
       " '\\n': 0.00032452848799666443,\n",
       " 'A': 2.1677185107103502e-10,\n",
       " 'ű': 3.024826283770442e-09,\n",
       " 'n': 0.008074118786932432,\n",
       " 'ü': 9.834232409748387e-06,\n",
       " 'l': 0.019906080310504202,\n",
       " 'd': 4.9315066003478194e-05,\n",
       " 'ö': 0.002104517801375226,\n",
       " 'é': 0.013266329452048958,\n",
       " ',': 0.004553232383189455,\n",
       " 'a': 0.001986512507355914,\n",
       " 'y': 1.5088121130771684e-07,\n",
       " 'k': 0.14153327503829918,\n",
       " 'o': 0.0022421976380575144,\n",
       " 't': 0.5096996129861037,\n",
       " 'v': 0.0012603419173624437,\n",
       " 'i': 0.09754947247964442,\n",
       " 'í': 6.514698424558933e-10,\n",
       " 'g': 0.0009644446731099812,\n",
       " 'ő': 1.1128569071632367e-08,\n",
       " 'c': 0.00030895022268077546,\n",
       " 'h': 0.07876218436492156,\n",
       " 'j': 0.02148780275802694,\n",
       " 'ó': 1.8269798326742732e-09,\n",
       " '-': 0.0023503884873825967,\n",
       " 'p': 0.018059672580469952,\n",
       " 'M': 1.1227452695797725e-08,\n",
       " '\"': 7.351481155200068e-16,\n",
       " ':': 0.00011801034254488314,\n",
       " '(': 9.834938646316402e-06,\n",
       " ')': 0.00015734713022592917,\n",
       " 'ú': 2.950260572460005e-05,\n",
       " 'O': 3.554187528093175e-11,\n",
       " 'J': 3.137481241016498e-09,\n",
       " 'B': 0.00015951671021619551,\n",
       " 'P': 4.090198446250271e-06,\n",
       " 'D': 8.180362869771118e-06,\n",
       " '3': 1.4152411496813612e-11,\n",
       " 'R': 6.406015281709126e-09,\n",
       " 'F': 9.247130770474824e-09,\n",
       " 'K': 5.726243498246586e-05,\n",
       " 'C': 1.2313730714674497e-09,\n",
       " 'E': 4.961058201749413e-11,\n",
       " 'T': 0.006986012274908827,\n",
       " 'L': 0.0012884039252975944,\n",
       " '6': 2.1000564136686295e-11,\n",
       " 'x': 1.6961196585133373e-09,\n",
       " '5': 9.45600839844014e-12,\n",
       " 'I': 1.882831203662905e-11,\n",
       " 'N': 1.3781477922051981e-08,\n",
       " 'S': 1.636071966405484e-05,\n",
       " 'Z': 1.0247974793231722e-09,\n",
       " 'Ő': 2.7332798254602617e-13,\n",
       " '4': 1.0057293402167952e-11,\n",
       " 'É': 1.0601639940171252e-11,\n",
       " 'Í': 1.822647407304209e-12,\n",
       " 'Á': 3.6726235747120565e-12,\n",
       " 'U': 7.896422265402463e-12,\n",
       " ';': 1.9668390424144798e-05,\n",
       " 'Ú': 2.4301972889634957e-12,\n",
       " 'Y': 9.199663790863891e-11,\n",
       " 'w': 2.483488418091078e-09,\n",
       " 'Ü': 1.822646842952063e-12,\n",
       " \"'\": 1.769748415949366e-11,\n",
       " 'X': 4.740870576361258e-11,\n",
       " '=': 6.622281267610984e-11,\n",
       " '*': 7.999133403349547e-18,\n",
       " 'W': 1.6401580183655223e-09,\n",
       " '?': 0.00011801034254486533,\n",
       " 'Ö': 3.0924059715486437e-12,\n",
       " 'Ó': 1.4884088447238154e-12,\n",
       " '!': 0.00015734712339314874,\n",
       " 'q': 3.0611032308252072e-12,\n",
       " 'ä': 1.3119014138022756e-12,\n",
       " '„': 5.17105254010932e-11,\n",
       " '”': 4.735537795889009e-10,\n",
       " 'Q': 1.919443293284451e-12,\n",
       " 'Ű': 2.7333039793674144e-14,\n",
       " '&': 2.1865598321325755e-13,\n",
       " '[': 6.723487455040254e-12,\n",
       " ']': 9.834195212072818e-06,\n",
       " 'ë': 2.7332791331302147e-14,\n",
       " '\\x01': 3.447140857082483e-11,\n",
       " '+': 9.787000936420197e-11,\n",
       " '@': 7.770017862016065e-12,\n",
       " '–': 1.1032674388731886e-11,\n",
       " '%': 1.1501902567463685e-17,\n",
       " '>': 2.1264206058550556e-11,\n",
       " '•': 1.0935877342261883e-11,\n",
       " '|': 3.584537573286521e-11,\n",
       " '$': 3.645292521775919e-12,\n",
       " '_': 1.240549495135469e-11}"
      ]
     },
     "execution_count": 38,
     "metadata": {},
     "output_type": "execute_result"
    }
   ],
   "source": [
    "bi_ngram_model.combine_alternatives('lakót', 'telep'[::-1])"
   ]
  },
  {
   "cell_type": "markdown",
   "id": "f7087320",
   "metadata": {},
   "source": [
    "Mivel a két n-gram összes lehetséges alternatívájára számítjuk a valószínűségeket, ezért az előre n-gram utolsó és a hátra n-gram első karakterére teljesen mindegy, hogy mit írunk be, ugyanazt a valószínűségi eloszlást kapjuk vissza."
   ]
  },
  {
   "cell_type": "code",
   "execution_count": 39,
   "id": "e5c013e0",
   "metadata": {},
   "outputs": [
    {
     "data": {
      "text/plain": [
       "{'\\x00': 0.00013767875595448775,\n",
       " 'H': 4.242259312272742e-09,\n",
       " 'V': 8.180856199347752e-06,\n",
       " 'G': 3.1244289203836156e-09,\n",
       " ' ': 0.045867380011428746,\n",
       " '9': 1.0408610633787692e-11,\n",
       " '/': 9.834252525464875e-06,\n",
       " '0': 8.413437666872677e-12,\n",
       " '8': 5.3124917666970005e-12,\n",
       " '.': 0.0013120381343120753,\n",
       " 's': 0.0023898830032439175,\n",
       " 'z': 0.008641838005827941,\n",
       " 'á': 7.097315442389541e-09,\n",
       " 'm': 0.00031304039378733244,\n",
       " '1': 8.157153039521859e-11,\n",
       " 'f': 0.00019679037719343346,\n",
       " 'e': 0.0011014337514695315,\n",
       " 'b': 0.0047348888910285535,\n",
       " 'r': 0.0015857417472511215,\n",
       " 'u': 6.884246211834925e-05,\n",
       " '2': 6.960333362839322e-11,\n",
       " '7': 5.5179886958907124e-11,\n",
       " '\\n': 0.00032452848799666443,\n",
       " 'A': 2.1677185107103502e-10,\n",
       " 'ű': 3.024826283770442e-09,\n",
       " 'n': 0.008074118786932432,\n",
       " 'ü': 9.834232409748387e-06,\n",
       " 'l': 0.019906080310504202,\n",
       " 'd': 4.9315066003478194e-05,\n",
       " 'ö': 0.002104517801375226,\n",
       " 'é': 0.013266329452048958,\n",
       " ',': 0.004553232383189455,\n",
       " 'a': 0.001986512507355914,\n",
       " 'y': 1.5088121130771684e-07,\n",
       " 'k': 0.14153327503829918,\n",
       " 'o': 0.0022421976380575144,\n",
       " 't': 0.5096996129861037,\n",
       " 'v': 0.0012603419173624437,\n",
       " 'i': 0.09754947247964442,\n",
       " 'í': 6.514698424558933e-10,\n",
       " 'g': 0.0009644446731099812,\n",
       " 'ő': 1.1128569071632367e-08,\n",
       " 'c': 0.00030895022268077546,\n",
       " 'h': 0.07876218436492156,\n",
       " 'j': 0.02148780275802694,\n",
       " 'ó': 1.8269798326742732e-09,\n",
       " '-': 0.0023503884873825967,\n",
       " 'p': 0.018059672580469952,\n",
       " 'M': 1.1227452695797725e-08,\n",
       " '\"': 7.351481155200068e-16,\n",
       " ':': 0.00011801034254488314,\n",
       " '(': 9.834938646316402e-06,\n",
       " ')': 0.00015734713022592917,\n",
       " 'ú': 2.950260572460005e-05,\n",
       " 'O': 3.554187528093175e-11,\n",
       " 'J': 3.137481241016498e-09,\n",
       " 'B': 0.00015951671021619551,\n",
       " 'P': 4.090198446250271e-06,\n",
       " 'D': 8.180362869771118e-06,\n",
       " '3': 1.4152411496813612e-11,\n",
       " 'R': 6.406015281709126e-09,\n",
       " 'F': 9.247130770474824e-09,\n",
       " 'K': 5.726243498246586e-05,\n",
       " 'C': 1.2313730714674497e-09,\n",
       " 'E': 4.961058201749413e-11,\n",
       " 'T': 0.006986012274908827,\n",
       " 'L': 0.0012884039252975944,\n",
       " '6': 2.1000564136686295e-11,\n",
       " 'x': 1.6961196585133373e-09,\n",
       " '5': 9.45600839844014e-12,\n",
       " 'I': 1.882831203662905e-11,\n",
       " 'N': 1.3781477922051981e-08,\n",
       " 'S': 1.636071966405484e-05,\n",
       " 'Z': 1.0247974793231722e-09,\n",
       " 'Ő': 2.7332798254602617e-13,\n",
       " '4': 1.0057293402167952e-11,\n",
       " 'É': 1.0601639940171252e-11,\n",
       " 'Í': 1.822647407304209e-12,\n",
       " 'Á': 3.6726235747120565e-12,\n",
       " 'U': 7.896422265402463e-12,\n",
       " ';': 1.9668390424144798e-05,\n",
       " 'Ú': 2.4301972889634957e-12,\n",
       " 'Y': 9.199663790863891e-11,\n",
       " 'w': 2.483488418091078e-09,\n",
       " 'Ü': 1.822646842952063e-12,\n",
       " \"'\": 1.769748415949366e-11,\n",
       " 'X': 4.740870576361258e-11,\n",
       " '=': 6.622281267610984e-11,\n",
       " '*': 7.999133403349547e-18,\n",
       " 'W': 1.6401580183655223e-09,\n",
       " '?': 0.00011801034254486533,\n",
       " 'Ö': 3.0924059715486437e-12,\n",
       " 'Ó': 1.4884088447238154e-12,\n",
       " '!': 0.00015734712339314874,\n",
       " 'q': 3.0611032308252072e-12,\n",
       " 'ä': 1.3119014138022756e-12,\n",
       " '„': 5.17105254010932e-11,\n",
       " '”': 4.735537795889009e-10,\n",
       " 'Q': 1.919443293284451e-12,\n",
       " 'Ű': 2.7333039793674144e-14,\n",
       " '&': 2.1865598321325755e-13,\n",
       " '[': 6.723487455040254e-12,\n",
       " ']': 9.834195212072818e-06,\n",
       " 'ë': 2.7332791331302147e-14,\n",
       " '\\x01': 3.447140857082483e-11,\n",
       " '+': 9.787000936420197e-11,\n",
       " '@': 7.770017862016065e-12,\n",
       " '–': 1.1032674388731886e-11,\n",
       " '%': 1.1501902567463685e-17,\n",
       " '>': 2.1264206058550556e-11,\n",
       " '•': 1.0935877342261883e-11,\n",
       " '|': 3.584537573286521e-11,\n",
       " '$': 3.645292521775919e-12,\n",
       " '_': 1.240549495135469e-11}"
      ]
     },
     "execution_count": 39,
     "metadata": {},
     "output_type": "execute_result"
    }
   ],
   "source": [
    "bi_ngram_model.combine_alternatives('lakóp', 'zelep'[::-1])"
   ]
  },
  {
   "cell_type": "markdown",
   "id": "07b3a52d",
   "metadata": {},
   "source": [
    "Tetszőleges függvényt megadhatunk, ami kételemű listából értelmezhető numerikus eredményt ad, pl. össze is szorozhatjuk a két külön becsült valószínűséget, vagy számolhatjuk a harmonikus közepüket."
   ]
  },
  {
   "cell_type": "code",
   "execution_count": 40,
   "id": "ac7ba22f",
   "metadata": {},
   "outputs": [
    {
     "data": {
      "text/plain": [
       "{'\\x00': 1.337648372080904e-13,\n",
       " 'H': 4.763290958722882e-18,\n",
       " 'V': 1.7772330328685344e-13,\n",
       " 'G': 2.6308211943262398e-18,\n",
       " ' ': 0.00013460366280637813,\n",
       " '9': 1.139846206354772e-21,\n",
       " '/': 2.382409237517969e-14,\n",
       " '0': 7.299507725424648e-22,\n",
       " '8': 2.5688652187552125e-22,\n",
       " '.': 2.2612748870452182e-07,\n",
       " 's': 1.753206000848735e-08,\n",
       " 'z': 2.4945432438140932e-05,\n",
       " 'á': 1.930312705443978e-17,\n",
       " 'm': 1.0541281428331091e-07,\n",
       " '1': 1.0593410586522519e-20,\n",
       " 'f': 8.851758018383823e-10,\n",
       " 'e': 1.8099766248432653e-10,\n",
       " 'b': 0.00015362387495778778,\n",
       " 'r': 8.160992073546652e-07,\n",
       " 'u': 9.007574626359783e-12,\n",
       " '2': 4.480774742222206e-21,\n",
       " '7': 5.190371118222622e-21,\n",
       " '\\n': 6.309805753100165e-13,\n",
       " 'A': 4.948013424223668e-19,\n",
       " 'ű': 1.7783608183758933e-18,\n",
       " 'n': 8.344761283819867e-08,\n",
       " 'ü': 1.5462369920181e-14,\n",
       " 'l': 1.653280977565993e-05,\n",
       " 'd': 2.9947730512778723e-10,\n",
       " 'ö': 2.3121298691665802e-12,\n",
       " 'é': 6.222371220472896e-11,\n",
       " ',': 6.164977953717139e-17,\n",
       " 'a': 4.260949259843597e-10,\n",
       " 'y': 5.576327872599458e-16,\n",
       " 'k': 0.004212024025691987,\n",
       " 'o': 1.0706812961646849e-10,\n",
       " 't': 0.9954317800353059,\n",
       " 'v': 2.1082562856662184e-06,\n",
       " 'i': 1.686435007864776e-05,\n",
       " 'í': 2.3736483071476445e-18,\n",
       " 'g': 2.630219737036807e-06,\n",
       " 'ő': 7.034120926802869e-16,\n",
       " 'c': 5.270640714165546e-08,\n",
       " 'h': 3.8256197810721085e-07,\n",
       " 'j': 7.831012945761942e-08,\n",
       " 'ó': 3.329936880984431e-17,\n",
       " '-': 1.5728439133426542e-09,\n",
       " 'p': 3.121579468131594e-06,\n",
       " 'M': 2.4394982893398885e-17,\n",
       " '\"': 9.410805700772739e-31,\n",
       " ':': 1.2151491526943671e-19,\n",
       " '(': 3.090315387206785e-13,\n",
       " ')': 4.5444143777166786e-14,\n",
       " 'ú': 2.5051084257163188e-14,\n",
       " 'O': 1.3324409101871299e-20,\n",
       " 'J': 1.4452393608172255e-18,\n",
       " 'B': 2.498840062171539e-13,\n",
       " 'P': 4.726683598054612e-15,\n",
       " 'D': 7.14254410372697e-15,\n",
       " '3': 7.517089205701729e-22,\n",
       " 'R': 5.9021152339960955e-18,\n",
       " 'F': 1.0182380219634058e-17,\n",
       " 'K': 9.558404609399327e-14,\n",
       " 'C': 2.748419773161545e-18,\n",
       " 'E': 2.5997477514397015e-20,\n",
       " 'T': 7.355559977879297e-12,\n",
       " 'L': 1.4558185482008205e-12,\n",
       " '6': 2.6741465801796067e-21,\n",
       " 'x': 2.1739548320523104e-19,\n",
       " '5': 5.20089925436506e-22,\n",
       " 'I': 3.710817052338472e-21,\n",
       " 'N': 1.377893400666715e-17,\n",
       " 'S': 2.4368679883303777e-14,\n",
       " 'Z': 1.8345628166072058e-19,\n",
       " 'Ő': 1.9197176295059003e-28,\n",
       " '4': 7.208263878856839e-22,\n",
       " 'É': 1.1931887628097983e-22,\n",
       " 'Í': 9.154164770602965e-29,\n",
       " 'Á': 4.2112544569757585e-24,\n",
       " 'U': 5.615005942634345e-22,\n",
       " ';': 1.384554021537883e-21,\n",
       " 'Ú': 2.393599799275217e-28,\n",
       " 'Y': 1.2575063464118205e-25,\n",
       " 'w': 4.1422888483610954e-17,\n",
       " 'Ü': 4.806320530316949e-29,\n",
       " \"'\": 3.1114151679622557e-21,\n",
       " 'X': 7.757832585492175e-21,\n",
       " '=': 1.3769612356174829e-28,\n",
       " '*': 1.1141995780328899e-34,\n",
       " 'W': 2.9407540810933134e-19,\n",
       " '?': 3.2659411656911163e-20,\n",
       " 'Ö': 7.018757428292931e-24,\n",
       " 'Ó': 1.4037514856585862e-23,\n",
       " '!': 2.448641580190251e-20,\n",
       " 'q': 2.0623457275709895e-27,\n",
       " 'ä': 3.804153477175231e-28,\n",
       " '„': 3.296218706968752e-26,\n",
       " '”': 5.467612036640193e-21,\n",
       " 'Q': 3.369003565580607e-23,\n",
       " 'Ű': 2.198757654073517e-30,\n",
       " '&': 6.368660619652002e-29,\n",
       " '[': 7.919877977763999e-27,\n",
       " ']': 5.202951976052056e-22,\n",
       " 'ë': 1.9117194289624406e-30,\n",
       " '\\x01': 1.1648329827994948e-20,\n",
       " '+': 2.2600398919103232e-22,\n",
       " '@': 4.351629605541617e-22,\n",
       " '–': 5.390405704928971e-22,\n",
       " '%': 2.3036499090561038e-34,\n",
       " '>': 1.5205550977108103e-28,\n",
       " '•': 1.2815808253982814e-29,\n",
       " '|': 1.3753279582167855e-28,\n",
       " '$': 1.2880840351859542e-29,\n",
       " '_': 9.068234597354468e-22}"
      ]
     },
     "execution_count": 40,
     "metadata": {},
     "output_type": "execute_result"
    }
   ],
   "source": [
    "multiply = lambda x: x[0] * x[1]\n",
    "bi_ngram_model.combine_alternatives('lakóp', 'zelep'[::-1], combine_function=multiply)"
   ]
  },
  {
   "cell_type": "code",
   "execution_count": 41,
   "id": "c7da7078",
   "metadata": {},
   "outputs": [
    {
     "data": {
      "text/plain": [
       "{'\\x00': 4.791232883040705e-10,\n",
       " 'H': 5.537097200823365e-10,\n",
       " 'V': 1.0713166790851864e-08,\n",
       " 'G': 4.1523402329463514e-10,\n",
       " ' ': 0.0014471888004790763,\n",
       " '9': 5.400397703609621e-11,\n",
       " '/': 1.1946680711752337e-09,\n",
       " '0': 4.278507912901896e-11,\n",
       " '8': 2.3845986685818305e-11,\n",
       " '.': 8.499221549475826e-05,\n",
       " 's': 3.6176667341664355e-06,\n",
       " 'z': 0.0014234989935525758,\n",
       " 'á': 1.341237877518072e-09,\n",
       " 'm': 0.00016606009247757954,\n",
       " '1': 6.404267201245744e-11,\n",
       " 'f': 2.21818581337544e-06,\n",
       " 'e': 8.103764918485307e-08,\n",
       " 'b': 0.016000043802501005,\n",
       " 'r': 0.00025379481465717755,\n",
       " 'u': 6.452436260046918e-08,\n",
       " '2': 3.174646107970814e-11,\n",
       " '7': 4.638631294294664e-11,\n",
       " '\\n': 9.588163074259369e-10,\n",
       " 'A': 1.125641850685129e-09,\n",
       " 'ű': 2.8992902269799735e-10,\n",
       " 'n': 5.09672300637434e-06,\n",
       " 'ü': 7.753679402490972e-10,\n",
       " 'l': 0.0004095747411375496,\n",
       " 'd': 2.9947222286457543e-06,\n",
       " 'ö': 5.417911029963247e-10,\n",
       " 'é': 2.3130093448300056e-09,\n",
       " ',': 6.67703973024538e-15,\n",
       " 'a': 1.0577604078805957e-07,\n",
       " 'y': 1.822574911015894e-09,\n",
       " 'k': 0.014675892841588042,\n",
       " 'o': 2.3548246524372186e-08,\n",
       " 't': 0.9630957059456982,\n",
       " 'v': 0.0008249113359703191,\n",
       " 'i': 8.525442550767015e-05,\n",
       " 'í': 1.7967775145469468e-09,\n",
       " 'g': 0.0013448906124399428,\n",
       " 'ő': 3.117042709649079e-08,\n",
       " 'c': 8.412927540637283e-05,\n",
       " 'h': 2.3952800683859653e-06,\n",
       " 'j': 1.7972073314294204e-06,\n",
       " 'ó': 8.988236614149538e-09,\n",
       " '-': 3.3000325480288656e-07,\n",
       " 'p': 8.523869099759311e-05,\n",
       " 'M': 1.0714984137624116e-09,\n",
       " '\"': 6.312831640204463e-16,\n",
       " ':': 5.077872194951363e-16,\n",
       " '(': 1.5495421628078844e-08,\n",
       " ')': 1.4242667880139458e-10,\n",
       " 'ú': 4.1873416874244675e-10,\n",
       " 'O': 1.8487571574169587e-10,\n",
       " 'J': 2.2715949347826992e-10,\n",
       " 'B': 7.725107366826481e-10,\n",
       " 'P': 5.698812928607255e-10,\n",
       " 'D': 4.305787676293447e-10,\n",
       " '3': 2.6193377671009268e-11,\n",
       " 'R': 4.543514962937404e-10,\n",
       " 'F': 5.430184166822879e-10,\n",
       " 'K': 8.231668019865224e-10,\n",
       " 'C': 1.100691622308e-09,\n",
       " 'E': 2.584217943343384e-10,\n",
       " 'T': 5.192286467151126e-10,\n",
       " 'L': 5.572209771441304e-10,\n",
       " '6': 6.279520695568212e-11,\n",
       " 'x': 6.32071600098025e-11,\n",
       " '5': 2.7123319541817718e-11,\n",
       " 'I': 9.719197447397294e-11,\n",
       " 'N': 4.930512621858368e-10,\n",
       " 'S': 7.345169940098866e-10,\n",
       " 'Z': 8.828090707752157e-11,\n",
       " 'Ő': 3.4635822544123386e-16,\n",
       " '4': 3.5344496988974996e-11,\n",
       " 'É': 5.550196417403028e-12,\n",
       " 'Í': 2.4767850158619207e-17,\n",
       " 'Á': 5.654670643081272e-13,\n",
       " 'U': 3.50664744327795e-11,\n",
       " ';': 3.4714693349966823e-17,\n",
       " 'Ú': 4.8571582818745755e-17,\n",
       " 'Y': 6.740785041442531e-16,\n",
       " 'w': 8.225276180009723e-09,\n",
       " 'Ü': 1.30041643942117e-17,\n",
       " \"'\": 8.669991680760294e-11,\n",
       " 'X': 8.06964727924862e-11,\n",
       " '=': 1.0253835362422615e-18,\n",
       " '*': 6.868980736917519e-18,\n",
       " 'W': 8.841893212251467e-11,\n",
       " '?': 1.3647733530357533e-16,\n",
       " 'Ö': 1.119272873725801e-12,\n",
       " 'Ó': 4.650934628306829e-12,\n",
       " '!': 7.674298028280488e-17,\n",
       " 'q': 3.3224292692483985e-16,\n",
       " 'ä': 1.4299770863095248e-16,\n",
       " '„': 3.143469984772464e-16,\n",
       " '”': 5.693779339389553e-12,\n",
       " 'Q': 8.655625006968036e-12,\n",
       " 'Ű': 3.966995237906884e-17,\n",
       " '&': 1.4363457348534815e-16,\n",
       " '[': 5.808929959185509e-16,\n",
       " ']': 2.609055039436053e-17,\n",
       " 'ë': 3.449152659211998e-17,\n",
       " '\\x01': 1.666390871862362e-10,\n",
       " '+': 1.1387770956577928e-12,\n",
       " '@': 2.7618631405751725e-11,\n",
       " '–': 2.4094221630655212e-11,\n",
       " '%': 9.876863303808284e-18,\n",
       " '>': 3.5263485619255815e-18,\n",
       " '•': 5.779158677634022e-19,\n",
       " '|': 1.8921056521001715e-18,\n",
       " '$': 1.7425452371244565e-18,\n",
       " '_': 3.604797714754901e-11}"
      ]
     },
     "execution_count": 41,
     "metadata": {},
     "output_type": "execute_result"
    }
   ],
   "source": [
    "harmonic_mean = lambda x: 2 / (1 / x[0] + 1 / x[1])\n",
    "bi_ngram_model.combine_alternatives('lakóp', 'zelep'[::-1], combine_function=harmonic_mean)"
   ]
  },
  {
   "cell_type": "markdown",
   "id": "c5542ca6",
   "metadata": {},
   "source": [
    "A kényelmi metódusok lényegében megegyeznek az egyirányú modellben rendelkezésre állókkal, de a paramétereik eltérnek annak következtében, hogy kétirányú a modell.\n",
    "\n",
    "A `predict_next()` metódusnak a keresett középső elemtől balra és jobbra eső (n-1)-gramot kell átadni, és az utóbbit meg kell fordítani."
   ]
  },
  {
   "cell_type": "code",
   "execution_count": 42,
   "id": "93d485ff",
   "metadata": {},
   "outputs": [
    {
     "name": "stdout",
     "output_type": "stream",
     "text": [
      "['t']\n",
      "['d', 't', 'l', 'z']\n"
     ]
    }
   ],
   "source": [
    "print(bi_ngram_model.predict_next('lakó', 'elep'[::-1]))\n",
    "print(bi_ngram_model.predict_next('egol', 'ást '[::-1], m=4))"
   ]
  },
  {
   "cell_type": "markdown",
   "id": "812bc29e",
   "metadata": {},
   "source": [
    "Az `estimate_prob()` metódus ugyanúgy képes kezelni olyan helyzeteket, amikor rövidebb vagy hosszabb bal vagy jobb n-gramot adunk át neki a két egyirányú modell rendjénél, mint ahogy a metódus egyirányú megfelelője is tudja ezeket kezelni, viszont ahhoz, hogy tudja, hogy melyik karakter valószínűségét kell megbecsülnie, ilyen helyzetekben meg kell adni a kérdéses elem indexét második vagy nevesített argumentumként.\n",
    "\n",
    "Ha ezt nem tesszük meg, alapértelmezés szerint az n-edik elem valószínűségét becsüli meg, ahol n az előre modell rendje."
   ]
  },
  {
   "cell_type": "code",
   "execution_count": 43,
   "id": "3a0631f6",
   "metadata": {},
   "outputs": [
    {
     "name": "stdout",
     "output_type": "stream",
     "text": [
      "9\n",
      "0.5419201827236841\n",
      "0.5419201827236841\n",
      "0.45670667893237255\n",
      "0.47380608207172187\n",
      "0.14087125462165861\n",
      "0.4133456382486001\n"
     ]
    }
   ],
   "source": [
    "print(len('egoldást '))\n",
    "print(bi_ngram_model.estimate_prob('egoldást '))\n",
    "print(bi_ngram_model.estimate_prob('egoldást ', 4)) # d\n",
    "print(bi_ngram_model.estimate_prob('egoldást ', 3)) # l\n",
    "print(bi_ngram_model.estimate_prob('egoldást ', 2)) # o\n",
    "\n",
    "print(bi_ngram_model.estimate_prob('macskát', 3)) # s\n",
    "print(bi_ngram_model.estimate_prob('macskát')) # k"
   ]
  },
  {
   "cell_type": "markdown",
   "id": "d1be6bad",
   "metadata": {},
   "source": [
    "A `metrics_on_string()` metódus hasonlóan egy ablakot léptet végig a sztringet, és lépésenként az előre és hátra n-gram metszéspontjában levő karaktert értékeli ki.\n",
    "\n",
    "Ha van padding, akkor nemcsak az elején értékeli ki az első karaktert a padding utáni bigram, a másodikat a trigram stb. alapján, hanem ugyanezt csinálja fordítva a sztring végén is. Ha nincs padding, akkor simán teljes ablakokat léptet."
   ]
  },
  {
   "cell_type": "code",
   "execution_count": 44,
   "id": "e2683aa9",
   "metadata": {},
   "outputs": [
    {
     "name": "stdout",
     "output_type": "stream",
     "text": [
      "(0.5831381733021077, 3.744253215919672)\n",
      "(0.5737704918032787, 3.784722241197091)\n",
      "CPU times: user 636 ms, sys: 11.6 ms, total: 647 ms\n",
      "Wall time: 646 ms\n"
     ]
    }
   ],
   "source": [
    "%%time\n",
    "print(trie_forward.metrics_on_string(long_string_1))\n",
    "print(trie_backward.metrics_on_string(long_string_1[::-1]))"
   ]
  },
  {
   "cell_type": "code",
   "execution_count": 45,
   "id": "454ea4cd",
   "metadata": {},
   "outputs": [
    {
     "name": "stdout",
     "output_type": "stream",
     "text": [
      "(0.7356181150550796, 2.982173827104181)\n",
      "CPU times: user 699 ms, sys: 0 ns, total: 699 ms\n",
      "Wall time: 698 ms\n"
     ]
    }
   ],
   "source": [
    "%%time\n",
    "print(bi_ngram_model.metrics_on_string(long_string_2))"
   ]
  },
  {
   "cell_type": "markdown",
   "id": "16b70856",
   "metadata": {},
   "source": [
    "Perplexitások különböző összekapcsoló függvényekre. Úgy tűnik, ezek közül következetesen a **szorzás** adja a legjobb eredményeket mind pontosságra, mind perplexitásra nézve, illetve a pontossága nyilván megegyezik a mértani középével. A tanulság az, hogy tényleg érdemes különböző összekapcsoló függvényekkel kísérletezni."
   ]
  },
  {
   "cell_type": "code",
   "execution_count": 46,
   "id": "d7e678b5",
   "metadata": {},
   "outputs": [],
   "source": [
    "geometric_mean = lambda x: (x[0] * x[1]) ** 2\n",
    "max_squared = lambda x: max(x) ** 2"
   ]
  },
  {
   "cell_type": "code",
   "execution_count": 47,
   "id": "e5fcfb09",
   "metadata": {},
   "outputs": [
    {
     "name": "stdout",
     "output_type": "stream",
     "text": [
      "(0.8058823529411765, 2.630060632382658)\n",
      "(0.7705882352941177, 2.928863960323583)\n",
      "(0.7705882352941177, 2.1839104337061452)\n",
      "(0.8623529411764705, 1.5094330610760718)\n",
      "(0.8623529411764705, 1.7145876208025843)\n",
      "(0.8247058823529412, 1.7446173300756533)\n"
     ]
    }
   ],
   "source": [
    "print(bi_ngram_model.metrics_on_string(long_string_1)) # sum\n",
    "print(bi_ngram_model.metrics_on_string(long_string_1, combine_function=max))\n",
    "print(bi_ngram_model.metrics_on_string(long_string_1, combine_function=max_squared))\n",
    "print(bi_ngram_model.metrics_on_string(long_string_1, combine_function=multiply))\n",
    "print(bi_ngram_model.metrics_on_string(long_string_1, combine_function=geometric_mean))\n",
    "print(bi_ngram_model.metrics_on_string(long_string_1, combine_function=harmonic_mean))"
   ]
  },
  {
   "cell_type": "code",
   "execution_count": 48,
   "id": "909afc98",
   "metadata": {
    "scrolled": true
   },
   "outputs": [
    {
     "name": "stdout",
     "output_type": "stream",
     "text": [
      "(0.7356181150550796, 2.982173827104181)\n",
      "(0.6988984088127295, 3.322779019968607)\n",
      "(0.6988984088127295, 2.609475595243155)\n",
      "(0.7968176254589964, 1.7982801627641019)\n",
      "(0.7968176254589964, 2.273808259070984)\n",
      "(0.7723378212974297, 2.052976764170971)\n"
     ]
    }
   ],
   "source": [
    "print(bi_ngram_model.metrics_on_string(long_string_2)) # sum\n",
    "print(bi_ngram_model.metrics_on_string(long_string_2, combine_function=max))\n",
    "print(bi_ngram_model.metrics_on_string(long_string_2, combine_function=max_squared))\n",
    "print(bi_ngram_model.metrics_on_string(long_string_2, combine_function=multiply))\n",
    "print(bi_ngram_model.metrics_on_string(long_string_2, combine_function=geometric_mean))\n",
    "print(bi_ngram_model.metrics_on_string(long_string_2, combine_function=harmonic_mean))"
   ]
  },
  {
   "cell_type": "markdown",
   "id": "ccf67c99",
   "metadata": {},
   "source": [
    "Azt is kiírathatjuk, hogy az egész sztringben melyik karaktereket jelzi rendre előre legvalószínűbbként a modell:"
   ]
  },
  {
   "cell_type": "code",
   "execution_count": 49,
   "id": "db775e88",
   "metadata": {},
   "outputs": [
    {
     "name": "stdout",
     "output_type": "stream",
     "text": [
      "A „Tarthatatlan a parkolási helyzet a lakótelepeken” című cikkünkben részletesen bemutattuk, hogy a Budapest sűrűn lakott városrészeiben élő autósok számára egyre többször okoz elemi problémát a parkolóhely-keresés. A folytatásban Ujj Péter Tamás a lehetséges megoldásokat mutatja be. Összefoglalja, mi várható a jövőben, illetve jár-e egyáltalán a parkolóhely az egyre szaporodó autók számára a közterületeken, vagy lassan fel kell hagynunk az eddigi életmódunkkal.\n",
      "Néhány hete részletes cikkben foglalkoztunk az Óbudán kialakult parkolási káosszal, miután kiderült, hogy már a helyi közterület-felügyelet sem minden szabálytalan autót büntet meg, annyira elfogytak a helyek. A cikk megjelenését követően záporoztak az olvasói levelek, és ahogy várható volt, rengetegen szeretnék, ha az érintett hivatalok végre megoldást találnának a súlyosbodó problémára.\n"
     ]
    }
   ],
   "source": [
    "print(long_string_1)"
   ]
  },
  {
   "cell_type": "code",
   "execution_count": 50,
   "id": "47ab99e1",
   "metadata": {},
   "outputs": [
    {
     "name": "stdout",
     "output_type": "stream",
     "text": [
      "A  talthatatlan a puslolósa helyeet a lakoteletetet  című cikkünk en részzeteten bemutatjak, hogy a Budapest sűrűs lakost várásrészetben eső autósok számára egyre többször ohaz lllm  problémák a purkol hály keresig. A folytatásban UUh méter Tamás m levetségit megoldások t mutat a ae. összefoglalka  hi válható a jövőben  ellette aátte egyáltat l a purkol mely a  egy e szaborodá aatók számára a ks kereletebet  vagy laosan vel kell hagytink a  eddig  életmudunk al. némány lele részzetet ciekeen foglalkoztank a  Ózudan kialakult puslolósa khrszzat, m után kikerült, hogy más a helye ks kerelet feligyelet nem minden szabolytttan a tót bentet megt ennyite e fogaai  a helyet. A cikk megjelenéret követben zarorodaat a  olvashi lehenett és  hogy válható volt   endedeget szerették, ho a  erent tt hivatalos végte megoldást taráltinak a súlyoskídi problémál k\n"
     ]
    },
    {
     "data": {
      "text/plain": [
       "(0.8018648018648019, 2.7088778690523965)"
      ]
     },
     "execution_count": 50,
     "metadata": {},
     "output_type": "execute_result"
    }
   ],
   "source": [
    "bi_ngram_model.metrics_on_string(long_string_1, print_string=True, padded=True)"
   ]
  },
  {
   "cell_type": "code",
   "execution_count": 51,
   "id": "e37f3f4e",
   "metadata": {},
   "outputs": [
    {
     "name": "stdout",
     "output_type": "stream",
     "text": [
      "A ktarthatatlan a partolása helyzet a lakiteletetet, című cikkünkben részletesen bemutatjak, hogy a budapest serűs lakost városrészetben eső autósok számára egyre többször okaz ellmb problémák a parkolókály keretég. A folytatásban ajh Péter Tamás m levetséget megoldásokat mutat a be. Összefoglalta, aa válható a jövőben, ellette aátte egyáltatál a parkolókely az egyse szaborodt aztók számára a köztereletetet, vagy lassan vel kell hagytink az eddigi lletlódunkkal. Némány keli részletet cikkben foglalkottank az ezudan kialakula partolása kroszzat, miután kikerült, hogy más a helye közterelet felegyeket nem minden szabolytatan aztót tentet megt annyita elfogltik a helyet. A ciák megjelenéset követsen zasorodnat az olvasni lesenett és ahogy válható volta hengedegek szerették, ha az erintott hivatalos végre megoldást tanáltinak a súlyossodi problémál K\n"
     ]
    },
    {
     "data": {
      "text/plain": [
       "(0.8578088578088578, 1.5973799384302159)"
      ]
     },
     "execution_count": 51,
     "metadata": {},
     "output_type": "execute_result"
    }
   ],
   "source": [
    "bi_ngram_model.metrics_on_string(long_string_1, combine_function=multiply, print_string=True, padded=True)"
   ]
  },
  {
   "cell_type": "markdown",
   "id": "ed5fa72c",
   "metadata": {},
   "source": [
    "## OCR-hibák, nem magyar szöveg"
   ]
  },
  {
   "cell_type": "code",
   "execution_count": 13,
   "id": "c4e861a0",
   "metadata": {},
   "outputs": [
    {
     "name": "stdout",
     "output_type": "stream",
     "text": [
      "A Matáv Adományvonal lehetővé teszi, hogy ön egyszerűen és gyorsan juttasson célba adományt, míg a nonprofit szervezetek pályázati úton, rövid idő alatt juthatnak nagyobb összegekhez egészségmegőrző, szociális es gyógyító programjaikhoz.\n",
      "A MatPv AdomPny vonal /hl^'etVvö tesiri, hgyy ön egyszerűen és gyorsan UittUssson cáia adományt, míg a non-profit szervezetek pályázati úton, dVvdJ kföalatt uutaatnak nagobür összegekhez ^fS^^e^í^zö, tooPPHs és gyógyító'programjaihhzz.\n"
     ]
    }
   ],
   "source": [
    "string1_correct = \"A Matáv Adományvonal lehetővé teszi, hogy ön egyszerűen és gyorsan juttasson célba adományt, míg a nonprofit szervezetek pályázati úton, rövid idő alatt juthatnak nagyobb összegekhez egészségmegőrző, szociális es gyógyító programjaikhoz.\"\n",
    "string1_ocr = \"A MatPv AdomPny vonal /hl^'etVvö tesiri, hgyy ön egyszerűen és gyorsan UittUssson cáia adományt, míg a non-profit szervezetek pályázati úton, dVvdJ kföalatt uutaatnak nagobür összegekhez ^fS^^e^í^zö, tooPPHs és gyógyító'programjaihhzz.\"\n",
    "print(string1_correct)\n",
    "print(string1_ocr)"
   ]
  },
  {
   "cell_type": "code",
   "execution_count": 53,
   "id": "12c3b19a",
   "metadata": {},
   "outputs": [
    {
     "name": "stdout",
     "output_type": "stream",
     "text": [
      "(0.8209606986899564, 2.564246492735871)\n",
      "(0.46255506607929514, 25.62730166071084)\n"
     ]
    }
   ],
   "source": [
    "print(bi_ngram_model.metrics_on_string(string1_correct))\n",
    "print(bi_ngram_model.metrics_on_string(string1_ocr))"
   ]
  },
  {
   "cell_type": "markdown",
   "id": "83375473",
   "metadata": {},
   "source": [
    "Összeadással is szépen különválik a jó és az OCR-hibás szöveg perplexitása, de szorzással még jobban:"
   ]
  },
  {
   "cell_type": "code",
   "execution_count": 54,
   "id": "eb6ddb73",
   "metadata": {},
   "outputs": [
    {
     "name": "stdout",
     "output_type": "stream",
     "text": [
      "(0.8384279475982532, 1.5190116169969372)\n",
      "(0.5022026431718062, 319.6578162054826)\n"
     ]
    }
   ],
   "source": [
    "print(bi_ngram_model.metrics_on_string(string1_correct, combine_function=multiply))\n",
    "print(bi_ngram_model.metrics_on_string(string1_ocr, combine_function=multiply))"
   ]
  },
  {
   "cell_type": "code",
   "execution_count": 14,
   "id": "f3bc0fd4",
   "metadata": {},
   "outputs": [
    {
     "name": "stdout",
     "output_type": "stream",
     "text": [
      "Környezetvédelem, közlekedés - Budapest fuldoklik a szennyezéstől és a közlekedési du- - A főváros mindent megtesz azért, hogy vonzóbbá tegye góktól. a tömegközlekedést (a 4-es és 5-ös metró megépítésének kezdeményezése) \n",
      "K^t^r^yt^zz^t^i^tédielem, közlekedés - Budapest fuldoklik a szennyezéstől és a közlekedési du- - A főváros mindent megtesz azért, hogy vonzóbbá tegye góktól. a tömegközlekedést (a 4-es és 5-ös metró megépítésének kezdeményezése) \n"
     ]
    }
   ],
   "source": [
    "string2_good_ocr = \"Környezetvédelem, közlekedés - Budapest fuldoklik a szennyezéstől és a közlekedési du- - A főváros mindent megtesz azért, hogy vonzóbbá tegye góktól.\ta tömegközlekedést (a 4-es és 5-ös metró megépítésének kezdeményezése)\t\".replace('\\t', ' ')\n",
    "string2_bad_ocr = \"K^t^r^yt^zz^t^i^tédielem, közlekedés - Budapest fuldoklik a szennyezéstől és a közlekedési du-\t- A főváros mindent megtesz azért, hogy vonzóbbá tegye góktól.\ta tömegközlekedést (a 4-es és 5-ös metró megépítésének kezdeményezése)\t\".replace('\\t', ' ')\n",
    "print(string2_good_ocr)\n",
    "print(string2_bad_ocr)"
   ]
  },
  {
   "cell_type": "code",
   "execution_count": 56,
   "id": "f1fbc04e",
   "metadata": {},
   "outputs": [
    {
     "name": "stdout",
     "output_type": "stream",
     "text": [
      "(0.7605633802816901, 3.1477087801617234)\n",
      "(0.6877828054298643, 5.251298562043095)\n"
     ]
    }
   ],
   "source": [
    "print(bi_ngram_model.metrics_on_string(string2_good_ocr))\n",
    "print(bi_ngram_model.metrics_on_string(string2_bad_ocr))"
   ]
  },
  {
   "cell_type": "code",
   "execution_count": 57,
   "id": "85af42f4",
   "metadata": {},
   "outputs": [
    {
     "name": "stdout",
     "output_type": "stream",
     "text": [
      "(0.8169014084507042, 2.148832287267806)\n",
      "(0.746606334841629, 6.035245541728297)\n"
     ]
    }
   ],
   "source": [
    "print(bi_ngram_model.metrics_on_string(string2_good_ocr, combine_function=multiply))\n",
    "print(bi_ngram_model.metrics_on_string(string2_bad_ocr, combine_function=multiply))"
   ]
  },
  {
   "cell_type": "markdown",
   "id": "34db92e9",
   "metadata": {},
   "source": [
    "Az alábbiak azok a rövid OCR-hibás sztringek, amikre panaszkodtam a 15-ös issue-ban, hogy a nyelvfelismerők kiváló magyar szövegként azonosítják őket, illetve még rosszabbnak látják a hibátlan magyar szöveget, mint a rontottat. A nyelvmodell szépen jelzi, hogy a hibás szöveg nem magyar, míg a helyes szöveg az."
   ]
  },
  {
   "cell_type": "code",
   "execution_count": 15,
   "id": "acfef0b6",
   "metadata": {},
   "outputs": [
    {
     "ename": "NameError",
     "evalue": "name 'bi_ngram_model' is not defined",
     "output_type": "error",
     "traceback": [
      "\u001b[0;31m---------------------------------------------------------------------------\u001b[0m",
      "\u001b[0;31mNameError\u001b[0m                                 Traceback (most recent call last)",
      "Input \u001b[0;32mIn [15]\u001b[0m, in \u001b[0;36m<cell line: 4>\u001b[0;34m()\u001b[0m\n\u001b[1;32m      1\u001b[0m string3_correct \u001b[38;5;241m=\u001b[39m \u001b[38;5;124m\"\u001b[39m\u001b[38;5;124mértékesítő iroda nyitvatartása: hétfő-péntek 8-19h\u001b[39m\u001b[38;5;124m\"\u001b[39m\n\u001b[1;32m      2\u001b[0m string3_ocr \u001b[38;5;241m=\u001b[39m \u001b[38;5;124m\"\u001b[39m\u001b[38;5;124mértíkesítto Iroda m\u001b[39m\u001b[38;5;124m'\u001b[39m\u001b[38;5;124mitfatartdsa: Mjü-ln)Hl<rk 8-19b\u001b[39m\u001b[38;5;124m\"\u001b[39m\n\u001b[0;32m----> 4\u001b[0m \u001b[38;5;28mprint\u001b[39m(\u001b[43mbi_ngram_model\u001b[49m\u001b[38;5;241m.\u001b[39mmetrics_on_string(string3_correct, combine_function\u001b[38;5;241m=\u001b[39mmultiply))\n\u001b[1;32m      5\u001b[0m \u001b[38;5;28mprint\u001b[39m(bi_ngram_model\u001b[38;5;241m.\u001b[39mmetrics_on_string(string3_ocr, combine_function\u001b[38;5;241m=\u001b[39mmultiply))\n",
      "\u001b[0;31mNameError\u001b[0m: name 'bi_ngram_model' is not defined"
     ]
    }
   ],
   "source": [
    "string3_correct = \"értékesítő iroda nyitvatartása: hétfő-péntek 8-19h\"\n",
    "string3_ocr = \"értíkesítto Iroda m'itfatartdsa: Mjü-ln)Hl<rk 8-19b\"\n",
    "\n",
    "print(bi_ngram_model.metrics_on_string(string3_correct, combine_function=multiply))\n",
    "print(bi_ngram_model.metrics_on_string(string3_ocr, combine_function=multiply))"
   ]
  },
  {
   "cell_type": "code",
   "execution_count": 16,
   "id": "4934ce25",
   "metadata": {},
   "outputs": [
    {
     "ename": "NameError",
     "evalue": "name 'bi_ngram_model' is not defined",
     "output_type": "error",
     "traceback": [
      "\u001b[0;31m---------------------------------------------------------------------------\u001b[0m",
      "\u001b[0;31mNameError\u001b[0m                                 Traceback (most recent call last)",
      "Input \u001b[0;32mIn [16]\u001b[0m, in \u001b[0;36m<cell line: 4>\u001b[0;34m()\u001b[0m\n\u001b[1;32m      1\u001b[0m string4 \u001b[38;5;241m=\u001b[39m \u001b[38;5;124m\"\u001b[39m\u001b[38;5;124maz Átadva az  to^a KeaeáéNt AaaéWkéFedAa cat (atwNtaaA. aww^y\u001b[39m\u001b[38;5;124m\"\u001b[39m\n\u001b[1;32m      2\u001b[0m string5 \u001b[38;5;241m=\u001b[39m \u001b[38;5;124m\"\u001b[39m\u001b[38;5;124mA a L ét • a  ffc Mkm bML A hWiWWHK1**(re a nMtjjww áHő\u001b[39m\u001b[38;5;124m\"\u001b[39m\n\u001b[0;32m----> 4\u001b[0m \u001b[38;5;28mprint\u001b[39m(\u001b[43mbi_ngram_model\u001b[49m\u001b[38;5;241m.\u001b[39mmetrics_on_string(string4, combine_function\u001b[38;5;241m=\u001b[39mmultiply))\n\u001b[1;32m      5\u001b[0m \u001b[38;5;28mprint\u001b[39m(bi_ngram_model\u001b[38;5;241m.\u001b[39mmetrics_on_string(string5, combine_function\u001b[38;5;241m=\u001b[39mmultiply))\n",
      "\u001b[0;31mNameError\u001b[0m: name 'bi_ngram_model' is not defined"
     ]
    }
   ],
   "source": [
    "string4 = \"az Átadva az  to^a KeaeáéNt AaaéWkéFedAa cat (atwNtaaA. aww^y\"\n",
    "string5 = \"A a L ét • a  ffc Mkm bML A hWiWWHK1**(re a nMtjjww áHő\"\n",
    "\n",
    "print(bi_ngram_model.metrics_on_string(string4, combine_function=multiply))\n",
    "print(bi_ngram_model.metrics_on_string(string5, combine_function=multiply))"
   ]
  },
  {
   "cell_type": "markdown",
   "id": "9e04d694",
   "metadata": {},
   "source": [
    "Nem magyar nyelvű szöveg felismerésére is jól használhatók a modellek. Míg a magyar szöveg karakterenkénti perplexitása összekapcsoló függvénytől függően 1-4 körül mozog, az angolé 10 felett van. Látványos, hogy a nem emberi nyelven írt OCR-hibás szemét drasztikusan rosszabb perplexitást kap, mint az emberi nyelven írt szöveg."
   ]
  },
  {
   "cell_type": "code",
   "execution_count": 60,
   "id": "743ed0d3",
   "metadata": {},
   "outputs": [
    {
     "name": "stdout",
     "output_type": "stream",
     "text": [
      "Day Three of PAX East 2022 is done and dusted for another year, which means it's time for another daily round-up video. We had another jam-packed schedule today, checking out Dome Keeper (formerly known as Ludum Dare darling Dome Romantik) over on the Raw Fury booth, before heading over to the PAX Rising Showcase to check out a specially curated selection of upcoming indie games.\n",
      "(0.37967914438502676, 10.597837912956956)\n",
      "(0.44919786096256686, 16.246758630922756)\n"
     ]
    }
   ],
   "source": [
    "string_en = \"Day Three of PAX East 2022 is done and dusted for another year, which means it's time for another daily round-up video. We had another jam-packed schedule today, checking out Dome Keeper (formerly known as Ludum Dare darling Dome Romantik) over on the Raw Fury booth, before heading over to the PAX Rising Showcase to check out a specially curated selection of upcoming indie games.\"\n",
    "print(string_en)\n",
    "print(bi_ngram_model.metrics_on_string(string_en))\n",
    "print(bi_ngram_model.metrics_on_string(string_en, combine_function=multiply))"
   ]
  },
  {
   "cell_type": "markdown",
   "id": "3ba07669",
   "metadata": {},
   "source": [
    "Végül a szemétszűrő. Soronként előbb megnézzük, hogy melyik milyen perplexitást kap."
   ]
  },
  {
   "cell_type": "code",
   "execution_count": 17,
   "id": "df4f2efc",
   "metadata": {},
   "outputs": [],
   "source": [
    "long_ocr_string = '''HIRDETÉS\n",
    "Fotó: MTI\n",
    "UTOLSÓ HELYEINK\n",
    "FANTASZTIKUS KÓ/no tours\n",
    "Fialj Janos Petrányi Judit Rónai Egon Nagy ibolya Bornemissza Tamas\n",
    "í •f&lMíh•ErKft\tiíföfaíj<4^410\n",
    "TUNÉZIA -október\n",
    "X nap/7 éj IO nap/9 éj hotel*** fp.-vnl 59 900 I t/ífttöi 74 900 I vrőtól hotel**** fp.-vwl 74 900 It/fölől X4 900 JVfőtrtl hotel.....n».-vnl X9 900 It/fótól 99 900 I VfMól\n",
    "DJERBA - október\n",
    "üdülés, hotel*•• fp.-val:\t79 900 Fl/főtől\n",
    "korutuzas ♦ üdülés Djerba szigetén,\n",
    "hotel***:\t114 900 Ft/főt ől\n",
    "HURGHADA -október\n",
    "X nap hottf**** fp.-val\t69 900 H/fótól\n",
    "botéi***** fp.-val\t96 900 Fl/főtől\n",
    "Nílusi hajóul közvetlen chalerjarultal. 5* m luxuslupóval: 129 900 Ftíőtől\n",
    "TH-: 2M»-O<.*2. 2M-OH33 TH.: .M2-O.MO. .152-WM* MTI. l«Mr«l 44M. nd.\n",
    "ajánlaton Portugália .bombaáron* 'épülő, 7 nap teljes p.. X. 14-20.. 21-27 189 900 Ft/« DáFSpanyolorazág-Marokkó. rep. 13 nap\n",
    "3/4* száll, fél. ill, teljes p. X. 28-XI 9. 349 900 Ft/« Prága-Kariovy Vary, busz 5 nap fp„ X. 19-23.39 900-47 900 Ft/« München, Sörfesztivál, busz, 3 nap reggeli, IX. 27-29.. X. 4-6 29 900 R/«\n",
    "Cseh várak, városok ét kastélyok, busz, 7 nap reggelt. X. 22-28.. 54 900 Ft/R Rótna-Nápoly-Pompejl, busz, 6 nap reggeli, X, 22-27 66 900 R/W Advent Steyrben, busz, 2 nap fp„ XI. 30.. XII. 1 . XII. 14 . 25 900 R/K Szilveszter az OPATIJAI RIVIERÄN busz, 4 nap fp„ XII. 30 53 900 Ft/« ♦ kdt. szilv. vacsora ' jelentkezés' szekszárdi irodánknál (74)* 5ÍV-955; és több száz vidéki és budapesti partnerünknél toltour@toln8.net, www.toltour.lolna.net\n",
    "Eng. szám R01963 1999\n",
    "Prwim Póton Laak\n",
    "– Fittségi kompiét tesztelés (aUckepevseg. «leti mozjékoaysag)\n",
    "– Csoportot es egyéni tiiucsadzs (alzklonnilzsrol, testi panaszok- ml eWmodroi, helyes táplálkozásról)\n",
    "TAéton pArari, hi^wlóáá. ftáadun bntfto. ma. euaa. ftanz^UKKJ.\n",
    "HASTAMCTANULÁ8 |«t «rakat Joli Jtott\ttetor tartja)\n",
    "Hbrlmcv krtagm ahaayoMi trabaUaa\n",
    "PEJKÓ Lovaspanzió. Csongrád Mobd: 106-201921-8004«Tel !ai. (06-1) 349-3650\n",
    "* A szeptemberi időponthoz további 10% engedmény'\n",
    "A Kereskedelmi és Hitelbank Rt letétkezelésében lévő alapok nettó eszközérték Ft (egy jegy re jutó nettó eszközérték) adatai:\n",
    "2002. október 4-én:\n",
    "Aranyhal 359 906 570 (2,584)\n",
    "2002. október 2-án:\n",
    "Első Hazai Lakásalap 51 789 494 (9 691)\n",
    "Mély fájdalommal tudatjuk mindazokkal, akik ismerték és szerették, hogy KÜSTEL RICHÁRD oki. elektromérnök, közgazdász életének 78. évében, hősiesen viselt súlyos betegségben 2002. szeptember 19-én elhunyt.\n",
    "Végső búcsúztatása a Farkasréti temetőben lesz október 10-én 10.30 órakor. A gyászoló család.\n",
    "A szeptember 28-al keresztrejtvény nyertese:\n",
    "Zics Lajos, 1135 Budapest\n",
    "Nyereményét, a Nagy Képes Világőrténet, és a Magyarország családjai CD-Romot, postázzuk!\n",
    "Gratulálunk a nyereményhez!'''"
   ]
  },
  {
   "cell_type": "code",
   "execution_count": 62,
   "id": "b5d2d7ee",
   "metadata": {
    "scrolled": true
   },
   "outputs": [
    {
     "name": "stdout",
     "output_type": "stream",
     "text": [
      "Fotó: MTI\n",
      "\t (0.0, 2.6380338031396504)\n",
      "UTOLSÓ HELYEINK\n",
      "\t (0.42857142857142855, 33.301556438236425)\n",
      "FANTASZTIKUS KÓ/no tours\n",
      "\t (0.3125, 103.46043610157908)\n",
      "Fialj Janos Petrányi Judit Rónai Egon Nagy ibolya Bornemissza Tamas\n",
      "\t (0.6271186440677966, 6.3401560317263606)\n",
      "í •f&lMíh•ErKft\tiíföfaíj<4^410\n",
      "\t (0.045454545454545456, 47118715.74202395)\n",
      "TUNÉZIA -október\n",
      "\t (0.5, 12.210995846406016)\n",
      "X nap/7 éj IO nap/9 éj hotel*** fp.-vnl 59 900 I t/ífttöi 74 900 I vrőtól hotel**** fp.-vwl 74 900 It/fölől X4 900 JVfőtrtl hotel.....n».-vnl X9 900 It/fótól 99 900 I VfMól\n",
      "\t (0.2926829268292683, 1401.7067711706945)\n",
      "DJERBA - október\n",
      "\t (0.625, 14.955936618620552)\n",
      "üdülés, hotel*•• fp.-val:\t79 900 Fl/főtől\n",
      "\t (0.3939393939393939, 1304.1916205091559)\n",
      "korutuzas ♦ üdülés Djerba szigetén,\n",
      "\t (0.4444444444444444, 64.1692913931725)\n",
      "hotel***:\t114 900 Ft/főt ől\n",
      "\t (0.3684210526315789, 1174.0245871020159)\n",
      "HURGHADA -október\n",
      "\t (0.3333333333333333, 31.23847172618334)\n",
      "X nap hottf**** fp.-val\t69 900 H/fótól\n",
      "\t (0.2, 2000.3507414559447)\n",
      "botéi***** fp.-val\t96 900 Fl/főtől\n",
      "\t (0.23076923076923078, 2039.3918782027094)\n",
      "Nílusi hajóul közvetlen chalerjarultal. 5* m luxuslupóval: 129 900 Ftíőtől\n",
      "\t (0.45454545454545453, 55.57413745768618)\n",
      "TH-: 2M»-O<.*2. 2M-OH33 TH.: .M2-O.MO. .152-WM* MTI. l«Mr«l 44M. nd.\n",
      "\t (0.13333333333333333, 119269.42627733572)\n",
      "ajánlaton Portugália .bombaáron* 'épülő, 7 nap teljes p.. X. 14-20.. 21-27 189 900 Ft/« DáFSpanyolorazág-Marokkó. rep. 13 nap\n",
      "\t (0.48717948717948717, 66.23237700742224)\n",
      "3/4* száll, fél. ill, teljes p. X. 28-XI 9. 349 900 Ft/« Prága-Kariovy Vary, busz 5 nap fp„ X. 19-23.39 900-47 900 Ft/« München, Sörfesztivál, busz, 3 nap reggeli, IX. 27-29.. X. 4-6 29 900 R/«\n",
      "\t (0.4972972972972973, 26.09281873686627)\n",
      "Cseh várak, városok ét kastélyok, busz, 7 nap reggelt. X. 22-28.. 54 900 Ft/R Rótna-Nápoly-Pompejl, busz, 6 nap reggeli, X, 22-27 66 900 R/W Advent Steyrben, busz, 2 nap fp„ XI. 30.. XII. 1 . XII. 14 . 25 900 R/K Szilveszter az OPATIJAI RIVIERÄN busz, 4 nap fp„ XII. 30 53 900 Ft/« ♦ kdt. szilv. vacsora ' jelentkezés' szekszárdi irodánknál (74)* 5ÍV-955; és több száz vidéki és budapesti partnerünknél toltour@toln8.net, www.toltour.lolna.net\n",
      "\t (0.542528735632184, 40.034350721342065)\n",
      "Eng. szám R01963 1999\n",
      "\t (0.46153846153846156, 93.51246970413771)\n",
      "Prwim Póton Laak\n",
      "\t (0.375, 1274.496249511944)\n",
      "– Fittségi kompiét tesztelés (aUckepevseg. «leti mozjékoaysag)\n",
      "\t (0.35185185185185186, 184.15422815297532)\n",
      "– Csoportot es egyéni tiiucsadzs (alzklonnilzsrol, testi panaszok- ml eWmodroi, helyes táplálkozásról)\n",
      "\t (0.46808510638297873, 71.48534258089734)\n",
      "TAéton pArari, hi^wlóáá. ftáadun bntfto. ma. euaa. ftanz^UKKJ.\n",
      "\t (0.14814814814814814, 9544.817413075027)\n",
      "HASTAMCTANULÁ8 |«t «rakat Joli Jtott\ttetor tartja)\n",
      "\t (0.23809523809523808, 11225.356937483739)\n",
      "Hbrlmcv krtagm ahaayoMi trabaUaa\n",
      "\t (0.08333333333333333, 10180.510882433944)\n",
      "PEJKÓ Lovaspanzió. Csongrád Mobd: 106-201921-8004«Tel !ai. (06-1) 349-3650\n",
      "\t (0.3787878787878788, 299.1247306695785)\n",
      "* A szeptemberi időponthoz további 10% engedmény'\n",
      "\t (0.9024390243902439, 1.5648542356726869)\n",
      "A Kereskedelmi és Hitelbank Rt letétkezelésében lévő alapok nettó eszközérték Ft (egy jegy re jutó nettó eszközérték) adatai:\n",
      "\t (0.7350427350427351, 3.0391442471613606)\n",
      "2002. október 4-én:\n",
      "\t (0.9090909090909091, 1.439625993835486)\n",
      "Aranyhal 359 906 570 (2,584)\n",
      "\t (0.3, 26.808834822079874)\n",
      "2002. október 2-án:\n",
      "\t (0.9090909090909091, 1.1880397121979542)\n",
      "Első Hazai Lakásalap 51 789 494 (9 691)\n",
      "\t (0.41935483870967744, 15.880840395867748)\n",
      "Mély fájdalommal tudatjuk mindazokkal, akik ismerték és szerették, hogy KÜSTEL RICHÁRD oki. elektromérnök, közgazdász életének 78. évében, hősiesen viselt súlyos betegségben 2002. szeptember 19-én elhunyt.\n",
      "\t (0.7918781725888325, 2.479004951096471)\n",
      "Végső búcsúztatása a Farkasréti temetőben lesz október 10-én 10.30 órakor. A gyászoló család.\n",
      "\t (0.8235294117647058, 1.6209947169020056)\n",
      "A szeptember 28-al keresztrejtvény nyertese:\n",
      "\t (0.7777777777777778, 2.0855193054917556)\n",
      "Zics Lajos, 1135 Budapest\n",
      "\t (0.8235294117647058, 2.4226017658186008)\n",
      "Nyereményét, a Nagy Képes Világőrténet, és a Magyarország családjai CD-Romot, postázzuk!\n",
      "\t (0.675, 3.661845271876318)\n",
      "Gratulálunk a nyereményhez!\n",
      "\t (0.8947368421052632, 1.3019049228616995)\n"
     ]
    }
   ],
   "source": [
    "for line in long_ocr_string.split('\\n'):\n",
    "    if len(line) < 9:\n",
    "        continue\n",
    "    print(line)\n",
    "    print('\\t', bi_ngram_model.metrics_on_string(line, combine_function=multiply))"
   ]
  },
  {
   "cell_type": "markdown",
   "id": "51cfcd7f",
   "metadata": {},
   "source": [
    "Ezek alapján legyen mondjuk 5 a küszöbérték."
   ]
  },
  {
   "cell_type": "code",
   "execution_count": 63,
   "id": "4ddd6e26",
   "metadata": {},
   "outputs": [
    {
     "name": "stdout",
     "output_type": "stream",
     "text": [
      "Fotó: MTI\n",
      "\t 2.6380338031396504\n",
      "* A szeptemberi időponthoz további 10% engedmény'\n",
      "\t 1.5648542356726869\n",
      "A Kereskedelmi és Hitelbank Rt letétkezelésében lévő alapok nettó eszközérték Ft (egy jegy re jutó nettó eszközérték) adatai:\n",
      "\t 3.0391442471613606\n",
      "2002. október 4-én:\n",
      "\t 1.439625993835486\n",
      "2002. október 2-án:\n",
      "\t 1.1880397121979542\n",
      "Mély fájdalommal tudatjuk mindazokkal, akik ismerték és szerették, hogy KÜSTEL RICHÁRD oki. elektromérnök, közgazdász életének 78. évében, hősiesen viselt súlyos betegségben 2002. szeptember 19-én elhunyt.\n",
      "\t 2.479004951096471\n",
      "Végső búcsúztatása a Farkasréti temetőben lesz október 10-én 10.30 órakor. A gyászoló család.\n",
      "\t 1.6209947169020056\n",
      "A szeptember 28-al keresztrejtvény nyertese:\n",
      "\t 2.0855193054917556\n",
      "Zics Lajos, 1135 Budapest\n",
      "\t 2.4226017658186008\n",
      "Nyereményét, a Nagy Képes Világőrténet, és a Magyarország családjai CD-Romot, postázzuk!\n",
      "\t 3.661845271876318\n",
      "Gratulálunk a nyereményhez!\n",
      "\t 1.3019049228616995\n"
     ]
    }
   ],
   "source": [
    "for line in long_ocr_string.split('\\n'):\n",
    "    if len(line) < 9:\n",
    "        continue\n",
    "    perpl = bi_ngram_model.metrics_on_string(line, combine_function=multiply)[1]\n",
    "    if perpl < 5:\n",
    "        print(line)\n",
    "        print('\\t', perpl)"
   ]
  },
  {
   "cell_type": "code",
   "execution_count": 64,
   "id": "96ac6dbc",
   "metadata": {},
   "outputs": [
    {
     "name": "stdout",
     "output_type": "stream",
     "text": [
      "UTOLSÓ HELYEINK\n",
      "\t 33.301556438236425\n",
      "FANTASZTIKUS KÓ/no tours\n",
      "\t 103.46043610157908\n",
      "Fialj Janos Petrányi Judit Rónai Egon Nagy ibolya Bornemissza Tamas\n",
      "\t 6.3401560317263606\n",
      "í •f&lMíh•ErKft\tiíföfaíj<4^410\n",
      "\t 47118715.74202395\n",
      "TUNÉZIA -október\n",
      "\t 12.210995846406016\n",
      "X nap/7 éj IO nap/9 éj hotel*** fp.-vnl 59 900 I t/ífttöi 74 900 I vrőtól hotel**** fp.-vwl 74 900 It/fölől X4 900 JVfőtrtl hotel.....n».-vnl X9 900 It/fótól 99 900 I VfMól\n",
      "\t 1401.7067711706945\n",
      "DJERBA - október\n",
      "\t 14.955936618620552\n",
      "üdülés, hotel*•• fp.-val:\t79 900 Fl/főtől\n",
      "\t 1304.1916205091559\n",
      "korutuzas ♦ üdülés Djerba szigetén,\n",
      "\t 64.1692913931725\n",
      "hotel***:\t114 900 Ft/főt ől\n",
      "\t 1174.0245871020159\n",
      "HURGHADA -október\n",
      "\t 31.23847172618334\n",
      "X nap hottf**** fp.-val\t69 900 H/fótól\n",
      "\t 2000.3507414559447\n",
      "botéi***** fp.-val\t96 900 Fl/főtől\n",
      "\t 2039.3918782027094\n",
      "Nílusi hajóul közvetlen chalerjarultal. 5* m luxuslupóval: 129 900 Ftíőtől\n",
      "\t 55.57413745768618\n",
      "TH-: 2M»-O<.*2. 2M-OH33 TH.: .M2-O.MO. .152-WM* MTI. l«Mr«l 44M. nd.\n",
      "\t 119269.42627733572\n",
      "ajánlaton Portugália .bombaáron* 'épülő, 7 nap teljes p.. X. 14-20.. 21-27 189 900 Ft/« DáFSpanyolorazág-Marokkó. rep. 13 nap\n",
      "\t 66.23237700742224\n",
      "3/4* száll, fél. ill, teljes p. X. 28-XI 9. 349 900 Ft/« Prága-Kariovy Vary, busz 5 nap fp„ X. 19-23.39 900-47 900 Ft/« München, Sörfesztivál, busz, 3 nap reggeli, IX. 27-29.. X. 4-6 29 900 R/«\n",
      "\t 26.09281873686627\n",
      "Cseh várak, városok ét kastélyok, busz, 7 nap reggelt. X. 22-28.. 54 900 Ft/R Rótna-Nápoly-Pompejl, busz, 6 nap reggeli, X, 22-27 66 900 R/W Advent Steyrben, busz, 2 nap fp„ XI. 30.. XII. 1 . XII. 14 . 25 900 R/K Szilveszter az OPATIJAI RIVIERÄN busz, 4 nap fp„ XII. 30 53 900 Ft/« ♦ kdt. szilv. vacsora ' jelentkezés' szekszárdi irodánknál (74)* 5ÍV-955; és több száz vidéki és budapesti partnerünknél toltour@toln8.net, www.toltour.lolna.net\n",
      "\t 40.034350721342065\n",
      "Eng. szám R01963 1999\n",
      "\t 93.51246970413771\n",
      "Prwim Póton Laak\n",
      "\t 1274.496249511944\n",
      "– Fittségi kompiét tesztelés (aUckepevseg. «leti mozjékoaysag)\n",
      "\t 184.15422815297532\n",
      "– Csoportot es egyéni tiiucsadzs (alzklonnilzsrol, testi panaszok- ml eWmodroi, helyes táplálkozásról)\n",
      "\t 71.48534258089734\n",
      "TAéton pArari, hi^wlóáá. ftáadun bntfto. ma. euaa. ftanz^UKKJ.\n",
      "\t 9544.817413075027\n",
      "HASTAMCTANULÁ8 |«t «rakat Joli Jtott\ttetor tartja)\n",
      "\t 11225.356937483739\n",
      "Hbrlmcv krtagm ahaayoMi trabaUaa\n",
      "\t 10180.510882433944\n",
      "PEJKÓ Lovaspanzió. Csongrád Mobd: 106-201921-8004«Tel !ai. (06-1) 349-3650\n",
      "\t 299.1247306695785\n",
      "Aranyhal 359 906 570 (2,584)\n",
      "\t 26.808834822079874\n",
      "Első Hazai Lakásalap 51 789 494 (9 691)\n",
      "\t 15.880840395867748\n"
     ]
    }
   ],
   "source": [
    "for line in long_ocr_string.split('\\n'):\n",
    "    if len(line) < 9:\n",
    "        continue\n",
    "    perpl = bi_ngram_model.metrics_on_string(line, combine_function=multiply)[1]\n",
    "    if perpl > 5:\n",
    "        print(line)\n",
    "        print('\\t', perpl)"
   ]
  },
  {
   "cell_type": "markdown",
   "id": "7ed7dc05",
   "metadata": {},
   "source": [
    "Ez így szerintem kielégítő eredmény. Úgy tűnik, valami nem jó a padding opcióban, nagyon elrontja a padding nélkül hibátlannak ítélt sorok mért perplexitását is. Bug lehet benne valahol, majd keressem meg alkalomadtán."
   ]
  },
  {
   "cell_type": "markdown",
   "id": "77e35fa2",
   "metadata": {},
   "source": [
    "## Perplexitás mérése viszonylag nagy fájlon"
   ]
  },
  {
   "cell_type": "code",
   "execution_count": 65,
   "id": "1180ba2a",
   "metadata": {},
   "outputs": [],
   "source": [
    "with open(\"test_files/1.press_hu_nem_007.txt\", encoding='utf-8') as infile:\n",
    "    very_long_string = infile.read()"
   ]
  },
  {
   "cell_type": "code",
   "execution_count": 66,
   "id": "3ebfb4e6",
   "metadata": {},
   "outputs": [
    {
     "name": "stdout",
     "output_type": "stream",
     "text": [
      "9011378\n",
      "1138944\n"
     ]
    }
   ],
   "source": [
    "print(len(very_long_string))\n",
    "print(len(very_long_string.split(' ')))"
   ]
  },
  {
   "cell_type": "markdown",
   "id": "3a12b3b7",
   "metadata": {},
   "source": [
    "Tehát durván egymillió szó."
   ]
  },
  {
   "cell_type": "code",
   "execution_count": 67,
   "id": "6cc265d7",
   "metadata": {},
   "outputs": [
    {
     "name": "stdout",
     "output_type": "stream",
     "text": [
      "CPU times: user 2h 2min 59s, sys: 540 ms, total: 2h 2min 59s\n",
      "Wall time: 2h 3min 4s\n"
     ]
    },
    {
     "data": {
      "text/plain": [
       "(0.7690967078257801, 2.820009236706759)"
      ]
     },
     "execution_count": 67,
     "metadata": {},
     "output_type": "execute_result"
    }
   ],
   "source": [
    "%%time\n",
    "bi_ngram_model.metrics_on_string(very_long_string)"
   ]
  },
  {
   "cell_type": "code",
   "execution_count": 68,
   "id": "e64dfacc",
   "metadata": {
    "scrolled": true
   },
   "outputs": [
    {
     "name": "stdout",
     "output_type": "stream",
     "text": [
      "CPU times: user 2h 2min 44s, sys: 448 ms, total: 2h 2min 45s\n",
      "Wall time: 2h 2min 49s\n"
     ]
    },
    {
     "data": {
      "text/plain": [
       "(0.832808773804649, 1.706981702239145)"
      ]
     },
     "execution_count": 68,
     "metadata": {},
     "output_type": "execute_result"
    }
   ],
   "source": [
    "%%time\n",
    "bi_ngram_model.metrics_on_string(very_long_string, combine_function=multiply)"
   ]
  },
  {
   "cell_type": "markdown",
   "id": "418960cc",
   "metadata": {},
   "source": [
    "Tehát bő 1 millió szóra 2 óra alatt fut le, ez praktikusan nem igazán használható, ellenben a pontossága nagyon jó.\n",
    "Arra is érdemes gondolni, hogy a perplexitás elméleti minimuma 1 (az egy olyan nyelvmodell és szöveg, ahol a modell mindig teljes biztonsággal és helyesen meg tudja mondani, hogy mi a következő elem), amihez az 1,7 már egész szépen kezd közelíteni."
   ]
  },
  {
   "cell_type": "markdown",
   "id": "847dd933",
   "metadata": {},
   "source": [
    "# Kétirányú LSTM"
   ]
  },
  {
   "cell_type": "markdown",
   "id": "4ee32050",
   "metadata": {},
   "source": [
    "A modell példányosításához szükség van egy input- és egy outputkarakter-kódoló objektumra, ezekből a konstruktor előállít egy `lstm_model.BiLSTM_Encoder` objektumot, és azt adattagként tárolja a modellobjektumban. Emellett meg kell adni, hogy a bal és a jobb kontextust feldolgozó két LSTM-réteg hány karaktert dolgozzon fel, tehát hány lépést tegyen meg, mielőtt kiírná outputként az állapotát.\n",
    "\n",
    "Adott esetben a 15, 15 azt jelenti, hogy a megjósolandó középső karaktertől balra 15 karaktert olvas be (előre), és jobbra is 15 karaktert olvas be (visszafele)."
   ]
  },
  {
   "cell_type": "code",
   "execution_count": 2,
   "id": "5fa084df",
   "metadata": {},
   "outputs": [
    {
     "name": "stderr",
     "output_type": "stream",
     "text": [
      "2022-11-18 01:38:47.418600: I tensorflow/core/platform/cpu_feature_guard.cc:193] This TensorFlow binary is optimized with oneAPI Deep Neural Network Library (oneDNN) to use the following CPU instructions in performance-critical operations:  SSE4.1 SSE4.2 AVX AVX2 FMA\n",
      "To enable them in other operations, rebuild TensorFlow with the appropriate compiler flags.\n",
      "2022-11-18 01:38:48.516789: I tensorflow/stream_executor/cuda/cuda_gpu_executor.cc:980] successful NUMA node read from SysFS had negative value (-1), but there must be at least one NUMA node, so returning NUMA node zero\n",
      "2022-11-18 01:38:48.536832: I tensorflow/stream_executor/cuda/cuda_gpu_executor.cc:980] successful NUMA node read from SysFS had negative value (-1), but there must be at least one NUMA node, so returning NUMA node zero\n",
      "2022-11-18 01:38:48.537307: I tensorflow/stream_executor/cuda/cuda_gpu_executor.cc:980] successful NUMA node read from SysFS had negative value (-1), but there must be at least one NUMA node, so returning NUMA node zero\n",
      "2022-11-18 01:38:48.537938: I tensorflow/core/platform/cpu_feature_guard.cc:193] This TensorFlow binary is optimized with oneAPI Deep Neural Network Library (oneDNN) to use the following CPU instructions in performance-critical operations:  SSE4.1 SSE4.2 AVX AVX2 FMA\n",
      "To enable them in other operations, rebuild TensorFlow with the appropriate compiler flags.\n",
      "2022-11-18 01:38:48.538434: I tensorflow/stream_executor/cuda/cuda_gpu_executor.cc:980] successful NUMA node read from SysFS had negative value (-1), but there must be at least one NUMA node, so returning NUMA node zero\n",
      "2022-11-18 01:38:48.538818: I tensorflow/stream_executor/cuda/cuda_gpu_executor.cc:980] successful NUMA node read from SysFS had negative value (-1), but there must be at least one NUMA node, so returning NUMA node zero\n",
      "2022-11-18 01:38:48.539193: I tensorflow/stream_executor/cuda/cuda_gpu_executor.cc:980] successful NUMA node read from SysFS had negative value (-1), but there must be at least one NUMA node, so returning NUMA node zero\n",
      "2022-11-18 01:38:48.880598: I tensorflow/stream_executor/cuda/cuda_gpu_executor.cc:980] successful NUMA node read from SysFS had negative value (-1), but there must be at least one NUMA node, so returning NUMA node zero\n",
      "2022-11-18 01:38:48.881006: I tensorflow/stream_executor/cuda/cuda_gpu_executor.cc:980] successful NUMA node read from SysFS had negative value (-1), but there must be at least one NUMA node, so returning NUMA node zero\n",
      "2022-11-18 01:38:48.881341: I tensorflow/stream_executor/cuda/cuda_gpu_executor.cc:980] successful NUMA node read from SysFS had negative value (-1), but there must be at least one NUMA node, so returning NUMA node zero\n",
      "2022-11-18 01:38:48.881653: I tensorflow/core/common_runtime/gpu/gpu_device.cc:1616] Created device /job:localhost/replica:0/task:0/device:GPU:0 with 9842 MB memory:  -> device: 0, name: NVIDIA GeForce RTX 3060, pci bus id: 0000:01:00.0, compute capability: 8.6\n"
     ]
    },
    {
     "name": "stdout",
     "output_type": "stream",
     "text": [
      "Model: \"BiLSTM_Model_v0.2.0>w_15-15_lstm_512_dense_512_dropout_0>>2022-11-18_01.38.48\"\n",
      "__________________________________________________________________________________________________\n",
      " Layer (type)                   Output Shape         Param #     Connected to                     \n",
      "==================================================================================================\n",
      " input_left (InputLayer)        [(None, 15, 80)]     0           []                               \n",
      "                                                                                                  \n",
      " input_right (InputLayer)       [(None, 15, 80)]     0           []                               \n",
      "                                                                                                  \n",
      " mask_left (Masking)            (None, 15, 80)       0           ['input_left[0][0]']             \n",
      "                                                                                                  \n",
      " mask_right (Masking)           (None, 15, 80)       0           ['input_right[0][0]']            \n",
      "                                                                                                  \n",
      " lstm_forward (LSTM)            (None, 512)          1214464     ['mask_left[0][0]']              \n",
      "                                                                                                  \n",
      " lstm_backward (LSTM)           (None, 512)          1214464     ['mask_right[0][0]']             \n",
      "                                                                                                  \n",
      " concatenate (Concatenate)      (None, 1024)         0           ['lstm_forward[0][0]',           \n",
      "                                                                  'lstm_backward[0][0]']          \n",
      "                                                                                                  \n",
      " dense_1 (Dense)                (None, 512)          524800      ['concatenate[0][0]']            \n",
      "                                                                                                  \n",
      " softmax (Dense)                (None, 113)          57969       ['dense_1[0][0]']                \n",
      "                                                                                                  \n",
      "==================================================================================================\n",
      "Total params: 3,011,697\n",
      "Trainable params: 3,011,697\n",
      "Non-trainable params: 0\n",
      "__________________________________________________________________________________________________\n"
     ]
    }
   ],
   "source": [
    "import tensorflow as tf\n",
    "import lstm_model\n",
    "from encode_characters import InputEncoder, OutputEncoder, character_to_features\n",
    "\n",
    "# Ha a következő két sor ki van kommentálva, és a Tensorflow-telepítés támogatja a GPU-n\n",
    "# futtatást, akkor a modell GPU-n fog futni, ami sokkal gyorsabb.\n",
    "# Ha nincs kikommentálva, akkor CPU-n fut, mint ahogy akkor is, ha nincs GPU, vagy\n",
    "# ha a Tensorflow úgy lett telepítve, hogy nem használja a meglévő GPU-t.\n",
    "#tf.config.set_visible_devices([], 'GPU')\n",
    "#visible_devices = tf.config.get_visible_devices()\n",
    "\n",
    "input_enc = InputEncoder(file=\"input_encoder.json\")\n",
    "output_enc = OutputEncoder(file=\"output_encoder.json\")\n",
    "\n",
    "bilstm_model = lstm_model.BiLSTM_Model(input_encoder=input_enc, output_encoder=output_enc,\n",
    "                                       left_context=15, right_context=15)"
   ]
  },
  {
   "cell_type": "markdown",
   "id": "fae77605",
   "metadata": {},
   "source": [
    "Ha nem új üres modellt akarunk betanítani, akkor be lehet tölteni egy korábban mentett modellt a `BiLSTM_Model.load()` metódussal, aminek a modell elérési útvonalát, valamint az input- és outputkarakter-kódolót kell átadni argumentumként. Az utóbbira azért van szükség, mert a mentés csak magát a Keras-modellt menti el, a `BiLSTM_Model` objektum egyéb adattagjait - egyebek mellett a két karakterkódolót - nem. Értelemszerűen a mentett modell betöltésekor ugyanolyan kódolóobjektumokat kell átadni a `load()` metódusnak, mint amilyenekkel be lett tanítva a modell eredetileg (tehát ugyanazt a nyers karaktert ugyanarra a numerikus vektorra fordítsa le).\n",
    "\n",
    "Adott esetben az itt betöltött modell az 512 dimenziós (tehát ekkorák egyenként az LSTM-rétegek és az a teljesen kapcsolt réteg, ami ezeket követi a feldolgozásban. Az viszonylag kézenfekvő, hogy a két LSTM-réteg egyforma nagy legyen, de az semmiből se következik, hogy a dense is ekkora legyen, csak az egyszerűség kedvéért választottam ezt.\n",
    "\n",
    "A végén az összefoglaló kiírja, hogy hány iteráción át lett tanítva a modell. Egy iteráció egy batch feldolgozása, egy batch mérete pedig az alapértelmezett beállítás volt, ami 256. Tehát az 537 ezer azt jelenti, hogy kb. 140 millió karakter, tehát durván 20 millió szó lett feldolgozva a tanítókorpuszból - ami a korpusz egytizede, tehát egytized epoch a teljes tanító adathalmazon - amikor leállítottam a tanítást. (Tanult volna még tovább, csak ennyi a demózáshoz egyelőre elég volt.)"
   ]
  },
  {
   "cell_type": "code",
   "execution_count": 3,
   "id": "d7e90002",
   "metadata": {},
   "outputs": [
    {
     "name": "stdout",
     "output_type": "stream",
     "text": [
      "Loaded model:\n",
      "Model: \"BiLSTM_Model_v0.2.0>bilstm_model_512>\"\n",
      "__________________________________________________________________________________________________\n",
      " Layer (type)                   Output Shape         Param #     Connected to                     \n",
      "==================================================================================================\n",
      " input_left (InputLayer)        [(None, 15, 80)]     0           []                               \n",
      "                                                                                                  \n",
      " input_right (InputLayer)       [(None, 15, 80)]     0           []                               \n",
      "                                                                                                  \n",
      " lstm_forward (LSTM)            (None, 512)          1214464     ['input_left[0][0]']             \n",
      "                                                                                                  \n",
      " lstm_backward (LSTM)           (None, 512)          1214464     ['input_right[0][0]']            \n",
      "                                                                                                  \n",
      " concatenate (Concatenate)      (None, 1024)         0           ['lstm_forward[0][0]',           \n",
      "                                                                  'lstm_backward[0][0]']          \n",
      "                                                                                                  \n",
      " dense (Dense)                  (None, 512)          524800      ['concatenate[0][0]']            \n",
      "                                                                                                  \n",
      " dropout (Dropout)              (None, 512)          0           ['dense[0][0]']                  \n",
      "                                                                                                  \n",
      " output (Dense)                 (None, 113)          57969       ['dropout[0][0]']                \n",
      "                                                                                                  \n",
      "==================================================================================================\n",
      "Total params: 3,011,697\n",
      "Trainable params: 3,011,697\n",
      "Non-trainable params: 0\n",
      "__________________________________________________________________________________________________\n"
     ]
    }
   ],
   "source": [
    "bilstm_model = lstm_model.BiLSTM_Model.load('bilstm_model_512.h5',\n",
    "                                            input_enc, output_enc)"
   ]
  },
  {
   "cell_type": "markdown",
   "id": "8311c624",
   "metadata": {},
   "source": [
    "## A sztringkódoló"
   ]
  },
  {
   "cell_type": "markdown",
   "id": "1fa6a2ff",
   "metadata": {},
   "source": [
    "A tanításra és predikcióra szolgáló inputszövegeket a kódolóobjektum alakítja át numerikus Numpy-tömbökké, amik átadhatóak bemenetként a Keras-modellnek. A fenti összefoglalóban látszik, hogy a modell két darab k x 15 x 80 dimenziós tenzort vár bemenetként, ahol k az adatpontok (tehát a feldolgozandó célkarakterek) száma, 15 a kontextusablak szélessége, 80 pedig az inputkarakterek kódjának a hossza.\n",
    "\n",
    "A teljes inputkarakter-kódtáblázat így épül fel olvasható formában:"
   ]
  },
  {
   "cell_type": "code",
   "execution_count": 4,
   "id": "b7b6ca8b",
   "metadata": {},
   "outputs": [
    {
     "name": "stdout",
     "output_type": "stream",
     "text": [
      "   normalised  letter  upper   long  other_diacritic  space   dash  digit\n",
      "\u0000           \u0000   False  False  False            False  False  False  False\n",
      "                False  False  False            False   True  False  False\n",
      "e           e    True  False  False            False  False  False  False\n",
      "a           a    True  False  False            False  False  False  False\n",
      "t           t    True  False  False            False  False  False  False\n",
      "l           l    True  False  False            False  False  False  False\n",
      "s           s    True  False  False            False  False  False  False\n",
      "n           n    True  False  False            False  False  False  False\n",
      "k           k    True  False  False            False  False  False  False\n",
      "r           r    True  False  False            False  False  False  False\n",
      "i           i    True  False  False            False  False  False  False\n",
      "z           z    True  False  False            False  False  False  False\n",
      "o           o    True  False  False            False  False  False  False\n",
      "á           a    True  False   True            False  False  False  False\n",
      "é           e    True  False   True            False  False  False  False\n",
      "g           g    True  False  False            False  False  False  False\n",
      "m           m    True  False  False            False  False  False  False\n",
      "y           y    True  False  False            False  False  False  False\n",
      "b           b    True  False  False            False  False  False  False\n",
      "d           d    True  False  False            False  False  False  False\n",
      "v           v    True  False  False            False  False  False  False\n",
      ",           ,   False  False  False            False  False  False  False\n",
      "h           h    True  False  False            False  False  False  False\n",
      "j           j    True  False  False            False  False  False  False\n",
      "p           p    True  False  False            False  False  False  False\n",
      "ó           o    True  False   True            False  False  False  False\n",
      "ö           ö    True  False  False            False  False  False  False\n",
      "u           u    True  False  False            False  False  False  False\n",
      "ő           ö    True  False   True            False  False  False  False\n",
      ".           .   False  False  False            False  False  False  False\n",
      "\\n         \\n   False  False  False            False   True  False  False\n",
      "f           f    True  False  False            False  False  False  False\n",
      "c           c    True  False  False            False  False  False  False\n",
      "í           i    True  False   True            False  False  False  False\n",
      "ü           ü    True  False  False            False  False  False  False\n",
      "A           a    True   True  False            False  False  False  False\n",
      "-           -   False  False  False            False  False   True  False\n",
      "ú           u    True  False   True            False  False  False  False\n",
      "0           0   False  False  False            False  False  False   True\n",
      "M           m    True   True  False            False  False  False  False\n",
      "1           1   False  False  False            False  False  False   True\n",
      "S           s    True   True  False            False  False  False  False\n",
      "ű           ü    True  False   True            False  False  False  False\n",
      "2           2   False  False  False            False  False  False   True\n",
      "E           e    True   True  False            False  False  False  False\n",
      "B           b    True   True  False            False  False  False  False\n",
      "K           k    True   True  False            False  False  False  False\n",
      "\"           \"   False  False  False            False  False  False  False\n",
      "T           t    True   True  False            False  False  False  False\n",
      "P           p    True   True  False            False  False  False  False\n",
      ":           :   False  False  False            False  False  False  False\n",
      "N           n    True   True  False            False  False  False  False\n",
      "F           f    True   True  False            False  False  False  False\n",
      "H           h    True   True  False            False  False  False  False\n",
      "5           5   False  False  False            False  False  False   True\n",
      "3           3   False  False  False            False  False  False   True\n",
      "V           v    True   True  False            False  False  False  False\n",
      "9           9   False  False  False            False  False  False   True\n",
      "I           i    True   True  False            False  False  False  False\n",
      ")           )   False  False  False            False  False  False  False\n",
      "(           (   False  False  False            False  False  False  False\n",
      "C           c    True   True  False            False  False  False  False\n",
      "4           4   False  False  False            False  False  False   True\n",
      "L           l    True   True  False            False  False  False  False\n",
      "D           d    True   True  False            False  False  False  False\n",
      "G           g    True   True  False            False  False  False  False\n",
      "R           r    True   True  False            False  False  False  False\n",
      "6           6   False  False  False            False  False  False   True\n",
      "8           8   False  False  False            False  False  False   True\n",
      "7           7   False  False  False            False  False  False   True\n",
      "O           o    True   True  False            False  False  False  False\n",
      "J           j    True   True  False            False  False  False  False\n",
      "Z           z    True   True  False            False  False  False  False\n",
      "x           x    True  False  False            False  False  False  False\n",
      "w           w    True  False  False            False  False  False  False\n",
      "U           u    True   True  False            False  False  False  False\n",
      "?           ?   False  False  False            False  False  False  False\n",
      "W           w    True   True  False            False  False  False  False\n",
      "Á           a    True   True   True            False  False  False  False\n",
      "É           e    True   True   True            False  False  False  False\n",
      "!           !   False  False  False            False  False  False  False\n",
      "Ú           u    True   True   True            False  False  False  False\n",
      "/           /   False  False  False            False  False  False  False\n",
      "Ö           ö    True   True  False            False  False  False  False\n",
      "X           x    True   True  False            False  False  False  False\n",
      ";           ;   False  False  False            False  False  False  False\n",
      "–           –   False  False  False            False  False   True  False\n",
      "Y           y    True   True  False            False  False  False  False\n",
      "[           [   False  False  False            False  False  False  False\n",
      "]           ]   False  False  False            False  False  False  False\n",
      "Í           i    True   True   True            False  False  False  False\n",
      "'           '   False  False  False            False  False  False  False\n",
      "+           +   False  False  False            False  False  False  False\n",
      "Ő           ö    True   True   True            False  False  False  False\n",
      "q           q    True  False  False            False  False  False  False\n",
      "„           „   False  False  False            False  False  False  False\n",
      "”           ”   False  False  False            False  False  False  False\n",
      "Ü           ü    True   True  False            False  False  False  False\n",
      "%           %   False  False  False            False  False  False  False\n",
      "Ó           o    True   True   True            False  False  False  False\n",
      "Q           q    True   True  False            False  False  False  False\n",
      "*           *   False  False  False            False  False  False  False\n",
      "&           &   False  False  False            False  False  False  False\n",
      "ä           a    True  False  False             True  False  False  False\n",
      ">           >   False  False  False            False  False  False  False\n",
      "_           _   False  False  False            False  False  False  False\n",
      "|           |   False  False  False            False  False  False  False\n",
      "@           @   False  False  False            False  False  False  False\n",
      "Ű           ü    True   True   True            False  False  False  False\n",
      "$           $   False  False  False            False  False  False  False\n",
      "ë           e    True  False  False             True  False  False  False\n",
      "=           =   False  False  False            False  False  False  False\n",
      "•           •   False  False  False            False  False  False  False\n",
      "§           §   False  False  False            False  False  False  False\n",
      "<           <   False  False  False            False  False  False  False\n",
      "°           °   False  False  False            False  False  False  False\n",
      "č           c    True  False  False             True  False  False  False\n",
      "#           #   False  False  False            False  False  False  False\n",
      "—           □   False  False  False            False  False   True  False\n",
      "š           s    True  False  False             True  False  False  False\n",
      "ç           c    True  False  False             True  False  False  False\n",
      "·           □   False  False  False            False  False  False  False\n",
      "×           □   False  False  False            False  False  False  False\n",
      "†           □   False  False  False            False  False  False  False\n",
      "ă           a    True  False  False             True  False  False  False\n",
      "Š           s    True   True  False             True  False  False  False\n",
      "ń           n    True  False  False             True  False  False  False\n",
      "ş           s    True  False  False             True  False  False  False\n",
      "ć           c    True  False  False             True  False  False  False\n",
      "ß           □    True  False  False            False  False  False  False\n",
      "~           □   False  False  False            False  False  False  False\n",
      "ý           y    True  False  False             True  False  False  False\n",
      "â           a    True  False  False             True  False  False  False\n",
      "è           e    True  False  False             True  False  False  False\n",
      "ţ           t    True  False  False             True  False  False  False\n",
      "®           □   False  False  False            False  False  False  False\n",
      "Č           c    True   True  False             True  False  False  False\n",
      "ž           z    True  False  False             True  False  False  False\n",
      "ł           l    True  False  False             True  False  False  False\n",
      "ř           r    True  False  False             True  False  False  False\n",
      "^           □   False  False  False            False  False  False  False\n",
      "Ä           a    True   True  False             True  False  False  False\n",
      "à           a    True  False  False             True  False  False  False\n",
      "Ž           z    True   True  False             True  False  False  False\n",
      "}           □   False  False  False            False  False  False  False\n",
      "{           □   False  False  False            False  False  False  False\n",
      "¨           □   False  False  False            False  False  False  False\n",
      "ě           e    True  False  False             True  False  False  False\n",
      "µ           □    True  False  False            False  False  False  False\n",
      "¤           □   False  False  False            False  False  False  False\n",
      "ã           a    True  False  False             True  False  False  False\n",
      "‘           □   False  False  False            False  False  False  False\n",
      "™           □   False  False  False            False  False  False  False\n",
      "ň           n    True  False  False             True  False  False  False\n",
      "€           □   False  False  False            False  False  False  False\n",
      "ø           o    True  False  False             True  False  False  False\n",
      "î           i    True  False  False             True  False  False  False\n",
      "Ş           s    True   True  False             True  False  False  False\n",
      "ľ           l    True  False  False             True  False  False  False\n",
      "å           a    True  False  False             True  False  False  False\n",
      "Ľ           l    True   True  False             True  False  False  False\n",
      "±           □   False  False  False            False  False  False  False\n",
      "ď           d    True  False  False             True  False  False  False\n",
      "Å           a    True   True  False             True  False  False  False\n",
      "đ           d    True  False  False             True  False  False  False\n",
      "Ë           e    True   True  False             True  False  False  False\n",
      "ą           a    True  False  False             True  False  False  False\n",
      "©           □   False  False  False            False  False  False  False\n",
      "→           □   False  False  False            False  False  False  False\n",
      "ż           z    True  False  False             True  False  False  False\n",
      "ę           e    True  False  False             True  False  False  False\n"
     ]
    }
   ],
   "source": [
    "import pandas as pd\n",
    "\n",
    "FEATURE_NAMES = ['normalised', 'letter', 'upper', 'long', 'other_diacritic',\n",
    "                'space', 'dash', 'digit']\n",
    "\n",
    "ch_features = []\n",
    "for ch in bilstm_model.encoder.input_encoder.ch_encodings.keys():\n",
    "    features = list(character_to_features(ch))\n",
    "    normalised_ch = features[0]\n",
    "    if normalised_ch != '\\u0000' and bilstm_model.encoder.input_encoder.num_code_dict.get(normalised_ch, 0) == 0:\n",
    "        features[0] = '\\u25a1'\n",
    "    ch_features.append(features)\n",
    "\n",
    "dframe = pd.DataFrame(ch_features,\n",
    "                      index=list(bilstm_model.encoder.input_encoder.ch_encodings.keys()),\n",
    "                      columns=FEATURE_NAMES)\n",
    "print(dframe.to_string())"
   ]
  },
  {
   "cell_type": "markdown",
   "id": "f5f14267",
   "metadata": {},
   "source": [
    "Az első két láthatatlan karakter a padding (`\\u0000`) és a sima szóköz karakter.\n",
    "\n",
    "A sorok címkéi maguk az inputkarakterek, ahogy az inputszövegben szerepelnek.\n",
    "\n",
    "A \"normalizált karakter\" oszlopban szereplő fehér négyzet az OOV-karaktert jelöli, a nagyon ritka jeleket így kódolja az inputkódoló (míg a nagyon ritka betűket simán lenormalizálja a megfelelő mellékjel nélküli betűre).\n",
    "\n",
    "Miután ez megvan, az inputkódoló még a normalizált karaktereket átkódolja egy-egy one-hot kóddá, így például az *á* karakter kódja így néz ki:"
   ]
  },
  {
   "cell_type": "code",
   "execution_count": 5,
   "id": "7eed8817",
   "metadata": {},
   "outputs": [
    {
     "name": "stdout",
     "output_type": "stream",
     "text": [
      "3\n",
      "[0. 0. 0. 1. 0. 0. 0. 0. 0. 0. 0. 0. 0. 0. 0. 0. 0. 0. 0. 0. 0. 0. 0. 0.\n",
      " 0. 0. 0. 0. 0. 0. 0. 0. 0. 0. 0. 0. 0. 0. 0. 0. 0. 0. 0. 0. 0. 0. 0. 0.\n",
      " 0. 0. 0. 0. 0. 0. 0. 0. 0. 0. 0. 0. 0. 0. 0. 0. 0. 0. 0. 0. 0. 0. 0. 0.\n",
      " 0. 1. 0. 1. 0. 0. 0. 0.]\n",
      "80\n"
     ]
    }
   ],
   "source": [
    "print(bilstm_model.encoder.input_encoder.num_code_dict['a'])\n",
    "print(bilstm_model.encoder.input_encoder.encode('á'))\n",
    "print(len(bilstm_model.encoder.input_encoder.encode('á')))"
   ]
  },
  {
   "cell_type": "markdown",
   "id": "00b32c56",
   "metadata": {},
   "source": [
    "Az elején az egyes a normalizált *a* numerikus kódjának (3) a one-hot kódolása, a végén a két egyes pedig a 'betű' és a 'hosszú' bináris jegy.\n",
    "\n",
    "Így jönnek ki tehát a 80 dimenziós inputkarakter-vektorok.\n",
    "\n",
    "Szintén a fenti összefoglalóban látszik, hogy az outputvektor 113 dimenziós. Az sima one-hot vektor."
   ]
  },
  {
   "cell_type": "code",
   "execution_count": 6,
   "id": "6997d9a1",
   "metadata": {},
   "outputs": [
    {
     "name": "stdout",
     "output_type": "stream",
     "text": [
      "[0. 0. 0. 0. 0. 0. 0. 0. 0. 0. 0. 0. 0. 1. 0. 0. 0. 0. 0. 0. 0. 0. 0. 0.\n",
      " 0. 0. 0. 0. 0. 0. 0. 0. 0. 0. 0. 0. 0. 0. 0. 0. 0. 0. 0. 0. 0. 0. 0. 0.\n",
      " 0. 0. 0. 0. 0. 0. 0. 0. 0. 0. 0. 0. 0. 0. 0. 0. 0. 0. 0. 0. 0. 0. 0. 0.\n",
      " 0. 0. 0. 0. 0. 0. 0. 0. 0. 0. 0. 0. 0. 0. 0. 0. 0. 0. 0. 0. 0. 0. 0. 0.\n",
      " 0. 0. 0. 0. 0. 0. 0. 0. 0. 0. 0. 0. 0. 0. 0. 0. 0.]\n",
      "113\n"
     ]
    }
   ],
   "source": [
    "print(bilstm_model.encoder.output_encoder.encode('á'))\n",
    "print(len(bilstm_model.encoder.output_encoder.encode('á')))"
   ]
  },
  {
   "cell_type": "markdown",
   "id": "d93f40a6",
   "metadata": {},
   "source": [
    "A sztringkódoló lekódolja az inputsztring összes karakterét az input- és outputkódoló objektum segítségével egy inputkódolt és egy outputkódolt mátrixszá, tehát lesz egy k x 80 és egy k x 113 elemű mátrix, ahol k az inputsztring hossza. Aztán ezen a mátrixon végigléptet egy-egy soronként haladva egy megfelelő szélességű (bal 15 + középen 1 + jobb 15 = 31) ablakot, és az inputmátrix megfelelő két (jobb és bal) 15 x 80 elemű szeletét és az outputmátrix 1 x 113 elemű egyetlen sorát beleteszi a két darab k x 15 x 80-as tenzor és a k x 113-as mátrix i-edik sorába, ahol i az éppen feldolgozott célkarakter (outputkarakter) indexe az inputsztringben.\n",
    "\n",
    "Ezt a `BiLSTM_Encoder.encode()` metódus végzi el:"
   ]
  },
  {
   "cell_type": "code",
   "execution_count": 7,
   "id": "e7a94c3f",
   "metadata": {},
   "outputs": [
    {
     "name": "stdout",
     "output_type": "stream",
     "text": [
      "20\n",
      "(20, 15, 80)\n",
      "(20, 15, 80)\n",
      "(20, 113)\n"
     ]
    }
   ],
   "source": [
    "test_string = 'Ez egy próbasztring.'\n",
    "xleft, xright, y = bilstm_model.encoder.encode(test_string, padded=True)\n",
    "print(len(test_string))\n",
    "print(xleft.shape)\n",
    "print(xright.shape)\n",
    "print(y.shape)"
   ]
  },
  {
   "cell_type": "markdown",
   "id": "35164539",
   "metadata": {},
   "source": [
    "Amellett, hogy simán visszaad értékként három ilyen Numpy-tömböt, egy másik lehetőség, hogy a híváskor adunk át neki a `call_by_reference` argumentum értékeként három ilyen tömböt, és a kódoló ezekbe egyszerűen beleír, és nem ad vissza semmit. Ez lényegében akkor hasznos, ha mindig egy batch-nyi (pl. 128) hosszúságú sztringet akarunk lekódoltatni a kódolóval egyszerre, ilyenkor ugyanis nem kell minden híváskor újra és újra lefoglalnia a Numpy-tömbnek a tárterületet és megkonstruálni az objektumot hozzá, hanem simán beleír a már lefoglalt területre.\n",
    "\n",
    "Így mérhetően, 10-20 százalékkal gyorsabban fut a tanítás, ezért a modell betanítására szolgáló `BiLSTM_Model.train()` metódus által használt `BiLSTM_Sequence` objektum, ami gyakorlatilag batch-nyi darabokra bontja az inputszöveget, és ezeket a szeleteket adja át egyenként a sztringkódolónak, ezt a módszert használja a metódussal való adatcserére."
   ]
  },
  {
   "cell_type": "code",
   "execution_count": 8,
   "id": "aebe73a3",
   "metadata": {},
   "outputs": [
    {
     "data": {
      "text/plain": [
       "'Ez egy próbasztring.'"
      ]
     },
     "execution_count": 8,
     "metadata": {},
     "output_type": "execute_result"
    }
   ],
   "source": [
    "import numpy as np\n",
    "\n",
    "xleft = np.zeros([20,15,80])\n",
    "xright = np.zeros([20,15,80])\n",
    "y = np.zeros([20,113])\n",
    "\n",
    "bilstm_model.encoder.encode(test_string, call_by_reference=(xleft, xright, y), padded=True)\n",
    "bilstm_model.encoder.decode(y)"
   ]
  },
  {
   "cell_type": "code",
   "execution_count": 9,
   "id": "730927cf",
   "metadata": {},
   "outputs": [
    {
     "name": "stdout",
     "output_type": "stream",
     "text": [
      "20\n"
     ]
    },
    {
     "data": {
      "text/plain": [
       "'Ez pedig egy másik. '"
      ]
     },
     "execution_count": 9,
     "metadata": {},
     "output_type": "execute_result"
    }
   ],
   "source": [
    "test_string2 = \"Ez pedig egy másik. \"\n",
    "print(len(test_string2))\n",
    "\n",
    "bilstm_model.encoder.encode(test_string2, call_by_reference=(xleft, xright, y), padded=True)\n",
    "bilstm_model.encoder.decode(y)"
   ]
  },
  {
   "cell_type": "markdown",
   "id": "b1dffe10",
   "metadata": {},
   "source": [
    "## Kényelmi metódusok"
   ]
  },
  {
   "cell_type": "markdown",
   "id": "0b69b98b",
   "metadata": {},
   "source": [
    "Miután mind a tanításra, mind a predikcióra megvannak a szükséges kényelmi metódusok, általában nem kell bajlódnunk a sztringkódoló használatával.\n",
    "\n",
    "Ezek a metódusok lehetőség szerint megegyeznek mind névre, mind szignatúrára az n-gram-modellek megfelelő funkciójú metódusaival.\n",
    "\n",
    "Az `estimate_alternatives()` dictionaryt ad vissza, aminek a kulcsai a lehetséges outputkaraktererek, az értékei a hozzájuk tartozó becsült feltételes valószínűségek. Ez alapértelmezés szerint a neki átadott sztringnek a modellre beállított bal kontextushossznak megfelelő részét (adott esetben 15 karaktert) kezeli bal kontextusként, a következő karaktert célként, a következő jobb kontextushossznyi (adott esetben 15) karaktert jobb kontextusként, és a célkarakterre adja vissza a predikciókat."
   ]
  },
  {
   "cell_type": "code",
   "execution_count": 10,
   "id": "760c7f1e",
   "metadata": {},
   "outputs": [
    {
     "name": "stdout",
     "output_type": "stream",
     "text": [
      "A „Tarthatatlan a parkolási helyzet a lakótelepeken” című cikkünkben részletesen bemutattuk, hogy a Budapest sűrűn lakott városrészeiben élő autósok számára egyre többször okoz elemi problémát a parkolóhely-keresés. A folytatásban Ujj Péter Tamás a lehetséges megoldásokat mutatja be. Összefoglalja, mi várható a jövőben, illetve jár-e egyáltalán a parkolóhely az egyre szaporodó autók számára a közterületeken, vagy lassan fel kell hagynunk az eddigi életmódunkkal.\n",
      "Néhány hete részletes cikkben foglalkoztunk az Óbudán kialakult parkolási káosszal, miután kiderült, hogy már a helyi közterület-felügyelet sem minden szabálytalan autót büntet meg, annyira elfogytak a helyek. A cikk megjelenését követően záporoztak az olvasói levelek, és ahogy várható volt, rengetegen szeretnék, ha az érintett hivatalok végre megoldást találnának a súlyosbodó problémára.\n",
      "\n",
      "atlan a parkolá\n",
      "               s\n",
      "                i helyzet a lak\n",
      "atlan a parkolási helyzet a lak\n",
      "CPU times: user 480 ms, sys: 253 ms, total: 732 ms\n",
      "Wall time: 729 ms\n"
     ]
    },
    {
     "name": "stderr",
     "output_type": "stream",
     "text": [
      "2022-11-18 01:39:16.098007: I tensorflow/stream_executor/cuda/cuda_dnn.cc:384] Loaded cuDNN version 8401\n",
      "2022-11-18 01:39:16.178990: I tensorflow/stream_executor/cuda/cuda_blas.cc:1614] TensorFloat-32 will be used for the matrix multiplication. This will only be logged once.\n"
     ]
    },
    {
     "data": {
      "text/plain": [
       "{'□': 1e-13,\n",
       " ' ': 1e-13,\n",
       " 'e': 1e-13,\n",
       " 'a': 1e-13,\n",
       " 't': 1.9480823e-11,\n",
       " 'l': 1e-13,\n",
       " 's': 1.0,\n",
       " 'n': 1e-13,\n",
       " 'k': 3.8933787e-12,\n",
       " 'r': 1.0234147e-13,\n",
       " 'i': 1e-13,\n",
       " 'z': 1e-13,\n",
       " 'o': 1e-13,\n",
       " 'á': 1e-13,\n",
       " 'é': 1e-13,\n",
       " 'g': 1e-13,\n",
       " 'm': 4.343061e-13,\n",
       " 'y': 1e-13,\n",
       " 'b': 1e-13,\n",
       " 'd': 1e-13,\n",
       " 'v': 1e-13,\n",
       " ',': 1e-13,\n",
       " 'h': 1e-13,\n",
       " 'j': 1e-13,\n",
       " 'p': 1e-13,\n",
       " 'ó': 1e-13,\n",
       " 'ö': 1e-13,\n",
       " 'u': 1e-13,\n",
       " 'ő': 1e-13,\n",
       " '.': 1e-13,\n",
       " '\\n': 1e-13,\n",
       " 'f': 1e-13,\n",
       " 'c': 1e-13,\n",
       " 'í': 1e-13,\n",
       " 'ü': 1e-13,\n",
       " 'A': 1e-13,\n",
       " '-': 1e-13,\n",
       " 'ú': 1e-13,\n",
       " '0': 1e-13,\n",
       " 'M': 1e-13,\n",
       " '1': 1e-13,\n",
       " 'S': 1e-13,\n",
       " 'ű': 1e-13,\n",
       " '2': 1e-13,\n",
       " 'E': 1e-13,\n",
       " 'B': 1e-13,\n",
       " 'K': 1e-13,\n",
       " '\"': 1e-13,\n",
       " 'T': 1e-13,\n",
       " 'P': 1e-13,\n",
       " ':': 1e-13,\n",
       " 'N': 1e-13,\n",
       " 'F': 1e-13,\n",
       " 'H': 1e-13,\n",
       " '5': 1e-13,\n",
       " '3': 1e-13,\n",
       " 'V': 1e-13,\n",
       " '9': 1e-13,\n",
       " 'I': 1e-13,\n",
       " ')': 1e-13,\n",
       " '(': 1e-13,\n",
       " 'C': 1e-13,\n",
       " '4': 1e-13,\n",
       " 'L': 1e-13,\n",
       " 'D': 1e-13,\n",
       " 'G': 1e-13,\n",
       " 'R': 1e-13,\n",
       " '6': 1e-13,\n",
       " '8': 1e-13,\n",
       " '7': 1e-13,\n",
       " 'O': 1e-13,\n",
       " 'J': 1e-13,\n",
       " 'Z': 1e-13,\n",
       " 'x': 1e-13,\n",
       " 'w': 1e-13,\n",
       " 'U': 1e-13,\n",
       " '?': 1e-13,\n",
       " 'W': 1e-13,\n",
       " 'Á': 1e-13,\n",
       " 'É': 1e-13,\n",
       " '!': 1e-13,\n",
       " 'Ú': 1e-13,\n",
       " '/': 1e-13,\n",
       " 'Ö': 1e-13,\n",
       " 'X': 1e-13,\n",
       " ';': 1e-13,\n",
       " '–': 1e-13,\n",
       " 'Y': 1e-13,\n",
       " '[': 1e-13,\n",
       " ']': 1e-13,\n",
       " 'Í': 1e-13,\n",
       " \"'\": 1e-13,\n",
       " '+': 1e-13,\n",
       " 'Ő': 1e-13,\n",
       " 'q': 1e-13,\n",
       " '„': 1e-13,\n",
       " '”': 1e-13,\n",
       " 'Ü': 1e-13,\n",
       " '%': 1e-13,\n",
       " 'Ó': 1e-13,\n",
       " 'Q': 1e-13,\n",
       " '*': 1e-13,\n",
       " '&': 1e-13,\n",
       " 'ä': 1e-13,\n",
       " '>': 1e-13,\n",
       " '_': 1e-13,\n",
       " '|': 1e-13,\n",
       " '@': 1e-13,\n",
       " 'Ű': 1e-13,\n",
       " '$': 1e-13,\n",
       " 'ë': 1e-13,\n",
       " '=': 1e-13,\n",
       " '•': 1e-13}"
      ]
     },
     "execution_count": 10,
     "metadata": {},
     "output_type": "execute_result"
    }
   ],
   "source": [
    "%%time\n",
    "\n",
    "def select_window(string, t_index):\n",
    "    start_index = t_index - bilstm_model.encoder.left_context\n",
    "    end_index = t_index + bilstm_model.encoder.right_context + 1\n",
    "    print(string[start_index:t_index])\n",
    "    print(bilstm_model.encoder.left_context * ' ' + long_string_1[t_index])\n",
    "    print((bilstm_model.encoder.left_context + 1) * ' ' + long_string_1[t_index + 1:end_index])\n",
    "    return string[start_index:end_index]\n",
    "\n",
    "print(long_string_1)\n",
    "print()\n",
    "target_index = 25\n",
    "\n",
    "print(select_window(long_string_1, target_index)) # csak szemléltetésként, hogy mit csinál az estimate_alternatives\n",
    "\n",
    "bilstm_model.estimate_alternatives(long_string_1, target_index)"
   ]
  },
  {
   "cell_type": "code",
   "execution_count": 11,
   "id": "63c68b07",
   "metadata": {},
   "outputs": [
    {
     "name": "stdout",
     "output_type": "stream",
     "text": [
      "ra egyre többsz\n",
      "               ö\n",
      "                r okoz elemi pr\n",
      "ra egyre többször okoz elemi pr\n"
     ]
    },
    {
     "data": {
      "text/plain": [
       "{'□': 1e-13,\n",
       " ' ': 1e-13,\n",
       " 'e': 1.3131561e-06,\n",
       " 'a': 3.6015937e-11,\n",
       " 't': 1e-13,\n",
       " 'l': 1e-13,\n",
       " 's': 1e-13,\n",
       " 'n': 1e-13,\n",
       " 'k': 1e-13,\n",
       " 'r': 1e-13,\n",
       " 'i': 5.3338215e-13,\n",
       " 'z': 1e-13,\n",
       " 'o': 2.666902e-07,\n",
       " 'á': 4.525107e-09,\n",
       " 'é': 2.6785518e-10,\n",
       " 'g': 1e-13,\n",
       " 'm': 1e-13,\n",
       " 'y': 1e-13,\n",
       " 'b': 1e-13,\n",
       " 'd': 1e-13,\n",
       " 'v': 1e-13,\n",
       " ',': 1e-13,\n",
       " 'h': 1e-13,\n",
       " 'j': 1e-13,\n",
       " 'p': 1e-13,\n",
       " 'ó': 3.5915194e-13,\n",
       " 'ö': 0.99999845,\n",
       " 'u': 1.917708e-12,\n",
       " 'ő': 1e-13,\n",
       " '.': 1e-13,\n",
       " '\\n': 1e-13,\n",
       " 'f': 1e-13,\n",
       " 'c': 1e-13,\n",
       " 'í': 1e-13,\n",
       " 'ü': 1e-13,\n",
       " 'A': 1e-13,\n",
       " '-': 1e-13,\n",
       " 'ú': 1e-13,\n",
       " '0': 1e-13,\n",
       " 'M': 1e-13,\n",
       " '1': 1e-13,\n",
       " 'S': 1e-13,\n",
       " 'ű': 1e-13,\n",
       " '2': 1e-13,\n",
       " 'E': 1e-13,\n",
       " 'B': 1e-13,\n",
       " 'K': 1e-13,\n",
       " '\"': 1e-13,\n",
       " 'T': 1e-13,\n",
       " 'P': 1e-13,\n",
       " ':': 1e-13,\n",
       " 'N': 1e-13,\n",
       " 'F': 1e-13,\n",
       " 'H': 1e-13,\n",
       " '5': 1e-13,\n",
       " '3': 1e-13,\n",
       " 'V': 1e-13,\n",
       " '9': 1e-13,\n",
       " 'I': 1e-13,\n",
       " ')': 1e-13,\n",
       " '(': 1e-13,\n",
       " 'C': 1e-13,\n",
       " '4': 1e-13,\n",
       " 'L': 1e-13,\n",
       " 'D': 1e-13,\n",
       " 'G': 1e-13,\n",
       " 'R': 1e-13,\n",
       " '6': 1e-13,\n",
       " '8': 1e-13,\n",
       " '7': 1e-13,\n",
       " 'O': 1e-13,\n",
       " 'J': 1e-13,\n",
       " 'Z': 1e-13,\n",
       " 'x': 1e-13,\n",
       " 'w': 1e-13,\n",
       " 'U': 1e-13,\n",
       " '?': 1e-13,\n",
       " 'W': 1e-13,\n",
       " 'Á': 1e-13,\n",
       " 'É': 1e-13,\n",
       " '!': 1e-13,\n",
       " 'Ú': 1e-13,\n",
       " '/': 1e-13,\n",
       " 'Ö': 1e-13,\n",
       " 'X': 1e-13,\n",
       " ';': 1e-13,\n",
       " '–': 1e-13,\n",
       " 'Y': 1e-13,\n",
       " '[': 1e-13,\n",
       " ']': 1e-13,\n",
       " 'Í': 1e-13,\n",
       " \"'\": 1e-13,\n",
       " '+': 1e-13,\n",
       " 'Ő': 1e-13,\n",
       " 'q': 1e-13,\n",
       " '„': 1e-13,\n",
       " '”': 1e-13,\n",
       " 'Ü': 1e-13,\n",
       " '%': 1e-13,\n",
       " 'Ó': 1e-13,\n",
       " 'Q': 1e-13,\n",
       " '*': 1e-13,\n",
       " '&': 1e-13,\n",
       " 'ä': 1e-13,\n",
       " '>': 1e-13,\n",
       " '_': 1e-13,\n",
       " '|': 1e-13,\n",
       " '@': 1e-13,\n",
       " 'Ű': 1e-13,\n",
       " '$': 1e-13,\n",
       " 'ë': 1e-13,\n",
       " '=': 1e-13,\n",
       " '•': 1e-13}"
      ]
     },
     "execution_count": 11,
     "metadata": {},
     "output_type": "execute_result"
    }
   ],
   "source": [
    "target_index = 169\n",
    "\n",
    "print(select_window(long_string_1, target_index))\n",
    "\n",
    "bilstm_model.estimate_alternatives(long_string_1, target_index)"
   ]
  },
  {
   "cell_type": "markdown",
   "id": "903dbe93",
   "metadata": {},
   "source": [
    "Érdemes megemlíteni, hogy mivel a softmax függvény sok nagyon kis valószínűséget 0-ra kerekít, és azokkal nem lehet perplexitást (vagy bármilyen logaritmust) számolni, betettem az LSTM-modellbe egy alsó küszöböt a valószínűségekre, ami láthatóan 1e-13. Ebben a nagyságrendben úgyis már minden lebegőpontos számítás nagyon pontatlan, és ha ezekből 100-at összeadunk (ti. annyiféle karakter van), akkor az még mindig csak 1e-11, tehát ez a lépés a valószínűségi eloszlást a legkevésbé sem rontja el. Ugyanezt talán célszerű lenne meglépni az n-gram-modellnél is, hogy következetes legyen.\n",
    "\n",
    "Ha nem adunk meg `target_index` paramétert, az `estimate_alternatives()` abból indul ki, hogy ablaknyi hosszúságú inputot kapott, és a középső (adott esetben 16.) karakterre számítja a predikciókat."
   ]
  },
  {
   "cell_type": "code",
   "execution_count": 12,
   "id": "351a6578",
   "metadata": {},
   "outputs": [
    {
     "name": "stdout",
     "output_type": "stream",
     "text": [
      "A „Tarthatatlan\n",
      "                \n",
      "                a parkolási hel\n",
      "A „Tarthatatlan a parkolási hel\n"
     ]
    },
    {
     "data": {
      "text/plain": [
       "{'□': 1e-13,\n",
       " ' ': 0.9994504,\n",
       " 'e': 1.8564586e-08,\n",
       " 'a': 3.781017e-09,\n",
       " 't': 7.418678e-08,\n",
       " 'l': 2.7217442e-09,\n",
       " 's': 5.664817e-09,\n",
       " 'n': 4.9825055e-09,\n",
       " 'k': 1.7309057e-07,\n",
       " 'r': 6.3307685e-05,\n",
       " 'i': 4.4132644e-08,\n",
       " 'z': 1.4452097e-09,\n",
       " 'o': 3.0805187e-09,\n",
       " 'á': 1.574226e-11,\n",
       " 'é': 3.653883e-09,\n",
       " 'g': 1.10469106e-10,\n",
       " 'm': 3.7523376e-09,\n",
       " 'y': 2.1793449e-10,\n",
       " 'b': 8.6091095e-06,\n",
       " 'd': 4.3269752e-10,\n",
       " 'v': 3.11291e-09,\n",
       " ',': 1e-13,\n",
       " 'h': 1e-13,\n",
       " 'j': 1.4514558e-05,\n",
       " 'p': 7.3954762e-09,\n",
       " 'ó': 3.8564824e-12,\n",
       " 'ö': 1e-13,\n",
       " 'u': 2.7817948e-10,\n",
       " 'ő': 1e-13,\n",
       " '.': 1e-13,\n",
       " '\\n': 3.0707977e-13,\n",
       " 'f': 7.7155754e-11,\n",
       " 'c': 2.3922822e-10,\n",
       " 'í': 3.2126274e-11,\n",
       " 'ü': 1e-13,\n",
       " 'A': 1e-13,\n",
       " '-': 0.0004628848,\n",
       " 'ú': 1e-13,\n",
       " '0': 1e-13,\n",
       " 'M': 1e-13,\n",
       " '1': 1e-13,\n",
       " 'S': 1e-13,\n",
       " 'ű': 1e-13,\n",
       " '2': 1e-13,\n",
       " 'E': 1e-13,\n",
       " 'B': 1e-13,\n",
       " 'K': 1e-13,\n",
       " '\"': 1e-13,\n",
       " 'T': 1e-13,\n",
       " 'P': 1e-13,\n",
       " ':': 1e-13,\n",
       " 'N': 1e-13,\n",
       " 'F': 1e-13,\n",
       " 'H': 1e-13,\n",
       " '5': 1e-13,\n",
       " '3': 1e-13,\n",
       " 'V': 1e-13,\n",
       " '9': 1e-13,\n",
       " 'I': 1e-13,\n",
       " ')': 1e-13,\n",
       " '(': 1e-13,\n",
       " 'C': 1e-13,\n",
       " '4': 1e-13,\n",
       " 'L': 1e-13,\n",
       " 'D': 1e-13,\n",
       " 'G': 1e-13,\n",
       " 'R': 1e-13,\n",
       " '6': 1e-13,\n",
       " '8': 1e-13,\n",
       " '7': 1e-13,\n",
       " 'O': 1e-13,\n",
       " 'J': 1e-13,\n",
       " 'Z': 1e-13,\n",
       " 'x': 1e-13,\n",
       " 'w': 1e-13,\n",
       " 'U': 1e-13,\n",
       " '?': 1e-13,\n",
       " 'W': 1e-13,\n",
       " 'Á': 1e-13,\n",
       " 'É': 1e-13,\n",
       " '!': 1e-13,\n",
       " 'Ú': 1e-13,\n",
       " '/': 1e-13,\n",
       " 'Ö': 1e-13,\n",
       " 'X': 1e-13,\n",
       " ';': 1e-13,\n",
       " '–': 1e-13,\n",
       " 'Y': 1e-13,\n",
       " '[': 1e-13,\n",
       " ']': 1e-13,\n",
       " 'Í': 1e-13,\n",
       " \"'\": 1e-13,\n",
       " '+': 1e-13,\n",
       " 'Ő': 1e-13,\n",
       " 'q': 1e-13,\n",
       " '„': 1e-13,\n",
       " '”': 1e-13,\n",
       " 'Ü': 1e-13,\n",
       " '%': 1e-13,\n",
       " 'Ó': 1e-13,\n",
       " 'Q': 1e-13,\n",
       " '*': 1e-13,\n",
       " '&': 1e-13,\n",
       " 'ä': 1e-13,\n",
       " '>': 4.717913e-11,\n",
       " '_': 5.925579e-13,\n",
       " '|': 1e-13,\n",
       " '@': 5.860502e-12,\n",
       " 'Ű': 1e-13,\n",
       " '$': 1e-13,\n",
       " 'ë': 1e-13,\n",
       " '=': 9.648339e-12,\n",
       " '•': 2.1748818e-13}"
      ]
     },
     "execution_count": 12,
     "metadata": {},
     "output_type": "execute_result"
    }
   ],
   "source": [
    "print(select_window(long_string_1, 15))\n",
    "\n",
    "bilstm_model.estimate_alternatives(long_string_1)"
   ]
  },
  {
   "cell_type": "markdown",
   "id": "907d696b",
   "metadata": {},
   "source": [
    "A `predict_next()` függvény egy megadott bal és jobb sztring közé eső karaktert jósol. Ha a bal vagy jobb sztring rövidebb a kontextushossznál, akkor paddingkaraktereket ad hozzá az elejére, illetve végére, ha pedig hosszabb bármelyik, akkor a balnak csak az utolsó 15, illetve a jobbnak csak az első 15 karakterét nézi."
   ]
  },
  {
   "cell_type": "code",
   "execution_count": 13,
   "id": "28a91c36",
   "metadata": {
    "scrolled": true
   },
   "outputs": [
    {
     "name": "stdout",
     "output_type": "stream",
     "text": [
      "ra egyre többsz\n",
      "               ö\n",
      "                r okoz elemi pr\n",
      "ra egyre többször okoz elemi pr\n"
     ]
    },
    {
     "data": {
      "text/plain": [
       "['ö', 'e', 'o', 'á', 'é']"
      ]
     },
     "execution_count": 13,
     "metadata": {},
     "output_type": "execute_result"
    }
   ],
   "source": [
    "target_index = 169\n",
    "\n",
    "print(select_window(long_string_1, target_index))\n",
    "\n",
    "bilstm_model.predict_next('ra egyre többsz', 'r okoz elemi pr', m=5)"
   ]
  },
  {
   "cell_type": "markdown",
   "id": "15c2d2b3",
   "metadata": {},
   "source": [
    "Az `estimate_prob()` a célindexen levő (vagy alapértelmezés szerint a teljes kontextusnyi inputsztringben a középső) karakter becsült valószínűségét adja meg, a `pred_estimate()` pedig azt, hogy a modell szerint mi a legvalószínűbb karakter abban a pozícióban, majd a tényleges karakter valószínűségét."
   ]
  },
  {
   "cell_type": "code",
   "execution_count": 14,
   "id": "0d9fffc4",
   "metadata": {},
   "outputs": [
    {
     "name": "stdout",
     "output_type": "stream",
     "text": [
      "0.99999845\n",
      "('ö', 0.99999845)\n"
     ]
    }
   ],
   "source": [
    "print(bilstm_model.estimate_prob('ra egyre többször okoz elemi pr'))\n",
    "print(bilstm_model.pred_estimate('ra egyre többször okoz elemi pr'))"
   ]
  },
  {
   "cell_type": "code",
   "execution_count": 15,
   "id": "4d409f77",
   "metadata": {},
   "outputs": [
    {
     "name": "stdout",
     "output_type": "stream",
     "text": [
      "etesen bemutatt\n",
      "               u\n",
      "                k, hogy a Budap\n",
      "etesen bemutattuk, hogy a Budap\n",
      "0.104415834\n",
      "('á', 0.104415834)\n",
      "['á', 'u', 'a', 'é', 'o']\n"
     ]
    }
   ],
   "source": [
    "window = select_window(long_string_1, 89)\n",
    "print(window)\n",
    "print(bilstm_model.estimate_prob(long_string_1, 89))\n",
    "print(bilstm_model.pred_estimate(long_string_1, 89))\n",
    "print(bilstm_model.predict_next(window[:15], window[16:], m=5))"
   ]
  },
  {
   "cell_type": "markdown",
   "id": "c638c500",
   "metadata": {},
   "source": [
    "A `metrics_on_string()` kiszámítja a teljes inputsztringre (választhatóan automatikus paddinggel) a karakterenkénti pontosságot és perplexitást.\n",
    "\n",
    "Itt válik el a GPU és a CPU teljesítménye egymástól. Ez alábbi GPU-n nálam 1 másodperc alatt fut le, ami valamivel gyorsabb, mint a kétirányú n-gram-modell, CPU-n viszont 35 másodperc alatt, ami használhatatlanul lassú. A 64 dimenziós LSTM- és dense-rétegeket tartalmazó modell (amiben csak 90 ezer paraméter van) még elviselhető sebességgel prediktál rövid inputokra, de az ilyen nagy modell (3 millió paraméter) már nem."
   ]
  },
  {
   "cell_type": "code",
   "execution_count": 16,
   "id": "f4558afd",
   "metadata": {},
   "outputs": [
    {
     "name": "stdout",
     "output_type": "stream",
     "text": [
      "(0.9734299516908212, 1.0837712076183974)\n",
      "(0.9708624708624709, 1.1057401867751655)\n",
      "(0.9572327044025157, 1.1823819262171171)\n",
      "(0.9563636363636364, 1.1842971470568495)\n",
      "CPU times: user 332 ms, sys: 40.8 ms, total: 373 ms\n",
      "Wall time: 346 ms\n"
     ]
    }
   ],
   "source": [
    "%%time\n",
    "print(bilstm_model.metrics_on_string(long_string_1))\n",
    "print(bilstm_model.metrics_on_string(long_string_1, padded=True))\n",
    "print(bilstm_model.metrics_on_string(long_string_2))\n",
    "print(bilstm_model.metrics_on_string(long_string_2, padded=True))"
   ]
  },
  {
   "cell_type": "markdown",
   "id": "6232e4b9",
   "metadata": {},
   "source": [
    "Összehasonlításképpen a kétirányú n-gram-modell teljesítménye ugyanezeken:"
   ]
  },
  {
   "cell_type": "code",
   "execution_count": 80,
   "id": "36af3354",
   "metadata": {},
   "outputs": [
    {
     "name": "stdout",
     "output_type": "stream",
     "text": [
      "(0.8058823529411765, 2.630060632382658)\n",
      "(0.8018648018648019, 2.7088778690523965)\n",
      "(0.7356181150550796, 2.982173827104181)\n",
      "(0.7345454545454545, 3.011807170746155)\n",
      "CPU times: user 2.72 s, sys: 0 ns, total: 2.72 s\n",
      "Wall time: 2.72 s\n"
     ]
    }
   ],
   "source": [
    "%%time\n",
    "print(bi_ngram_model.metrics_on_string(long_string_1))\n",
    "print(bi_ngram_model.metrics_on_string(long_string_1, padded=True))\n",
    "print(bi_ngram_model.metrics_on_string(long_string_2))\n",
    "print(bi_ngram_model.metrics_on_string(long_string_2, padded=True))"
   ]
  },
  {
   "cell_type": "markdown",
   "id": "7d947273",
   "metadata": {},
   "source": [
    "Opcionálisan kiíratható a modell által előrejelzett sztring is."
   ]
  },
  {
   "cell_type": "code",
   "execution_count": 17,
   "id": "5380e552",
   "metadata": {},
   "outputs": [
    {
     "name": "stdout",
     "output_type": "stream",
     "text": [
      "A „Tarthatatlan a parkolási helyzet a lakótelepeken” című cikkünkben részletesen bemutattuk, hogy a Budapest sűrűn lakott városrészeiben élő autósok számára egyre többször okoz elemi problémát a parkolóhely-keresés. A folytatásban Ujj Péter Tamás a lehetséges megoldásokat mutatja be. Összefoglalja, mi várható a jövőben, illetve jár-e egyáltalán a parkolóhely az egyre szaporodó autók számára a közterületeken, vagy lassan fel kell hagynunk az eddigi életmódunkkal.\n",
      "Néhány hete részletes cikkben foglalkoztunk az Óbudán kialakult parkolási káosszal, miután kiderült, hogy már a helyi közterület-felügyelet sem minden szabálytalan autót büntet meg, annyira elfogytak a helyek. A cikk megjelenését követően záporoztak az olvasói levelek, és ahogy várható volt, rengetegen szeretnék, ha az érintett hivatalok végre megoldást találnának a súlyosbodó problémára.\n",
      "\n",
      " a parkolási helyzet a lakótelepekwn. című cikkünkben részletesen bemutatják, hogy a Budapest sűrűn lakott városrészekben élő autósok számára egyre többször okos elemi problémák a parkolóhely keresés. A folytatásban  nj Péter Tamás a lehetséges megoldásokat mutatja be. Összefoglalta, mi várható a jövőben, illetve már-e egyáltalán a parkolóhely az egyre szaporodó autók számára a közterületeken, vagy lassan fel kell hagynunk az eddigi életmódunkkal. Néhány hete részletes cikkben foglalkoztunk az Óbudán kialakult parkolást krosszal, miután kiderült, hogy már a helyi közterület-felügyelet nem minden szabálytalan autót tüntet meg, annyira elfogynak a helyet. A cikk megjelenését követően záporoznak az olvasói levelet, és ahogy várható volt, rengeteget szeretnék, ha az érintett hivatalok végre megoldást találnának a súlyosb\n",
      "(0.9734299516908212, 1.0837712076183974)\n",
      "\n",
      "A (tarthatatlan a parkolási helyzet a lakótelepekwn. című cikkünkben részletesen bemutatják, hogy a Budapest sűrűn lakott városrészekben élő autósok számára egyre többször okos elemi problémák a parkolóhely keresés. A folytatásban  nj Péter Tamás a lehetséges megoldásokat mutatja be. Összefoglalta, mi várható a jövőben, illetve már-e egyáltalán a parkolóhely az egyre szaporodó autók számára a közterületeken, vagy lassan fel kell hagynunk az eddigi életmódunkkal. Néhány hete részletes cikkben foglalkoztunk az Óbudán kialakult parkolást krosszal, miután kiderült, hogy már a helyi közterület-felügyelet nem minden szabálytalan autót tüntet meg, annyira elfogynak a helyet. A cikk megjelenését követően záporoznak az olvasói levelet, és ahogy várható volt, rengeteget szeretnék, ha az érintett hivatalok végre megoldást találnának a súlyosbodó problémáraC\n",
      "(0.9708624708624709, 1.1057401867751655)\n",
      "CPU times: user 142 ms, sys: 39.4 ms, total: 181 ms\n",
      "Wall time: 159 ms\n"
     ]
    }
   ],
   "source": [
    "%%time\n",
    "print(long_string_1)\n",
    "print()\n",
    "print(bilstm_model.metrics_on_string(long_string_1, print_string=True))\n",
    "print()\n",
    "print(bilstm_model.metrics_on_string(long_string_1, print_string=True, padded=True))"
   ]
  },
  {
   "cell_type": "code",
   "execution_count": 18,
   "id": "49c57886",
   "metadata": {},
   "outputs": [
    {
     "name": "stdout",
     "output_type": "stream",
     "text": [
      "Tavaly októberben adtunk hírt róla, hogy Mészáros Lőrinc korábbi felesége, Kelemen Beatrix az egykori televíziós műsorvezetővel, Joshi Bharattal alkot egy párt. Most viszont a Story alig pár hónappal később arról számolt be, hogy véget ért kettejük kapcsolata, a lap információi szerint Joshi Bharat már el is költözött abból a budai villából, ahol eddig együtt éltek.\n",
      "Kelemen Beatrix hosszú évekig élt házasságban Mészáros Lőrinccel. A pár 2020 őszén adta be a váló pert, a részletekről, így a vagyonról is hamar megegyeztek. Egy évvel később már arról lehetett hallani, hogy Kelemen Beatrix Joshi Bharattal alkot egy párt.\n",
      "Közben pedig, ki ne tudná, Mészáros Lőrinc is újra szerelmes lett és már újra is nősült. Az ország egyik leggazdagabb embere a TV2 korábbi műsorvezetőjével, Várkonyi Andreával kötötte össze az életét.\n",
      "\n",
      "en adjunk bírt róla, hogy Mészáros Lőrinc korábbi felesége, Kelemen Beatrix az egykori televíziós műsorvezetővel, Josei Searattal alkot egy párt. Most viszont a Story alig pár hónappal később arról számolt be, hogy véget ért kettejük kapcsolatai a lap információi szerint Josei Seawet már el is költözött abból a budai Villából, ahol eddig együtt élnek. Kelemen Beatrix hosszú évekig érő házasságban Mészáros Lőrinczel. A már 2000 őszén adta be a vagt párt, a részletekről, így a vagyonból és hamar megegyeztek. Egy évvel később már arról lehetett hallani, hogy Kelemen Beatrix Kosei Cearattal alkot egy párt. Közben pedig, ki le tudni. Mészáros Lőrinc és újra szerelmes lett és már újra is nősült. Az ország egyik leggazdagabb embere a TV2 korábbi műsorvezetőjével, Várkonyi Andreával kötötte ö\n",
      "(0.9572327044025157, 1.1823819262171171)\n",
      "\n",
      "Tavaly októberben adjunk bírt róla, hogy Mészáros Lőrinc korábbi felesége, Kelemen Beatrix az egykori televíziós műsorvezetővel, Josei Searattal alkot egy párt. Most viszont a Story alig pár hónappal később arról számolt be, hogy véget ért kettejük kapcsolatai a lap információi szerint Josei Seawet már el is költözött abból a budai Villából, ahol eddig együtt élnek. Kelemen Beatrix hosszú évekig érő házasságban Mészáros Lőrinczel. A már 2000 őszén adta be a vagt párt, a részletekről, így a vagyonból és hamar megegyeztek. Egy évvel később már arról lehetett hallani, hogy Kelemen Beatrix Kosei Cearattal alkot egy párt. Közben pedig, ki le tudni. Mészáros Lőrinc és újra szerelmes lett és már újra is nősült. Az ország egyik leggazdagabb embere a TV2 korábbi műsorvezetőjével, Várkonyi Andreával kötötte össze az életetC\n",
      "(0.9563636363636364, 1.1842971470568495)\n",
      "CPU times: user 157 ms, sys: 17.4 ms, total: 175 ms\n",
      "Wall time: 155 ms\n"
     ]
    }
   ],
   "source": [
    "%%time\n",
    "print(long_string_2)\n",
    "print()\n",
    "print(bilstm_model.metrics_on_string(long_string_2, print_string=True))\n",
    "print()\n",
    "print(bilstm_model.metrics_on_string(long_string_2, print_string=True, padded=True))"
   ]
  },
  {
   "cell_type": "markdown",
   "id": "90231e57",
   "metadata": {},
   "source": [
    "A `string_perplexity()` csak a perplexitást számolja, padding nélkül."
   ]
  },
  {
   "cell_type": "code",
   "execution_count": 19,
   "id": "d783d62f",
   "metadata": {},
   "outputs": [
    {
     "name": "stdout",
     "output_type": "stream",
     "text": [
      "1.0837712076183974\n",
      "1.1823819262171171\n"
     ]
    }
   ],
   "source": [
    "print(bilstm_model.string_perplexity(long_string_1))\n",
    "print(bilstm_model.string_perplexity(long_string_2))"
   ]
  },
  {
   "cell_type": "markdown",
   "id": "a58e5ff4",
   "metadata": {},
   "source": [
    "A `predict_on_string()` a megadott inputsztring megadott pozíciójára (alapértelmezés szerint a bal kontextus után következő elsőre) adja vissza a Keras-modell `predict()` metódusa által számolt predikcióvektort.\n",
    "\n",
    "Ez gyakorlatilag ugyanaz, mintha az inputsztringre futtatnánk a `predict()` metódust, csak nem a felhasználónak kell bajlódnia a bal és a jobb X inputmátrix lekódolásával a sztring alapján, és a `predict()` függvény által visszaadott mátrixból kiveszi az egyetlen sort mint vektort, valamint a 0 és az alsó valószínűségi küszöb alá eső egyéb nagyon kis valószínűségeket kicseréli az alsó valószínűségi küszöbre."
   ]
  },
  {
   "cell_type": "code",
   "execution_count": 21,
   "id": "8ba5d309",
   "metadata": {
    "scrolled": false
   },
   "outputs": [
    {
     "name": "stdout",
     "output_type": "stream",
     "text": [
      "(1, 113)\n",
      "(113,)\n",
      "\n",
      "[9.9999998e-14 9.9999998e-14 1.3131561e-06 3.6015937e-11 9.9999998e-14\n",
      " 9.9999998e-14 9.9999998e-14 9.9999998e-14 9.9999998e-14 9.9999998e-14\n",
      " 5.3338215e-13 9.9999998e-14 2.6669019e-07 4.5251070e-09 2.6785518e-10\n",
      " 9.9999998e-14 9.9999998e-14 9.9999998e-14 9.9999998e-14 9.9999998e-14\n",
      " 9.9999998e-14 9.9999998e-14 9.9999998e-14 9.9999998e-14 9.9999998e-14\n",
      " 3.5915194e-13 9.9999845e-01 1.9177080e-12 9.9999998e-14 9.9999998e-14\n",
      " 9.9999998e-14 9.9999998e-14 9.9999998e-14 9.9999998e-14 9.9999998e-14\n",
      " 9.9999998e-14 9.9999998e-14 9.9999998e-14 9.9999998e-14 9.9999998e-14\n",
      " 9.9999998e-14 9.9999998e-14 9.9999998e-14 9.9999998e-14 9.9999998e-14\n",
      " 9.9999998e-14 9.9999998e-14 9.9999998e-14 9.9999998e-14 9.9999998e-14\n",
      " 9.9999998e-14 9.9999998e-14 9.9999998e-14 9.9999998e-14 9.9999998e-14\n",
      " 9.9999998e-14 9.9999998e-14 9.9999998e-14 9.9999998e-14 9.9999998e-14\n",
      " 9.9999998e-14 9.9999998e-14 9.9999998e-14 9.9999998e-14 9.9999998e-14\n",
      " 9.9999998e-14 9.9999998e-14 9.9999998e-14 9.9999998e-14 9.9999998e-14\n",
      " 9.9999998e-14 9.9999998e-14 9.9999998e-14 9.9999998e-14 9.9999998e-14\n",
      " 9.9999998e-14 9.9999998e-14 9.9999998e-14 9.9999998e-14 9.9999998e-14\n",
      " 9.9999998e-14 9.9999998e-14 9.9999998e-14 9.9999998e-14 9.9999998e-14\n",
      " 9.9999998e-14 9.9999998e-14 9.9999998e-14 9.9999998e-14 9.9999998e-14\n",
      " 9.9999998e-14 9.9999998e-14 9.9999998e-14 9.9999998e-14 9.9999998e-14\n",
      " 9.9999998e-14 9.9999998e-14 9.9999998e-14 9.9999998e-14 9.9999998e-14\n",
      " 9.9999998e-14 9.9999998e-14 9.9999998e-14 9.9999998e-14 9.9999998e-14\n",
      " 9.9999998e-14 9.9999998e-14 9.9999998e-14 9.9999998e-14 9.9999998e-14\n",
      " 9.9999998e-14 9.9999998e-14 9.9999998e-14]\n"
     ]
    }
   ],
   "source": [
    "pr_string = 'ra egyre többször okoz elemi pr'\n",
    "\n",
    "left_X, right_X, _ = bilstm_model.encoder.encode(pr_string, padded=False)\n",
    "keras_pred = bilstm_model.model.predict(x=[left_X, right_X], verbose=0)\n",
    "print(keras_pred.shape)\n",
    "\n",
    "convenient_pred = bilstm_model.predict_on_string(pr_string)\n",
    "print(convenient_pred.shape)\n",
    "print()\n",
    "\n",
    "print(convenient_pred)  # ez a predikcióvektor"
   ]
  },
  {
   "cell_type": "code",
   "execution_count": 22,
   "id": "7a396e88",
   "metadata": {},
   "outputs": [
    {
     "name": "stdout",
     "output_type": "stream",
     "text": [
      "[0.0000000e+00 6.4316732e-23 5.3506234e-32 0.0000000e+00 5.2040062e-28\n",
      " 1.1251697e-37 1.2896772e-32 1.2655005e-31 1.8081938e-32 4.9986114e-37\n",
      " 0.0000000e+00 1.9153030e-34 0.0000000e+00 4.4585400e-31 0.0000000e+00\n",
      " 0.0000000e+00 3.8535153e-38 0.0000000e+00 0.0000000e+00 4.8827451e-14\n",
      " 0.0000000e+00 0.0000000e+00 0.0000000e+00 0.0000000e+00 2.0631983e-14\n",
      " 1.5915439e-23 0.0000000e+00 0.0000000e+00 1.1436215e-14 0.0000000e+00\n",
      " 0.0000000e+00 0.0000000e+00 0.0000000e+00 5.5943519e-24 0.0000000e+00\n",
      " 0.0000000e+00 0.0000000e+00 0.0000000e+00 0.0000000e+00 0.0000000e+00\n",
      " 0.0000000e+00 0.0000000e+00 0.0000000e+00 0.0000000e+00 0.0000000e+00\n",
      " 0.0000000e+00 0.0000000e+00 0.0000000e+00 0.0000000e+00 0.0000000e+00\n",
      " 0.0000000e+00 0.0000000e+00 0.0000000e+00 0.0000000e+00 0.0000000e+00\n",
      " 0.0000000e+00 0.0000000e+00 0.0000000e+00 0.0000000e+00 0.0000000e+00\n",
      " 0.0000000e+00 0.0000000e+00 0.0000000e+00 0.0000000e+00 0.0000000e+00\n",
      " 0.0000000e+00 0.0000000e+00 0.0000000e+00 0.0000000e+00 0.0000000e+00\n",
      " 0.0000000e+00 0.0000000e+00 0.0000000e+00 0.0000000e+00 0.0000000e+00\n",
      " 0.0000000e+00 0.0000000e+00 0.0000000e+00 0.0000000e+00 0.0000000e+00\n",
      " 0.0000000e+00 0.0000000e+00 0.0000000e+00 0.0000000e+00 0.0000000e+00\n",
      " 0.0000000e+00 0.0000000e+00 0.0000000e+00 0.0000000e+00 0.0000000e+00\n",
      " 0.0000000e+00 0.0000000e+00 0.0000000e+00 0.0000000e+00 0.0000000e+00\n",
      " 1.5263415e-21 2.7043850e-24 8.0548792e-25 3.8230252e-26 1.4545197e-27\n",
      " 9.6302838e-25 4.7392511e-24 4.8150429e-23 7.3512812e-24]\n",
      "1.0399999817497368e-11\n",
      "\n",
      "1.000000034957375\n",
      "-3.495737499470408e-08\n"
     ]
    }
   ],
   "source": [
    "# Ezekben az elemekben különbözik a metódus által visszaadott predikcióvektor a Keras\n",
    "# által visszaadottól. Az alacsonyabb valószínűségek ki lettek cserélve 1e-13-ra, más\n",
    "# nem változott\n",
    "print(keras_pred[0][keras_pred[0] != convenient_pred])\n",
    "print(sum(convenient_pred[keras_pred[0] != convenient_pred]))\n",
    "                    # ennyit módosult a becsült valószínűségek összege a csere által\n",
    "print()\n",
    "\n",
    "print(sum(keras_pred[0])) # a predikciók összege eleve nem 1\n",
    "print(1 - sum(keras_pred[0])) # ennyiben tér el az 1-től a softmax lebegőpontos hibája miatt a predikciók összege"
   ]
  },
  {
   "cell_type": "markdown",
   "id": "ec8aa6e5",
   "metadata": {},
   "source": [
    "Látható, hogy a valószínűségeknek a küszöbértékre való cseréje a lebegőpontos számítás inherens hibájához képest elhanyagolható változást okoz, tehát tökéletesen ártalmatlan."
   ]
  },
  {
   "cell_type": "markdown",
   "id": "149c45c3",
   "metadata": {},
   "source": [
    "## Tanítás, kiértékelés"
   ]
  },
  {
   "cell_type": "markdown",
   "id": "864f33fc",
   "metadata": {},
   "source": [
    "A modell tanítására a `BiLSTM_Model.train()` metódust érdemes használni. Ennek egy olyan iterálható objektumot kell átadni, amelynek elemei szövegsztringek, tehát pl. sztringek (akár egyelemű) listáját. Az összes ilyen sztring balra és jobbra paddinget kap, megtörténik a numerikus kódolása és a batch-ekre bontásuk, és így adódnak át a Keras-modell `fit()` metódusának.\n",
    "\n",
    "A batch-ek kezelésével egyáltalán nem kell foglalkozni, tehát nem gond, ha az iterálható objektum elemei rövidebbek vagy hosszabbak a batch méreténél, mert a háttérben létrehozott `BiLSTM_Sequence` objektum a rövidebb sztringeket összerakja egy batch-be, a hosszabbakat szétbontja több batch-re, stb.\n",
    "\n",
    "Opcionálisan megadható egy validálásra szolgáló szöveghalmaz is (ugyanúgy egy iterálható objektum, aminek az elemei szövegsztringek), ezekre számítja minden epoch végén a pontosságot és a perplexitást a Keras. Ha nem adunk meg ilyet, akkor nem validál.\n",
    "\n",
    "Ha újra futtatjuk a `train()` metódust, a tanítás ott folytatódik, ahol előzőleg abbamaradt. A batch-méretet, validáló halmazt nyugodtan lehet módosítani két futtatás között, illetve értelemszerűen a tanító korpuszt is.\n",
    "\n",
    "A batch méretével érdemes kísérletezni, hogy milyen mérettel egy epoch mennyi idő alatt fut le, és adott idő alatt mennyit javulnak a metrikák. Nagy batch-méretnél (pl. 4096 és a felett) gyorsan feldolgoz egy-egy epochot, de keveset tanul belőle. Pl. 4096-os batch-méretnél az alábbi tanítókorpuszon egy epoch kb. 2,5 perc alatt lefut, de 5 epoch (összesen 13 perc) alatt jelentősen gyengébb pontosságot és perplexitást ér el, mint 256-os batch-mérettel, egyetlen epoch feldolgozásával nem egészen 12 perc alatt:"
   ]
  },
  {
   "cell_type": "code",
   "execution_count": 86,
   "id": "f5e6d61a",
   "metadata": {
    "scrolled": false
   },
   "outputs": [
    {
     "name": "stdout",
     "output_type": "stream",
     "text": [
      "Model: \"model_8\"\n",
      "__________________________________________________________________________________________________\n",
      "Layer (type)                    Output Shape         Param #     Connected to                     \n",
      "==================================================================================================\n",
      "input_left (InputLayer)         [(None, 15, 80)]     0                                            \n",
      "__________________________________________________________________________________________________\n",
      "input_right (InputLayer)        [(None, 15, 80)]     0                                            \n",
      "__________________________________________________________________________________________________\n",
      "lstm_forward (LSTM)             (None, 64)           37120       input_left[0][0]                 \n",
      "__________________________________________________________________________________________________\n",
      "lstm_backward (LSTM)            (None, 64)           37120       input_right[0][0]                \n",
      "__________________________________________________________________________________________________\n",
      "concatenate_2 (Concatenate)     (None, 128)          0           lstm_forward[0][0]               \n",
      "                                                                 lstm_backward[0][0]              \n",
      "__________________________________________________________________________________________________\n",
      "dense_2 (Dense)                 (None, 64)           8256        concatenate_2[0][0]              \n",
      "__________________________________________________________________________________________________\n",
      "dropout_2 (Dropout)             (None, 64)           0           dense_2[0][0]                    \n",
      "__________________________________________________________________________________________________\n",
      "output (Dense)                  (None, 113)          7345        dropout_2[0][0]                  \n",
      "==================================================================================================\n",
      "Total params: 89,841\n",
      "Trainable params: 89,841\n",
      "Non-trainable params: 0\n",
      "__________________________________________________________________________________________________\n",
      "Encoder created. Left context width: 15 Right context width: 15\n",
      "Input encoding dimension: 80 Target encoding dimension: 113\n",
      "Epoch 1/5\n",
      "1151/1151 [==============================] - 141s 122ms/step - loss: 2.4491 - accuracy: 0.3143 - perplexity: 11.5779 - val_loss: 1.9532 - val_accuracy: 0.4516 - val_perplexity: 7.0515\n",
      "Epoch 2/5\n",
      "1151/1151 [==============================] - 143s 124ms/step - loss: 1.9117 - accuracy: 0.4367 - perplexity: 6.7648 - val_loss: 1.7249 - val_accuracy: 0.5175 - val_perplexity: 5.6115\n",
      "Epoch 3/5\n",
      "1151/1151 [==============================] - 140s 122ms/step - loss: 1.7548 - accuracy: 0.4810 - perplexity: 5.7823 - val_loss: 1.6047 - val_accuracy: 0.5603 - val_perplexity: 4.9285\n",
      "Epoch 4/5\n",
      "1151/1151 [==============================] - 146s 127ms/step - loss: 1.6467 - accuracy: 0.5127 - perplexity: 5.1896 - val_loss: 1.5253 - val_accuracy: 0.5841 - val_perplexity: 4.5346\n",
      "Epoch 5/5\n",
      "1151/1151 [==============================] - 141s 123ms/step - loss: 1.5620 - accuracy: 0.5386 - perplexity: 4.7682 - val_loss: 1.4349 - val_accuracy: 0.6156 - val_perplexity: 4.1116\n"
     ]
    }
   ],
   "source": [
    "bilstm_model_empty = lstm_model.BiLSTM_Model(input_encoder=input_enc, output_encoder=output_enc,\n",
    "                                             left_context=15, right_context=15)\n",
    "\n",
    "with open(\"test_files/2.press_hu_promenad_003_2010.txt\", encoding='utf-8') as infile:\n",
    "    train_corpus = infile.read()\n",
    "\n",
    "bilstm_model_empty.train(texts=train_corpus.split(\"\\n\"),\n",
    "                         batch_size=4096,\n",
    "                         validation_texts=[long_string_1, long_string_2],\n",
    "                         num_epochs=5)"
   ]
  },
  {
   "cell_type": "code",
   "execution_count": 87,
   "id": "df3cbe70",
   "metadata": {},
   "outputs": [
    {
     "name": "stdout",
     "output_type": "stream",
     "text": [
      "Model: \"model_8\"\n",
      "__________________________________________________________________________________________________\n",
      "Layer (type)                    Output Shape         Param #     Connected to                     \n",
      "==================================================================================================\n",
      "input_left (InputLayer)         [(None, 15, 80)]     0                                            \n",
      "__________________________________________________________________________________________________\n",
      "input_right (InputLayer)        [(None, 15, 80)]     0                                            \n",
      "__________________________________________________________________________________________________\n",
      "lstm_forward (LSTM)             (None, 64)           37120       input_left[0][0]                 \n",
      "__________________________________________________________________________________________________\n",
      "lstm_backward (LSTM)            (None, 64)           37120       input_right[0][0]                \n",
      "__________________________________________________________________________________________________\n",
      "concatenate_2 (Concatenate)     (None, 128)          0           lstm_forward[0][0]               \n",
      "                                                                 lstm_backward[0][0]              \n",
      "__________________________________________________________________________________________________\n",
      "dense_2 (Dense)                 (None, 64)           8256        concatenate_2[0][0]              \n",
      "__________________________________________________________________________________________________\n",
      "dropout_2 (Dropout)             (None, 64)           0           dense_2[0][0]                    \n",
      "__________________________________________________________________________________________________\n",
      "output (Dense)                  (None, 113)          7345        dropout_2[0][0]                  \n",
      "==================================================================================================\n",
      "Total params: 89,841\n",
      "Trainable params: 89,841\n",
      "Non-trainable params: 0\n",
      "__________________________________________________________________________________________________\n",
      "Encoder created. Left context width: 15 Right context width: 15\n",
      "Input encoding dimension: 80 Target encoding dimension: 113\n",
      "18407/18407 [==============================] - 706s 38ms/step - loss: 2.5952 - accuracy: 0.2775 - perplexity: 13.3998 - val_loss: 2.1913 - val_accuracy: 0.3779 - val_perplexity: 8.9185\n"
     ]
    }
   ],
   "source": [
    "bilstm_model_empty2 = lstm_model.BiLSTM_Model(input_encoder=input_enc, output_encoder=output_enc,\n",
    "                                             left_context=15, right_context=15)\n",
    "\n",
    "bilstm_model_empty2.train(texts=train_corpus.split(\"\\n\"),\n",
    "                         batch_size=256,\n",
    "                         validation_texts=[long_string_1, long_string_2],\n",
    "                         num_epochs=1)"
   ]
  },
  {
   "cell_type": "markdown",
   "id": "1ab26d9b",
   "metadata": {},
   "source": [
    "Viszont másfelől ha túl kicsi a batch-méret, akkor adott idő alatt megint kevésbé jól tanul. Például 128-as batch-méret mellett 40 perc tanulás (2 epoch) után kb. ugyanolyan pontosságú és perplexitású modellt kaptam, mint 512-es batch-csel 30 perc (4 epoch) tanulás után, és jelentősen rosszabbat, mint 256-os méret mellett 35 perc (3 epoch) után. Úgy találtam, hogy a 256 vagy 512 batch-mérettel a leghatékonyabb a tanulás, a kettő között nincs határozott különbség."
   ]
  },
  {
   "cell_type": "code",
   "execution_count": 86,
   "id": "ebc94278",
   "metadata": {},
   "outputs": [
    {
     "name": "stdout",
     "output_type": "stream",
     "text": [
      "Model: \"model_35\"\n",
      "__________________________________________________________________________________________________\n",
      "Layer (type)                    Output Shape         Param #     Connected to                     \n",
      "==================================================================================================\n",
      "input_left (InputLayer)         [(None, 15, 80)]     0                                            \n",
      "__________________________________________________________________________________________________\n",
      "input_right (InputLayer)        [(None, 15, 80)]     0                                            \n",
      "__________________________________________________________________________________________________\n",
      "lstm_forward (LSTM)             (None, 64)           37120       input_left[0][0]                 \n",
      "__________________________________________________________________________________________________\n",
      "lstm_backward (LSTM)            (None, 64)           37120       input_right[0][0]                \n",
      "__________________________________________________________________________________________________\n",
      "concatenate_11 (Concatenate)    (None, 128)          0           lstm_forward[0][0]               \n",
      "                                                                 lstm_backward[0][0]              \n",
      "__________________________________________________________________________________________________\n",
      "dense_11 (Dense)                (None, 64)           8256        concatenate_11[0][0]             \n",
      "__________________________________________________________________________________________________\n",
      "dropout_11 (Dropout)            (None, 64)           0           dense_11[0][0]                   \n",
      "__________________________________________________________________________________________________\n",
      "output (Dense)                  (None, 113)          7345        dropout_11[0][0]                 \n",
      "==================================================================================================\n",
      "Total params: 89,841\n",
      "Trainable params: 89,841\n",
      "Non-trainable params: 0\n",
      "__________________________________________________________________________________________________\n",
      "Encoder created. Left context width: 15 Right context width: 15\n",
      "Input encoding dimension: 80 Target encoding dimension: 113\n",
      "Epoch 1/3\n",
      "18407/18407 [==============================] - 698s 38ms/step - loss: 2.6170 - accuracy: 0.2725 - perplexity: 13.6947 - val_loss: 2.1711 - val_accuracy: 0.3737 - val_perplexity: 8.7631\n",
      "Epoch 2/3\n",
      "18407/18407 [==============================] - 697s 38ms/step - loss: 2.1333 - accuracy: 0.3698 - perplexity: 8.4424 - val_loss: 2.0609 - val_accuracy: 0.4278 - val_perplexity: 7.7249\n",
      "Epoch 3/3\n",
      "18407/18407 [==============================] - 706s 38ms/step - loss: 2.0159 - accuracy: 0.4021 - perplexity: 7.5073 - val_loss: 1.9765 - val_accuracy: 0.4599 - val_perplexity: 7.0097\n"
     ]
    }
   ],
   "source": [
    "bilstm_model_empty6 = lstm_model.BiLSTM_Model(input_encoder=input_enc, output_encoder=output_enc,\n",
    "                                             left_context=15, right_context=15)\n",
    "\n",
    "bilstm_model_empty6.train(texts=train_corpus.split(\"\\n\"),\n",
    "                         batch_size=256,\n",
    "                         validation_texts=[long_string_1, long_string_2],\n",
    "                         num_epochs=3)"
   ]
  },
  {
   "cell_type": "code",
   "execution_count": 90,
   "id": "395cd79c",
   "metadata": {},
   "outputs": [
    {
     "name": "stdout",
     "output_type": "stream",
     "text": [
      "Model: \"model_47\"\n",
      "__________________________________________________________________________________________________\n",
      "Layer (type)                    Output Shape         Param #     Connected to                     \n",
      "==================================================================================================\n",
      "input_left (InputLayer)         [(None, 15, 80)]     0                                            \n",
      "__________________________________________________________________________________________________\n",
      "input_right (InputLayer)        [(None, 15, 80)]     0                                            \n",
      "__________________________________________________________________________________________________\n",
      "lstm_forward (LSTM)             (None, 64)           37120       input_left[0][0]                 \n",
      "__________________________________________________________________________________________________\n",
      "lstm_backward (LSTM)            (None, 64)           37120       input_right[0][0]                \n",
      "__________________________________________________________________________________________________\n",
      "concatenate_15 (Concatenate)    (None, 128)          0           lstm_forward[0][0]               \n",
      "                                                                 lstm_backward[0][0]              \n",
      "__________________________________________________________________________________________________\n",
      "dense_15 (Dense)                (None, 64)           8256        concatenate_15[0][0]             \n",
      "__________________________________________________________________________________________________\n",
      "dropout_15 (Dropout)            (None, 64)           0           dense_15[0][0]                   \n",
      "__________________________________________________________________________________________________\n",
      "output (Dense)                  (None, 113)          7345        dropout_15[0][0]                 \n",
      "==================================================================================================\n",
      "Total params: 89,841\n",
      "Trainable params: 89,841\n",
      "Non-trainable params: 0\n",
      "__________________________________________________________________________________________________\n",
      "Encoder created. Left context width: 15 Right context width: 15\n",
      "Input encoding dimension: 80 Target encoding dimension: 113\n",
      "Epoch 1/4\n",
      "9204/9204 [==============================] - 451s 49ms/step - loss: 2.7885 - accuracy: 0.2402 - perplexity: 16.2565 - val_loss: 2.2544 - val_accuracy: 0.3470 - val_perplexity: 9.5298\n",
      "Epoch 2/4\n",
      "9204/9204 [==============================] - 444s 48ms/step - loss: 2.2318 - accuracy: 0.3439 - perplexity: 9.3164 - val_loss: 2.1265 - val_accuracy: 0.3951 - val_perplexity: 8.3547\n",
      "Epoch 3/4\n",
      "9204/9204 [==============================] - 442s 48ms/step - loss: 2.1095 - accuracy: 0.3755 - perplexity: 8.2438 - val_loss: 2.0625 - val_accuracy: 0.4242 - val_perplexity: 7.7564\n",
      "Epoch 4/4\n",
      "9204/9204 [==============================] - 443s 48ms/step - loss: 2.0427 - accuracy: 0.3939 - perplexity: 7.7113 - val_loss: 2.0080 - val_accuracy: 0.4421 - val_perplexity: 7.2900\n"
     ]
    }
   ],
   "source": [
    "bilstm_model_empty5 = lstm_model.BiLSTM_Model(input_encoder=input_enc, output_encoder=output_enc,\n",
    "                                             left_context=15, right_context=15)\n",
    "\n",
    "bilstm_model_empty5.train(texts=train_corpus.split(\"\\n\"),\n",
    "                         batch_size=512,\n",
    "                         validation_texts=[long_string_1, long_string_2],\n",
    "                         num_epochs=4)"
   ]
  },
  {
   "cell_type": "code",
   "execution_count": 88,
   "id": "3707d48e",
   "metadata": {},
   "outputs": [
    {
     "name": "stdout",
     "output_type": "stream",
     "text": [
      "Model: \"model_41\"\n",
      "__________________________________________________________________________________________________\n",
      "Layer (type)                    Output Shape         Param #     Connected to                     \n",
      "==================================================================================================\n",
      "input_left (InputLayer)         [(None, 15, 80)]     0                                            \n",
      "__________________________________________________________________________________________________\n",
      "input_right (InputLayer)        [(None, 15, 80)]     0                                            \n",
      "__________________________________________________________________________________________________\n",
      "lstm_forward (LSTM)             (None, 64)           37120       input_left[0][0]                 \n",
      "__________________________________________________________________________________________________\n",
      "lstm_backward (LSTM)            (None, 64)           37120       input_right[0][0]                \n",
      "__________________________________________________________________________________________________\n",
      "concatenate_13 (Concatenate)    (None, 128)          0           lstm_forward[0][0]               \n",
      "                                                                 lstm_backward[0][0]              \n",
      "__________________________________________________________________________________________________\n",
      "dense_13 (Dense)                (None, 64)           8256        concatenate_13[0][0]             \n",
      "__________________________________________________________________________________________________\n",
      "dropout_13 (Dropout)            (None, 64)           0           dense_13[0][0]                   \n",
      "__________________________________________________________________________________________________\n",
      "output (Dense)                  (None, 113)          7345        dropout_13[0][0]                 \n",
      "==================================================================================================\n",
      "Total params: 89,841\n",
      "Trainable params: 89,841\n",
      "Non-trainable params: 0\n",
      "__________________________________________________________________________________________________\n",
      "Encoder created. Left context width: 15 Right context width: 15\n",
      "Input encoding dimension: 80 Target encoding dimension: 113\n",
      "Epoch 1/2\n",
      "36814/36814 [==============================] - 1207s 33ms/step - loss: 2.4303 - accuracy: 0.3080 - perplexity: 11.3618 - val_loss: 2.1369 - val_accuracy: 0.4046 - val_perplexity: 8.3378\n",
      "Epoch 2/2\n",
      "36814/36814 [==============================] - 1206s 33ms/step - loss: 2.0480 - accuracy: 0.3885 - perplexity: 7.7524 - val_loss: 2.0173 - val_accuracy: 0.4415 - val_perplexity: 7.3294\n"
     ]
    }
   ],
   "source": [
    "bilstm_model_empty7 = lstm_model.BiLSTM_Model(input_encoder=input_enc, output_encoder=output_enc,\n",
    "                                             left_context=15, right_context=15)\n",
    "\n",
    "bilstm_model_empty7.train(texts=train_corpus.split(\"\\n\"),\n",
    "                         batch_size=128,\n",
    "                         validation_texts=[long_string_1, long_string_2],\n",
    "                         num_epochs=2)"
   ]
  },
  {
   "cell_type": "markdown",
   "id": "c233b84f",
   "metadata": {},
   "source": [
    "Ha egy szövegen akarjuk mérni a modell előrejelzésének pontosságát és a perplexitást, akkor normális esetben a `metrics_on_string()` metódust érdemes használni, kivéve, ha nagyon nagy korpuszon akarunk kiértékelni, ugyanis nagyon hosszú szövegek egyszerre nem férnek el kódolva a RAM-ban. Nálam a 64 GB RAM néhány százezer karakter kódolásánál már elfogyott. Ezért ha nagyon nagy szövegen akarunk kiértékelni (tehát nem egy-egy rövid szakasz perplexitására vagyunk kíváncsiak, mint a nyelvfelismerésnél stb., hanem ténylegesen a modell perplexitására egy adott nagyobb korpuszon), akkor ehhez érdemes példányosítani egy `BiLSTM_Sequence` objektumot, és azt átadni a Keras-modell `evaluate()` metódusának. Az felbontja a hosszú sztringet a megadott hosszúságú batch-ekre, és egyébként is jelentősen gyorsabban fut.\n",
    "\n",
    "Tanulásnál a túl nagy batch-méret nem hasznos, mert kevésbé jól tanul a modell, de kiértékelésnél érdemes minél nagyobb batch-et megadni, mert annál gyorsabb. Arra kell csak vigyázni, hogy ha a modell nagy, akkor nagyon nagy batch-méret nem fér el a GPU memóriájában, ezért ha ezt tapasztaljuk, a batch-méretet kisebbre kell venni. Például a 64 dimenziós kis modellel nálam a 65536 batch-méret is lefutott, de 256 dimenziós felett már 32768 batch-méretre sem volt elég a memória."
   ]
  },
  {
   "cell_type": "code",
   "execution_count": 87,
   "id": "7504112e",
   "metadata": {},
   "outputs": [
    {
     "name": "stdout",
     "output_type": "stream",
     "text": [
      "74/74 [==============================] - 62s 836ms/step - loss: 1.7365 - accuracy: 0.5998 - perplexity: 5.1322\n"
     ]
    },
    {
     "data": {
      "text/plain": [
       "[1.7365268468856812, 0.5998282432556152, 5.132189152285671]"
      ]
     },
     "execution_count": 87,
     "metadata": {},
     "output_type": "execute_result"
    }
   ],
   "source": [
    "with open('test_files/2.press_hu_promenad_003_2011.txt', encoding='utf-8') as infile:\n",
    "    test_text = infile.read()\n",
    "\n",
    "test_text_sequence = lstm_model.BiLSTM_Sequence([test_text], batch_size=32768, encoder=bilstm_model_empty.encoder)\n",
    "\n",
    "bilstm_model_empty.model.evaluate(x=test_text_sequence)"
   ]
  },
  {
   "cell_type": "code",
   "execution_count": 88,
   "id": "31006902",
   "metadata": {},
   "outputs": [
    {
     "name": "stdout",
     "output_type": "stream",
     "text": [
      "2358/2358 [==============================] - 108s 46ms/step - loss: 1.7365 - accuracy: 0.5998 - perplexity: 5.1322\n"
     ]
    },
    {
     "data": {
      "text/plain": [
       "[1.7365278005599976, 0.5998282432556152, 5.1321891206239165]"
      ]
     },
     "execution_count": 88,
     "metadata": {},
     "output_type": "execute_result"
    }
   ],
   "source": [
    "test_text_sequence2 = lstm_model.BiLSTM_Sequence([test_text], batch_size=1024, encoder=bilstm_model_empty.encoder)\n",
    "\n",
    "bilstm_model_empty.model.evaluate(x=test_text_sequence2)"
   ]
  },
  {
   "cell_type": "markdown",
   "id": "871f3a33",
   "metadata": {},
   "source": [
    "## Perplexitás mérése viszonylag nagy fájlon\n",
    "\n",
    "Az alábbi modellek nem azonos ideig lettek betanítva. A nagyobb modellek kevesebb ideig, a tanítókorpusznak csak egy kis részén, de azon is csak egyszer. A betöltéskor kiírt iterációszámot 256-tal kell szorozni, és ha minden igaz, annyi célkarakteren lett tanítva a modell, ha nem lett a tanítás közben egyszer sem lenullázva a számláló, amiben nem vagyok biztos. Mindenesetre így az összehasonlítás nem teljesen pontos, de aránylag jól érzékelteti, hogy a nagyobb modellek következetesen egyre jobbak (annak dacára is, hogy kevesebbet lettek tanítva). A mérésre használt fájl természetesen nem része a tanítókorpusznak.\n",
    "\n",
    "Emlékeztetőül: a kétirányú n-gram-modell erre a fájlra bő 2 óra alatt futott le, és a pontosság, illetve perplexitás 0.8328, illetve 1.7070 volt."
   ]
  },
  {
   "cell_type": "code",
   "execution_count": 24,
   "id": "4459e954",
   "metadata": {},
   "outputs": [
    {
     "data": {
      "text/plain": [
       "'BiLSTM_Model_v0.2.0>bilstm_model_512>'"
      ]
     },
     "execution_count": 24,
     "metadata": {},
     "output_type": "execute_result"
    }
   ],
   "source": [
    "bilstm_model.model.name"
   ]
  },
  {
   "cell_type": "code",
   "execution_count": 27,
   "id": "12e57ea8",
   "metadata": {},
   "outputs": [],
   "source": [
    "lstm_model.rename_model('bilstm_model_128.h5', 'BiLSTM_Model_v0.2.0>bilstm_model_128>', rename_file=False)\n",
    "lstm_model.rename_model('bilstm_model_192.h5', 'BiLSTM_Model_v0.2.0>bilstm_model_192>', rename_file=False)\n",
    "lstm_model.rename_model('bilstm_model_256.h5', 'BiLSTM_Model_v0.2.0>bilstm_model_256>', rename_file=False)\n",
    "lstm_model.rename_model('bilstm_model_384.h5', 'BiLSTM_Model_v0.2.0>bilstm_model_384>', rename_file=False)"
   ]
  },
  {
   "cell_type": "code",
   "execution_count": 26,
   "id": "82bdc40a",
   "metadata": {},
   "outputs": [
    {
     "name": "stdout",
     "output_type": "stream",
     "text": [
      "Loaded model:\n",
      "Model: \"BiLSTM_Model_v0.2.0>bilstm_model_64>\"\n",
      "__________________________________________________________________________________________________\n",
      " Layer (type)                   Output Shape         Param #     Connected to                     \n",
      "==================================================================================================\n",
      " input_left (InputLayer)        [(None, 15, 80)]     0           []                               \n",
      "                                                                                                  \n",
      " input_right (InputLayer)       [(None, 15, 80)]     0           []                               \n",
      "                                                                                                  \n",
      " lstm_forward (LSTM)            (None, 64)           37120       ['input_left[0][0]']             \n",
      "                                                                                                  \n",
      " lstm_backward (LSTM)           (None, 64)           37120       ['input_right[0][0]']            \n",
      "                                                                                                  \n",
      " concatenate (Concatenate)      (None, 128)          0           ['lstm_forward[0][0]',           \n",
      "                                                                  'lstm_backward[0][0]']          \n",
      "                                                                                                  \n",
      " dense (Dense)                  (None, 64)           8256        ['concatenate[0][0]']            \n",
      "                                                                                                  \n",
      " dropout (Dropout)              (None, 64)           0           ['dense[0][0]']                  \n",
      "                                                                                                  \n",
      " output (Dense)                 (None, 113)          7345        ['dropout[0][0]']                \n",
      "                                                                                                  \n",
      "==================================================================================================\n",
      "Total params: 89,841\n",
      "Trainable params: 89,841\n",
      "Non-trainable params: 0\n",
      "__________________________________________________________________________________________________\n",
      "276/276 [==============================] - 107s 387ms/step - loss: 0.6423 - accuracy: 0.8194 - perplexity: 1.8905\n"
     ]
    },
    {
     "data": {
      "text/plain": [
       "[0.642272412776947, 0.8194453716278076, 1.8904609498377711]"
      ]
     },
     "execution_count": 26,
     "metadata": {},
     "output_type": "execute_result"
    }
   ],
   "source": [
    "model_64 = lstm_model.BiLSTM_Model.load('bilstm_model_64.h5',\n",
    "                                            input_enc, output_enc)\n",
    "with open('test_files/1.press_hu_nem_007.txt', encoding='utf-8') as infile:\n",
    "    test_text = infile.read()\n",
    "\n",
    "test_text_sequence = lstm_model.BiLSTM_Sequence([test_text], batch_size=32768, encoder=model_64.encoder)\n",
    "\n",
    "model_64.model.evaluate(x=test_text_sequence)"
   ]
  },
  {
   "cell_type": "code",
   "execution_count": 28,
   "id": "4c038be3",
   "metadata": {},
   "outputs": [
    {
     "name": "stdout",
     "output_type": "stream",
     "text": [
      "Loaded model:\n",
      "Model: \"BiLSTM_Model_v0.2.0>bilstm_model_128>\"\n",
      "__________________________________________________________________________________________________\n",
      " Layer (type)                   Output Shape         Param #     Connected to                     \n",
      "==================================================================================================\n",
      " input_left (InputLayer)        [(None, 15, 80)]     0           []                               \n",
      "                                                                                                  \n",
      " input_right (InputLayer)       [(None, 15, 80)]     0           []                               \n",
      "                                                                                                  \n",
      " lstm_forward (LSTM)            (None, 128)          107008      ['input_left[0][0]']             \n",
      "                                                                                                  \n",
      " lstm_backward (LSTM)           (None, 128)          107008      ['input_right[0][0]']            \n",
      "                                                                                                  \n",
      " concatenate (Concatenate)      (None, 256)          0           ['lstm_forward[0][0]',           \n",
      "                                                                  'lstm_backward[0][0]']          \n",
      "                                                                                                  \n",
      " dense (Dense)                  (None, 128)          32896       ['concatenate[0][0]']            \n",
      "                                                                                                  \n",
      " dropout (Dropout)              (None, 128)          0           ['dense[0][0]']                  \n",
      "                                                                                                  \n",
      " output (Dense)                 (None, 113)          14577       ['dropout[0][0]']                \n",
      "                                                                                                  \n",
      "==================================================================================================\n",
      "Total params: 261,489\n",
      "Trainable params: 261,489\n",
      "Non-trainable params: 0\n",
      "__________________________________________________________________________________________________\n",
      "276/276 [==============================] - 113s 408ms/step - loss: 0.3663 - accuracy: 0.8952 - perplexity: 1.4352\n"
     ]
    },
    {
     "data": {
      "text/plain": [
       "[0.36633217334747314, 0.8951641917228699, 1.4351512310440604]"
      ]
     },
     "execution_count": 28,
     "metadata": {},
     "output_type": "execute_result"
    }
   ],
   "source": [
    "model_128 = lstm_model.BiLSTM_Model.load('bilstm_model_128.h5',\n",
    "                                            input_enc, output_enc)\n",
    "model_128.model.evaluate(x=test_text_sequence)"
   ]
  },
  {
   "cell_type": "code",
   "execution_count": 29,
   "id": "3f8280ea",
   "metadata": {},
   "outputs": [
    {
     "name": "stdout",
     "output_type": "stream",
     "text": [
      "Loaded model:\n",
      "Model: \"BiLSTM_Model_v0.2.0>bilstm_model_192>\"\n",
      "__________________________________________________________________________________________________\n",
      " Layer (type)                   Output Shape         Param #     Connected to                     \n",
      "==================================================================================================\n",
      " input_left (InputLayer)        [(None, 15, 80)]     0           []                               \n",
      "                                                                                                  \n",
      " input_right (InputLayer)       [(None, 15, 80)]     0           []                               \n",
      "                                                                                                  \n",
      " lstm_forward (LSTM)            (None, 192)          209664      ['input_left[0][0]']             \n",
      "                                                                                                  \n",
      " lstm_backward (LSTM)           (None, 192)          209664      ['input_right[0][0]']            \n",
      "                                                                                                  \n",
      " concatenate (Concatenate)      (None, 384)          0           ['lstm_forward[0][0]',           \n",
      "                                                                  'lstm_backward[0][0]']          \n",
      "                                                                                                  \n",
      " dense (Dense)                  (None, 192)          73920       ['concatenate[0][0]']            \n",
      "                                                                                                  \n",
      " dropout (Dropout)              (None, 192)          0           ['dense[0][0]']                  \n",
      "                                                                                                  \n",
      " output (Dense)                 (None, 113)          21809       ['dropout[0][0]']                \n",
      "                                                                                                  \n",
      "==================================================================================================\n",
      "Total params: 515,057\n",
      "Trainable params: 515,057\n",
      "Non-trainable params: 0\n",
      "__________________________________________________________________________________________________\n",
      "276/276 [==============================] - 110s 398ms/step - loss: 0.2611 - accuracy: 0.9240 - perplexity: 1.2922\n"
     ]
    },
    {
     "data": {
      "text/plain": [
       "[0.26114746928215027, 0.9239715337753296, 1.2921716210729335]"
      ]
     },
     "execution_count": 29,
     "metadata": {},
     "output_type": "execute_result"
    }
   ],
   "source": [
    "model_192 = lstm_model.BiLSTM_Model.load('bilstm_model_192.h5',\n",
    "                                            input_enc, output_enc)\n",
    "model_192.model.evaluate(x=test_text_sequence)"
   ]
  },
  {
   "cell_type": "code",
   "execution_count": 30,
   "id": "a53a6a7f",
   "metadata": {},
   "outputs": [
    {
     "name": "stdout",
     "output_type": "stream",
     "text": [
      "Loaded model:\n",
      "Model: \"BiLSTM_Model_v0.2.0>bilstm_model_256>\"\n",
      "__________________________________________________________________________________________________\n",
      " Layer (type)                   Output Shape         Param #     Connected to                     \n",
      "==================================================================================================\n",
      " input_left (InputLayer)        [(None, 15, 80)]     0           []                               \n",
      "                                                                                                  \n",
      " input_right (InputLayer)       [(None, 15, 80)]     0           []                               \n",
      "                                                                                                  \n",
      " lstm_forward (LSTM)            (None, 256)          345088      ['input_left[0][0]']             \n",
      "                                                                                                  \n",
      " lstm_backward (LSTM)           (None, 256)          345088      ['input_right[0][0]']            \n",
      "                                                                                                  \n",
      " concatenate (Concatenate)      (None, 512)          0           ['lstm_forward[0][0]',           \n",
      "                                                                  'lstm_backward[0][0]']          \n",
      "                                                                                                  \n",
      " dense (Dense)                  (None, 256)          131328      ['concatenate[0][0]']            \n",
      "                                                                                                  \n",
      " dropout (Dropout)              (None, 256)          0           ['dense[0][0]']                  \n",
      "                                                                                                  \n",
      " output (Dense)                 (None, 113)          29041       ['dropout[0][0]']                \n",
      "                                                                                                  \n",
      "==================================================================================================\n",
      "Total params: 850,545\n",
      "Trainable params: 850,545\n",
      "Non-trainable params: 0\n",
      "__________________________________________________________________________________________________\n",
      "276/276 [==============================] - 111s 400ms/step - loss: 0.2173 - accuracy: 0.9372 - perplexity: 1.2368\n"
     ]
    },
    {
     "data": {
      "text/plain": [
       "[0.21734358370304108, 0.937168538570404, 1.2367998853006918]"
      ]
     },
     "execution_count": 30,
     "metadata": {},
     "output_type": "execute_result"
    }
   ],
   "source": [
    "model_256 = lstm_model.BiLSTM_Model.load('bilstm_model_256.h5',\n",
    "                                            input_enc, output_enc)\n",
    "model_256.model.evaluate(x=test_text_sequence)"
   ]
  },
  {
   "cell_type": "code",
   "execution_count": 31,
   "id": "75a205af",
   "metadata": {},
   "outputs": [
    {
     "name": "stdout",
     "output_type": "stream",
     "text": [
      "Loaded model:\n",
      "Model: \"BiLSTM_Model_v0.2.0>bilstm_model_384>\"\n",
      "__________________________________________________________________________________________________\n",
      " Layer (type)                   Output Shape         Param #     Connected to                     \n",
      "==================================================================================================\n",
      " input_left (InputLayer)        [(None, 15, 80)]     0           []                               \n",
      "                                                                                                  \n",
      " input_right (InputLayer)       [(None, 15, 80)]     0           []                               \n",
      "                                                                                                  \n",
      " lstm_forward (LSTM)            (None, 384)          714240      ['input_left[0][0]']             \n",
      "                                                                                                  \n",
      " lstm_backward (LSTM)           (None, 384)          714240      ['input_right[0][0]']            \n",
      "                                                                                                  \n",
      " concatenate (Concatenate)      (None, 768)          0           ['lstm_forward[0][0]',           \n",
      "                                                                  'lstm_backward[0][0]']          \n",
      "                                                                                                  \n",
      " dense (Dense)                  (None, 384)          295296      ['concatenate[0][0]']            \n",
      "                                                                                                  \n",
      " dropout (Dropout)              (None, 384)          0           ['dense[0][0]']                  \n",
      "                                                                                                  \n",
      " output (Dense)                 (None, 113)          43505       ['dropout[0][0]']                \n",
      "                                                                                                  \n",
      "==================================================================================================\n",
      "Total params: 1,767,281\n",
      "Trainable params: 1,767,281\n",
      "Non-trainable params: 0\n",
      "__________________________________________________________________________________________________\n",
      "1101/1101 [==============================] - 124s 112ms/step - loss: 0.1945 - accuracy: 0.9422 - perplexity: 1.2111\n"
     ]
    },
    {
     "data": {
      "text/plain": [
       "[0.19447290897369385, 0.9421954154968262, 1.2111127176205565]"
      ]
     },
     "execution_count": 31,
     "metadata": {},
     "output_type": "execute_result"
    }
   ],
   "source": [
    "model_384 = lstm_model.BiLSTM_Model.load('bilstm_model_384.h5',\n",
    "                                            input_enc, output_enc)\n",
    "\n",
    "test_text_sequence = lstm_model.BiLSTM_Sequence([test_text], batch_size=8192, encoder=model_384.encoder)\n",
    "model_384.model.evaluate(x=test_text_sequence)"
   ]
  },
  {
   "cell_type": "code",
   "execution_count": 32,
   "id": "0bf746b8",
   "metadata": {},
   "outputs": [
    {
     "name": "stdout",
     "output_type": "stream",
     "text": [
      "Loaded model:\n",
      "Model: \"BiLSTM_Model_v0.2.0>bilstm_model_512>\"\n",
      "__________________________________________________________________________________________________\n",
      " Layer (type)                   Output Shape         Param #     Connected to                     \n",
      "==================================================================================================\n",
      " input_left (InputLayer)        [(None, 15, 80)]     0           []                               \n",
      "                                                                                                  \n",
      " input_right (InputLayer)       [(None, 15, 80)]     0           []                               \n",
      "                                                                                                  \n",
      " lstm_forward (LSTM)            (None, 512)          1214464     ['input_left[0][0]']             \n",
      "                                                                                                  \n",
      " lstm_backward (LSTM)           (None, 512)          1214464     ['input_right[0][0]']            \n",
      "                                                                                                  \n",
      " concatenate (Concatenate)      (None, 1024)         0           ['lstm_forward[0][0]',           \n",
      "                                                                  'lstm_backward[0][0]']          \n",
      "                                                                                                  \n",
      " dense (Dense)                  (None, 512)          524800      ['concatenate[0][0]']            \n",
      "                                                                                                  \n",
      " dropout (Dropout)              (None, 512)          0           ['dense[0][0]']                  \n",
      "                                                                                                  \n",
      " output (Dense)                 (None, 113)          57969       ['dropout[0][0]']                \n",
      "                                                                                                  \n",
      "==================================================================================================\n",
      "Total params: 3,011,697\n",
      "Trainable params: 3,011,697\n",
      "Non-trainable params: 0\n",
      "__________________________________________________________________________________________________\n",
      "1101/1101 [==============================] - 134s 122ms/step - loss: 0.1560 - accuracy: 0.9544 - perplexity: 1.1608\n"
     ]
    },
    {
     "data": {
      "text/plain": [
       "[0.15595199167728424, 0.9543982148170471, 1.1607969183026523]"
      ]
     },
     "execution_count": 32,
     "metadata": {},
     "output_type": "execute_result"
    }
   ],
   "source": [
    "model_512 = lstm_model.BiLSTM_Model.load('bilstm_model_512.h5',\n",
    "                                            input_enc, output_enc)\n",
    "model_512.model.evaluate(x=test_text_sequence)"
   ]
  },
  {
   "cell_type": "markdown",
   "id": "eb8a25bf",
   "metadata": {},
   "source": [
    "# LSTM- és n-gram-modellek összehasonlítása"
   ]
  },
  {
   "cell_type": "markdown",
   "id": "a3699885",
   "metadata": {},
   "source": [
    "**Normál rövid magyar szövegeken paddinggel vagy nélküle:**"
   ]
  },
  {
   "cell_type": "code",
   "execution_count": 95,
   "id": "63454821",
   "metadata": {},
   "outputs": [
    {
     "name": "stdout",
     "output_type": "stream",
     "text": [
      "A „Tarthatatlan a parkolási helyzet a lakótelepeken” című cikkünkben részletesen bemutattuk, hogy a Budapest sűrűn lakott városrészeiben élő autósok számára egyre többször okoz elemi problémát a parkolóhely-keresés. A folytatásban Ujj Péter Tamás a lehetséges megoldásokat mutatja be. Összefoglalja, mi várható a jövőben, illetve jár-e egyáltalán a parkolóhely az egyre szaporodó autók számára a közterületeken, vagy lassan fel kell hagynunk az eddigi életmódunkkal.\n",
      "Néhány hete részletes cikkben foglalkoztunk az Óbudán kialakult parkolási káosszal, miután kiderült, hogy már a helyi közterület-felügyelet sem minden szabálytalan autót büntet meg, annyira elfogytak a helyek. A cikk megjelenését követően záporoztak az olvasói levelek, és ahogy várható volt, rengetegen szeretnék, ha az érintett hivatalok végre megoldást találnának a súlyosbodó problémára.\n",
      "(0.8623529411764705, 1.5094330610760718)\n",
      "(0.8578088578088578, 1.5973799384302159)\n",
      "CPU times: user 1.41 s, sys: 7.69 ms, total: 1.41 s\n",
      "Wall time: 1.41 s\n"
     ]
    }
   ],
   "source": [
    "%%time\n",
    "print(long_string_1)\n",
    "print(bi_ngram_model.metrics_on_string(long_string_1, combine_function=multiply))\n",
    "print(bi_ngram_model.metrics_on_string(long_string_1, combine_function=multiply, padded=True))"
   ]
  },
  {
   "cell_type": "code",
   "execution_count": 33,
   "id": "9bb17cb1",
   "metadata": {},
   "outputs": [
    {
     "name": "stdout",
     "output_type": "stream",
     "text": [
      "(0.9734299516908212, 1.0837712076183974)\n",
      "(0.9708624708624709, 1.1057401867751655)\n",
      "CPU times: user 162 ms, sys: 26 ms, total: 188 ms\n",
      "Wall time: 168 ms\n"
     ]
    }
   ],
   "source": [
    "%%time\n",
    "print(bilstm_model.metrics_on_string(long_string_1))\n",
    "print(bilstm_model.metrics_on_string(long_string_1, padded=True))"
   ]
  },
  {
   "cell_type": "markdown",
   "id": "5377ec1b",
   "metadata": {},
   "source": [
    "Az LSTM-modell nagyjából háromszor olyan gyorsan végzi el a számítást, és sokkal jobb eredményt ad."
   ]
  },
  {
   "cell_type": "code",
   "execution_count": 97,
   "id": "3f023657",
   "metadata": {},
   "outputs": [
    {
     "name": "stdout",
     "output_type": "stream",
     "text": [
      "Tavaly októberben adtunk hírt róla, hogy Mészáros Lőrinc korábbi felesége, Kelemen Beatrix az egykori televíziós műsorvezetővel, Joshi Bharattal alkot egy párt. Most viszont a Story alig pár hónappal később arról számolt be, hogy véget ért kettejük kapcsolata, a lap információi szerint Joshi Bharat már el is költözött abból a budai villából, ahol eddig együtt éltek.\n",
      "Kelemen Beatrix hosszú évekig élt házasságban Mészáros Lőrinccel. A pár 2020 őszén adta be a váló pert, a részletekről, így a vagyonról is hamar megegyeztek. Egy évvel később már arról lehetett hallani, hogy Kelemen Beatrix Joshi Bharattal alkot egy párt.\n",
      "Közben pedig, ki ne tudná, Mészáros Lőrinc is újra szerelmes lett és már újra is nősült. Az ország egyik leggazdagabb embere a TV2 korábbi műsorvezetőjével, Várkonyi Andreával kötötte össze az életét.\n",
      "(0.7968176254589964, 1.7982801627641019)\n",
      "(0.7951515151515152, 1.8481860709167175)\n",
      "CPU times: user 1.41 s, sys: 0 ns, total: 1.41 s\n",
      "Wall time: 1.41 s\n"
     ]
    }
   ],
   "source": [
    "%%time\n",
    "print(long_string_2)\n",
    "print(bi_ngram_model.metrics_on_string(long_string_2, combine_function=multiply))\n",
    "print(bi_ngram_model.metrics_on_string(long_string_2, combine_function=multiply, padded=True))"
   ]
  },
  {
   "cell_type": "code",
   "execution_count": 34,
   "id": "ab010738",
   "metadata": {},
   "outputs": [
    {
     "name": "stdout",
     "output_type": "stream",
     "text": [
      "(0.9572327044025157, 1.1823819262171171)\n",
      "(0.9563636363636364, 1.1842971470568495)\n",
      "CPU times: user 162 ms, sys: 14 ms, total: 176 ms\n",
      "Wall time: 157 ms\n"
     ]
    }
   ],
   "source": [
    "%%time\n",
    "print(bilstm_model.metrics_on_string(long_string_2))\n",
    "print(bilstm_model.metrics_on_string(long_string_2, padded=True))"
   ]
  },
  {
   "cell_type": "markdown",
   "id": "5798c568",
   "metadata": {},
   "source": [
    "Ez a szöveg mindkét modellnek nehezebb az előzőnél, de az LSTM itt is jelentősen jobban teljesít."
   ]
  },
  {
   "cell_type": "markdown",
   "id": "fb4371d9",
   "metadata": {},
   "source": [
    "**Egyazon szöveg helyes (vagy kevésbé hibás) és hibás változatának értékei:**"
   ]
  },
  {
   "cell_type": "code",
   "execution_count": 99,
   "id": "79778fe7",
   "metadata": {},
   "outputs": [
    {
     "name": "stdout",
     "output_type": "stream",
     "text": [
      "A Matáv Adományvonal lehetővé teszi, hogy ön egyszerűen és gyorsan juttasson célba adományt, míg a nonprofit szervezetek pályázati úton, rövid idő alatt juthatnak nagyobb összegekhez egészségmegőrző, szociális es gyógyító programjaikhoz.\n",
      "A MatPv AdomPny vonal /hl^'etVvö tesiri, hgyy ön egyszerűen és gyorsan UittUssson cáia adományt, míg a non-profit szervezetek pályázati úton, dVvdJ kföalatt uutaatnak nagobür összegekhez ^fS^^e^í^zö, tooPPHs és gyógyító'programjaihhzz.\n",
      "N-gram:\n",
      "good: (0.8270042194092827, 1.8078382126904953)\n",
      "bad: (0.49361702127659574, 373.90907289106514)\n",
      "LSTM:\n",
      "good: (0.9620253164556962, 1.1726669829284149)\n",
      "bad: (0.5574468085106383, 73.51003281684778)\n"
     ]
    }
   ],
   "source": [
    "print(string1_correct)\n",
    "print(string1_ocr)\n",
    "print(\"N-gram:\")\n",
    "print(\"good:\", bi_ngram_model.metrics_on_string(string1_correct, combine_function=multiply, padded=True))\n",
    "print(\"bad:\", bi_ngram_model.metrics_on_string(string1_ocr, combine_function=multiply, padded=True))\n",
    "\n",
    "print(\"LSTM:\")\n",
    "print(\"good:\", bilstm_model.metrics_on_string(string1_correct, padded=True))\n",
    "print(\"bad:\", bilstm_model.metrics_on_string(string1_ocr, padded=True))"
   ]
  },
  {
   "cell_type": "code",
   "execution_count": 100,
   "id": "e947e0ed",
   "metadata": {},
   "outputs": [
    {
     "name": "stdout",
     "output_type": "stream",
     "text": [
      "Környezetvédelem, közlekedés - Budapest fuldoklik a szennyezéstől és a közlekedési du- - A főváros mindent megtesz azért, hogy vonzóbbá tegye góktól. a tömegközlekedést (a 4-es és 5-ös metró megépítésének kezdeményezése) \n",
      "K^t^r^yt^zz^t^i^tédielem, közlekedés - Budapest fuldoklik a szennyezéstől és a közlekedési du- - A főváros mindent megtesz azért, hogy vonzóbbá tegye góktól. a tömegközlekedést (a 4-es és 5-ös metró megépítésének kezdeményezése) \n",
      "N-gram:\n",
      "good: (0.8099547511312217, 2.6654477629365356)\n",
      "bad: (0.7248908296943232, 8.619916800511165)\n",
      "LSTM:\n",
      "good: (0.9140271493212669, 1.5980523885190805)\n",
      "bad: (0.8253275109170306, 5.964297914679948)\n"
     ]
    }
   ],
   "source": [
    "print(string2_good_ocr)\n",
    "print(string2_bad_ocr)\n",
    "print(\"N-gram:\")\n",
    "print(\"good:\", bi_ngram_model.metrics_on_string(string2_good_ocr, combine_function=multiply, padded=True))\n",
    "print(\"bad:\", bi_ngram_model.metrics_on_string(string2_bad_ocr, combine_function=multiply, padded=True))\n",
    "\n",
    "print(\"LSTM:\")\n",
    "print(\"good:\", bilstm_model.metrics_on_string(string2_good_ocr, padded=True))\n",
    "print(\"bad:\", bilstm_model.metrics_on_string(string2_bad_ocr, padded=True))"
   ]
  },
  {
   "cell_type": "code",
   "execution_count": 101,
   "id": "742c1789",
   "metadata": {},
   "outputs": [
    {
     "name": "stdout",
     "output_type": "stream",
     "text": [
      "értékesítő iroda nyitvatartása: hétfő-péntek 8-19h\n",
      "értíkesítto Iroda m'itfatartdsa: Mjü-ln)Hl<rk 8-19b\n",
      "N-gram:\n",
      "good: (0.74, 5.155941483942883)\n",
      "bad: (0.1568627450980392, 4970.396662142565)\n",
      "LSTM:\n",
      "good: (0.86, 2.7747810468382914)\n",
      "bad: (0.29411764705882354, 622.2232398932931)\n"
     ]
    }
   ],
   "source": [
    "print(string3_correct)\n",
    "print(string3_ocr)\n",
    "print(\"N-gram:\")\n",
    "print(\"good:\", bi_ngram_model.metrics_on_string(string3_correct, combine_function=multiply, padded=True))\n",
    "print(\"bad:\", bi_ngram_model.metrics_on_string(string3_ocr, combine_function=multiply, padded=True))\n",
    "\n",
    "print(\"LSTM:\")\n",
    "print(\"good:\", bilstm_model.metrics_on_string(string3_correct, padded=True))\n",
    "print(\"bad:\", bilstm_model.metrics_on_string(string3_ocr, padded=True))"
   ]
  },
  {
   "cell_type": "markdown",
   "id": "0495d9dd",
   "metadata": {},
   "source": [
    "Mindkét modell világosan elkülöníti egymástól a hibás és a jó szöveget. A jó szöveg perplexitása és az előrejelzés pontossága mindhárom szöveg esetében látványosan jobb az LSTM-mel számítva, mint az n-gram-modellel. Az, hogy a rossz szöveg perplexitása az n-gram-modell szerint ennyivel rosszabb, mint a jó szövegé, döntően annak a következménye, hogy az n-gram-modellben nem vezettem be a valószínűségekre olyan alsó küszöböt, mint az LSTM-modellnél.\n",
    "\n",
    "Az kicsit meglepő, hogy a hármas jó szöveget sokkal valószínűtlenebbnek ítéli meg az LSTM-modell, mint a kettes jó szöveget, pedig a hármas emberi szemmel nézve hibátlan, míg a kettes szövegben látványos problémák vannak (*du-* ... *góktól*, kötőjel-szóköz-kötőjel, mondatvégi pont után kisbetű).\n",
    "\n",
    "**OCR-szemét:**"
   ]
  },
  {
   "cell_type": "code",
   "execution_count": 102,
   "id": "c25c8759",
   "metadata": {},
   "outputs": [
    {
     "name": "stdout",
     "output_type": "stream",
     "text": [
      "az Átadva az  to^a KeaeáéNt AaaéWkéFedAa cat (atwNtaaA. aww^y\n",
      "A a L ét • a  ffc Mkm bML A hWiWWHK1**(re a nMtjjww áHő\n",
      "N-gram:\n",
      "(0.18032786885245902, 259906.4372180176)\n",
      "(0.16363636363636364, 224285.99319624595)\n",
      "LSTM:\n",
      "(0.19672131147540983, 2917.6296826774906)\n",
      "(0.12727272727272726, 2947.0715565223795)\n"
     ]
    }
   ],
   "source": [
    "print(string4)\n",
    "print(string5)\n",
    "\n",
    "print(\"N-gram:\")\n",
    "print(bi_ngram_model.metrics_on_string(string4, combine_function=multiply, padded=True))\n",
    "print(bi_ngram_model.metrics_on_string(string5, combine_function=multiply, padded=True))\n",
    "\n",
    "print(\"LSTM:\")\n",
    "print(bilstm_model.metrics_on_string(string4, padded=True))\n",
    "print(bilstm_model.metrics_on_string(string5, padded=True))"
   ]
  },
  {
   "cell_type": "markdown",
   "id": "7a083342",
   "metadata": {},
   "source": [
    "A szemét mindkét modell szerint drasztikusan rosszabb perplexitású, mint bármelyik magyar nyelvű szöveg.\n",
    "\n",
    "**Nem magyar nyelvű input:**"
   ]
  },
  {
   "cell_type": "code",
   "execution_count": 103,
   "id": "f9446102",
   "metadata": {},
   "outputs": [
    {
     "name": "stdout",
     "output_type": "stream",
     "text": [
      "Day Three of PAX East 2022 is done and dusted for another year, which means it's time for another daily round-up video. We had another jam-packed schedule today, checking out Dome Keeper (formerly known as Ludum Dare darling Dome Romantik) over on the Raw Fury booth, before heading over to the PAX Rising Showcase to check out a specially curated selection of upcoming indie games.\n",
      "N-gram:\n",
      "(0.44919786096256686, 16.246758630922756)\n",
      "LSTM:\n",
      "L Plrt 2000 és Hibpland Sistek formSdapte,nLears Ceits winrotSnas Teto formSdapteraDallygboansson videó. DibMítmSdacte,aRan JarzariSchapen,nBurnl, Csicking jtt Honi Larnen SCocmalroo(row)téz Jotas Wova Walkan, Her, ramantee, Ipersif The Loa Pode Cottta Retorttholring OkeraLo The MPL Zeling Show-orenTorChick jtt \" specialee kariner Sereation ofrsrlani\n",
      "(0.4147727272727273, 9.234163029420852)\n"
     ]
    }
   ],
   "source": [
    "print(string_en)\n",
    "print(\"N-gram:\")\n",
    "print(bi_ngram_model.metrics_on_string(string_en, combine_function=multiply))\n",
    "print(\"LSTM:\")\n",
    "print(bilstm_model.metrics_on_string(string_en, print_string=True))"
   ]
  },
  {
   "cell_type": "markdown",
   "id": "cb8ee4ad",
   "metadata": {},
   "source": [
    "A tiszta angol szöveg perplexitása egyik modell szerint sem közelít a magyar szövegekéhez, tehát idegen nyelvű szöveg felismerésére is jól működik mindkét modell. A `print_string` outputján látszik, hogy egyetlen szót sem talál el az LSTM-modell, tehát a tanítókorpuszban valószínűleg nemigen találkozott számottevő angol nyelvű részletekkel.\n",
    "\n",
    "**Szemétszűrés**:"
   ]
  },
  {
   "cell_type": "code",
   "execution_count": 35,
   "id": "de7edf4a",
   "metadata": {
    "scrolled": false
   },
   "outputs": [
    {
     "ename": "NameError",
     "evalue": "name 'long_ocr_string' is not defined",
     "output_type": "error",
     "traceback": [
      "\u001b[0;31m---------------------------------------------------------------------------\u001b[0m",
      "\u001b[0;31mNameError\u001b[0m                                 Traceback (most recent call last)",
      "Input \u001b[0;32mIn [35]\u001b[0m, in \u001b[0;36m<cell line: 1>\u001b[0;34m()\u001b[0m\n\u001b[0;32m----> 1\u001b[0m \u001b[38;5;28;01mfor\u001b[39;00m line \u001b[38;5;129;01min\u001b[39;00m \u001b[43mlong_ocr_string\u001b[49m\u001b[38;5;241m.\u001b[39msplit(\u001b[38;5;124m'\u001b[39m\u001b[38;5;130;01m\\n\u001b[39;00m\u001b[38;5;124m'\u001b[39m):\n\u001b[1;32m      2\u001b[0m     \u001b[38;5;28;01mif\u001b[39;00m \u001b[38;5;28mlen\u001b[39m(line) \u001b[38;5;241m<\u001b[39m \u001b[38;5;241m31\u001b[39m:\n\u001b[1;32m      3\u001b[0m         \u001b[38;5;28;01mcontinue\u001b[39;00m\n",
      "\u001b[0;31mNameError\u001b[0m: name 'long_ocr_string' is not defined"
     ]
    }
   ],
   "source": [
    "for line in long_ocr_string.split('\\n'):\n",
    "    if len(line) < 31:\n",
    "        continue\n",
    "    print(line)\n",
    "    print('\\t', bilstm_model.metrics_on_string(line, padded=True))"
   ]
  },
  {
   "cell_type": "markdown",
   "id": "423bf055",
   "metadata": {},
   "source": [
    "Itt lejjebb lehet tenni a perplexitás küszöbét, mint az n-gram-modellnél, mert a meggyőzően jó sorok perplexitása következetesen 3 alatt van. Némi ráhagyással 4-re állítom be."
   ]
  },
  {
   "cell_type": "code",
   "execution_count": 105,
   "id": "cc02bae6",
   "metadata": {},
   "outputs": [
    {
     "name": "stdout",
     "output_type": "stream",
     "text": [
      "Fialj Janos Petrányi Judit Rónai Egon Nagy ibolya Bornemissza Tamas\n",
      "\t 3.2975684161057406\n",
      "* A szeptemberi időponthoz további 10% engedmény'\n",
      "\t 2.916731235797478\n",
      "A Kereskedelmi és Hitelbank Rt letétkezelésében lévő alapok nettó eszközérték Ft (egy jegy re jutó nettó eszközérték) adatai:\n",
      "\t 1.7965669658566392\n",
      "Mély fájdalommal tudatjuk mindazokkal, akik ismerték és szerették, hogy KÜSTEL RICHÁRD oki. elektromérnök, közgazdász életének 78. évében, hősiesen viselt súlyos betegségben 2002. szeptember 19-én elhunyt.\n",
      "\t 1.6138524278032564\n",
      "Végső búcsúztatása a Farkasréti temetőben lesz október 10-én 10.30 órakor. A gyászoló család.\n",
      "\t 1.1897200036937081\n",
      "A szeptember 28-al keresztrejtvény nyertese:\n",
      "\t 1.7432089771265302\n",
      "Nyereményét, a Nagy Képes Világőrténet, és a Magyarország családjai CD-Romot, postázzuk!\n",
      "\t 2.4815064739063475\n"
     ]
    }
   ],
   "source": [
    "for line in long_ocr_string.split('\\n'):\n",
    "    if len(line) < 31:\n",
    "        continue\n",
    "    perpl = bilstm_model.metrics_on_string(line, padded=True)[1]\n",
    "    if perpl < 4:\n",
    "        print(line)\n",
    "        print('\\t', perpl)"
   ]
  },
  {
   "cell_type": "code",
   "execution_count": 106,
   "id": "59c5a31c",
   "metadata": {
    "scrolled": false
   },
   "outputs": [
    {
     "name": "stdout",
     "output_type": "stream",
     "text": [
      "X nap/7 éj IO nap/9 éj hotel*** fp.-vnl 59 900 I t/ífttöi 74 900 I vrőtól hotel**** fp.-vwl 74 900 It/fölől X4 900 JVfőtrtl hotel.....n».-vnl X9 900 It/fótól 99 900 I VfMól\n",
      "\t 232.0532517664282\n",
      "üdülés, hotel*•• fp.-val:\t79 900 Fl/főtől\n",
      "\t 58.734038801783896\n",
      "korutuzas ♦ üdülés Djerba szigetén,\n",
      "\t 12.196808127860377\n",
      "X nap hottf**** fp.-val\t69 900 H/fótól\n",
      "\t 278.6365657051853\n",
      "botéi***** fp.-val\t96 900 Fl/főtől\n",
      "\t 373.91935888994794\n",
      "Nílusi hajóul közvetlen chalerjarultal. 5* m luxuslupóval: 129 900 Ftíőtől\n",
      "\t 15.329949348407402\n",
      "TH-: 2M»-O<.*2. 2M-OH33 TH.: .M2-O.MO. .152-WM* MTI. l«Mr«l 44M. nd.\n",
      "\t 718.2612341802306\n",
      "ajánlaton Portugália .bombaáron* 'épülő, 7 nap teljes p.. X. 14-20.. 21-27 189 900 Ft/« DáFSpanyolorazág-Marokkó. rep. 13 nap\n",
      "\t 16.635379009819914\n",
      "3/4* száll, fél. ill, teljes p. X. 28-XI 9. 349 900 Ft/« Prága-Kariovy Vary, busz 5 nap fp„ X. 19-23.39 900-47 900 Ft/« München, Sörfesztivál, busz, 3 nap reggeli, IX. 27-29.. X. 4-6 29 900 R/«\n",
      "\t 6.575673132110289\n",
      "Cseh várak, városok ét kastélyok, busz, 7 nap reggelt. X. 22-28.. 54 900 Ft/R Rótna-Nápoly-Pompejl, busz, 6 nap reggeli, X, 22-27 66 900 R/W Advent Steyrben, busz, 2 nap fp„ XI. 30.. XII. 1 . XII. 14 . 25 900 R/K Szilveszter az OPATIJAI RIVIERÄN busz, 4 nap fp„ XII. 30 53 900 Ft/« ♦ kdt. szilv. vacsora ' jelentkezés' szekszárdi irodánknál (74)* 5ÍV-955; és több száz vidéki és budapesti partnerünknél toltour@toln8.net, www.toltour.lolna.net\n",
      "\t 8.35655126503107\n",
      "– Fittségi kompiét tesztelés (aUckepevseg. «leti mozjékoaysag)\n",
      "\t 65.18051010026743\n",
      "– Csoportot es egyéni tiiucsadzs (alzklonnilzsrol, testi panaszok- ml eWmodroi, helyes táplálkozásról)\n",
      "\t 18.239278502223677\n",
      "TAéton pArari, hi^wlóáá. ftáadun bntfto. ma. euaa. ftanz^UKKJ.\n",
      "\t 4498.625543990312\n",
      "HASTAMCTANULÁ8 |«t «rakat Joli Jtott\ttetor tartja)\n",
      "\t 95.6242318877773\n",
      "Hbrlmcv krtagm ahaayoMi trabaUaa\n",
      "\t 6426.091242969817\n",
      "PEJKÓ Lovaspanzió. Csongrád Mobd: 106-201921-8004«Tel !ai. (06-1) 349-3650\n",
      "\t 18.868962923256245\n",
      "Első Hazai Lakásalap 51 789 494 (9 691)\n",
      "\t 4.075164031535669\n"
     ]
    }
   ],
   "source": [
    "for line in long_ocr_string.split('\\n'):\n",
    "    if len(line) < 31:\n",
    "        continue\n",
    "    perpl = bilstm_model.metrics_on_string(line, padded=True)[1]\n",
    "    if perpl > 4:\n",
    "        print(line)\n",
    "        print('\\t', perpl)"
   ]
  },
  {
   "cell_type": "markdown",
   "id": "e4008f1a",
   "metadata": {},
   "source": [
    "Ugyanolyan meggyőzően működik, mint az n-gram-modellel."
   ]
  }
 ],
 "metadata": {
  "kernelspec": {
   "display_name": "Python 3 (ipykernel)",
   "language": "python",
   "name": "python3"
  },
  "language_info": {
   "codemirror_mode": {
    "name": "ipython",
    "version": 3
   },
   "file_extension": ".py",
   "mimetype": "text/x-python",
   "name": "python",
   "nbconvert_exporter": "python",
   "pygments_lexer": "ipython3",
   "version": "3.10.6"
  }
 },
 "nbformat": 4,
 "nbformat_minor": 5
}
