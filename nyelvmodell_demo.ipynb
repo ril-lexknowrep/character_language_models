{
 "cells": [
  {
   "cell_type": "markdown",
   "id": "bcc82152",
   "metadata": {},
   "source": [
    "# Egyirányú n-gram-modellek"
   ]
  },
  {
   "cell_type": "markdown",
   "id": "d093eed8",
   "metadata": {},
   "source": [
    "## Modell betöltése"
   ]
  },
  {
   "cell_type": "code",
   "execution_count": 1,
   "id": "3293127b",
   "metadata": {},
   "outputs": [],
   "source": [
    "import pickle\n",
    "\n",
    "import ngram_model\n",
    "from ngram_model import MultiNgramTrieRoot, BiMultiNgramModel\n",
    "\n",
    "with open('ngram_forward.model', 'rb') as savefile:\n",
    "    trie_forward = pickle.load(savefile)\n",
    "with open('ngram_backward.model', 'rb') as savefile:\n",
    "    trie_backward = pickle.load(savefile)"
   ]
  },
  {
   "cell_type": "markdown",
   "id": "1c68c1c1",
   "metadata": {},
   "source": [
    "## A trie-csúcsokban tárolt információk"
   ]
  },
  {
   "cell_type": "code",
   "execution_count": 2,
   "id": "5c0b7a0f",
   "metadata": {},
   "outputs": [
    {
     "name": "stdout",
     "output_type": "stream",
     "text": [
      "1877940021\n",
      "1877940021\n"
     ]
    }
   ],
   "source": [
    "print(trie_forward.total)\n",
    "print(trie_backward.total)"
   ]
  },
  {
   "cell_type": "markdown",
   "id": "80696ac3",
   "metadata": {},
   "source": [
    "Ennyi karakter volt összesen a tanítókorpuszban."
   ]
  },
  {
   "cell_type": "code",
   "execution_count": 3,
   "id": "e1c3f9b7",
   "metadata": {
    "scrolled": false
   },
   "outputs": [
    {
     "name": "stdout",
     "output_type": "stream",
     "text": [
      "dict_keys(['\\x00', 'H', 'V', 'G', ' ', '9', '/', '0', '8', '.', 's', 'z', 'á', 'm', '1', 'f', 'e', 'b', 'r', 'u', '2', '7', '\\n', 'A', 'ű', 'n', 'ü', 'l', 'd', 'ö', 'é', ',', 'a', 'y', 'k', 'o', 't', 'v', 'i', 'í', 'g', 'ő', 'c', 'h', 'j', 'ó', '-', 'p', 'M', '\"', ':', '(', ')', 'ú', 'O', 'J', 'B', 'P', 'D', '3', 'R', 'F', 'K', 'C', 'E', 'T', 'L', '6', 'x', '5', 'I', 'N', 'S', 'Z', 'Ő', '4', 'É', 'Í', 'Á', 'U', ';', 'Ú', 'Y', 'w', 'Ü', \"'\", 'X', '=', '*', 'W', '?', 'Ö', 'Ó', '!', 'q', 'ä', '„', '”', 'Q', 'Ű', '&', '[', ']', 'ë', '\\x01', '+', '@', '–', '%', '>', '•', '|', '$', '_'])\n"
     ]
    }
   ],
   "source": [
    "print(trie_forward.children.keys())"
   ]
  },
  {
   "cell_type": "markdown",
   "id": "0eadb67f",
   "metadata": {},
   "source": [
    "A tanítás közben (lásd `MultiNgramTrieRoot.main()`) a tanítósztringre meghívtam a modell példányszintű `MultiNgramTrieRoot.replace_oov()` metódusát, ami az inputsztringben kicserélte az LSTM-modell outputkódolója szerint OVV-karakternek számító karaktereket OOV-karakterekre. Ez értelemszerűen azért pont így történt, hogy közvetlenül összevethető legyen az n-gram- és az LSTM-modell, de nyilván ettől függetlenül is lehet értelme a nagyon ritka karaktereket OOV-ként kezelni. Az `\\u0000` a paddingkarakter, az `\\u0001` az OOV-karakter.\n",
    "\n",
    "Hogy pontosan mi számít ritka karakternek, az a `encode_characters.py` `main()` függvényéből derül ki. Ott az `INPUT_COUNT_THRESHOLD` és a `FREQ_EXPONENT` értékét pedig úgy határoztam meg, hogy futtattam a teljes tanítókorpuszra a `press_corpus_scripts` repóból a `list_chars_in_files.py` szkriptet a korpuszra, sokáig nézegettem ennek az outputját, aztán húztam önkényesen egy határt, hogy mit különböztetek még meg külön karakterként és mi legyen már OOV."
   ]
  },
  {
   "cell_type": "code",
   "execution_count": 4,
   "id": "5deb6158",
   "metadata": {},
   "outputs": [
    {
     "name": "stdout",
     "output_type": "stream",
     "text": [
      "132188621\n",
      "132188621\n",
      "6497044\n",
      "6497044\n"
     ]
    }
   ],
   "source": [
    "print(trie_forward.children['a'].total)\n",
    "print(trie_forward.prefix_count('a'))\n",
    "print(trie_forward.children['a'].children['b'].total)\n",
    "print(trie_forward.prefix_count('ba'))"
   ]
  },
  {
   "cell_type": "markdown",
   "id": "c0ba27f7",
   "metadata": {},
   "source": [
    "Ennyi 'a' unigram, illetve 'ba' bigram van a korpuszban, és így tároltam a számokat."
   ]
  },
  {
   "cell_type": "markdown",
   "id": "ef7bb93c",
   "metadata": {},
   "source": [
    "## Simított n-gram-valószínűségek, backoff"
   ]
  },
  {
   "cell_type": "code",
   "execution_count": 5,
   "id": "ec58f4d7",
   "metadata": {},
   "outputs": [
    {
     "data": {
      "text/plain": [
       "{'\\x00': 2.356742658931507e-08,\n",
       " 'H': 2.2296633979106903e-10,\n",
       " 'V': 3.4195873874692456e-10,\n",
       " 'G': 5.094723100925464e-10,\n",
       " ' ': 0.003946694415040005,\n",
       " '9': 1.213029309744158e-10,\n",
       " '/': 5.531413652433361e-09,\n",
       " '0': 1.0512920684449368e-10,\n",
       " '8': 8.086862064961053e-11,\n",
       " '.': 0.0003115811380294741,\n",
       " 's': 0.00010386037934315803,\n",
       " 'z': 2.9130558070033216e-05,\n",
       " 'á': 0.0005193018967157901,\n",
       " 'm': 6.744061724394456e-07,\n",
       " '1': 2.0725472206485897e-09,\n",
       " 'f': 0.00020772075868631605,\n",
       " 'e': 0.008101109588766326,\n",
       " 'b': 0.00020772075868631605,\n",
       " 'r': 0.0006231622760589482,\n",
       " 'u': 0.0021810679662063186,\n",
       " '2': 1.1067448368903842e-09,\n",
       " '7': 9.819761078881278e-11,\n",
       " '\\n': 4.707015828211045e-08,\n",
       " 'A': 1.3828534131083401e-09,\n",
       " 'ű': 8.143123519612996e-08,\n",
       " 'n': 0.004362135932412637,\n",
       " 'ü': 6.922030453124063e-07,\n",
       " 'l': 3.2506643915923016e-07,\n",
       " 'd': 1.0713012757256691e-07,\n",
       " 'ö': 0.00020772075868631605,\n",
       " 'é': 0.0010386037934315801,\n",
       " ',': 0.0011424641727747382,\n",
       " 'a': 0.009970596416943171,\n",
       " 'y': 7.503799310077362e-08,\n",
       " 'k': 0.7914160905948642,\n",
       " 'o': 0.03146969494097688,\n",
       " 't': 0.0003115811380294741,\n",
       " 'v': 1.986583876898054e-07,\n",
       " 'i': 0.008308830347452641,\n",
       " 'í': 0.0007270226554021062,\n",
       " 'g': 0.00010386037934315803,\n",
       " 'ő': 0.0006231622760589482,\n",
       " 'c': 1.9349896969236023e-07,\n",
       " 'h': 0.0003115811380294741,\n",
       " 'j': 2.1073207275279222e-08,\n",
       " 'ó': 0.07862230716277062,\n",
       " '-': 0.0006231622760589482,\n",
       " 'p': 5.096767921761889e-07,\n",
       " 'M': 5.429750243616707e-10,\n",
       " '\"': 1.3377201915587414e-15,\n",
       " ':': 1.0864699184275174e-07,\n",
       " '(': 5.348881622967096e-10,\n",
       " ')': 0.0003115811380294741,\n",
       " 'ú': 0.05400739725844217,\n",
       " 'O': 6.284647090484018e-10,\n",
       " 'J': 1.166818669372952e-10,\n",
       " 'B': 1.006236694083011e-09,\n",
       " 'P': 6.053593888627989e-10,\n",
       " 'D': 2.84195438282917e-10,\n",
       " '3': 3.1192182250564064e-10,\n",
       " 'R': 1.7791096542914315e-10,\n",
       " 'F': 2.911270343385979e-10,\n",
       " 'K': 2.218110737817889e-10,\n",
       " 'C': 4.2975895545221594e-10,\n",
       " 'E': 2.980586303942788e-10,\n",
       " 'T': 3.4889033480260546e-10,\n",
       " 'L': 1.7560043341058286e-10,\n",
       " '6': 1.0397394083521354e-10,\n",
       " 'x': 8.895548271457158e-11,\n",
       " '5': 1.420977191414585e-10,\n",
       " 'I': 3.1654288654276123e-10,\n",
       " 'N': 2.2296633979106903e-10,\n",
       " 'S': 4.817459258698227e-10,\n",
       " 'Z': 6.469489651968841e-11,\n",
       " 'Ő': 1.2707926102081654e-11,\n",
       " '4': 2.4607165997667207e-10,\n",
       " 'É': 8.780021670529143e-11,\n",
       " 'Í': 2.0794788167042706e-11,\n",
       " 'Á': 1.236134629929761e-10,\n",
       " 'U': 2.1025841368898736e-10,\n",
       " ';': 6.025867504405264e-09,\n",
       " 'Ú': 3.465798027840451e-11,\n",
       " 'Y': 1.3863192111361806e-11,\n",
       " 'w': 1.8740725202542598e-08,\n",
       " 'Ü': 5.776330046400752e-12,\n",
       " \"'\": 2.0910314767970723e-10,\n",
       " 'X': 4.852117238976632e-11,\n",
       " '=': 1.6866883735490194e-10,\n",
       " '*': 1.1552660092801503e-12,\n",
       " 'W': 1.7791096542914315e-10,\n",
       " '?': 2.4544781633166077e-08,\n",
       " 'Ö': 8.664495069601129e-11,\n",
       " 'Ó': 3.4657980278404515e-12,\n",
       " '!': 0.00010386037934315803,\n",
       " 'q': 4.155491835380701e-09,\n",
       " 'ä': 8.086862064961053e-11,\n",
       " '„': 1.1552660092801503e-12,\n",
       " '”': 3.1076655649636043e-09,\n",
       " 'Q': 1.2707926102081654e-11,\n",
       " 'Ű': 1.1552660092801503e-12,\n",
       " '&': 1.9292942354978514e-10,\n",
       " '[': 5.299136975972256e-17,\n",
       " ']': 6.585016252896857e-10,\n",
       " 'ë': 1.1552660092801503e-12,\n",
       " '\\x01': 2.275874038281896e-10,\n",
       " '+': 4.14740497331574e-10,\n",
       " '@': 4.262931574243755e-10,\n",
       " '–': 1.236134629929761e-10,\n",
       " '%': 1.1552660092801503e-12,\n",
       " '>': 1.0743973886305398e-10,\n",
       " '•': 5.314223642688691e-11,\n",
       " '|': 0.00010386037934315803,\n",
       " '$': 4.3900108352645716e-11,\n",
       " '_': 3.188534185613215e-10}"
      ]
     },
     "execution_count": 5,
     "metadata": {},
     "output_type": "execute_result"
    }
   ],
   "source": [
    "trie_forward.estimate_alternatives('macsk')"
   ]
  },
  {
   "cell_type": "code",
   "execution_count": 6,
   "id": "69853d50",
   "metadata": {},
   "outputs": [
    {
     "name": "stdout",
     "output_type": "stream",
     "text": [
      "1.0000000000000007\n"
     ]
    }
   ],
   "source": [
    "print(sum(trie_forward.estimate_alternatives('macsk').values()))"
   ]
  },
  {
   "cell_type": "markdown",
   "id": "bd1a4b4e",
   "metadata": {},
   "source": [
    "Ez egy olyan dictionaryt add vissza, aminek a kulcsai a lehetséges utolsó betűk, az értékei pedig az utolsó betűknek a modell szerinti feltételes valószínűségei. Azokra az utolsó betűkre, amik a kezdő (n-1)-gram után 0 alkalommal fordultak elő, a 0 előfordulás-szám helyett a végső bigram simított valószínűségét használja előfordulásszámként (ami mindenképp kisebb, mint 0, de a végső bigramtól függ, hogy mennyivel), tehát mindenképp ritkábbnak becsülöm, mint a ténylegesen előforduló alternatíva-n-gramok darabszámát.\n",
    "\n",
    "Például: a *macsk@* előfordulás-száma 0, így a *k@* bigram feltételes valószínűségét használom becsült előfordulásszámként.\n",
    "\n",
    "Lehetne ugye itt is a bigram helyett az (n-1)-gramhoz backoffolni, de csak az a lényeg, hogy ez egy kellően kis szám legyen, ezért nagyjából teljesen mindegy, a bigram is megteszi."
   ]
  },
  {
   "cell_type": "code",
   "execution_count": 7,
   "id": "9cc186cb",
   "metadata": {},
   "outputs": [
    {
     "name": "stdout",
     "output_type": "stream",
     "text": [
      "0\n",
      "2.8690037067041686e-06\n"
     ]
    }
   ],
   "source": [
    "print(trie_forward.prefix_count('macsk@'))\n",
    "print(trie_forward.bigram_freqs['k@'])"
   ]
  },
  {
   "cell_type": "markdown",
   "id": "8d325e73",
   "metadata": {},
   "source": [
    "Mindenesetre a tényleges előfordulásszámokat és az így becsült előfordulásszámokat összeadom az összes alternatívára, és normalizálom az egészet 1-re."
   ]
  },
  {
   "cell_type": "code",
   "execution_count": 8,
   "id": "4f0e290b",
   "metadata": {},
   "outputs": [
    {
     "name": "stdout",
     "output_type": "stream",
     "text": [
      "7620\n",
      "757\n",
      "78\n",
      "6\n"
     ]
    }
   ],
   "source": [
    "print(trie_forward.prefix_count('macsk'))\n",
    "print(trie_forward.prefix_count('macsó'))\n",
    "print(trie_forward.prefix_count('macse'))\n",
    "print(trie_forward.prefix_count('macs-'))\n",
    "# ..."
   ]
  },
  {
   "cell_type": "markdown",
   "id": "2b1f301c",
   "metadata": {},
   "source": [
    "Backoff az n-1-gramra akkor van, ha az **összes** alternatíva előfordulásszáma 0. Például becsüljük a *macút* 5-gram valószínűségét. *macú* nincs, ezért backoffol a 4-gram-modellre. *acú* adott esetben van."
   ]
  },
  {
   "cell_type": "code",
   "execution_count": 9,
   "id": "4f73e94f",
   "metadata": {},
   "outputs": [
    {
     "name": "stdout",
     "output_type": "stream",
     "text": [
      "0\n",
      "42\n"
     ]
    }
   ],
   "source": [
    "print(trie_forward.prefix_count('macú'))\n",
    "print(trie_forward.prefix_count('acú'))"
   ]
  },
  {
   "cell_type": "code",
   "execution_count": 10,
   "id": "037c581d",
   "metadata": {},
   "outputs": [
    {
     "data": {
      "text/plain": [
       "{'\\x00': 2.4285701398526387e-06,\n",
       " 'H': 2.11180012161099e-08,\n",
       " 'V': 1.5838500912082427e-08,\n",
       " 'G': 1.055900060805495e-08,\n",
       " ' ': 0.7772882601512991,\n",
       " '9': 3.875462538059061e-12,\n",
       " '/': 2.9037251672151113e-07,\n",
       " '0': 5.279500304027475e-09,\n",
       " '8': 2.7183997592530944e-12,\n",
       " '.': 4.0187556314257146e-05,\n",
       " 's': 0.023554189701554522,\n",
       " 'z': 0.0008910635023131492,\n",
       " 'á': 3.795960718595755e-06,\n",
       " 'm': 1.3916762801416425e-05,\n",
       " '1': 5.279500304027475e-09,\n",
       " 'f': 5.50704676713106e-05,\n",
       " 'e': 3.880432723460194e-06,\n",
       " 'b': 0.00017101885334836202,\n",
       " 'r': 0.0009585196776977083,\n",
       " 'u': 2.7981351611345616e-07,\n",
       " '2': 3.1677001824164854e-08,\n",
       " '7': 5.279500304027475e-09,\n",
       " '\\n': 4.846581279097222e-06,\n",
       " 'A': 8.44720048644396e-08,\n",
       " 'ű': 6.335400364832971e-08,\n",
       " 'n': 0.023554189701554522,\n",
       " 'ü': 5.068320291866377e-07,\n",
       " 'l': 0.004416476227829016,\n",
       " 'd': 0.00020959616206989076,\n",
       " 'ö': 1.8478251064096165e-07,\n",
       " 'é': 5.4695623149724645e-06,\n",
       " ',': 0.09421675880621809,\n",
       " 'a': 0.00015228190676936848,\n",
       " 'y': 5.279500304027475e-08,\n",
       " 'k': 0.00020785920646986574,\n",
       " 'o': 1.742235100329067e-07,\n",
       " 't': 0.023554189701554522,\n",
       " 'v': 9.956609623365416e-05,\n",
       " 'i': 2.513042144717078e-05,\n",
       " 'í': 7.919250456041213e-08,\n",
       " 'g': 0.0028499165001164635,\n",
       " 'ő': 9.503100547249454e-08,\n",
       " 'c': 0.0005313341900976291,\n",
       " 'h': 1.5088811868910525e-05,\n",
       " 'j': 0.047108379403109045,\n",
       " 'ó': 1.5838500912082427e-08,\n",
       " '-': 2.9955884725051894e-05,\n",
       " 'p': 1.5310550881679677e-05,\n",
       " 'M': 2.6397501520137375e-08,\n",
       " '\"': 6.113305594820302e-12,\n",
       " ':': 4.4347802553830795e-06,\n",
       " '(': 2.11180012161099e-08,\n",
       " ')': 8.140989468810367e-06,\n",
       " 'ú': 1.7686326018492042e-06,\n",
       " 'O': 2.33299798439054e-12,\n",
       " 'J': 5.279500304027475e-09,\n",
       " 'B': 3.1677001824164854e-08,\n",
       " 'P': 1.5838500912082427e-08,\n",
       " 'D': 1.055900060805495e-08,\n",
       " '3': 5.279500304027475e-09,\n",
       " 'R': 3.149994420217135e-12,\n",
       " 'F': 5.279500304027475e-09,\n",
       " 'K': 3.1677001824164854e-08,\n",
       " 'C': 2.11180012161099e-08,\n",
       " 'E': 1.5838500912082427e-08,\n",
       " 'T': 5.279500304027475e-09,\n",
       " 'L': 5.279500304027475e-09,\n",
       " '6': 5.279500304027475e-09,\n",
       " 'x': 5.279500304027475e-09,\n",
       " '5': 1.055900060805495e-08,\n",
       " 'I': 5.279500304027475e-09,\n",
       " 'N': 1.5838500912082427e-08,\n",
       " 'S': 2.6397501520137375e-08,\n",
       " 'Z': 1.055900060805495e-08,\n",
       " 'Ő': 5.279500304027475e-09,\n",
       " '4': 1.055900060805495e-08,\n",
       " 'É': 8.595345990303917e-13,\n",
       " 'Í': 2.295250319508022e-13,\n",
       " 'Á': 9.907026038284587e-13,\n",
       " 'U': 1.2839800597414908e-12,\n",
       " ';': 5.807450334430223e-07,\n",
       " 'Ú': 4.5011567207940714e-13,\n",
       " 'Y': 2.810144549286318e-13,\n",
       " 'w': 1.29298192337103e-12,\n",
       " 'Ü': 1.2051027056334392e-13,\n",
       " \"'\": 2.0357368805190268e-13,\n",
       " 'X': 3.3203719790567953e-13,\n",
       " '=': 9.502279533992031e-15,\n",
       " '*': 6.651876806325015e-14,\n",
       " 'W': 9.981273139613795e-13,\n",
       " '?': 2.280744131339869e-06,\n",
       " 'Ö': 3.6166294397940977e-13,\n",
       " 'Ó': 8.560485556510572e-14,\n",
       " '!': 9.397510541168906e-07,\n",
       " 'q': 1.3850837517181048e-13,\n",
       " 'ä': 5.961415311192338e-14,\n",
       " '„': 1.310471178099126e-13,\n",
       " '”': 7.127325410437092e-07,\n",
       " 'Q': 8.026614880917353e-14,\n",
       " 'Ű': 5.279500304027475e-09,\n",
       " '&': 5.988122901598529e-14,\n",
       " '[': 2.421675618515011e-13,\n",
       " ']': 1.1614900668860446e-07,\n",
       " 'ë': 1.437992893975421e-14,\n",
       " '\\x01': 3.1677001824164854e-08,\n",
       " '+': 3.1677001824164854e-08,\n",
       " '@': 5.279500304027475e-09,\n",
       " '–': 5.279500304027475e-09,\n",
       " '%': 9.56469095578334e-14,\n",
       " '>': 3.267884535595366e-14,\n",
       " '•': 5.355574707767698e-15,\n",
       " '|': 4.751550273624727e-08,\n",
       " '$': 1.6148252557174627e-14,\n",
       " '_': 2.2007054494701075e-14}"
      ]
     },
     "execution_count": 10,
     "metadata": {},
     "output_type": "execute_result"
    }
   ],
   "source": [
    "trie_forward.estimate_alternatives('acút')"
   ]
  },
  {
   "cell_type": "markdown",
   "id": "c7adc727",
   "metadata": {},
   "source": [
    "Az egész filozófiája akkor látszik jobban, ha olyan n-gramot veszünk, ahol a ténylegesen előforduló alternatívák száma nagyon kicsi:"
   ]
  },
  {
   "cell_type": "code",
   "execution_count": 11,
   "id": "6568b869",
   "metadata": {},
   "outputs": [
    {
     "name": "stdout",
     "output_type": "stream",
     "text": [
      "1\n",
      "1\n"
     ]
    }
   ],
   "source": [
    "print(trie_forward.prefix_count('macz'))\n",
    "print(trie_forward.prefix_count('maczo'))"
   ]
  },
  {
   "cell_type": "markdown",
   "id": "9892198a",
   "metadata": {},
   "source": [
    "Az béna nyelvmodell lenne, ami ilyenkor azt mondja, hogy a *maczo* valószínűsége 1, az összes többié 0 vagy valami elenyésző kicsi szám. A használt simítási eljárással (a *za*, *zb* stb. bigramok valószínűségével becsüljük 0 előfordulású 5-gramok előfordulás-számát) normalizálás után sokkal értelmesebb számokat kapunk:"
   ]
  },
  {
   "cell_type": "code",
   "execution_count": 12,
   "id": "412aa13c",
   "metadata": {},
   "outputs": [
    {
     "data": {
      "text/plain": [
       "{'\\x00': 5.229501968233869e-05,\n",
       " 'H': 1.4106556369031632e-06,\n",
       " 'V': 7.983380802254165e-07,\n",
       " 'G': 8.060889353732362e-07,\n",
       " ' ': 0.09028946358958553,\n",
       " '9': 6.200684118255663e-08,\n",
       " '/': 4.40248572396152e-06,\n",
       " '0': 2.4027650958240696e-07,\n",
       " '8': 3.100342059127832e-07,\n",
       " '.': 0.0018609570684260375,\n",
       " 's': 0.00926641860914848,\n",
       " 'z': 0.007809412858461355,\n",
       " 'á': 0.041357098157142336,\n",
       " 'm': 0.0030530695935812794,\n",
       " '1': 9.223517625905299e-07,\n",
       " 'f': 0.0005735090249526141,\n",
       " 'e': 0.09277016353392092,\n",
       " 'b': 0.0033183658635808485,\n",
       " 'r': 0.0018402080291953244,\n",
       " 'u': 0.003134639593156933,\n",
       " '2': 2.7825569980672285e-06,\n",
       " '7': 1.47266247808572e-07,\n",
       " '\\n': 0.00010470630219189469,\n",
       " 'A': 2.146986875946023e-06,\n",
       " 'ű': 0.0007967104006443744,\n",
       " 'n': 0.009385122955737337,\n",
       " 'ü': 0.008808583346421926,\n",
       " 'l': 0.006233943037694956,\n",
       " 'd': 0.007611293250027939,\n",
       " 'ö': 0.011505036094652027,\n",
       " 'é': 0.022048392587693484,\n",
       " ',': 0.0038965951593184847,\n",
       " 'a': 0.03824595915679359,\n",
       " 'y': 0.00032281536605153767,\n",
       " 'k': 0.0042303857362593345,\n",
       " 'o': 0.5152775788173295,\n",
       " 't': 0.051922684102747745,\n",
       " 'v': 0.0031470409613934443,\n",
       " 'i': 0.020010716021897162,\n",
       " 'í': 0.007685112394455773,\n",
       " 'g': 0.0031123326320415083,\n",
       " 'ő': 0.011396787651657577,\n",
       " 'c': 0.0001194019235521606,\n",
       " 'h': 0.0027037385520690513,\n",
       " 'j': 0.00020679281534382636,\n",
       " 'ó': 0.011481512249278394,\n",
       " '-': 0.0006791299280519515,\n",
       " 'p': 0.0017844251246964668,\n",
       " 'M': 1.379652216311885e-06,\n",
       " '\"': 8.97496797256754e-12,\n",
       " ':': 0.00016203937772031612,\n",
       " '(': 1.4261573471988024e-06,\n",
       " ')': 0.00019892569736878948,\n",
       " 'ú': 0.0013230554720225064,\n",
       " 'O': 3.433628830484073e-06,\n",
       " 'J': 1.9377137869548948e-07,\n",
       " 'B': 3.6816561952143e-06,\n",
       " 'P': 1.4416590574944416e-06,\n",
       " 'D': 7.828363699297774e-07,\n",
       " '3': 2.557782198780461e-07,\n",
       " 'R': 5.735632809386488e-07,\n",
       " 'F': 4.4954959857353556e-07,\n",
       " 'K': 9.146009074427102e-07,\n",
       " 'C': 4.185461779822572e-07,\n",
       " 'E': 1.1316248515816585e-06,\n",
       " 'T': 1.3874030714597045e-06,\n",
       " 'L': 2.0152223384330904e-07,\n",
       " '6': 1.395153926607524e-07,\n",
       " 'x': 7.75085514781958e-08,\n",
       " '5': 4.650513088691747e-08,\n",
       " 'I': 3.2553591620842225e-07,\n",
       " 'N': 5.425598603473704e-07,\n",
       " 'S': 3.015082652501816e-06,\n",
       " 'Z': 2.170239441389482e-07,\n",
       " 'Ő': 1.0076111692165452e-07,\n",
       " '4': 1.395153926607524e-07,\n",
       " 'É': 2.94532495617144e-07,\n",
       " 'Í': 5.425598603473705e-08,\n",
       " 'Á': 6.355701221212055e-07,\n",
       " 'U': 9.92109458920906e-07,\n",
       " ';': 1.6238041534682018e-05,\n",
       " 'Ú': 1.0076111692165452e-07,\n",
       " 'Y': 2.3252565443458736e-08,\n",
       " 'w': 3.3096151481189598e-06,\n",
       " 'Ü': 4.650513088691747e-08,\n",
       " \"'\": 2.557782198780461e-07,\n",
       " 'X': 6.97576963303762e-08,\n",
       " '=': 4.96054729460453e-07,\n",
       " '*': 9.765646485072647e-14,\n",
       " 'W': 6.97576963303762e-08,\n",
       " '?': 0.00011218587740954058,\n",
       " 'Ö': 9.301026177383494e-08,\n",
       " 'Ó': 1.0076111692165452e-07,\n",
       " '!': 8.539892201867611e-05,\n",
       " 'q': 3.332867713562419e-06,\n",
       " 'ä': 5.425598603473705e-08,\n",
       " '„': 1.9239078874738024e-13,\n",
       " '”': 5.200823804186937e-06,\n",
       " 'Q': 1.1783904855894052e-13,\n",
       " 'Ű': 1.5501710295639157e-08,\n",
       " '&': 5.425598603473705e-08,\n",
       " '[': 3.5552714941217945e-13,\n",
       " ']': 1.7439424082594051e-06,\n",
       " 'ë': 2.111123019785579e-14,\n",
       " '\\x01': 6.123175566777467e-07,\n",
       " '+': 1.7439424082594051e-06,\n",
       " '@': 9.301026177383495e-07,\n",
       " '–': 1.7439424082594051e-06,\n",
       " '%': 1.4041960386929617e-13,\n",
       " '>': 3.410376265040614e-07,\n",
       " '•': 9.301026177383494e-08,\n",
       " '|': 5.968158463821075e-07,\n",
       " '$': 7.750855147819579e-09,\n",
       " '_': 4.41798743425716e-07}"
      ]
     },
     "execution_count": 12,
     "metadata": {},
     "output_type": "execute_result"
    }
   ],
   "source": [
    "trie_forward.estimate_alternatives('maczó')"
   ]
  },
  {
   "cell_type": "markdown",
   "id": "bb62e245",
   "metadata": {},
   "source": [
    "Csak összehasonlításképp így nézne ki (a *maczo* 1-ének hozzáadása a normalizálás előtt), ha nem azonnal a bigram-modellre, hanem a 4-gram-modellre lépnénk vissza:"
   ]
  },
  {
   "cell_type": "code",
   "execution_count": 13,
   "id": "fcd838b2",
   "metadata": {},
   "outputs": [],
   "source": [
    "alts = trie_forward.estimate_alternatives('aczó')\n",
    "# maczo-ból 1 van\n",
    "alts['o'] = 1\n",
    "# normalizálás\n",
    "counts_sum = sum(alts.values())\n",
    "alts = {k: v / counts_sum for k, v in alts.items()}"
   ]
  },
  {
   "cell_type": "code",
   "execution_count": 14,
   "id": "4beca9d7",
   "metadata": {},
   "outputs": [
    {
     "data": {
      "text/plain": [
       "{'\\x00': 9.150216774292263e-09,\n",
       " 'H': 2.468266567246468e-10,\n",
       " 'V': 1.3968761342109133e-10,\n",
       " 'G': 1.4104380384265534e-10,\n",
       " ' ': 0.020015446009443764,\n",
       " '9': 9.015966670920614e-05,\n",
       " '/': 7.703161594483483e-10,\n",
       " '0': 4.20419030684838e-11,\n",
       " '8': 5.424761686255975e-11,\n",
       " '.': 0.00018031933341841228,\n",
       " 's': 0.00027047900012761847,\n",
       " 'z': 1.3664364401989094e-06,\n",
       " 'á': 0.004147344668623483,\n",
       " 'm': 0.008294689337246966,\n",
       " '1': 1.6138666016611522e-10,\n",
       " 'f': 0.00018031933341841228,\n",
       " 'e': 0.00703245400331808,\n",
       " 'b': 0.00027047900012761847,\n",
       " 'r': 3.219867298877234e-07,\n",
       " 'u': 0.002434311001148566,\n",
       " '2': 4.868723613414737e-10,\n",
       " '7': 2.5767618009715876e-11,\n",
       " '\\n': 1.832077640490799e-08,\n",
       " 'A': 3.7566474677322617e-10,\n",
       " 'ű': 1.394028134325629e-07,\n",
       " 'n': 0.0005409580002552369,\n",
       " 'ü': 1.5412643036331454e-06,\n",
       " 'l': 1.090771750350126e-06,\n",
       " 'd': 1.3317708568333121e-06,\n",
       " 'ö': 2.0130707455814647e-06,\n",
       " 'é': 0.00351622700165904,\n",
       " ',': 0.002253991667730153,\n",
       " 'a': 0.012712513005998067,\n",
       " 'y': 0.15615654274034504,\n",
       " 'k': 0.14299323140080095,\n",
       " 'o': 0.5329533581822149,\n",
       " 't': 9.085068098821174e-06,\n",
       " 'v': 0.0017130336674749168,\n",
       " 'i': 0.0513008503575383,\n",
       " 'í': 9.015966670920614e-05,\n",
       " 'g': 5.445741952077569e-07,\n",
       " 'ő': 1.9941301901539018e-06,\n",
       " 'c': 9.015966670920614e-05,\n",
       " 'h': 9.015966670920614e-05,\n",
       " 'j': 3.618316044732734e-08,\n",
       " 'ó': 0.0513910100242475,\n",
       " '-': 0.00036063866683682457,\n",
       " 'p': 9.015966670920614e-05,\n",
       " 'M': 2.414018950383908e-10,\n",
       " '\"': 1.5703771217636283e-15,\n",
       " ':': 2.835251695321685e-08,\n",
       " '(': 2.495390375677748e-10,\n",
       " ')': 0.00036063866683682457,\n",
       " 'ú': 0.00036063866683682457,\n",
       " 'O': 6.007923567528491e-10,\n",
       " 'J': 3.390476053909984e-11,\n",
       " 'B': 6.441904502428969e-10,\n",
       " 'P': 2.5225141841090276e-10,\n",
       " 'D': 1.3697523257796334e-10,\n",
       " '3': 4.475428391161179e-11,\n",
       " 'R': 1.0035809119573551e-10,\n",
       " 'F': 7.865904445071163e-11,\n",
       " 'K': 1.6003046974455124e-10,\n",
       " 'C': 7.323428276445564e-11,\n",
       " 'E': 1.9800380154834305e-10,\n",
       " 'T': 2.4275808545995486e-10,\n",
       " 'L': 3.5260950960663836e-11,\n",
       " '6': 2.441142758815188e-11,\n",
       " 'x': 1.3561904215639937e-11,\n",
       " '5': 8.13714252938396e-12,\n",
       " 'I': 5.6959997705687725e-11,\n",
       " 'N': 9.493332950947953e-11,\n",
       " 'S': 5.275580739883934e-10,\n",
       " 'Z': 3.797333180379182e-11,\n",
       " 'Ő': 1.7630475480331918e-11,\n",
       " '4': 2.441142758815188e-11,\n",
       " 'É': 5.153523601943175e-11,\n",
       " 'Í': 9.493332950947955e-12,\n",
       " 'Á': 1.1120761456824747e-10,\n",
       " 'U': 1.7359237396019114e-10,\n",
       " ';': 2.841218933176566e-09,\n",
       " 'Ú': 1.7630475480331918e-11,\n",
       " 'Y': 4.06857126469198e-12,\n",
       " 'w': 5.790933100078252e-10,\n",
       " 'Ü': 8.13714252938396e-12,\n",
       " \"'\": 4.475428391161179e-11,\n",
       " 'X': 1.220571379407594e-11,\n",
       " '=': 8.679618698009557e-11,\n",
       " '*': 1.708724517598725e-17,\n",
       " 'W': 1.220571379407594e-11,\n",
       " '?': 1.9629500161717245e-08,\n",
       " 'Ö': 1.627428505876792e-11,\n",
       " 'Ó': 1.7630475480331918e-11,\n",
       " '!': 1.494250606479208e-08,\n",
       " 'q': 5.831618812725172e-10,\n",
       " 'ä': 9.493332950947955e-12,\n",
       " '„': 3.3663194566310374e-17,\n",
       " '”': 9.100037728694397e-10,\n",
       " 'Q': 2.0618652509175946e-17,\n",
       " 'Ű': 2.7123808431279865e-12,\n",
       " '&': 9.493332950947955e-12,\n",
       " '[': 6.220765392246912e-17,\n",
       " ']': 3.0514284485189853e-10,\n",
       " 'ë': 3.6938954006667e-18,\n",
       " '\\x01': 1.0713904330355549e-10,\n",
       " '+': 3.0514284485189853e-10,\n",
       " '@': 1.627428505876792e-10,\n",
       " '–': 3.0514284485189853e-10,\n",
       " '%': 2.4569640141052297e-17,\n",
       " '>': 5.967237854881571e-11,\n",
       " '•': 1.627428505876792e-11,\n",
       " '|': 1.0442666246042749e-10,\n",
       " '$': 1.3561904215639933e-12,\n",
       " '_': 9.015966670920614e-05}"
      ]
     },
     "execution_count": 14,
     "metadata": {},
     "output_type": "execute_result"
    }
   ],
   "source": [
    "alts"
   ]
  },
  {
   "cell_type": "markdown",
   "id": "41599e10",
   "metadata": {},
   "source": [
    "Úgy voltam vele, hogy miután ezt a rekurzív struktúrában sokkal költségesebb lenne mindig kiszámolni, másrészt annyira drasztikusan nem tér el a bigramos közelítéstől (bár az utóbbi adott esetben persze csúnyán alábecsüli a *czy* és a *czk* valószínűségét), nem éri meg belefektetni a plusz számolási munkát és az algoritmus bonyolítását.\n",
    "\n",
    "Mindenesetre visszatérve a backoffra: ha a kezdő 3-gram sem fordult elő, visszalépünk a trigram-modellre, ha pedig az sem létezne, akkor a bigram-modellre. Becsüljük a *zxűxt* 5-gram valószínűségét:"
   ]
  },
  {
   "cell_type": "code",
   "execution_count": 15,
   "id": "a4b443e7",
   "metadata": {},
   "outputs": [
    {
     "name": "stdout",
     "output_type": "stream",
     "text": [
      "0\n",
      "0\n",
      "0\n",
      "0.05202814798238691\n"
     ]
    }
   ],
   "source": [
    "print(trie_forward.prefix_count('zxűx'))\n",
    "print(trie_forward.prefix_count('xűx'))\n",
    "print(trie_forward.prefix_count('űx'))\n",
    "print(trie_forward.bigram_freqs['xt'])"
   ]
  },
  {
   "cell_type": "markdown",
   "id": "580a4119",
   "metadata": {},
   "source": [
    "A teljes bigram-modell (tehát az ábécében szereplő összes karakter kombinációja) már eleve simítva készen el van tárolva, hogy ennyivel gyorsabban fusson a modell. (Az elő nem forduló bigramoknál simán összeszoroztam a két unigram valószínűségét.)"
   ]
  },
  {
   "cell_type": "code",
   "execution_count": 16,
   "id": "7e8af100",
   "metadata": {},
   "outputs": [
    {
     "name": "stdout",
     "output_type": "stream",
     "text": [
      "114\n",
      "12996\n",
      "12996\n"
     ]
    }
   ],
   "source": [
    "print(len(trie_forward.children.keys()))\n",
    "print(len(trie_forward.children.keys()) ** 2)\n",
    "print(len(trie_forward.bigram_freqs.keys()))"
   ]
  },
  {
   "cell_type": "markdown",
   "id": "4be30369",
   "metadata": {},
   "source": [
    "A 114 az az LSTM-beli 113 outputkarakter plusz a padding. Az LSTM soha nem jelez előre paddinget a tanítás menete miatt, hanem az csak kontextusként funkcionál, az n-gram-modellben viszont értelemszerűen megegyezik az output (utolsó karakter) és az input (a feltétel) ábécéje, így ezzel az eggyel több karakter van az ábécéjében. Kis szépséghiba, hogy a betanításkor paddingre végződő n-gramokra is tanítottam a modellt (nem csak a vele kezdődőkre), tehát ebben eltér az n-gram-modell tanítása az LSTM-modellétől, de nagyjából teljesen mindegy."
   ]
  },
  {
   "cell_type": "markdown",
   "id": "daf1d1b6",
   "metadata": {},
   "source": [
    "## Kényelmi metódusok"
   ]
  },
  {
   "cell_type": "markdown",
   "id": "83238b44",
   "metadata": {},
   "source": [
    "Az `estimate_prob()` az n-gram utolsó karakterének becsült (lényegében maximum likelihood-becslés alapján + a 0 előfordulású alternatívák simítása) feltételes valószínűségét adja vissza adott n-1 hosszú prefixum után."
   ]
  },
  {
   "cell_type": "code",
   "execution_count": 17,
   "id": "69fc99a1",
   "metadata": {
    "scrolled": true
   },
   "outputs": [
    {
     "data": {
      "text/plain": [
       "0.7914160905948642"
      ]
     },
     "execution_count": 17,
     "metadata": {},
     "output_type": "execute_result"
    }
   ],
   "source": [
    "trie_forward.estimate_prob('macsk')"
   ]
  },
  {
   "cell_type": "markdown",
   "id": "33e2b9db",
   "metadata": {},
   "source": [
    "Ugyanaz, mint:"
   ]
  },
  {
   "cell_type": "code",
   "execution_count": 18,
   "id": "35c54ce3",
   "metadata": {},
   "outputs": [
    {
     "data": {
      "text/plain": [
       "0.7914160905948642"
      ]
     },
     "execution_count": 18,
     "metadata": {},
     "output_type": "execute_result"
    }
   ],
   "source": [
    "trie_forward.estimate_alternatives('macsk')['k']"
   ]
  },
  {
   "cell_type": "markdown",
   "id": "5ebe1e2e",
   "metadata": {},
   "source": [
    "Az `estimate_alternatives()` az ábécé szerint lehetséges összes utolsó karakter feltételes valószínűségét adja vissza dictionary formájában."
   ]
  },
  {
   "cell_type": "markdown",
   "id": "f2dc4a11",
   "metadata": {},
   "source": [
    "Ha túl hosszú n-gramot adunk meg, akkor az n hosszúságú szuffixuma alapján becsül."
   ]
  },
  {
   "cell_type": "code",
   "execution_count": 19,
   "id": "f4812602",
   "metadata": {},
   "outputs": [
    {
     "name": "stdout",
     "output_type": "stream",
     "text": [
      "macskákat is longer than the model's order, estimating for acskákat\n",
      "macskáka not seen in corpus, estimating based on acskáka\n",
      "acskákat is longer than the model's order, estimating for cskákat\n",
      "acskáka not seen in corpus, estimating based on cskáka\n",
      "cskákat is longer than the model's order, estimating for skákat\n",
      "cskáka not seen in corpus, estimating based on skáka\n",
      "skákat is longer than the model's order, estimating for kákat\n",
      "0.9978041429885643\n",
      "0.9978041429885643\n"
     ]
    }
   ],
   "source": [
    "print(trie_forward.estimate_prob('macskákat', verbose=True))\n",
    "print(trie_forward.estimate_prob('kákat'))"
   ]
  },
  {
   "cell_type": "code",
   "execution_count": 20,
   "id": "d90250fc",
   "metadata": {},
   "outputs": [
    {
     "data": {
      "text/plain": [
       "0.9978041429885643"
      ]
     },
     "execution_count": 20,
     "metadata": {},
     "output_type": "execute_result"
    }
   ],
   "source": [
    "trie_forward.estimate_alternatives('macskákat')['t']"
   ]
  },
  {
   "cell_type": "markdown",
   "id": "7be0e2b4",
   "metadata": {},
   "source": [
    "Ha 0 gyakoriságú a feltétel (tehát az összes alternatív 5-gram gyakorisága 0 a tanítókorpuszban), akkor backoffol, amíg nem jut el egy nem 0 gyakoriságúig vagy a bigramig:"
   ]
  },
  {
   "cell_type": "code",
   "execution_count": 21,
   "id": "a1b87efe",
   "metadata": {},
   "outputs": [
    {
     "name": "stdout",
     "output_type": "stream",
     "text": [
      "zxűx not seen in corpus, estimating based on xűx\n",
      "xűx not seen in corpus, estimating based on űx\n",
      "űx not seen in corpus, estimating based on x\n",
      "0.05202814798238691\n",
      "0.05202814798238691\n",
      "0.05202814798238689\n"
     ]
    }
   ],
   "source": [
    "print(trie_forward.estimate_prob('zxűxt', verbose=True))\n",
    "print(trie_forward.estimate_prob('xt', verbose=True))\n",
    "print(trie_forward.estimate_alternatives('zxűxt')['t'])"
   ]
  },
  {
   "cell_type": "markdown",
   "id": "d5dc0a0a",
   "metadata": {},
   "source": [
    "Ha n-nél rövidebb sztringet adunk meg, akkor szintén backoffol impliciten a megfelelő rendű n-gram-modellre:"
   ]
  },
  {
   "cell_type": "code",
   "execution_count": 22,
   "id": "d695cbd7",
   "metadata": {},
   "outputs": [
    {
     "name": "stdout",
     "output_type": "stream",
     "text": [
      "0.1979940120293708\n",
      "0.1979940120293708\n"
     ]
    }
   ],
   "source": [
    "print(trie_forward.estimate_prob('cska', verbose=True))\n",
    "print(trie_forward.estimate_alternatives('cska')['a'])"
   ]
  },
  {
   "cell_type": "code",
   "execution_count": 23,
   "id": "6ff2bee9",
   "metadata": {
    "scrolled": true
   },
   "outputs": [
    {
     "name": "stdout",
     "output_type": "stream",
     "text": [
      "0.07334865741519339\n",
      "0.07334865741519339\n"
     ]
    }
   ],
   "source": [
    "print(trie_forward.estimate_prob('ska', verbose=True))\n",
    "print(trie_forward.estimate_alternatives('ska')['a'])"
   ]
  },
  {
   "cell_type": "markdown",
   "id": "52ab3d6c",
   "metadata": {},
   "source": [
    "A `predict_next()` a megadott sztring **után következő** lehetséges karakterek közül csökkenő sorrendben az m legvalószínűbbet adja vissza listaként."
   ]
  },
  {
   "cell_type": "code",
   "execution_count": 24,
   "id": "5315c23d",
   "metadata": {
    "scrolled": true
   },
   "outputs": [
    {
     "name": "stdout",
     "output_type": "stream",
     "text": [
      "['k']\n",
      "['k', 'ó', 'ú', 'o']\n"
     ]
    }
   ],
   "source": [
    "print(trie_forward.predict_next('macs'))\n",
    "print(trie_forward.predict_next('macs', 4))"
   ]
  },
  {
   "cell_type": "markdown",
   "id": "d2b3d771",
   "metadata": {},
   "source": [
    "A `metrics on string()` végigléptet egy n hosszúságú ablakot az inputsztringen, és kiszámítja a sztringre a karakterenkénti perplexitást és a `predict_next()` által jósolt legvalószínűbb karakter pontosságát (tehát ténylegesen az-e a következő karakter vagy nem).\n",
    "\n",
    "Opcionális egy-egy paddingkaraktert is ad hozzá az elejéhez és a végéhez, ebben az esetben az első karakter valószínűségét a padding után a bigram-modell alapján számolja, aztán a 2. karakter valószínűségét a padding és az 1. után a trigram-modell alapján stb., majd a sztring végéig az összes teljes n-gramét, ami adott esetben 5-gram.\n",
    "\n",
    "Ha nincs padding, akkor csak a teljes 5-gramokat számolja, tehát az első 4 karakterre nem számít becsült valószínűséget és jósolt karaktert."
   ]
  },
  {
   "cell_type": "code",
   "execution_count": 25,
   "id": "305dc040",
   "metadata": {},
   "outputs": [
    {
     "name": "stdout",
     "output_type": "stream",
     "text": [
      "A „Tarthatatlan a parkolási helyzet a lakótelepeken” című cikkünkben részletesen bemutattuk, hogy a Budapest sűrűn lakott városrészeiben élő autósok számára egyre többször okoz elemi problémát a parkolóhely-keresés. A folytatásban Ujj Péter Tamás a lehetséges megoldásokat mutatja be. Összefoglalja, mi várható a jövőben, illetve jár-e egyáltalán a parkolóhely az egyre szaporodó autók számára a közterületeken, vagy lassan fel kell hagynunk az eddigi életmódunkkal.\n",
      "Néhány hete részletes cikkben foglalkoztunk az Óbudán kialakult parkolási káosszal, miután kiderült, hogy már a helyi közterület-felügyelet sem minden szabálytalan autót büntet meg, annyira elfogytak a helyek. A cikk megjelenését követően záporoztak az olvasói levelek, és ahogy várható volt, rengetegen szeretnék, ha az érintett hivatalok végre megoldást találnának a súlyosbodó problémára.\n",
      "\n",
      "Tavaly októberben adtunk hírt róla, hogy Mészáros Lőrinc korábbi felesége, Kelemen Beatrix az egykori televíziós műsorvezetővel, Joshi Bharattal alkot egy párt. Most viszont a Story alig pár hónappal később arról számolt be, hogy véget ért kettejük kapcsolata, a lap információi szerint Joshi Bharat már el is költözött abból a budai villából, ahol eddig együtt éltek.\n",
      "Kelemen Beatrix hosszú évekig élt házasságban Mészáros Lőrinccel. A pár 2020 őszén adta be a váló pert, a részletekről, így a vagyonról is hamar megegyeztek. Egy évvel később már arról lehetett hallani, hogy Kelemen Beatrix Joshi Bharattal alkot egy párt.\n",
      "Közben pedig, ki ne tudná, Mészáros Lőrinc is újra szerelmes lett és már újra is nősült. Az ország egyik leggazdagabb embere a TV2 korábbi műsorvezetőjével, Várkonyi Andreával kötötte össze az életét.\n"
     ]
    }
   ],
   "source": [
    "long_string_1 = '''A „Tarthatatlan a parkolási helyzet a lakótelepeken” című cikkünkben részletesen bemutattuk, hogy a Budapest sűrűn lakott városrészeiben élő autósok számára egyre többször okoz elemi problémát a parkolóhely-keresés. A folytatásban Ujj Péter Tamás a lehetséges megoldásokat mutatja be. Összefoglalja, mi várható a jövőben, illetve jár-e egyáltalán a parkolóhely az egyre szaporodó autók számára a közterületeken, vagy lassan fel kell hagynunk az eddigi életmódunkkal.\n",
    "Néhány hete részletes cikkben foglalkoztunk az Óbudán kialakult parkolási káosszal, miután kiderült, hogy már a helyi közterület-felügyelet sem minden szabálytalan autót büntet meg, annyira elfogytak a helyek. A cikk megjelenését követően záporoztak az olvasói levelek, és ahogy várható volt, rengetegen szeretnék, ha az érintett hivatalok végre megoldást találnának a súlyosbodó problémára.'''\n",
    "long_string_2 = '''Tavaly októberben adtunk hírt róla, hogy Mészáros Lőrinc korábbi felesége, Kelemen Beatrix az egykori televíziós műsorvezetővel, Joshi Bharattal alkot egy párt. Most viszont a Story alig pár hónappal később arról számolt be, hogy véget ért kettejük kapcsolata, a lap információi szerint Joshi Bharat már el is költözött abból a budai villából, ahol eddig együtt éltek.\n",
    "Kelemen Beatrix hosszú évekig élt házasságban Mészáros Lőrinccel. A pár 2020 őszén adta be a váló pert, a részletekről, így a vagyonról is hamar megegyeztek. Egy évvel később már arról lehetett hallani, hogy Kelemen Beatrix Joshi Bharattal alkot egy párt.\n",
    "Közben pedig, ki ne tudná, Mészáros Lőrinc is újra szerelmes lett és már újra is nősült. Az ország egyik leggazdagabb embere a TV2 korábbi műsorvezetőjével, Várkonyi Andreával kötötte össze az életét.'''\n",
    "print(long_string_1)\n",
    "print()\n",
    "print(long_string_2)"
   ]
  },
  {
   "cell_type": "code",
   "execution_count": 26,
   "id": "dc14cd5e",
   "metadata": {},
   "outputs": [
    {
     "name": "stdout",
     "output_type": "stream",
     "text": [
      "858\n",
      "(0.5831381733021077, 3.744253215919672)\n",
      "(0.5820721769499418, 3.7884149831881415)\n",
      "CPU times: user 680 ms, sys: 215 µs, total: 681 ms\n",
      "Wall time: 677 ms\n"
     ]
    }
   ],
   "source": [
    "%%time\n",
    "print(len(long_string_1))\n",
    "print(trie_forward.metrics_on_string(long_string_1))\n",
    "print(trie_forward.metrics_on_string(long_string_1, padded=True))"
   ]
  },
  {
   "cell_type": "code",
   "execution_count": 27,
   "id": "2fab66b5",
   "metadata": {},
   "outputs": [
    {
     "name": "stdout",
     "output_type": "stream",
     "text": [
      "825\n",
      "(0.5152253349573691, 4.328136190221757)\n",
      "(0.5145278450363197, 4.335518273647436)\n",
      "CPU times: user 658 ms, sys: 3.8 ms, total: 662 ms\n",
      "Wall time: 660 ms\n"
     ]
    }
   ],
   "source": [
    "%%time\n",
    "print(len(long_string_2))\n",
    "print(trie_forward.metrics_on_string(long_string_2))\n",
    "print(trie_forward.metrics_on_string(long_string_2, padded=True))"
   ]
  },
  {
   "cell_type": "markdown",
   "id": "97615583",
   "metadata": {},
   "source": [
    "Lehet a következő karakter előrejelzése nélkül csak a perplexitást is számítani. Ez értelemszerűen minimálisan gyorsabb, mindenesetre az OCR-javításhoz, szemétszűréshez, nyelvfelismeréshez és hasonlókhoz csak erre van szükség. Ez a függvény a paddinggel sem szórakozik, mert az általában nem sokat számít, tehát ha pl. OCR-javításra akarjuk használni, akkor a gyanús részsztringet balra legalább n-1 karakter ablakkal célszerű átadni neki."
   ]
  },
  {
   "cell_type": "code",
   "execution_count": 28,
   "id": "36ebc09e",
   "metadata": {},
   "outputs": [
    {
     "name": "stdout",
     "output_type": "stream",
     "text": [
      "(0.5831381733021077, 3.744253215919672)\n",
      "(0.5152253349573691, 4.328136190221757)\n",
      "CPU times: user 650 ms, sys: 0 ns, total: 650 ms\n",
      "Wall time: 649 ms\n"
     ]
    }
   ],
   "source": [
    "%%time\n",
    "print(trie_forward.metrics_on_string(long_string_1))\n",
    "print(trie_forward.metrics_on_string(long_string_2))"
   ]
  },
  {
   "cell_type": "code",
   "execution_count": 29,
   "id": "fdc8ac06",
   "metadata": {},
   "outputs": [
    {
     "name": "stdout",
     "output_type": "stream",
     "text": [
      "3.744253215919672\n",
      "4.328136190221757\n",
      "CPU times: user 624 ms, sys: 4.14 ms, total: 628 ms\n",
      "Wall time: 627 ms\n"
     ]
    }
   ],
   "source": [
    "%%time\n",
    "print(trie_forward.string_perplexity(long_string_1))\n",
    "print(trie_forward.string_perplexity(long_string_2))"
   ]
  },
  {
   "cell_type": "markdown",
   "id": "cd08e11e",
   "metadata": {},
   "source": [
    "Ha ezt profilozzuk, jól látszik, hogy a futási idő messze legnagyobb részét a `prefix_count()` rekurzív hívásai teszik ki.\n",
    "\n",
    "Egyébként a jelenlegi már egy teljesítményre optimalizált kód. Amikor első körben megírtam, akkor még vagy ötvenszer ennyi idő alatt futott le, ami használhatatlan volt gyakorlatilag. Sokáig gondolkodtam rajta, hogy hol végez felesleges munkát, és így jutottam el a jelenlegi változathoz."
   ]
  },
  {
   "cell_type": "code",
   "execution_count": 30,
   "id": "5bf5e300",
   "metadata": {},
   "outputs": [
    {
     "name": "stdout",
     "output_type": "stream",
     "text": [
      "         991967 function calls (650567 primitive calls) in 0.483 seconds\n",
      "\n",
      "   Ordered by: standard name\n",
      "\n",
      "   ncalls  tottime  percall  cumtime  percall filename:lineno(function)\n",
      "        1    0.000    0.000    0.483    0.483 <string>:1(<module>)\n",
      "      855    0.001    0.000    0.001    0.000 more.py:832(windowed)\n",
      "      854    0.062    0.000    0.448    0.001 ngram_model.py:181(estimate_alternatives)\n",
      "      854    0.010    0.000    0.010    0.000 ngram_model.py:219(<dictcomp>)\n",
      "      854    0.001    0.000    0.452    0.001 ngram_model.py:249(backoff_alternatives)\n",
      "        1    0.000    0.000    0.000    0.000 ngram_model.py:288(replace_oov)\n",
      "        1    0.003    0.003    0.483    0.483 ngram_model.py:303(metrics_on_string)\n",
      "    97356    0.008    0.000    0.008    0.000 ngram_model.py:347(<lambda>)\n",
      "439610/98210    0.354    0.000    0.378    0.000 ngram_model.py:98(prefix_count)\n",
      "        1    0.000    0.000    0.483    0.483 {built-in method builtins.exec}\n",
      "   443028    0.024    0.000    0.024    0.000 {built-in method builtins.len}\n",
      "        1    0.000    0.000    0.000    0.000 {built-in method builtins.min}\n",
      "      854    0.018    0.000    0.026    0.000 {built-in method builtins.sorted}\n",
      "      854    0.001    0.000    0.001    0.000 {built-in method builtins.sum}\n",
      "      854    0.000    0.000    0.000    0.000 {built-in method math.log2}\n",
      "        1    0.000    0.000    0.000    0.000 {method 'disable' of '_lsprof.Profiler' objects}\n",
      "      854    0.000    0.000    0.000    0.000 {method 'items' of 'dict' objects}\n",
      "      854    0.000    0.000    0.000    0.000 {method 'join' of 'str' objects}\n",
      "     2566    0.000    0.000    0.000    0.000 {method 'keys' of 'dict' objects}\n",
      "        1    0.000    0.000    0.000    0.000 {method 'read' of '_io.StringIO' objects}\n",
      "        1    0.000    0.000    0.000    0.000 {method 'seek' of '_io.StringIO' objects}\n",
      "      854    0.000    0.000    0.000    0.000 {method 'values' of 'dict' objects}\n",
      "      858    0.000    0.000    0.000    0.000 {method 'write' of '_io.StringIO' objects}\n",
      "\n",
      "\n"
     ]
    }
   ],
   "source": [
    "import cProfile\n",
    "cProfile.run('trie_forward.metrics_on_string(long_string_1)')"
   ]
  },
  {
   "cell_type": "markdown",
   "id": "4dac640f",
   "metadata": {},
   "source": [
    "## Jobbról balra haladó n-gram-modell"
   ]
  },
  {
   "cell_type": "markdown",
   "id": "5b14ca32",
   "metadata": {},
   "source": [
    "A modell megfordított sztringeken lett betanítva, ezért az n-gramokat is megfordítva kell neki odaadni inputként."
   ]
  },
  {
   "cell_type": "code",
   "execution_count": 31,
   "id": "e0757231",
   "metadata": {},
   "outputs": [
    {
     "data": {
      "text/plain": [
       "0.4487024414014663"
      ]
     },
     "execution_count": 31,
     "metadata": {},
     "output_type": "execute_result"
    }
   ],
   "source": [
    "trie_backward.estimate_prob('macsk'[::-1])"
   ]
  },
  {
   "cell_type": "code",
   "execution_count": 32,
   "id": "1ceb3067",
   "metadata": {},
   "outputs": [
    {
     "data": {
      "text/plain": [
       "0.4487024414014663"
      ]
     },
     "execution_count": 32,
     "metadata": {},
     "output_type": "execute_result"
    }
   ],
   "source": [
    "trie_backward.estimate_alternatives('macsk'[::-1])['m']"
   ]
  },
  {
   "cell_type": "code",
   "execution_count": 33,
   "id": "9cc95cb0",
   "metadata": {
    "scrolled": true
   },
   "outputs": [
    {
     "data": {
      "text/plain": [
       "['m', 'z', 'M', 'h', 's']"
      ]
     },
     "execution_count": 33,
     "metadata": {},
     "output_type": "execute_result"
    }
   ],
   "source": [
    "trie_backward.predict_next('acsk'[::-1], 5)"
   ]
  },
  {
   "cell_type": "markdown",
   "id": "e6c4b54d",
   "metadata": {},
   "source": [
    "Az előre és a hátra modell perplexitása majdnem azonos mindkét sztringen."
   ]
  },
  {
   "cell_type": "code",
   "execution_count": 34,
   "id": "a5b4789e",
   "metadata": {},
   "outputs": [
    {
     "name": "stdout",
     "output_type": "stream",
     "text": [
      "(0.5831381733021077, 3.744253215919672)\n",
      "(0.5737704918032787, 3.784722241197091)\n"
     ]
    }
   ],
   "source": [
    "print(trie_forward.metrics_on_string(long_string_1))\n",
    "print(trie_backward.metrics_on_string(long_string_1[::-1]))"
   ]
  },
  {
   "cell_type": "code",
   "execution_count": 35,
   "id": "28e9a98c",
   "metadata": {},
   "outputs": [
    {
     "name": "stdout",
     "output_type": "stream",
     "text": [
      "(0.5152253349573691, 4.328136190221757)\n",
      "(0.5505481120584653, 4.314408348738489)\n"
     ]
    }
   ],
   "source": [
    "print(trie_forward.metrics_on_string(long_string_2))\n",
    "print(trie_backward.metrics_on_string(long_string_2[::-1]))"
   ]
  },
  {
   "cell_type": "markdown",
   "id": "f59dd04c",
   "metadata": {},
   "source": [
    "Ha elfelejtjük megfordítani az inputot, az azonnal látszik, mert borzalmasan rossz számokat kapunk."
   ]
  },
  {
   "cell_type": "code",
   "execution_count": 36,
   "id": "b82fc4f9",
   "metadata": {
    "scrolled": false
   },
   "outputs": [
    {
     "name": "stdout",
     "output_type": "stream",
     "text": [
      "(0.0779537149817296, 720.5035030526914)\n"
     ]
    }
   ],
   "source": [
    "print(trie_backward.metrics_on_string(long_string_2))"
   ]
  },
  {
   "cell_type": "markdown",
   "id": "42e63d22",
   "metadata": {},
   "source": [
    "# Kétirányú n-gram-modell"
   ]
  },
  {
   "cell_type": "markdown",
   "id": "0653fbc2",
   "metadata": {},
   "source": [
    "Két egyirányúból példányosítjuk. Az előre és a hátra modellnek azonos ábécén kell alapulnia, más követelmény nincs, így például konkrétan nem kell azonos rendűnek sem lenniük, lehet pl. előre 5-gram-, hátra 3-gram-modell."
   ]
  },
  {
   "cell_type": "code",
   "execution_count": 37,
   "id": "a5a45243",
   "metadata": {},
   "outputs": [],
   "source": [
    "bi_ngram_model = BiMultiNgramModel(trie_forward, trie_backward)"
   ]
  },
  {
   "cell_type": "markdown",
   "id": "bfb8614f",
   "metadata": {},
   "source": [
    "A két modell összekapcsolását a `combine_alternatives()` metódus végzi, ami az egyirányú modellbeli `estimate_alternatives()` megfelelője, és ahhoz hasonlóan működik. Külön megadunk neki egy előre és egy hátra n-gramot (az utóbbit az átadáskor meg kell fordítani), ezeket backoff stb. szempontjából külön-külön feldolgozza a megfelelő egyirányú modell, majd az ezektől kapott két valószínűségi eloszlást a kulcsok (tehát az n-gramok utolsó eleme) szerint páronként összekapcsolja a választott összekapcsoló függvénnyel, majd az eredményt normalizálja valószínűségi eloszlásra. Ha nem adunk meg összekapcsoló függvényt, az alapértelmezés szerint `sum` függvény lesz, tehát az előre és a hátra modell által az egyes karakterekre becsült valószínűségeket átlagoljuk."
   ]
  },
  {
   "cell_type": "code",
   "execution_count": 38,
   "id": "74cf9242",
   "metadata": {},
   "outputs": [
    {
     "data": {
      "text/plain": [
       "{'\\x00': 0.00013767875595448775,\n",
       " 'H': 4.242259312272742e-09,\n",
       " 'V': 8.180856199347752e-06,\n",
       " 'G': 3.1244289203836156e-09,\n",
       " ' ': 0.045867380011428746,\n",
       " '9': 1.0408610633787692e-11,\n",
       " '/': 9.834252525464875e-06,\n",
       " '0': 8.413437666872677e-12,\n",
       " '8': 5.3124917666970005e-12,\n",
       " '.': 0.0013120381343120753,\n",
       " 's': 0.0023898830032439175,\n",
       " 'z': 0.008641838005827941,\n",
       " 'á': 7.097315442389541e-09,\n",
       " 'm': 0.00031304039378733244,\n",
       " '1': 8.157153039521859e-11,\n",
       " 'f': 0.00019679037719343346,\n",
       " 'e': 0.0011014337514695315,\n",
       " 'b': 0.0047348888910285535,\n",
       " 'r': 0.0015857417472511215,\n",
       " 'u': 6.884246211834925e-05,\n",
       " '2': 6.960333362839322e-11,\n",
       " '7': 5.5179886958907124e-11,\n",
       " '\\n': 0.00032452848799666443,\n",
       " 'A': 2.1677185107103502e-10,\n",
       " 'ű': 3.024826283770442e-09,\n",
       " 'n': 0.008074118786932432,\n",
       " 'ü': 9.834232409748387e-06,\n",
       " 'l': 0.019906080310504202,\n",
       " 'd': 4.9315066003478194e-05,\n",
       " 'ö': 0.002104517801375226,\n",
       " 'é': 0.013266329452048958,\n",
       " ',': 0.004553232383189455,\n",
       " 'a': 0.001986512507355914,\n",
       " 'y': 1.5088121130771684e-07,\n",
       " 'k': 0.14153327503829918,\n",
       " 'o': 0.0022421976380575144,\n",
       " 't': 0.5096996129861037,\n",
       " 'v': 0.0012603419173624437,\n",
       " 'i': 0.09754947247964442,\n",
       " 'í': 6.514698424558933e-10,\n",
       " 'g': 0.0009644446731099812,\n",
       " 'ő': 1.1128569071632367e-08,\n",
       " 'c': 0.00030895022268077546,\n",
       " 'h': 0.07876218436492156,\n",
       " 'j': 0.02148780275802694,\n",
       " 'ó': 1.8269798326742732e-09,\n",
       " '-': 0.0023503884873825967,\n",
       " 'p': 0.018059672580469952,\n",
       " 'M': 1.1227452695797725e-08,\n",
       " '\"': 7.351481155200068e-16,\n",
       " ':': 0.00011801034254488314,\n",
       " '(': 9.834938646316402e-06,\n",
       " ')': 0.00015734713022592917,\n",
       " 'ú': 2.950260572460005e-05,\n",
       " 'O': 3.554187528093175e-11,\n",
       " 'J': 3.137481241016498e-09,\n",
       " 'B': 0.00015951671021619551,\n",
       " 'P': 4.090198446250271e-06,\n",
       " 'D': 8.180362869771118e-06,\n",
       " '3': 1.4152411496813612e-11,\n",
       " 'R': 6.406015281709126e-09,\n",
       " 'F': 9.247130770474824e-09,\n",
       " 'K': 5.726243498246586e-05,\n",
       " 'C': 1.2313730714674497e-09,\n",
       " 'E': 4.961058201749413e-11,\n",
       " 'T': 0.006986012274908827,\n",
       " 'L': 0.0012884039252975944,\n",
       " '6': 2.1000564136686295e-11,\n",
       " 'x': 1.6961196585133373e-09,\n",
       " '5': 9.45600839844014e-12,\n",
       " 'I': 1.882831203662905e-11,\n",
       " 'N': 1.3781477922051981e-08,\n",
       " 'S': 1.636071966405484e-05,\n",
       " 'Z': 1.0247974793231722e-09,\n",
       " 'Ő': 2.7332798254602617e-13,\n",
       " '4': 1.0057293402167952e-11,\n",
       " 'É': 1.0601639940171252e-11,\n",
       " 'Í': 1.822647407304209e-12,\n",
       " 'Á': 3.6726235747120565e-12,\n",
       " 'U': 7.896422265402463e-12,\n",
       " ';': 1.9668390424144798e-05,\n",
       " 'Ú': 2.4301972889634957e-12,\n",
       " 'Y': 9.199663790863891e-11,\n",
       " 'w': 2.483488418091078e-09,\n",
       " 'Ü': 1.822646842952063e-12,\n",
       " \"'\": 1.769748415949366e-11,\n",
       " 'X': 4.740870576361258e-11,\n",
       " '=': 6.622281267610984e-11,\n",
       " '*': 7.999133403349547e-18,\n",
       " 'W': 1.6401580183655223e-09,\n",
       " '?': 0.00011801034254486533,\n",
       " 'Ö': 3.0924059715486437e-12,\n",
       " 'Ó': 1.4884088447238154e-12,\n",
       " '!': 0.00015734712339314874,\n",
       " 'q': 3.0611032308252072e-12,\n",
       " 'ä': 1.3119014138022756e-12,\n",
       " '„': 5.17105254010932e-11,\n",
       " '”': 4.735537795889009e-10,\n",
       " 'Q': 1.919443293284451e-12,\n",
       " 'Ű': 2.7333039793674144e-14,\n",
       " '&': 2.1865598321325755e-13,\n",
       " '[': 6.723487455040254e-12,\n",
       " ']': 9.834195212072818e-06,\n",
       " 'ë': 2.7332791331302147e-14,\n",
       " '\\x01': 3.447140857082483e-11,\n",
       " '+': 9.787000936420197e-11,\n",
       " '@': 7.770017862016065e-12,\n",
       " '–': 1.1032674388731886e-11,\n",
       " '%': 1.1501902567463685e-17,\n",
       " '>': 2.1264206058550556e-11,\n",
       " '•': 1.0935877342261883e-11,\n",
       " '|': 3.584537573286521e-11,\n",
       " '$': 3.645292521775919e-12,\n",
       " '_': 1.240549495135469e-11}"
      ]
     },
     "execution_count": 38,
     "metadata": {},
     "output_type": "execute_result"
    }
   ],
   "source": [
    "bi_ngram_model.combine_alternatives('lakót', 'telep'[::-1])"
   ]
  },
  {
   "cell_type": "markdown",
   "id": "255b3dd1",
   "metadata": {},
   "source": [
    "Mivel a két n-gram összes lehetséges alternatívájára számítjuk a valószínűségeket, ezért az előre n-gram utolsó és a hátra n-gram első karakterére teljesen mindegy, hogy mit írunk be, ugyanazt a valószínűségi eloszlást kapjuk vissza."
   ]
  },
  {
   "cell_type": "code",
   "execution_count": 39,
   "id": "79f6fdbe",
   "metadata": {},
   "outputs": [
    {
     "data": {
      "text/plain": [
       "{'\\x00': 0.00013767875595448775,\n",
       " 'H': 4.242259312272742e-09,\n",
       " 'V': 8.180856199347752e-06,\n",
       " 'G': 3.1244289203836156e-09,\n",
       " ' ': 0.045867380011428746,\n",
       " '9': 1.0408610633787692e-11,\n",
       " '/': 9.834252525464875e-06,\n",
       " '0': 8.413437666872677e-12,\n",
       " '8': 5.3124917666970005e-12,\n",
       " '.': 0.0013120381343120753,\n",
       " 's': 0.0023898830032439175,\n",
       " 'z': 0.008641838005827941,\n",
       " 'á': 7.097315442389541e-09,\n",
       " 'm': 0.00031304039378733244,\n",
       " '1': 8.157153039521859e-11,\n",
       " 'f': 0.00019679037719343346,\n",
       " 'e': 0.0011014337514695315,\n",
       " 'b': 0.0047348888910285535,\n",
       " 'r': 0.0015857417472511215,\n",
       " 'u': 6.884246211834925e-05,\n",
       " '2': 6.960333362839322e-11,\n",
       " '7': 5.5179886958907124e-11,\n",
       " '\\n': 0.00032452848799666443,\n",
       " 'A': 2.1677185107103502e-10,\n",
       " 'ű': 3.024826283770442e-09,\n",
       " 'n': 0.008074118786932432,\n",
       " 'ü': 9.834232409748387e-06,\n",
       " 'l': 0.019906080310504202,\n",
       " 'd': 4.9315066003478194e-05,\n",
       " 'ö': 0.002104517801375226,\n",
       " 'é': 0.013266329452048958,\n",
       " ',': 0.004553232383189455,\n",
       " 'a': 0.001986512507355914,\n",
       " 'y': 1.5088121130771684e-07,\n",
       " 'k': 0.14153327503829918,\n",
       " 'o': 0.0022421976380575144,\n",
       " 't': 0.5096996129861037,\n",
       " 'v': 0.0012603419173624437,\n",
       " 'i': 0.09754947247964442,\n",
       " 'í': 6.514698424558933e-10,\n",
       " 'g': 0.0009644446731099812,\n",
       " 'ő': 1.1128569071632367e-08,\n",
       " 'c': 0.00030895022268077546,\n",
       " 'h': 0.07876218436492156,\n",
       " 'j': 0.02148780275802694,\n",
       " 'ó': 1.8269798326742732e-09,\n",
       " '-': 0.0023503884873825967,\n",
       " 'p': 0.018059672580469952,\n",
       " 'M': 1.1227452695797725e-08,\n",
       " '\"': 7.351481155200068e-16,\n",
       " ':': 0.00011801034254488314,\n",
       " '(': 9.834938646316402e-06,\n",
       " ')': 0.00015734713022592917,\n",
       " 'ú': 2.950260572460005e-05,\n",
       " 'O': 3.554187528093175e-11,\n",
       " 'J': 3.137481241016498e-09,\n",
       " 'B': 0.00015951671021619551,\n",
       " 'P': 4.090198446250271e-06,\n",
       " 'D': 8.180362869771118e-06,\n",
       " '3': 1.4152411496813612e-11,\n",
       " 'R': 6.406015281709126e-09,\n",
       " 'F': 9.247130770474824e-09,\n",
       " 'K': 5.726243498246586e-05,\n",
       " 'C': 1.2313730714674497e-09,\n",
       " 'E': 4.961058201749413e-11,\n",
       " 'T': 0.006986012274908827,\n",
       " 'L': 0.0012884039252975944,\n",
       " '6': 2.1000564136686295e-11,\n",
       " 'x': 1.6961196585133373e-09,\n",
       " '5': 9.45600839844014e-12,\n",
       " 'I': 1.882831203662905e-11,\n",
       " 'N': 1.3781477922051981e-08,\n",
       " 'S': 1.636071966405484e-05,\n",
       " 'Z': 1.0247974793231722e-09,\n",
       " 'Ő': 2.7332798254602617e-13,\n",
       " '4': 1.0057293402167952e-11,\n",
       " 'É': 1.0601639940171252e-11,\n",
       " 'Í': 1.822647407304209e-12,\n",
       " 'Á': 3.6726235747120565e-12,\n",
       " 'U': 7.896422265402463e-12,\n",
       " ';': 1.9668390424144798e-05,\n",
       " 'Ú': 2.4301972889634957e-12,\n",
       " 'Y': 9.199663790863891e-11,\n",
       " 'w': 2.483488418091078e-09,\n",
       " 'Ü': 1.822646842952063e-12,\n",
       " \"'\": 1.769748415949366e-11,\n",
       " 'X': 4.740870576361258e-11,\n",
       " '=': 6.622281267610984e-11,\n",
       " '*': 7.999133403349547e-18,\n",
       " 'W': 1.6401580183655223e-09,\n",
       " '?': 0.00011801034254486533,\n",
       " 'Ö': 3.0924059715486437e-12,\n",
       " 'Ó': 1.4884088447238154e-12,\n",
       " '!': 0.00015734712339314874,\n",
       " 'q': 3.0611032308252072e-12,\n",
       " 'ä': 1.3119014138022756e-12,\n",
       " '„': 5.17105254010932e-11,\n",
       " '”': 4.735537795889009e-10,\n",
       " 'Q': 1.919443293284451e-12,\n",
       " 'Ű': 2.7333039793674144e-14,\n",
       " '&': 2.1865598321325755e-13,\n",
       " '[': 6.723487455040254e-12,\n",
       " ']': 9.834195212072818e-06,\n",
       " 'ë': 2.7332791331302147e-14,\n",
       " '\\x01': 3.447140857082483e-11,\n",
       " '+': 9.787000936420197e-11,\n",
       " '@': 7.770017862016065e-12,\n",
       " '–': 1.1032674388731886e-11,\n",
       " '%': 1.1501902567463685e-17,\n",
       " '>': 2.1264206058550556e-11,\n",
       " '•': 1.0935877342261883e-11,\n",
       " '|': 3.584537573286521e-11,\n",
       " '$': 3.645292521775919e-12,\n",
       " '_': 1.240549495135469e-11}"
      ]
     },
     "execution_count": 39,
     "metadata": {},
     "output_type": "execute_result"
    }
   ],
   "source": [
    "bi_ngram_model.combine_alternatives('lakóp', 'zelep'[::-1])"
   ]
  },
  {
   "cell_type": "markdown",
   "id": "b1beac9c",
   "metadata": {},
   "source": [
    "Tetszőleges függvényt megadhatunk, ami kételemű listából értelmezhető numerikus eredményt ad, pl. össze is szorozhatjuk a két külön becsült valószínűséget, vagy számolhatjuk a harmonikus közepüket."
   ]
  },
  {
   "cell_type": "code",
   "execution_count": 40,
   "id": "9376c763",
   "metadata": {},
   "outputs": [
    {
     "data": {
      "text/plain": [
       "{'\\x00': 1.337648372080904e-13,\n",
       " 'H': 4.763290958722882e-18,\n",
       " 'V': 1.7772330328685344e-13,\n",
       " 'G': 2.6308211943262398e-18,\n",
       " ' ': 0.00013460366280637813,\n",
       " '9': 1.139846206354772e-21,\n",
       " '/': 2.382409237517969e-14,\n",
       " '0': 7.299507725424648e-22,\n",
       " '8': 2.5688652187552125e-22,\n",
       " '.': 2.2612748870452182e-07,\n",
       " 's': 1.753206000848735e-08,\n",
       " 'z': 2.4945432438140932e-05,\n",
       " 'á': 1.930312705443978e-17,\n",
       " 'm': 1.0541281428331091e-07,\n",
       " '1': 1.0593410586522519e-20,\n",
       " 'f': 8.851758018383823e-10,\n",
       " 'e': 1.8099766248432653e-10,\n",
       " 'b': 0.00015362387495778778,\n",
       " 'r': 8.160992073546652e-07,\n",
       " 'u': 9.007574626359783e-12,\n",
       " '2': 4.480774742222206e-21,\n",
       " '7': 5.190371118222622e-21,\n",
       " '\\n': 6.309805753100165e-13,\n",
       " 'A': 4.948013424223668e-19,\n",
       " 'ű': 1.7783608183758933e-18,\n",
       " 'n': 8.344761283819867e-08,\n",
       " 'ü': 1.5462369920181e-14,\n",
       " 'l': 1.653280977565993e-05,\n",
       " 'd': 2.9947730512778723e-10,\n",
       " 'ö': 2.3121298691665802e-12,\n",
       " 'é': 6.222371220472896e-11,\n",
       " ',': 6.164977953717139e-17,\n",
       " 'a': 4.260949259843597e-10,\n",
       " 'y': 5.576327872599458e-16,\n",
       " 'k': 0.004212024025691987,\n",
       " 'o': 1.0706812961646849e-10,\n",
       " 't': 0.9954317800353059,\n",
       " 'v': 2.1082562856662184e-06,\n",
       " 'i': 1.686435007864776e-05,\n",
       " 'í': 2.3736483071476445e-18,\n",
       " 'g': 2.630219737036807e-06,\n",
       " 'ő': 7.034120926802869e-16,\n",
       " 'c': 5.270640714165546e-08,\n",
       " 'h': 3.8256197810721085e-07,\n",
       " 'j': 7.831012945761942e-08,\n",
       " 'ó': 3.329936880984431e-17,\n",
       " '-': 1.5728439133426542e-09,\n",
       " 'p': 3.121579468131594e-06,\n",
       " 'M': 2.4394982893398885e-17,\n",
       " '\"': 9.410805700772739e-31,\n",
       " ':': 1.2151491526943671e-19,\n",
       " '(': 3.090315387206785e-13,\n",
       " ')': 4.5444143777166786e-14,\n",
       " 'ú': 2.5051084257163188e-14,\n",
       " 'O': 1.3324409101871299e-20,\n",
       " 'J': 1.4452393608172255e-18,\n",
       " 'B': 2.498840062171539e-13,\n",
       " 'P': 4.726683598054612e-15,\n",
       " 'D': 7.14254410372697e-15,\n",
       " '3': 7.517089205701729e-22,\n",
       " 'R': 5.9021152339960955e-18,\n",
       " 'F': 1.0182380219634058e-17,\n",
       " 'K': 9.558404609399327e-14,\n",
       " 'C': 2.748419773161545e-18,\n",
       " 'E': 2.5997477514397015e-20,\n",
       " 'T': 7.355559977879297e-12,\n",
       " 'L': 1.4558185482008205e-12,\n",
       " '6': 2.6741465801796067e-21,\n",
       " 'x': 2.1739548320523104e-19,\n",
       " '5': 5.20089925436506e-22,\n",
       " 'I': 3.710817052338472e-21,\n",
       " 'N': 1.377893400666715e-17,\n",
       " 'S': 2.4368679883303777e-14,\n",
       " 'Z': 1.8345628166072058e-19,\n",
       " 'Ő': 1.9197176295059003e-28,\n",
       " '4': 7.208263878856839e-22,\n",
       " 'É': 1.1931887628097983e-22,\n",
       " 'Í': 9.154164770602965e-29,\n",
       " 'Á': 4.2112544569757585e-24,\n",
       " 'U': 5.615005942634345e-22,\n",
       " ';': 1.384554021537883e-21,\n",
       " 'Ú': 2.393599799275217e-28,\n",
       " 'Y': 1.2575063464118205e-25,\n",
       " 'w': 4.1422888483610954e-17,\n",
       " 'Ü': 4.806320530316949e-29,\n",
       " \"'\": 3.1114151679622557e-21,\n",
       " 'X': 7.757832585492175e-21,\n",
       " '=': 1.3769612356174829e-28,\n",
       " '*': 1.1141995780328899e-34,\n",
       " 'W': 2.9407540810933134e-19,\n",
       " '?': 3.2659411656911163e-20,\n",
       " 'Ö': 7.018757428292931e-24,\n",
       " 'Ó': 1.4037514856585862e-23,\n",
       " '!': 2.448641580190251e-20,\n",
       " 'q': 2.0623457275709895e-27,\n",
       " 'ä': 3.804153477175231e-28,\n",
       " '„': 3.296218706968752e-26,\n",
       " '”': 5.467612036640193e-21,\n",
       " 'Q': 3.369003565580607e-23,\n",
       " 'Ű': 2.198757654073517e-30,\n",
       " '&': 6.368660619652002e-29,\n",
       " '[': 7.919877977763999e-27,\n",
       " ']': 5.202951976052056e-22,\n",
       " 'ë': 1.9117194289624406e-30,\n",
       " '\\x01': 1.1648329827994948e-20,\n",
       " '+': 2.2600398919103232e-22,\n",
       " '@': 4.351629605541617e-22,\n",
       " '–': 5.390405704928971e-22,\n",
       " '%': 2.3036499090561038e-34,\n",
       " '>': 1.5205550977108103e-28,\n",
       " '•': 1.2815808253982814e-29,\n",
       " '|': 1.3753279582167855e-28,\n",
       " '$': 1.2880840351859542e-29,\n",
       " '_': 9.068234597354468e-22}"
      ]
     },
     "execution_count": 40,
     "metadata": {},
     "output_type": "execute_result"
    }
   ],
   "source": [
    "multiply = lambda x: x[0] * x[1]\n",
    "bi_ngram_model.combine_alternatives('lakóp', 'zelep'[::-1], combine_function=multiply)"
   ]
  },
  {
   "cell_type": "code",
   "execution_count": 41,
   "id": "72afb7ab",
   "metadata": {},
   "outputs": [
    {
     "data": {
      "text/plain": [
       "{'\\x00': 4.791232883040705e-10,\n",
       " 'H': 5.537097200823365e-10,\n",
       " 'V': 1.0713166790851864e-08,\n",
       " 'G': 4.1523402329463514e-10,\n",
       " ' ': 0.0014471888004790763,\n",
       " '9': 5.400397703609621e-11,\n",
       " '/': 1.1946680711752337e-09,\n",
       " '0': 4.278507912901896e-11,\n",
       " '8': 2.3845986685818305e-11,\n",
       " '.': 8.499221549475826e-05,\n",
       " 's': 3.6176667341664355e-06,\n",
       " 'z': 0.0014234989935525758,\n",
       " 'á': 1.341237877518072e-09,\n",
       " 'm': 0.00016606009247757954,\n",
       " '1': 6.404267201245744e-11,\n",
       " 'f': 2.21818581337544e-06,\n",
       " 'e': 8.103764918485307e-08,\n",
       " 'b': 0.016000043802501005,\n",
       " 'r': 0.00025379481465717755,\n",
       " 'u': 6.452436260046918e-08,\n",
       " '2': 3.174646107970814e-11,\n",
       " '7': 4.638631294294664e-11,\n",
       " '\\n': 9.588163074259369e-10,\n",
       " 'A': 1.125641850685129e-09,\n",
       " 'ű': 2.8992902269799735e-10,\n",
       " 'n': 5.09672300637434e-06,\n",
       " 'ü': 7.753679402490972e-10,\n",
       " 'l': 0.0004095747411375496,\n",
       " 'd': 2.9947222286457543e-06,\n",
       " 'ö': 5.417911029963247e-10,\n",
       " 'é': 2.3130093448300056e-09,\n",
       " ',': 6.67703973024538e-15,\n",
       " 'a': 1.0577604078805957e-07,\n",
       " 'y': 1.822574911015894e-09,\n",
       " 'k': 0.014675892841588042,\n",
       " 'o': 2.3548246524372186e-08,\n",
       " 't': 0.9630957059456982,\n",
       " 'v': 0.0008249113359703191,\n",
       " 'i': 8.525442550767015e-05,\n",
       " 'í': 1.7967775145469468e-09,\n",
       " 'g': 0.0013448906124399428,\n",
       " 'ő': 3.117042709649079e-08,\n",
       " 'c': 8.412927540637283e-05,\n",
       " 'h': 2.3952800683859653e-06,\n",
       " 'j': 1.7972073314294204e-06,\n",
       " 'ó': 8.988236614149538e-09,\n",
       " '-': 3.3000325480288656e-07,\n",
       " 'p': 8.523869099759311e-05,\n",
       " 'M': 1.0714984137624116e-09,\n",
       " '\"': 6.312831640204463e-16,\n",
       " ':': 5.077872194951363e-16,\n",
       " '(': 1.5495421628078844e-08,\n",
       " ')': 1.4242667880139458e-10,\n",
       " 'ú': 4.1873416874244675e-10,\n",
       " 'O': 1.8487571574169587e-10,\n",
       " 'J': 2.2715949347826992e-10,\n",
       " 'B': 7.725107366826481e-10,\n",
       " 'P': 5.698812928607255e-10,\n",
       " 'D': 4.305787676293447e-10,\n",
       " '3': 2.6193377671009268e-11,\n",
       " 'R': 4.543514962937404e-10,\n",
       " 'F': 5.430184166822879e-10,\n",
       " 'K': 8.231668019865224e-10,\n",
       " 'C': 1.100691622308e-09,\n",
       " 'E': 2.584217943343384e-10,\n",
       " 'T': 5.192286467151126e-10,\n",
       " 'L': 5.572209771441304e-10,\n",
       " '6': 6.279520695568212e-11,\n",
       " 'x': 6.32071600098025e-11,\n",
       " '5': 2.7123319541817718e-11,\n",
       " 'I': 9.719197447397294e-11,\n",
       " 'N': 4.930512621858368e-10,\n",
       " 'S': 7.345169940098866e-10,\n",
       " 'Z': 8.828090707752157e-11,\n",
       " 'Ő': 3.4635822544123386e-16,\n",
       " '4': 3.5344496988974996e-11,\n",
       " 'É': 5.550196417403028e-12,\n",
       " 'Í': 2.4767850158619207e-17,\n",
       " 'Á': 5.654670643081272e-13,\n",
       " 'U': 3.50664744327795e-11,\n",
       " ';': 3.4714693349966823e-17,\n",
       " 'Ú': 4.8571582818745755e-17,\n",
       " 'Y': 6.740785041442531e-16,\n",
       " 'w': 8.225276180009723e-09,\n",
       " 'Ü': 1.30041643942117e-17,\n",
       " \"'\": 8.669991680760294e-11,\n",
       " 'X': 8.06964727924862e-11,\n",
       " '=': 1.0253835362422615e-18,\n",
       " '*': 6.868980736917519e-18,\n",
       " 'W': 8.841893212251467e-11,\n",
       " '?': 1.3647733530357533e-16,\n",
       " 'Ö': 1.119272873725801e-12,\n",
       " 'Ó': 4.650934628306829e-12,\n",
       " '!': 7.674298028280488e-17,\n",
       " 'q': 3.3224292692483985e-16,\n",
       " 'ä': 1.4299770863095248e-16,\n",
       " '„': 3.143469984772464e-16,\n",
       " '”': 5.693779339389553e-12,\n",
       " 'Q': 8.655625006968036e-12,\n",
       " 'Ű': 3.966995237906884e-17,\n",
       " '&': 1.4363457348534815e-16,\n",
       " '[': 5.808929959185509e-16,\n",
       " ']': 2.609055039436053e-17,\n",
       " 'ë': 3.449152659211998e-17,\n",
       " '\\x01': 1.666390871862362e-10,\n",
       " '+': 1.1387770956577928e-12,\n",
       " '@': 2.7618631405751725e-11,\n",
       " '–': 2.4094221630655212e-11,\n",
       " '%': 9.876863303808284e-18,\n",
       " '>': 3.5263485619255815e-18,\n",
       " '•': 5.779158677634022e-19,\n",
       " '|': 1.8921056521001715e-18,\n",
       " '$': 1.7425452371244565e-18,\n",
       " '_': 3.604797714754901e-11}"
      ]
     },
     "execution_count": 41,
     "metadata": {},
     "output_type": "execute_result"
    }
   ],
   "source": [
    "harmonic_mean = lambda x: 2 / (1 / x[0] + 1 / x[1])\n",
    "bi_ngram_model.combine_alternatives('lakóp', 'zelep'[::-1], combine_function=harmonic_mean)"
   ]
  },
  {
   "cell_type": "markdown",
   "id": "a0369812",
   "metadata": {},
   "source": [
    "A kényelmi metódusok lényegében megegyeznek az egyirányú modellben rendelkezésre állókkal, de a paramétereik eltérnek annak következtében, hogy kétirányú a modell.\n",
    "\n",
    "A `predict_next()` metódusnak a keresett középső elemtől balra és jobbra eső (n-1)-gramot kell átadni, és az utóbbit meg kell fordítani."
   ]
  },
  {
   "cell_type": "code",
   "execution_count": 42,
   "id": "4f6f01ee",
   "metadata": {},
   "outputs": [
    {
     "name": "stdout",
     "output_type": "stream",
     "text": [
      "['t']\n",
      "['d', 't', 'l', 'z']\n"
     ]
    }
   ],
   "source": [
    "print(bi_ngram_model.predict_next('lakó', 'elep'[::-1]))\n",
    "print(bi_ngram_model.predict_next('egol', 'ást '[::-1], m=4))"
   ]
  },
  {
   "cell_type": "markdown",
   "id": "5d64d099",
   "metadata": {},
   "source": [
    "Az `estimate_prob()` metódus ugyanúgy képes kezelni olyan helyzeteket, amikor rövidebb vagy hosszabb bal vagy jobb n-gramot adunk át neki a két egyirányú modell rendjénél, mint ahogy a metódus egyirányú megfelelője is tudja ezeket kezelni, viszont ahhoz, hogy tudja, hogy melyik karakter valószínűségét kell megbecsülnie, ilyen helyzetekben meg kell adni a kérdéses elem indexét második vagy nevesített argumentumként.\n",
    "\n",
    "Ha ezt nem tesszük meg, alapértelmezés szerint az n-edik elem valószínűségét becsüli meg, ahol n az előre modell rendje."
   ]
  },
  {
   "cell_type": "code",
   "execution_count": 43,
   "id": "888e6ea9",
   "metadata": {},
   "outputs": [
    {
     "name": "stdout",
     "output_type": "stream",
     "text": [
      "9\n",
      "0.5419201827236841\n",
      "0.5419201827236841\n",
      "0.45670667893237255\n",
      "0.47380608207172187\n",
      "0.14087125462165861\n",
      "0.4133456382486001\n"
     ]
    }
   ],
   "source": [
    "print(len('egoldást '))\n",
    "print(bi_ngram_model.estimate_prob('egoldást '))\n",
    "print(bi_ngram_model.estimate_prob('egoldást ', 4)) # d\n",
    "print(bi_ngram_model.estimate_prob('egoldást ', 3)) # l\n",
    "print(bi_ngram_model.estimate_prob('egoldást ', 2)) # o\n",
    "\n",
    "print(bi_ngram_model.estimate_prob('macskát', 3)) # s\n",
    "print(bi_ngram_model.estimate_prob('macskát')) # k"
   ]
  },
  {
   "cell_type": "markdown",
   "id": "e996cf9f",
   "metadata": {},
   "source": [
    "A `metrics_on_string()` metódus hasonlóan egy ablakot léptet végig a sztringet, és lépésenként az előre és hátra n-gram metszéspontjában levő karaktert értékeli ki.\n",
    "\n",
    "Ha van padding, akkor nemcsak az elején értékeli ki az első karaktert a padding utáni bigram, a másodikat a trigram stb. alapján, hanem ugyanezt csinálja fordítva a sztring végén is. Ha nincs padding, akkor simán teljes ablakokat léptet."
   ]
  },
  {
   "cell_type": "code",
   "execution_count": 44,
   "id": "6ef91111",
   "metadata": {},
   "outputs": [
    {
     "name": "stdout",
     "output_type": "stream",
     "text": [
      "(0.5831381733021077, 3.744253215919672)\n",
      "(0.5737704918032787, 3.784722241197091)\n",
      "CPU times: user 649 ms, sys: 3.88 ms, total: 653 ms\n",
      "Wall time: 651 ms\n"
     ]
    }
   ],
   "source": [
    "%%time\n",
    "print(trie_forward.metrics_on_string(long_string_1))\n",
    "print(trie_backward.metrics_on_string(long_string_1[::-1]))"
   ]
  },
  {
   "cell_type": "code",
   "execution_count": 45,
   "id": "881143c7",
   "metadata": {},
   "outputs": [
    {
     "name": "stdout",
     "output_type": "stream",
     "text": [
      "(0.7356181150550796, 2.982173827104181)\n",
      "CPU times: user 710 ms, sys: 7.91 ms, total: 718 ms\n",
      "Wall time: 716 ms\n"
     ]
    }
   ],
   "source": [
    "%%time\n",
    "print(bi_ngram_model.metrics_on_string(long_string_2))"
   ]
  },
  {
   "cell_type": "markdown",
   "id": "5f7a1301",
   "metadata": {},
   "source": [
    "Perplexitások különböző összekapcsoló függvényekre. Úgy tűnik, ezek közül következetesen a **szorzás** adja a legjobb eredményeket mind pontosságra, mind perplexitásra nézve, illetve a pontossága nyilván megegyezik a mértani középével. A tanulság az, hogy tényleg érdemes különböző összekapcsoló függvényekkel kísérletezni."
   ]
  },
  {
   "cell_type": "code",
   "execution_count": 46,
   "id": "6ee672e1",
   "metadata": {},
   "outputs": [],
   "source": [
    "geometric_mean = lambda x: (x[0] * x[1]) ** 2\n",
    "max_squared = lambda x: max(x) ** 2"
   ]
  },
  {
   "cell_type": "code",
   "execution_count": 47,
   "id": "ac81d6fa",
   "metadata": {},
   "outputs": [
    {
     "name": "stdout",
     "output_type": "stream",
     "text": [
      "(0.8058823529411765, 2.630060632382658)\n",
      "(0.7705882352941177, 2.928863960323583)\n",
      "(0.7705882352941177, 2.1839104337061452)\n",
      "(0.8623529411764705, 1.5094330610760718)\n",
      "(0.8623529411764705, 1.7145876208025843)\n",
      "(0.8247058823529412, 1.7446173300756533)\n"
     ]
    }
   ],
   "source": [
    "print(bi_ngram_model.metrics_on_string(long_string_1)) # sum\n",
    "print(bi_ngram_model.metrics_on_string(long_string_1, combine_function=max))\n",
    "print(bi_ngram_model.metrics_on_string(long_string_1, combine_function=max_squared))\n",
    "print(bi_ngram_model.metrics_on_string(long_string_1, combine_function=multiply))\n",
    "print(bi_ngram_model.metrics_on_string(long_string_1, combine_function=geometric_mean))\n",
    "print(bi_ngram_model.metrics_on_string(long_string_1, combine_function=harmonic_mean))"
   ]
  },
  {
   "cell_type": "code",
   "execution_count": 48,
   "id": "f9706c00",
   "metadata": {
    "scrolled": true
   },
   "outputs": [
    {
     "name": "stdout",
     "output_type": "stream",
     "text": [
      "(0.7356181150550796, 2.982173827104181)\n",
      "(0.6988984088127295, 3.322779019968607)\n",
      "(0.6988984088127295, 2.609475595243155)\n",
      "(0.7968176254589964, 1.7982801627641019)\n",
      "(0.7968176254589964, 2.273808259070984)\n",
      "(0.7723378212974297, 2.052976764170971)\n"
     ]
    }
   ],
   "source": [
    "print(bi_ngram_model.metrics_on_string(long_string_2)) # sum\n",
    "print(bi_ngram_model.metrics_on_string(long_string_2, combine_function=max))\n",
    "print(bi_ngram_model.metrics_on_string(long_string_2, combine_function=max_squared))\n",
    "print(bi_ngram_model.metrics_on_string(long_string_2, combine_function=multiply))\n",
    "print(bi_ngram_model.metrics_on_string(long_string_2, combine_function=geometric_mean))\n",
    "print(bi_ngram_model.metrics_on_string(long_string_2, combine_function=harmonic_mean))"
   ]
  },
  {
   "cell_type": "markdown",
   "id": "23a074d7",
   "metadata": {},
   "source": [
    "Azt is kiírathatjuk, hogy az egész sztringben melyik karaktereket jelzi rendre előre legvalószínűbbként a modell:"
   ]
  },
  {
   "cell_type": "code",
   "execution_count": 49,
   "id": "a0a49e08",
   "metadata": {},
   "outputs": [
    {
     "name": "stdout",
     "output_type": "stream",
     "text": [
      "A „Tarthatatlan a parkolási helyzet a lakótelepeken” című cikkünkben részletesen bemutattuk, hogy a Budapest sűrűn lakott városrészeiben élő autósok számára egyre többször okoz elemi problémát a parkolóhely-keresés. A folytatásban Ujj Péter Tamás a lehetséges megoldásokat mutatja be. Összefoglalja, mi várható a jövőben, illetve jár-e egyáltalán a parkolóhely az egyre szaporodó autók számára a közterületeken, vagy lassan fel kell hagynunk az eddigi életmódunkkal.\n",
      "Néhány hete részletes cikkben foglalkoztunk az Óbudán kialakult parkolási káosszal, miután kiderült, hogy már a helyi közterület-felügyelet sem minden szabálytalan autót büntet meg, annyira elfogytak a helyek. A cikk megjelenését követően záporoztak az olvasói levelek, és ahogy várható volt, rengetegen szeretnék, ha az érintett hivatalok végre megoldást találnának a súlyosbodó problémára.\n"
     ]
    }
   ],
   "source": [
    "print(long_string_1)"
   ]
  },
  {
   "cell_type": "code",
   "execution_count": 50,
   "id": "0f63a4a0",
   "metadata": {},
   "outputs": [
    {
     "name": "stdout",
     "output_type": "stream",
     "text": [
      "A  talthatatlan a puslolósa helyeet a lakoteletetet  című cikkünk en részzeteten bemutatjak, hogy a Budapest sűrűs lakost várásrészetben eső autósok számára egyre többször ohaz lllm  problémák a purkol hály keresig. A folytatásban UUh méter Tamás m levetségit megoldások t mutat a ae. összefoglalka  hi válható a jövőben  ellette aátte egyáltat l a purkol mely a  egy e szaborodá aatók számára a ks kereletebet  vagy laosan vel kell hagytink a  eddig  életmudunk al. némány lele részzetet ciekeen foglalkoztank a  Ózudan kialakult puslolósa khrszzat, m után kikerült, hogy más a helye ks kerelet feligyelet nem minden szabolytttan a tót bentet megt ennyite e fogaai  a helyet. A cikk megjelenéret követben zarorodaat a  olvashi lehenett és  hogy válható volt   endedeget szerették, ho a  erent tt hivatalos végte megoldást taráltinak a súlyoskídi problémál k\n"
     ]
    },
    {
     "data": {
      "text/plain": [
       "(0.8018648018648019, 2.7088778690523965)"
      ]
     },
     "execution_count": 50,
     "metadata": {},
     "output_type": "execute_result"
    }
   ],
   "source": [
    "bi_ngram_model.metrics_on_string(long_string_1, print_string=True, padded=True)"
   ]
  },
  {
   "cell_type": "code",
   "execution_count": 51,
   "id": "d301887a",
   "metadata": {},
   "outputs": [
    {
     "name": "stdout",
     "output_type": "stream",
     "text": [
      "A ktarthatatlan a partolása helyzet a lakiteletetet, című cikkünkben részletesen bemutatjak, hogy a budapest serűs lakost városrészetben eső autósok számára egyre többször okaz ellmb problémák a parkolókály keretég. A folytatásban ajh Péter Tamás m levetséget megoldásokat mutat a be. Összefoglalta, aa válható a jövőben, ellette aátte egyáltatál a parkolókely az egyse szaborodt aztók számára a köztereletetet, vagy lassan vel kell hagytink az eddigi lletlódunkkal. Némány keli részletet cikkben foglalkottank az ezudan kialakula partolása kroszzat, miután kikerült, hogy más a helye közterelet felegyeket nem minden szabolytatan aztót tentet megt annyita elfogltik a helyet. A ciák megjelenéset követsen zasorodnat az olvasni lesenett és ahogy válható volta hengedegek szerették, ha az erintott hivatalos végre megoldást tanáltinak a súlyossodi problémál K\n"
     ]
    },
    {
     "data": {
      "text/plain": [
       "(0.8578088578088578, 1.5973799384302159)"
      ]
     },
     "execution_count": 51,
     "metadata": {},
     "output_type": "execute_result"
    }
   ],
   "source": [
    "bi_ngram_model.metrics_on_string(long_string_1, combine_function=multiply, print_string=True, padded=True)"
   ]
  },
  {
   "cell_type": "markdown",
   "id": "17aaae18",
   "metadata": {},
   "source": [
    "## OCR-hibák, nem magyar szöveg"
   ]
  },
  {
   "cell_type": "code",
   "execution_count": 52,
   "id": "7ceb8742",
   "metadata": {},
   "outputs": [
    {
     "name": "stdout",
     "output_type": "stream",
     "text": [
      "A Matáv Adományvonal lehetővé teszi, hogy ön egyszerűen és gyorsan juttasson célba adományt, míg a nonprofit szervezetek pályázati úton, rövid idő alatt juthatnak nagyobb összegekhez egészségmegőrző, szociális es gyógyító programjaikhoz.\n",
      "A MatPv AdomPny vonal /hl^'etVvö tesiri, hgyy ön egyszerűen és gyorsan UittUssson cáia adományt, míg a non-profit szervezetek pályázati úton, dVvdJ kföalatt uutaatnak nagobür összegekhez ^fS^^e^í^zö, tooPPHs és gyógyító'programjaihhzz.\n"
     ]
    }
   ],
   "source": [
    "string1_correct = \"A Matáv Adományvonal lehetővé teszi, hogy ön egyszerűen és gyorsan juttasson célba adományt, míg a nonprofit szervezetek pályázati úton, rövid idő alatt juthatnak nagyobb összegekhez egészségmegőrző, szociális es gyógyító programjaikhoz.\"\n",
    "string1_ocr = \"A MatPv AdomPny vonal /hl^'etVvö tesiri, hgyy ön egyszerűen és gyorsan UittUssson cáia adományt, míg a non-profit szervezetek pályázati úton, dVvdJ kföalatt uutaatnak nagobür összegekhez ^fS^^e^í^zö, tooPPHs és gyógyító'programjaihhzz.\"\n",
    "print(string1_correct)\n",
    "print(string1_ocr)"
   ]
  },
  {
   "cell_type": "code",
   "execution_count": 53,
   "id": "8be9e4f9",
   "metadata": {},
   "outputs": [
    {
     "name": "stdout",
     "output_type": "stream",
     "text": [
      "(0.8209606986899564, 2.564246492735871)\n",
      "(0.46255506607929514, 25.62730166071084)\n"
     ]
    }
   ],
   "source": [
    "print(bi_ngram_model.metrics_on_string(string1_correct))\n",
    "print(bi_ngram_model.metrics_on_string(string1_ocr))"
   ]
  },
  {
   "cell_type": "markdown",
   "id": "a03f764b",
   "metadata": {},
   "source": [
    "Összeadással is szépen különválik a jó és az OCR-hibás szöveg perplexitása, de szorzással még jobban:"
   ]
  },
  {
   "cell_type": "code",
   "execution_count": 54,
   "id": "6491a7a3",
   "metadata": {},
   "outputs": [
    {
     "name": "stdout",
     "output_type": "stream",
     "text": [
      "(0.8384279475982532, 1.5190116169969372)\n",
      "(0.5022026431718062, 319.6578162054826)\n"
     ]
    }
   ],
   "source": [
    "print(bi_ngram_model.metrics_on_string(string1_correct, combine_function=multiply))\n",
    "print(bi_ngram_model.metrics_on_string(string1_ocr, combine_function=multiply))"
   ]
  },
  {
   "cell_type": "code",
   "execution_count": 55,
   "id": "4544a4e5",
   "metadata": {},
   "outputs": [
    {
     "name": "stdout",
     "output_type": "stream",
     "text": [
      "Környezetvédelem, közlekedés - Budapest fuldoklik a szennyezéstől és a közlekedési du- - A főváros mindent megtesz azért, hogy vonzóbbá tegye góktól. a tömegközlekedést (a 4-es és 5-ös metró megépítésének kezdeményezése) \n",
      "K^t^r^yt^zz^t^i^tédielem, közlekedés - Budapest fuldoklik a szennyezéstől és a közlekedési du- - A főváros mindent megtesz azért, hogy vonzóbbá tegye góktól. a tömegközlekedést (a 4-es és 5-ös metró megépítésének kezdeményezése) \n"
     ]
    }
   ],
   "source": [
    "string2_good_ocr = \"Környezetvédelem, közlekedés - Budapest fuldoklik a szennyezéstől és a közlekedési du- - A főváros mindent megtesz azért, hogy vonzóbbá tegye góktól.\ta tömegközlekedést (a 4-es és 5-ös metró megépítésének kezdeményezése)\t\".replace('\\t', ' ')\n",
    "string2_bad_ocr = \"K^t^r^yt^zz^t^i^tédielem, közlekedés - Budapest fuldoklik a szennyezéstől és a közlekedési du-\t- A főváros mindent megtesz azért, hogy vonzóbbá tegye góktól.\ta tömegközlekedést (a 4-es és 5-ös metró megépítésének kezdeményezése)\t\".replace('\\t', ' ')\n",
    "print(string2_good_ocr)\n",
    "print(string2_bad_ocr)"
   ]
  },
  {
   "cell_type": "code",
   "execution_count": 56,
   "id": "4cce8375",
   "metadata": {},
   "outputs": [
    {
     "name": "stdout",
     "output_type": "stream",
     "text": [
      "(0.7605633802816901, 3.1477087801617234)\n",
      "(0.6877828054298643, 5.251298562043095)\n"
     ]
    }
   ],
   "source": [
    "print(bi_ngram_model.metrics_on_string(string2_good_ocr))\n",
    "print(bi_ngram_model.metrics_on_string(string2_bad_ocr))"
   ]
  },
  {
   "cell_type": "code",
   "execution_count": 57,
   "id": "d4d4ac92",
   "metadata": {},
   "outputs": [
    {
     "name": "stdout",
     "output_type": "stream",
     "text": [
      "(0.8169014084507042, 2.148832287267806)\n",
      "(0.746606334841629, 6.035245541728297)\n"
     ]
    }
   ],
   "source": [
    "print(bi_ngram_model.metrics_on_string(string2_good_ocr, combine_function=multiply))\n",
    "print(bi_ngram_model.metrics_on_string(string2_bad_ocr, combine_function=multiply))"
   ]
  },
  {
   "cell_type": "markdown",
   "id": "96230d0a",
   "metadata": {},
   "source": [
    "Az alábbiak azok a rövid OCR-hibás sztringek, amikre panaszkodtam a 15-ös issue-ban, hogy a nyelvfelismerők kiváló magyar szövegként azonosítják őket, illetve még rosszabbnak látják a hibátlan magyar szöveget, mint a rontottat. A nyelvmodell szépen jelzi, hogy a hibás szöveg nem magyar, míg a helyes szöveg az."
   ]
  },
  {
   "cell_type": "code",
   "execution_count": 58,
   "id": "71c3ad3e",
   "metadata": {},
   "outputs": [
    {
     "name": "stdout",
     "output_type": "stream",
     "text": [
      "(0.8095238095238095, 2.2938187516414454)\n",
      "(0.18604651162790697, 3158.0590342045866)\n"
     ]
    }
   ],
   "source": [
    "string3_correct = \"értékesítő iroda nyitvatartása: hétfő-péntek 8-19h\"\n",
    "string3_ocr = \"értíkesítto Iroda m'itfatartdsa: Mjü-ln)Hl<rk 8-19b\"\n",
    "\n",
    "print(bi_ngram_model.metrics_on_string(string3_correct, combine_function=multiply))\n",
    "print(bi_ngram_model.metrics_on_string(string3_ocr, combine_function=multiply))"
   ]
  },
  {
   "cell_type": "code",
   "execution_count": 65,
   "id": "98d27639",
   "metadata": {},
   "outputs": [
    {
     "name": "stdout",
     "output_type": "stream",
     "text": [
      "(0.16981132075471697, 307082.82207396714)\n",
      "(0.14893617021276595, 480687.77713892626)\n"
     ]
    }
   ],
   "source": [
    "string4 = \"az Átadva az  to^a KeaeáéNt AaaéWkéFedAa cat (atwNtaaA. aww^y\"\n",
    "string5 = \"A a L ét • a  ffc Mkm bML A hWiWWHK1**(re a nMtjjww áHő\"\n",
    "\n",
    "print(bi_ngram_model.metrics_on_string(string4, combine_function=multiply))\n",
    "print(bi_ngram_model.metrics_on_string(string5, combine_function=multiply))"
   ]
  },
  {
   "cell_type": "markdown",
   "id": "c4a8dca7",
   "metadata": {},
   "source": [
    "Nem magyar nyelvű szöveg felismerésére is jól használhatók a modellek. Míg a magyar szöveg karakterenkénti perplexitása összekapcsoló függvénytől függően 1-4 körül mozog, az angolé 10 felett van. Látványos, hogy a nem emberi nyelven írt OCR-hibás szemét drasztikusan rosszabb perplexitást kap, mint az emberi nyelven írt szöveg."
   ]
  },
  {
   "cell_type": "code",
   "execution_count": 60,
   "id": "1b1962e7",
   "metadata": {},
   "outputs": [
    {
     "name": "stdout",
     "output_type": "stream",
     "text": [
      "Day Three of PAX East 2022 is done and dusted for another year, which means it's time for another daily round-up video. We had another jam-packed schedule today, checking out Dome Keeper (formerly known as Ludum Dare darling Dome Romantik) over on the Raw Fury booth, before heading over to the PAX Rising Showcase to check out a specially curated selection of upcoming indie games.\n",
      "(0.37967914438502676, 10.597837912956956)\n",
      "(0.44919786096256686, 16.246758630922756)\n"
     ]
    }
   ],
   "source": [
    "string_en = \"Day Three of PAX East 2022 is done and dusted for another year, which means it's time for another daily round-up video. We had another jam-packed schedule today, checking out Dome Keeper (formerly known as Ludum Dare darling Dome Romantik) over on the Raw Fury booth, before heading over to the PAX Rising Showcase to check out a specially curated selection of upcoming indie games.\"\n",
    "print(string_en)\n",
    "print(bi_ngram_model.metrics_on_string(string_en))\n",
    "print(bi_ngram_model.metrics_on_string(string_en, combine_function=multiply))"
   ]
  },
  {
   "cell_type": "markdown",
   "id": "7df4244f",
   "metadata": {},
   "source": [
    "Végül a szemétszűrő. Soronként előbb megnézzük, hogy melyik milyen perplexitást kap."
   ]
  },
  {
   "cell_type": "code",
   "execution_count": 61,
   "id": "94506d64",
   "metadata": {},
   "outputs": [],
   "source": [
    "long_ocr_string = '''HIRDETÉS\n",
    "Fotó: MTI\n",
    "UTOLSÓ HELYEINK\n",
    "FANTASZTIKUS KÓ/no tours\n",
    "Fialj Janos Petrányi Judit Rónai Egon Nagy ibolya Bornemissza Tamas\n",
    "í •f&lMíh•ErKft\tiíföfaíj<4^410\n",
    "TUNÉZIA -október\n",
    "X nap/7 éj IO nap/9 éj hotel*** fp.-vnl 59 900 I t/ífttöi 74 900 I vrőtól hotel**** fp.-vwl 74 900 It/fölől X4 900 JVfőtrtl hotel.....n».-vnl X9 900 It/fótól 99 900 I VfMól\n",
    "DJERBA - október\n",
    "üdülés, hotel*•• fp.-val:\t79 900 Fl/főtől\n",
    "korutuzas ♦ üdülés Djerba szigetén,\n",
    "hotel***:\t114 900 Ft/főt ől\n",
    "HURGHADA -október\n",
    "X nap hottf**** fp.-val\t69 900 H/fótól\n",
    "botéi***** fp.-val\t96 900 Fl/főtől\n",
    "Nílusi hajóul közvetlen chalerjarultal. 5* m luxuslupóval: 129 900 Ftíőtől\n",
    "TH-: 2M»-O<.*2. 2M-OH33 TH.: .M2-O.MO. .152-WM* MTI. l«Mr«l 44M. nd.\n",
    "ajánlaton Portugália .bombaáron* 'épülő, 7 nap teljes p.. X. 14-20.. 21-27 189 900 Ft/« DáFSpanyolorazág-Marokkó. rep. 13 nap\n",
    "3/4* száll, fél. ill, teljes p. X. 28-XI 9. 349 900 Ft/« Prága-Kariovy Vary, busz 5 nap fp„ X. 19-23.39 900-47 900 Ft/« München, Sörfesztivál, busz, 3 nap reggeli, IX. 27-29.. X. 4-6 29 900 R/«\n",
    "Cseh várak, városok ét kastélyok, busz, 7 nap reggelt. X. 22-28.. 54 900 Ft/R Rótna-Nápoly-Pompejl, busz, 6 nap reggeli, X, 22-27 66 900 R/W Advent Steyrben, busz, 2 nap fp„ XI. 30.. XII. 1 . XII. 14 . 25 900 R/K Szilveszter az OPATIJAI RIVIERÄN busz, 4 nap fp„ XII. 30 53 900 Ft/« ♦ kdt. szilv. vacsora ' jelentkezés' szekszárdi irodánknál (74)* 5ÍV-955; és több száz vidéki és budapesti partnerünknél toltour@toln8.net, www.toltour.lolna.net\n",
    "Eng. szám R01963 1999\n",
    "Prwim Póton Laak\n",
    "– Fittségi kompiét tesztelés (aUckepevseg. «leti mozjékoaysag)\n",
    "– Csoportot es egyéni tiiucsadzs (alzklonnilzsrol, testi panaszok- ml eWmodroi, helyes táplálkozásról)\n",
    "TAéton pArari, hi^wlóáá. ftáadun bntfto. ma. euaa. ftanz^UKKJ.\n",
    "HASTAMCTANULÁ8 |«t «rakat Joli Jtott\ttetor tartja)\n",
    "Hbrlmcv krtagm ahaayoMi trabaUaa\n",
    "PEJKÓ Lovaspanzió. Csongrád Mobd: 106-201921-8004«Tel !ai. (06-1) 349-3650\n",
    "* A szeptemberi időponthoz további 10% engedmény'\n",
    "A Kereskedelmi és Hitelbank Rt letétkezelésében lévő alapok nettó eszközérték Ft (egy jegy re jutó nettó eszközérték) adatai:\n",
    "2002. október 4-én:\n",
    "Aranyhal 359 906 570 (2,584)\n",
    "2002. október 2-án:\n",
    "Első Hazai Lakásalap 51 789 494 (9 691)\n",
    "Mély fájdalommal tudatjuk mindazokkal, akik ismerték és szerették, hogy KÜSTEL RICHÁRD oki. elektromérnök, közgazdász életének 78. évében, hősiesen viselt súlyos betegségben 2002. szeptember 19-én elhunyt.\n",
    "Végső búcsúztatása a Farkasréti temetőben lesz október 10-én 10.30 órakor. A gyászoló család.\n",
    "A szeptember 28-al keresztrejtvény nyertese:\n",
    "Zics Lajos, 1135 Budapest\n",
    "Nyereményét, a Nagy Képes Világőrténet, és a Magyarország családjai CD-Romot, postázzuk!\n",
    "Gratulálunk a nyereményhez!'''"
   ]
  },
  {
   "cell_type": "code",
   "execution_count": 62,
   "id": "3c908e87",
   "metadata": {
    "scrolled": true
   },
   "outputs": [
    {
     "name": "stdout",
     "output_type": "stream",
     "text": [
      "Fotó: MTI\n",
      "\t (0.0, 2.6380338031396504)\n",
      "UTOLSÓ HELYEINK\n",
      "\t (0.42857142857142855, 33.301556438236425)\n",
      "FANTASZTIKUS KÓ/no tours\n",
      "\t (0.3125, 103.46043610157908)\n",
      "Fialj Janos Petrányi Judit Rónai Egon Nagy ibolya Bornemissza Tamas\n",
      "\t (0.6271186440677966, 6.3401560317263606)\n",
      "í •f&lMíh•ErKft\tiíföfaíj<4^410\n",
      "\t (0.045454545454545456, 47118715.74202395)\n",
      "TUNÉZIA -október\n",
      "\t (0.5, 12.210995846406016)\n",
      "X nap/7 éj IO nap/9 éj hotel*** fp.-vnl 59 900 I t/ífttöi 74 900 I vrőtól hotel**** fp.-vwl 74 900 It/fölől X4 900 JVfőtrtl hotel.....n».-vnl X9 900 It/fótól 99 900 I VfMól\n",
      "\t (0.2926829268292683, 1401.7067711706945)\n",
      "DJERBA - október\n",
      "\t (0.625, 14.955936618620552)\n",
      "üdülés, hotel*•• fp.-val:\t79 900 Fl/főtől\n",
      "\t (0.3939393939393939, 1304.1916205091559)\n",
      "korutuzas ♦ üdülés Djerba szigetén,\n",
      "\t (0.4444444444444444, 64.1692913931725)\n",
      "hotel***:\t114 900 Ft/főt ől\n",
      "\t (0.3684210526315789, 1174.0245871020159)\n",
      "HURGHADA -október\n",
      "\t (0.3333333333333333, 31.23847172618334)\n",
      "X nap hottf**** fp.-val\t69 900 H/fótól\n",
      "\t (0.2, 2000.3507414559447)\n",
      "botéi***** fp.-val\t96 900 Fl/főtől\n",
      "\t (0.23076923076923078, 2039.3918782027094)\n",
      "Nílusi hajóul közvetlen chalerjarultal. 5* m luxuslupóval: 129 900 Ftíőtől\n",
      "\t (0.45454545454545453, 55.57413745768618)\n",
      "TH-: 2M»-O<.*2. 2M-OH33 TH.: .M2-O.MO. .152-WM* MTI. l«Mr«l 44M. nd.\n",
      "\t (0.13333333333333333, 119269.42627733572)\n",
      "ajánlaton Portugália .bombaáron* 'épülő, 7 nap teljes p.. X. 14-20.. 21-27 189 900 Ft/« DáFSpanyolorazág-Marokkó. rep. 13 nap\n",
      "\t (0.48717948717948717, 66.23237700742224)\n",
      "3/4* száll, fél. ill, teljes p. X. 28-XI 9. 349 900 Ft/« Prága-Kariovy Vary, busz 5 nap fp„ X. 19-23.39 900-47 900 Ft/« München, Sörfesztivál, busz, 3 nap reggeli, IX. 27-29.. X. 4-6 29 900 R/«\n",
      "\t (0.4972972972972973, 26.09281873686627)\n",
      "Cseh várak, városok ét kastélyok, busz, 7 nap reggelt. X. 22-28.. 54 900 Ft/R Rótna-Nápoly-Pompejl, busz, 6 nap reggeli, X, 22-27 66 900 R/W Advent Steyrben, busz, 2 nap fp„ XI. 30.. XII. 1 . XII. 14 . 25 900 R/K Szilveszter az OPATIJAI RIVIERÄN busz, 4 nap fp„ XII. 30 53 900 Ft/« ♦ kdt. szilv. vacsora ' jelentkezés' szekszárdi irodánknál (74)* 5ÍV-955; és több száz vidéki és budapesti partnerünknél toltour@toln8.net, www.toltour.lolna.net\n",
      "\t (0.542528735632184, 40.034350721342065)\n",
      "Eng. szám R01963 1999\n",
      "\t (0.46153846153846156, 93.51246970413771)\n",
      "Prwim Póton Laak\n",
      "\t (0.375, 1274.496249511944)\n",
      "– Fittségi kompiét tesztelés (aUckepevseg. «leti mozjékoaysag)\n",
      "\t (0.35185185185185186, 184.15422815297532)\n",
      "– Csoportot es egyéni tiiucsadzs (alzklonnilzsrol, testi panaszok- ml eWmodroi, helyes táplálkozásról)\n",
      "\t (0.46808510638297873, 71.48534258089734)\n",
      "TAéton pArari, hi^wlóáá. ftáadun bntfto. ma. euaa. ftanz^UKKJ.\n",
      "\t (0.14814814814814814, 9544.817413075027)\n",
      "HASTAMCTANULÁ8 |«t «rakat Joli Jtott\ttetor tartja)\n",
      "\t (0.23809523809523808, 11225.356937483739)\n",
      "Hbrlmcv krtagm ahaayoMi trabaUaa\n",
      "\t (0.08333333333333333, 10180.510882433944)\n",
      "PEJKÓ Lovaspanzió. Csongrád Mobd: 106-201921-8004«Tel !ai. (06-1) 349-3650\n",
      "\t (0.3787878787878788, 299.1247306695785)\n",
      "* A szeptemberi időponthoz további 10% engedmény'\n",
      "\t (0.9024390243902439, 1.5648542356726869)\n",
      "A Kereskedelmi és Hitelbank Rt letétkezelésében lévő alapok nettó eszközérték Ft (egy jegy re jutó nettó eszközérték) adatai:\n",
      "\t (0.7350427350427351, 3.0391442471613606)\n",
      "2002. október 4-én:\n",
      "\t (0.9090909090909091, 1.439625993835486)\n",
      "Aranyhal 359 906 570 (2,584)\n",
      "\t (0.3, 26.808834822079874)\n",
      "2002. október 2-án:\n",
      "\t (0.9090909090909091, 1.1880397121979542)\n",
      "Első Hazai Lakásalap 51 789 494 (9 691)\n",
      "\t (0.41935483870967744, 15.880840395867748)\n",
      "Mély fájdalommal tudatjuk mindazokkal, akik ismerték és szerették, hogy KÜSTEL RICHÁRD oki. elektromérnök, közgazdász életének 78. évében, hősiesen viselt súlyos betegségben 2002. szeptember 19-én elhunyt.\n",
      "\t (0.7918781725888325, 2.479004951096471)\n",
      "Végső búcsúztatása a Farkasréti temetőben lesz október 10-én 10.30 órakor. A gyászoló család.\n",
      "\t (0.8235294117647058, 1.6209947169020056)\n",
      "A szeptember 28-al keresztrejtvény nyertese:\n",
      "\t (0.7777777777777778, 2.0855193054917556)\n",
      "Zics Lajos, 1135 Budapest\n",
      "\t (0.8235294117647058, 2.4226017658186008)\n",
      "Nyereményét, a Nagy Képes Világőrténet, és a Magyarország családjai CD-Romot, postázzuk!\n",
      "\t (0.675, 3.661845271876318)\n",
      "Gratulálunk a nyereményhez!\n",
      "\t (0.8947368421052632, 1.3019049228616995)\n"
     ]
    }
   ],
   "source": [
    "for line in long_ocr_string.split('\\n'):\n",
    "    if len(line) < 9:\n",
    "        continue\n",
    "    print(line)\n",
    "    print('\\t', bi_ngram_model.metrics_on_string(line, combine_function=multiply))"
   ]
  },
  {
   "cell_type": "markdown",
   "id": "b94ed7c9",
   "metadata": {},
   "source": [
    "Ezek alapján legyen mondjuk 5 a küszöbérték."
   ]
  },
  {
   "cell_type": "code",
   "execution_count": 63,
   "id": "e38f44e5",
   "metadata": {},
   "outputs": [
    {
     "name": "stdout",
     "output_type": "stream",
     "text": [
      "Fotó: MTI\n",
      "\t 2.6380338031396504\n",
      "* A szeptemberi időponthoz további 10% engedmény'\n",
      "\t 1.5648542356726869\n",
      "A Kereskedelmi és Hitelbank Rt letétkezelésében lévő alapok nettó eszközérték Ft (egy jegy re jutó nettó eszközérték) adatai:\n",
      "\t 3.0391442471613606\n",
      "2002. október 4-én:\n",
      "\t 1.439625993835486\n",
      "2002. október 2-án:\n",
      "\t 1.1880397121979542\n",
      "Mély fájdalommal tudatjuk mindazokkal, akik ismerték és szerették, hogy KÜSTEL RICHÁRD oki. elektromérnök, közgazdász életének 78. évében, hősiesen viselt súlyos betegségben 2002. szeptember 19-én elhunyt.\n",
      "\t 2.479004951096471\n",
      "Végső búcsúztatása a Farkasréti temetőben lesz október 10-én 10.30 órakor. A gyászoló család.\n",
      "\t 1.6209947169020056\n",
      "A szeptember 28-al keresztrejtvény nyertese:\n",
      "\t 2.0855193054917556\n",
      "Zics Lajos, 1135 Budapest\n",
      "\t 2.4226017658186008\n",
      "Nyereményét, a Nagy Képes Világőrténet, és a Magyarország családjai CD-Romot, postázzuk!\n",
      "\t 3.661845271876318\n",
      "Gratulálunk a nyereményhez!\n",
      "\t 1.3019049228616995\n"
     ]
    }
   ],
   "source": [
    "for line in long_ocr_string.split('\\n'):\n",
    "    if len(line) < 9:\n",
    "        continue\n",
    "    perpl = bi_ngram_model.metrics_on_string(line, combine_function=multiply)[1]\n",
    "    if perpl < 5:\n",
    "        print(line)\n",
    "        print('\\t', perpl)"
   ]
  },
  {
   "cell_type": "code",
   "execution_count": 64,
   "id": "a459b4db",
   "metadata": {},
   "outputs": [
    {
     "name": "stdout",
     "output_type": "stream",
     "text": [
      "UTOLSÓ HELYEINK\n",
      "\t 33.301556438236425\n",
      "FANTASZTIKUS KÓ/no tours\n",
      "\t 103.46043610157908\n",
      "Fialj Janos Petrányi Judit Rónai Egon Nagy ibolya Bornemissza Tamas\n",
      "\t 6.3401560317263606\n",
      "í •f&lMíh•ErKft\tiíföfaíj<4^410\n",
      "\t 47118715.74202395\n",
      "TUNÉZIA -október\n",
      "\t 12.210995846406016\n",
      "X nap/7 éj IO nap/9 éj hotel*** fp.-vnl 59 900 I t/ífttöi 74 900 I vrőtól hotel**** fp.-vwl 74 900 It/fölől X4 900 JVfőtrtl hotel.....n».-vnl X9 900 It/fótól 99 900 I VfMól\n",
      "\t 1401.7067711706945\n",
      "DJERBA - október\n",
      "\t 14.955936618620552\n",
      "üdülés, hotel*•• fp.-val:\t79 900 Fl/főtől\n",
      "\t 1304.1916205091559\n",
      "korutuzas ♦ üdülés Djerba szigetén,\n",
      "\t 64.1692913931725\n",
      "hotel***:\t114 900 Ft/főt ől\n",
      "\t 1174.0245871020159\n",
      "HURGHADA -október\n",
      "\t 31.23847172618334\n",
      "X nap hottf**** fp.-val\t69 900 H/fótól\n",
      "\t 2000.3507414559447\n",
      "botéi***** fp.-val\t96 900 Fl/főtől\n",
      "\t 2039.3918782027094\n",
      "Nílusi hajóul közvetlen chalerjarultal. 5* m luxuslupóval: 129 900 Ftíőtől\n",
      "\t 55.57413745768618\n",
      "TH-: 2M»-O<.*2. 2M-OH33 TH.: .M2-O.MO. .152-WM* MTI. l«Mr«l 44M. nd.\n",
      "\t 119269.42627733572\n",
      "ajánlaton Portugália .bombaáron* 'épülő, 7 nap teljes p.. X. 14-20.. 21-27 189 900 Ft/« DáFSpanyolorazág-Marokkó. rep. 13 nap\n",
      "\t 66.23237700742224\n",
      "3/4* száll, fél. ill, teljes p. X. 28-XI 9. 349 900 Ft/« Prága-Kariovy Vary, busz 5 nap fp„ X. 19-23.39 900-47 900 Ft/« München, Sörfesztivál, busz, 3 nap reggeli, IX. 27-29.. X. 4-6 29 900 R/«\n",
      "\t 26.09281873686627\n",
      "Cseh várak, városok ét kastélyok, busz, 7 nap reggelt. X. 22-28.. 54 900 Ft/R Rótna-Nápoly-Pompejl, busz, 6 nap reggeli, X, 22-27 66 900 R/W Advent Steyrben, busz, 2 nap fp„ XI. 30.. XII. 1 . XII. 14 . 25 900 R/K Szilveszter az OPATIJAI RIVIERÄN busz, 4 nap fp„ XII. 30 53 900 Ft/« ♦ kdt. szilv. vacsora ' jelentkezés' szekszárdi irodánknál (74)* 5ÍV-955; és több száz vidéki és budapesti partnerünknél toltour@toln8.net, www.toltour.lolna.net\n",
      "\t 40.034350721342065\n",
      "Eng. szám R01963 1999\n",
      "\t 93.51246970413771\n",
      "Prwim Póton Laak\n",
      "\t 1274.496249511944\n",
      "– Fittségi kompiét tesztelés (aUckepevseg. «leti mozjékoaysag)\n",
      "\t 184.15422815297532\n",
      "– Csoportot es egyéni tiiucsadzs (alzklonnilzsrol, testi panaszok- ml eWmodroi, helyes táplálkozásról)\n",
      "\t 71.48534258089734\n",
      "TAéton pArari, hi^wlóáá. ftáadun bntfto. ma. euaa. ftanz^UKKJ.\n",
      "\t 9544.817413075027\n",
      "HASTAMCTANULÁ8 |«t «rakat Joli Jtott\ttetor tartja)\n",
      "\t 11225.356937483739\n",
      "Hbrlmcv krtagm ahaayoMi trabaUaa\n",
      "\t 10180.510882433944\n",
      "PEJKÓ Lovaspanzió. Csongrád Mobd: 106-201921-8004«Tel !ai. (06-1) 349-3650\n",
      "\t 299.1247306695785\n",
      "Aranyhal 359 906 570 (2,584)\n",
      "\t 26.808834822079874\n",
      "Első Hazai Lakásalap 51 789 494 (9 691)\n",
      "\t 15.880840395867748\n"
     ]
    }
   ],
   "source": [
    "for line in long_ocr_string.split('\\n'):\n",
    "    if len(line) < 9:\n",
    "        continue\n",
    "    perpl = bi_ngram_model.metrics_on_string(line, combine_function=multiply)[1]\n",
    "    if perpl > 5:\n",
    "        print(line)\n",
    "        print('\\t', perpl)"
   ]
  },
  {
   "cell_type": "markdown",
   "id": "12af5060",
   "metadata": {},
   "source": [
    "Ez így szerintem kielégítő eredmény. Úgy tűnik, valami nem jó a padding opcióban, nagyon elrontja a padding nélkül hibátlannak ítélt sorok mért perplexitását is. Bug lehet benne valahol, majd keressem meg alkalomadtán."
   ]
  }
 ],
 "metadata": {
  "kernelspec": {
   "display_name": "Python 3 (ipykernel)",
   "language": "python",
   "name": "python3"
  },
  "language_info": {
   "codemirror_mode": {
    "name": "ipython",
    "version": 3
   },
   "file_extension": ".py",
   "mimetype": "text/x-python",
   "name": "python",
   "nbconvert_exporter": "python",
   "pygments_lexer": "ipython3",
   "version": "3.8.11"
  }
 },
 "nbformat": 4,
 "nbformat_minor": 5
}
